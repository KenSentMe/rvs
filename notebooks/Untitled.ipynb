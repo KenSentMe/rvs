{
 "cells": [
  {
   "cell_type": "code",
   "execution_count": 1,
   "id": "570c5698-d5ba-4a6a-a5cc-1843a0fdfea0",
   "metadata": {},
   "outputs": [
    {
     "name": "stdout",
     "output_type": "stream",
     "text": [
      "Collecting pandas\n",
      "  Obtaining dependency information for pandas from https://files.pythonhosted.org/packages/db/7c/9a60add21b96140e22465d9adf09832feade45235cd22f4cb1668a25e443/pandas-2.2.2-cp312-cp312-macosx_11_0_arm64.whl.metadata\n",
      "  Downloading pandas-2.2.2-cp312-cp312-macosx_11_0_arm64.whl.metadata (19 kB)\n",
      "Collecting numpy>=1.26.0 (from pandas)\n",
      "  Obtaining dependency information for numpy>=1.26.0 from https://files.pythonhosted.org/packages/3f/ab/1dc9f176d3084a2546cf76eb213dc61586d015ef59b3b17947b0e40038af/numpy-2.0.0-cp312-cp312-macosx_14_0_arm64.whl.metadata\n",
      "  Downloading numpy-2.0.0-cp312-cp312-macosx_14_0_arm64.whl.metadata (60 kB)\n",
      "\u001B[2K     \u001B[90m━━━━━━━━━━━━━━━━━━━━━━━━━━━━━━━━━━━━━━━━\u001B[0m \u001B[32m60.9/60.9 kB\u001B[0m \u001B[31m5.0 MB/s\u001B[0m eta \u001B[36m0:00:00\u001B[0m\n",
      "\u001B[?25hRequirement already satisfied: python-dateutil>=2.8.2 in /Users/jeroenvandenieuwenhof/Documents/git/rvs/.venv/lib/python3.12/site-packages (from pandas) (2.9.0.post0)\n",
      "Collecting pytz>=2020.1 (from pandas)\n",
      "  Obtaining dependency information for pytz>=2020.1 from https://files.pythonhosted.org/packages/9c/3d/a121f284241f08268b21359bd425f7d4825cffc5ac5cd0e1b3d82ffd2b10/pytz-2024.1-py2.py3-none-any.whl.metadata\n",
      "  Using cached pytz-2024.1-py2.py3-none-any.whl.metadata (22 kB)\n",
      "Requirement already satisfied: tzdata>=2022.7 in /Users/jeroenvandenieuwenhof/Documents/git/rvs/.venv/lib/python3.12/site-packages (from pandas) (2023.3)\n",
      "Requirement already satisfied: six>=1.5 in /Users/jeroenvandenieuwenhof/Documents/git/rvs/.venv/lib/python3.12/site-packages (from python-dateutil>=2.8.2->pandas) (1.16.0)\n",
      "Downloading pandas-2.2.2-cp312-cp312-macosx_11_0_arm64.whl (11.3 MB)\n",
      "\u001B[2K   \u001B[90m━━━━━━━━━━━━━━━━━━━━━━━━━━━━━━━━━━━━━━━━\u001B[0m \u001B[32m11.3/11.3 MB\u001B[0m \u001B[31m16.6 MB/s\u001B[0m eta \u001B[36m0:00:00\u001B[0ma \u001B[36m0:00:01\u001B[0m\n",
      "\u001B[?25hDownloading numpy-2.0.0-cp312-cp312-macosx_14_0_arm64.whl (5.0 MB)\n",
      "\u001B[2K   \u001B[90m━━━━━━━━━━━━━━━━━━━━━━━━━━━━━━━━━━━━━━━━\u001B[0m \u001B[32m5.0/5.0 MB\u001B[0m \u001B[31m14.5 MB/s\u001B[0m eta \u001B[36m0:00:00\u001B[0m00:01\u001B[0m00:01\u001B[0m\n",
      "\u001B[?25hUsing cached pytz-2024.1-py2.py3-none-any.whl (505 kB)\n",
      "Installing collected packages: pytz, numpy, pandas\n",
      "Successfully installed numpy-2.0.0 pandas-2.2.2 pytz-2024.1\n",
      "\n",
      "\u001B[1m[\u001B[0m\u001B[34;49mnotice\u001B[0m\u001B[1;39;49m]\u001B[0m\u001B[39;49m A new release of pip is available: \u001B[0m\u001B[31;49m23.2.1\u001B[0m\u001B[39;49m -> \u001B[0m\u001B[32;49m24.0\u001B[0m\n",
      "\u001B[1m[\u001B[0m\u001B[34;49mnotice\u001B[0m\u001B[1;39;49m]\u001B[0m\u001B[39;49m To update, run: \u001B[0m\u001B[32;49mpip install --upgrade pip\u001B[0m\n"
     ]
    }
   ],
   "source": [
    "!pip install pandas"
   ]
  },
  {
   "cell_type": "code",
   "execution_count": 2,
   "id": "ab9aaa8d-6f8c-4fea-8e34-afff37b65eea",
   "metadata": {},
   "outputs": [],
   "source": [
    "import pandas as pd"
   ]
  },
  {
   "cell_type": "code",
   "execution_count": 3,
   "id": "345f34a1-d4f8-49cc-a407-80bc33fa4522",
   "metadata": {},
   "outputs": [
    {
     "ename": "ValueError",
     "evalue": "DataFrame constructor not properly called!",
     "output_type": "error",
     "traceback": [
      "\u001B[0;31m---------------------------------------------------------------------------\u001B[0m",
      "\u001B[0;31mValueError\u001B[0m                                Traceback (most recent call last)",
      "\u001B[0;32m/var/folders/mj/tds2vw6j2dx05hkwnsfg6q2c0000gn/T/ipykernel_19047/2152677506.py\u001B[0m in \u001B[0;36m?\u001B[0;34m()\u001B[0m\n\u001B[0;32m----> 1\u001B[0;31m \u001B[0mdf\u001B[0m \u001B[0;34m=\u001B[0m \u001B[0mpd\u001B[0m\u001B[0;34m.\u001B[0m\u001B[0mDataFrame\u001B[0m\u001B[0;34m(\u001B[0m\u001B[0;34m\".//dump_240620.json\"\u001B[0m\u001B[0;34m)\u001B[0m\u001B[0;34m\u001B[0m\u001B[0;34m\u001B[0m\u001B[0m\n\u001B[0m",
      "\u001B[0;32m~/Documents/git/rvs/.venv/lib/python3.12/site-packages/pandas/core/frame.py\u001B[0m in \u001B[0;36m?\u001B[0;34m(self, data, index, columns, dtype, copy)\u001B[0m\n\u001B[1;32m    882\u001B[0m                 \u001B[0;34m)\u001B[0m\u001B[0;34m\u001B[0m\u001B[0;34m\u001B[0m\u001B[0m\n\u001B[1;32m    883\u001B[0m         \u001B[0;31m# For data is scalar\u001B[0m\u001B[0;34m\u001B[0m\u001B[0;34m\u001B[0m\u001B[0m\n\u001B[1;32m    884\u001B[0m         \u001B[0;32melse\u001B[0m\u001B[0;34m:\u001B[0m\u001B[0;34m\u001B[0m\u001B[0;34m\u001B[0m\u001B[0m\n\u001B[1;32m    885\u001B[0m             \u001B[0;32mif\u001B[0m \u001B[0mindex\u001B[0m \u001B[0;32mis\u001B[0m \u001B[0;32mNone\u001B[0m \u001B[0;32mor\u001B[0m \u001B[0mcolumns\u001B[0m \u001B[0;32mis\u001B[0m \u001B[0;32mNone\u001B[0m\u001B[0;34m:\u001B[0m\u001B[0;34m\u001B[0m\u001B[0;34m\u001B[0m\u001B[0m\n\u001B[0;32m--> 886\u001B[0;31m                 \u001B[0;32mraise\u001B[0m \u001B[0mValueError\u001B[0m\u001B[0;34m(\u001B[0m\u001B[0;34m\"DataFrame constructor not properly called!\"\u001B[0m\u001B[0;34m)\u001B[0m\u001B[0;34m\u001B[0m\u001B[0;34m\u001B[0m\u001B[0m\n\u001B[0m\u001B[1;32m    887\u001B[0m \u001B[0;34m\u001B[0m\u001B[0m\n\u001B[1;32m    888\u001B[0m             \u001B[0mindex\u001B[0m \u001B[0;34m=\u001B[0m \u001B[0mensure_index\u001B[0m\u001B[0;34m(\u001B[0m\u001B[0mindex\u001B[0m\u001B[0;34m)\u001B[0m\u001B[0;34m\u001B[0m\u001B[0;34m\u001B[0m\u001B[0m\n\u001B[1;32m    889\u001B[0m             \u001B[0mcolumns\u001B[0m \u001B[0;34m=\u001B[0m \u001B[0mensure_index\u001B[0m\u001B[0;34m(\u001B[0m\u001B[0mcolumns\u001B[0m\u001B[0;34m)\u001B[0m\u001B[0;34m\u001B[0m\u001B[0;34m\u001B[0m\u001B[0m\n",
      "\u001B[0;31mValueError\u001B[0m: DataFrame constructor not properly called!"
     ]
    }
   ],
   "source": [
    "df = pd.DataFrame(\".//dump_240620.json\")"
   ]
  },
  {
   "cell_type": "code",
   "execution_count": 4,
   "id": "b68c4d49-1eb5-470c-a449-6a95850e0ad0",
   "metadata": {},
   "outputs": [],
   "source": [
    "df = pd.read_json(\"../dump_240620.json\")"
   ]
  },
  {
   "cell_type": "code",
   "execution_count": 5,
   "id": "5123c5f5-438f-4d27-9573-f4a41e7306e5",
   "metadata": {},
   "outputs": [
    {
     "data": {
      "text/html": [
       "<div>\n",
       "<style scoped>\n",
       "    .dataframe tbody tr th:only-of-type {\n",
       "        vertical-align: middle;\n",
       "    }\n",
       "\n",
       "    .dataframe tbody tr th {\n",
       "        vertical-align: top;\n",
       "    }\n",
       "\n",
       "    .dataframe thead th {\n",
       "        text-align: right;\n",
       "    }\n",
       "</style>\n",
       "<table border=\"1\" class=\"dataframe\">\n",
       "  <thead>\n",
       "    <tr style=\"text-align: right;\">\n",
       "      <th></th>\n",
       "      <th>model</th>\n",
       "      <th>pk</th>\n",
       "      <th>fields</th>\n",
       "    </tr>\n",
       "  </thead>\n",
       "  <tbody>\n",
       "    <tr>\n",
       "      <th>0</th>\n",
       "      <td>admin.logentry</td>\n",
       "      <td>1</td>\n",
       "      <td>{'action_time': '2023-06-01T14:21:18.449Z', 'u...</td>\n",
       "    </tr>\n",
       "    <tr>\n",
       "      <th>1</th>\n",
       "      <td>admin.logentry</td>\n",
       "      <td>2</td>\n",
       "      <td>{'action_time': '2023-10-10T09:05:12.919Z', 'u...</td>\n",
       "    </tr>\n",
       "    <tr>\n",
       "      <th>2</th>\n",
       "      <td>admin.logentry</td>\n",
       "      <td>3</td>\n",
       "      <td>{'action_time': '2024-06-04T15:18:34.932Z', 'u...</td>\n",
       "    </tr>\n",
       "    <tr>\n",
       "      <th>3</th>\n",
       "      <td>admin.logentry</td>\n",
       "      <td>4</td>\n",
       "      <td>{'action_time': '2024-06-04T15:18:40.050Z', 'u...</td>\n",
       "    </tr>\n",
       "    <tr>\n",
       "      <th>4</th>\n",
       "      <td>admin.logentry</td>\n",
       "      <td>5</td>\n",
       "      <td>{'action_time': '2024-06-04T15:18:55.775Z', 'u...</td>\n",
       "    </tr>\n",
       "  </tbody>\n",
       "</table>\n",
       "</div>"
      ],
      "text/plain": [
       "            model pk                                             fields\n",
       "0  admin.logentry  1  {'action_time': '2023-06-01T14:21:18.449Z', 'u...\n",
       "1  admin.logentry  2  {'action_time': '2023-10-10T09:05:12.919Z', 'u...\n",
       "2  admin.logentry  3  {'action_time': '2024-06-04T15:18:34.932Z', 'u...\n",
       "3  admin.logentry  4  {'action_time': '2024-06-04T15:18:40.050Z', 'u...\n",
       "4  admin.logentry  5  {'action_time': '2024-06-04T15:18:55.775Z', 'u..."
      ]
     },
     "execution_count": 5,
     "metadata": {},
     "output_type": "execute_result"
    }
   ],
   "source": [
    "df.head()"
   ]
  },
  {
   "cell_type": "code",
   "execution_count": 6,
   "id": "bcf32ad0-0442-4857-838f-99308e10342a",
   "metadata": {},
   "outputs": [],
   "source": [
    "import json"
   ]
  },
  {
   "cell_type": "code",
   "execution_count": 7,
   "id": "aaabfee1-c95a-4dd8-ad9f-af00e987e3a4",
   "metadata": {},
   "outputs": [],
   "source": [
    "with open(\"../dump_240620.json\", \"r\") as f:\n",
    "    data = json.load(f)"
   ]
  },
  {
   "cell_type": "code",
   "execution_count": 10,
   "id": "7377daba-48f6-4bb5-bf76-1993b8324495",
   "metadata": {},
   "outputs": [
    {
     "data": {
      "text/plain": [
       "{'model': 'admin.logentry',\n",
       " 'pk': 1,\n",
       " 'fields': {'action_time': '2023-06-01T14:21:18.449Z',\n",
       "  'user': 1,\n",
       "  'content_type': 4,\n",
       "  'object_id': '2',\n",
       "  'object_repr': 'harry',\n",
       "  'action_flag': 1,\n",
       "  'change_message': '[{\"added\": {}}]'}}"
      ]
     },
     "execution_count": 10,
     "metadata": {},
     "output_type": "execute_result"
    }
   ],
   "source": [
    "data[0]"
   ]
  },
  {
   "cell_type": "code",
   "execution_count": 12,
   "id": "666f2273-97fa-4212-8d18-58ab7608ba4b",
   "metadata": {},
   "outputs": [],
   "source": [
    "uitspraken = []\n",
    "for d in data:\n",
    "    if d['model'] == 'uitspraken.uitspraak':\n",
    "        uitspraken.append(d)"
   ]
  },
  {
   "cell_type": "code",
   "execution_count": 14,
   "id": "1ec80a13-837f-4a55-84d2-788dbc94b6e9",
   "metadata": {},
   "outputs": [
    {
     "data": {
      "text/plain": [
       "633"
      ]
     },
     "execution_count": 14,
     "metadata": {},
     "output_type": "execute_result"
    }
   ],
   "source": [
    "len(uitspraken)"
   ]
  },
  {
   "cell_type": "code",
   "execution_count": 15,
   "id": "78e2546c-f4cb-4a40-a6d4-b40a86acaaf9",
   "metadata": {},
   "outputs": [],
   "source": [
    "df = pd.DataFrame(uitspraken)"
   ]
  },
  {
   "cell_type": "code",
   "execution_count": 18,
   "id": "9dfd52f2-ae4c-4620-bb96-7db0b28a38c8",
   "metadata": {},
   "outputs": [],
   "source": [
    "df_flat = pd.json_normalize(uitspraken)"
   ]
  },
  {
   "cell_type": "code",
   "execution_count": 19,
   "id": "97a00e48-ae36-4f44-8f55-614d547b2dbe",
   "metadata": {},
   "outputs": [
    {
     "data": {
      "text/html": [
       "<div>\n",
       "<style scoped>\n",
       "    .dataframe tbody tr th:only-of-type {\n",
       "        vertical-align: middle;\n",
       "    }\n",
       "\n",
       "    .dataframe tbody tr th {\n",
       "        vertical-align: top;\n",
       "    }\n",
       "\n",
       "    .dataframe thead th {\n",
       "        text-align: right;\n",
       "    }\n",
       "</style>\n",
       "<table border=\"1\" class=\"dataframe\">\n",
       "  <thead>\n",
       "    <tr style=\"text-align: right;\">\n",
       "      <th></th>\n",
       "      <th>model</th>\n",
       "      <th>pk</th>\n",
       "      <th>fields.titel</th>\n",
       "      <th>fields.ecli</th>\n",
       "      <th>fields.samenvatting</th>\n",
       "      <th>fields.datum</th>\n",
       "      <th>fields.link</th>\n",
       "      <th>fields.inhoud</th>\n",
       "      <th>fields.beslissing</th>\n",
       "      <th>fields.oordeel</th>\n",
       "      <th>fields.uitleg</th>\n",
       "      <th>fields.plaats</th>\n",
       "      <th>fields.provincie</th>\n",
       "      <th>fields.label</th>\n",
       "      <th>fields.appellant</th>\n",
       "      <th>fields.counterpart</th>\n",
       "      <th>fields.trefwoorden</th>\n",
       "      <th>fields.appellant_types</th>\n",
       "      <th>fields.letters</th>\n",
       "    </tr>\n",
       "  </thead>\n",
       "  <tbody>\n",
       "    <tr>\n",
       "      <th>0</th>\n",
       "      <td>uitspraken.uitspraak</td>\n",
       "      <td>2735</td>\n",
       "      <td>202100651/1/R4</td>\n",
       "      <td>ECLI:NL:RVS:2022:3936</td>\n",
       "      <td>Bij besluit van 17 juli 2018 heeft het college...</td>\n",
       "      <td>2022-12-28</td>\n",
       "      <td>https://www.raadvanstate.nl/uitspraken/@134652...</td>\n",
       "      <td>\\n202100651/1/R4. Datum uitspraak: 28 december...</td>\n",
       "      <td>I.        bevestigt de uitspraak van de rechtb...</td>\n",
       "      <td>5</td>\n",
       "      <td></td>\n",
       "      <td></td>\n",
       "      <td></td>\n",
       "      <td>TRU</td>\n",
       "      <td>[partij], wonend te Haarlo, gemeente Berkelland</td>\n",
       "      <td>het college.</td>\n",
       "      <td>[1, 2, 18]</td>\n",
       "      <td>[1]</td>\n",
       "      <td>[]</td>\n",
       "    </tr>\n",
       "    <tr>\n",
       "      <th>1</th>\n",
       "      <td>uitspraken.uitspraak</td>\n",
       "      <td>2736</td>\n",
       "      <td>202100729/1/R4</td>\n",
       "      <td>ECLI:NL:RVS:2022:3988</td>\n",
       "      <td>Bij besluit van 17 juli 2018 heeft het college...</td>\n",
       "      <td>2022-12-28</td>\n",
       "      <td>https://www.raadvanstate.nl/uitspraken/@134656...</td>\n",
       "      <td>\\n202100729/1/R4. Datum uitspraak: 28 december...</td>\n",
       "      <td>I.        bevestigt de uitspraak van de rechtb...</td>\n",
       "      <td>5</td>\n",
       "      <td></td>\n",
       "      <td></td>\n",
       "      <td></td>\n",
       "      <td>TRU</td>\n",
       "      <td>Vereniging \"Gelderse Natuur en Milieufederatie...</td>\n",
       "      <td>het college.</td>\n",
       "      <td>[1, 2, 18]</td>\n",
       "      <td>[1, 4]</td>\n",
       "      <td>[]</td>\n",
       "    </tr>\n",
       "    <tr>\n",
       "      <th>2</th>\n",
       "      <td>uitspraken.uitspraak</td>\n",
       "      <td>2737</td>\n",
       "      <td>202103155/1/R3</td>\n",
       "      <td>ECLI:NL:RVS:2022:3981</td>\n",
       "      <td>Bij besluit van 19 april 2018 heeft het colleg...</td>\n",
       "      <td>2022-12-28</td>\n",
       "      <td>https://www.raadvanstate.nl/uitspraken/@134644...</td>\n",
       "      <td>\\n202103155/1/R3. Datum uitspraak: 28 december...</td>\n",
       "      <td>I.        verklaart het hoger beroep gegrond;\\...</td>\n",
       "      <td>7</td>\n",
       "      <td></td>\n",
       "      <td></td>\n",
       "      <td></td>\n",
       "      <td>TRU</td>\n",
       "      <td>Stichting Dorpscentrum Oegstgeest en anderen</td>\n",
       "      <td>het college van burgemeester en wethouders van...</td>\n",
       "      <td>[1, 2]</td>\n",
       "      <td>[2]</td>\n",
       "      <td>[5]</td>\n",
       "    </tr>\n",
       "    <tr>\n",
       "      <th>3</th>\n",
       "      <td>uitspraken.uitspraak</td>\n",
       "      <td>2738</td>\n",
       "      <td>202103339/1/R4 en 202200371/1/R4</td>\n",
       "      <td>ECLI:NL:RVS:2022:3989</td>\n",
       "      <td>Bij besluit van 20 mei 2019 heeft het college ...</td>\n",
       "      <td>2022-12-28</td>\n",
       "      <td>https://www.raadvanstate.nl/uitspraken/@134657...</td>\n",
       "      <td>\\n202103339/1/R4 en 202200371/1/R4. Datum uits...</td>\n",
       "      <td>bevestigt de aangevallen uitspraken.</td>\n",
       "      <td>5</td>\n",
       "      <td></td>\n",
       "      <td></td>\n",
       "      <td></td>\n",
       "      <td>TRU</td>\n",
       "      <td>[appellant]</td>\n",
       "      <td>het college van burgemeester en wethouders van...</td>\n",
       "      <td>[1, 2]</td>\n",
       "      <td>[1]</td>\n",
       "      <td>[]</td>\n",
       "    </tr>\n",
       "    <tr>\n",
       "      <th>4</th>\n",
       "      <td>uitspraken.uitspraak</td>\n",
       "      <td>2739</td>\n",
       "      <td>202106199/1/R2</td>\n",
       "      <td>ECLI:NL:RVS:2022:3992</td>\n",
       "      <td>Bij besluit van 5 augustus 2020 heeft het coll...</td>\n",
       "      <td>2022-12-28</td>\n",
       "      <td>https://www.raadvanstate.nl/uitspraken/@134660...</td>\n",
       "      <td>\\n202106199/1/R2. Datum uitspraak: 28 december...</td>\n",
       "      <td>bevestigt de aangevallen uitspraak.</td>\n",
       "      <td>5</td>\n",
       "      <td></td>\n",
       "      <td></td>\n",
       "      <td></td>\n",
       "      <td>TRU</td>\n",
       "      <td>[appellant]</td>\n",
       "      <td>het college van burgemeester en wethouders van...</td>\n",
       "      <td>[1, 2]</td>\n",
       "      <td>[1]</td>\n",
       "      <td>[]</td>\n",
       "    </tr>\n",
       "  </tbody>\n",
       "</table>\n",
       "</div>"
      ],
      "text/plain": [
       "                  model    pk                      fields.titel  \\\n",
       "0  uitspraken.uitspraak  2735                    202100651/1/R4   \n",
       "1  uitspraken.uitspraak  2736                    202100729/1/R4   \n",
       "2  uitspraken.uitspraak  2737                    202103155/1/R3   \n",
       "3  uitspraken.uitspraak  2738  202103339/1/R4 en 202200371/1/R4   \n",
       "4  uitspraken.uitspraak  2739                    202106199/1/R2   \n",
       "\n",
       "             fields.ecli                                fields.samenvatting  \\\n",
       "0  ECLI:NL:RVS:2022:3936  Bij besluit van 17 juli 2018 heeft het college...   \n",
       "1  ECLI:NL:RVS:2022:3988  Bij besluit van 17 juli 2018 heeft het college...   \n",
       "2  ECLI:NL:RVS:2022:3981  Bij besluit van 19 april 2018 heeft het colleg...   \n",
       "3  ECLI:NL:RVS:2022:3989  Bij besluit van 20 mei 2019 heeft het college ...   \n",
       "4  ECLI:NL:RVS:2022:3992  Bij besluit van 5 augustus 2020 heeft het coll...   \n",
       "\n",
       "  fields.datum                                        fields.link  \\\n",
       "0   2022-12-28  https://www.raadvanstate.nl/uitspraken/@134652...   \n",
       "1   2022-12-28  https://www.raadvanstate.nl/uitspraken/@134656...   \n",
       "2   2022-12-28  https://www.raadvanstate.nl/uitspraken/@134644...   \n",
       "3   2022-12-28  https://www.raadvanstate.nl/uitspraken/@134657...   \n",
       "4   2022-12-28  https://www.raadvanstate.nl/uitspraken/@134660...   \n",
       "\n",
       "                                       fields.inhoud  \\\n",
       "0  \\n202100651/1/R4. Datum uitspraak: 28 december...   \n",
       "1  \\n202100729/1/R4. Datum uitspraak: 28 december...   \n",
       "2  \\n202103155/1/R3. Datum uitspraak: 28 december...   \n",
       "3  \\n202103339/1/R4 en 202200371/1/R4. Datum uits...   \n",
       "4  \\n202106199/1/R2. Datum uitspraak: 28 december...   \n",
       "\n",
       "                                   fields.beslissing  fields.oordeel  \\\n",
       "0  I.        bevestigt de uitspraak van de rechtb...               5   \n",
       "1  I.        bevestigt de uitspraak van de rechtb...               5   \n",
       "2  I.        verklaart het hoger beroep gegrond;\\...               7   \n",
       "3               bevestigt de aangevallen uitspraken.               5   \n",
       "4                bevestigt de aangevallen uitspraak.               5   \n",
       "\n",
       "  fields.uitleg fields.plaats fields.provincie fields.label  \\\n",
       "0                                                       TRU   \n",
       "1                                                       TRU   \n",
       "2                                                       TRU   \n",
       "3                                                       TRU   \n",
       "4                                                       TRU   \n",
       "\n",
       "                                    fields.appellant  \\\n",
       "0    [partij], wonend te Haarlo, gemeente Berkelland   \n",
       "1  Vereniging \"Gelderse Natuur en Milieufederatie...   \n",
       "2       Stichting Dorpscentrum Oegstgeest en anderen   \n",
       "3                                        [appellant]   \n",
       "4                                        [appellant]   \n",
       "\n",
       "                                  fields.counterpart fields.trefwoorden  \\\n",
       "0                                       het college.         [1, 2, 18]   \n",
       "1                                       het college.         [1, 2, 18]   \n",
       "2  het college van burgemeester en wethouders van...             [1, 2]   \n",
       "3  het college van burgemeester en wethouders van...             [1, 2]   \n",
       "4  het college van burgemeester en wethouders van...             [1, 2]   \n",
       "\n",
       "  fields.appellant_types fields.letters  \n",
       "0                    [1]             []  \n",
       "1                 [1, 4]             []  \n",
       "2                    [2]            [5]  \n",
       "3                    [1]             []  \n",
       "4                    [1]             []  "
      ]
     },
     "execution_count": 19,
     "metadata": {},
     "output_type": "execute_result"
    }
   ],
   "source": [
    "df_flat.head()"
   ]
  },
  {
   "cell_type": "code",
   "execution_count": 21,
   "id": "b9017f20-e6e1-49a8-bca0-e2dfd44d7e82",
   "metadata": {},
   "outputs": [],
   "source": [
    "df_flat.to_csv(\"./uitspraken.csv\")"
   ]
  },
  {
   "cell_type": "code",
   "id": "e1e90600-67d5-4f5a-9fc3-67be8d6ca165",
   "metadata": {
    "ExecuteTime": {
     "end_time": "2024-08-26T17:50:03.940238Z",
     "start_time": "2024-08-26T17:50:03.938066Z"
    }
   },
   "source": [
    "headers = {\n",
    "        'Accept-Encoding': 'gzip, deflate, sdch',\n",
    "        'Accept-Language': 'en-US,en;q=0.8',\n",
    "        'Upgrade-Insecure-Requests': '1',\n",
    "        'User-Agent': 'Mozilla/5.0 (X11; Linux x86_64) AppleWebKit/537.36 (KHTML, like Gecko) Chrome/56.0.2924.87 '\n",
    "                      'Safari/537.36',\n",
    "        'Accept': 'text/html,application/xhtml+xml,application/xml;q=0.9,image/webp,*/*;q=0.8',\n",
    "        'Cache-Control': 'max-age=0',\n",
    "        'Connection': 'keep-alive',\n",
    "    }"
   ],
   "outputs": [],
   "execution_count": 1
  },
  {
   "metadata": {
    "ExecuteTime": {
     "end_time": "2024-08-26T17:50:23.626107Z",
     "start_time": "2024-08-26T17:50:23.624321Z"
    }
   },
   "cell_type": "code",
   "source": [
    "year = 2024\n",
    "rows = 100"
   ],
   "id": "b4a5c2a385987646",
   "outputs": [],
   "execution_count": 2
  },
  {
   "metadata": {
    "ExecuteTime": {
     "end_time": "2024-08-26T17:55:46.265399Z",
     "start_time": "2024-08-26T17:55:46.261760Z"
    }
   },
   "cell_type": "code",
   "source": "url = f\"https://www.raadvanstate.nl/uitspraken/?zoeken=true&zoeken_term=&pager_rows={rows}&actualiteit=kalenderjaar&kalenderjaar={year}&Zoe_Selected_facet%3AType%20uitspraak=111&Zoe_Selected_facet%3AProceduresoort=78&Zoe_Selected_facet%3AProceduresoort=75&Zoe_Selected_facet%3AProceduresoort=47&Zoe_Selected_facet%3AProceduresoort=142&Zoe_Selected_facet%3AProceduresoort=141&Zoe_Selected_facet%3AProceduresoort=51&Zoe_Selected_facet%3ARechtsgebied=73&Zoe_Selected_facet%3ARechtsgebied=82&Zoe_Selected_facet%3ARechtsgebied=102&Zoe_Selected_facet%3ARechtsgebied=85&Zoe_Selected_facet%3ARechtsgebied=101&Zoe_Selected_facet%3ARechtsgebied=57&Zoe_Selected_facet%3ARechtsgebied=58&Zoe_Selected_facet%3ARechtsgebied=59&Zoe_Selected_facet%3ARechtsgebied=60&Zoe_Selected_facet%3ARechtsgebied=61&Zoe_Selected_facet%3ARechtsgebied=38&Zoe_Selected_facet%3ARechtsgebied=63&Zoe_Selected_facet%3ARechtsgebied=56&Zoe_Selected_facet%3ARechtsgebied=65&Zoe_Selected_facet%3ARechtsgebied=66&Zoe_Selected_facet%3ARechtsgebied=67&Zoe_Selected_facet%3ARechtsgebied=68&Zoe_Selected_facet%3ARechtsgebied=69&Zoe_Selected_facet%3ARechtsgebied=70&Zoe_Selected_facet%3ARechtsgebied=104&Zoe_Selected_facet%3ARechtsgebied=121\"",
   "id": "4c44b68b64c84d14",
   "outputs": [],
   "execution_count": 10
  },
  {
   "metadata": {
    "ExecuteTime": {
     "end_time": "2024-08-26T17:55:47.667657Z",
     "start_time": "2024-08-26T17:55:47.664582Z"
    }
   },
   "cell_type": "code",
   "source": [
    "import requests\n",
    "import re\n",
    "from bs4 import BeautifulSoup"
   ],
   "id": "fb17bba17f7ef201",
   "outputs": [],
   "execution_count": 11
  },
  {
   "metadata": {
    "ExecuteTime": {
     "end_time": "2024-08-26T17:55:48.679452Z",
     "start_time": "2024-08-26T17:55:48.584971Z"
    }
   },
   "cell_type": "code",
   "source": [
    "response = requests.get(url, headers=headers)\n",
    "soup = BeautifulSoup(response.content, \"html.parser\")"
   ],
   "id": "410016170e701a6e",
   "outputs": [],
   "execution_count": 12
  },
  {
   "metadata": {
    "ExecuteTime": {
     "end_time": "2024-08-26T17:56:09.202671Z",
     "start_time": "2024-08-26T17:56:09.198902Z"
    }
   },
   "cell_type": "code",
   "source": "soup",
   "id": "f5c8629df1439107",
   "outputs": [
    {
     "data": {
      "text/plain": [
       "<!DOCTYPE html>\n",
       "<html lang=\"en-US\"><head><title>Just a moment...</title><meta content=\"text/html; charset=utf-8\" http-equiv=\"Content-Type\"/><meta content=\"IE=Edge\" http-equiv=\"X-UA-Compatible\"/><meta content=\"noindex,nofollow\" name=\"robots\"/><meta content=\"width=device-width,initial-scale=1\" name=\"viewport\"/><style>*{box-sizing:border-box;margin:0;padding:0}html{line-height:1.15;-webkit-text-size-adjust:100%;color:#313131}button,html{font-family:system-ui,-apple-system,BlinkMacSystemFont,Segoe UI,Roboto,Helvetica Neue,Arial,Noto Sans,sans-serif,Apple Color Emoji,Segoe UI Emoji,Segoe UI Symbol,Noto Color Emoji}@media (prefers-color-scheme:dark){body{background-color:#222;color:#d9d9d9}body a{color:#fff}body a:hover{color:#ee730a;text-decoration:underline}body .lds-ring div{border-color:#999 transparent transparent}body .font-red{color:#b20f03}body .pow-button{background-color:#4693ff;color:#1d1d1d}body #challenge-success-text{background-image:url(data:image/svg+xml;base64,PHN2ZyB4bWxucz0iaHR0cDovL3d3dy53My5vcmcvMjAwMC9zdmciIHdpZHRoPSIzMiIgaGVpZ2h0PSIzMiIgZmlsbD0ibm9uZSIgdmlld0JveD0iMCAwIDI2IDI2Ij48cGF0aCBmaWxsPSIjZDlkOWQ5IiBkPSJNMTMgMGExMyAxMyAwIDEgMCAwIDI2IDEzIDEzIDAgMCAwIDAtMjZtMCAyNGExMSAxMSAwIDEgMSAwLTIyIDExIDExIDAgMCAxIDAgMjIiLz48cGF0aCBmaWxsPSIjZDlkOWQ5IiBkPSJtMTAuOTU1IDE2LjA1NS0zLjk1LTQuMTI1LTEuNDQ1IDEuMzg1IDUuMzcgNS42MSA5LjQ5NS05LjYtMS40Mi0xLjQwNXoiLz48L3N2Zz4=)}body #challenge-error-text{background-image:url(data:image/svg+xml;base64,PHN2ZyB4bWxucz0iaHR0cDovL3d3dy53My5vcmcvMjAwMC9zdmciIHdpZHRoPSIzMiIgaGVpZ2h0PSIzMiIgZmlsbD0ibm9uZSI+PHBhdGggZmlsbD0iI0IyMEYwMyIgZD0iTTE2IDNhMTMgMTMgMCAxIDAgMTMgMTNBMTMuMDE1IDEzLjAxNSAwIDAgMCAxNiAzbTAgMjRhMTEgMTEgMCAxIDEgMTEtMTEgMTEuMDEgMTEuMDEgMCAwIDEtMTEgMTEiLz48cGF0aCBmaWxsPSIjQjIwRjAzIiBkPSJNMTcuMDM4IDE4LjYxNUgxNC44N0wxNC41NjMgOS41aDIuNzgzem0tMS4wODQgMS40MjdxLjY2IDAgMS4wNTcuMzg4LjQwNy4zODkuNDA3Ljk5NCAwIC41OTYtLjQwNy45ODQtLjM5Ny4zOS0xLjA1Ny4zODktLjY1IDAtMS4wNTYtLjM4OS0uMzk4LS4zODktLjM5OC0uOTg0IDAtLjU5Ny4zOTgtLjk4NS40MDYtLjM5NyAxLjA1Ni0uMzk3Ii8+PC9zdmc+)}}body{display:flex;flex-direction:column;min-height:100vh}body.no-js .loading-spinner{visibility:hidden}body.no-js .challenge-running{display:none}body.dark{background-color:#222;color:#d9d9d9}body.dark a{color:#fff}body.dark a:hover{color:#ee730a;text-decoration:underline}body.dark .lds-ring div{border-color:#999 transparent transparent}body.dark .font-red{color:#b20f03}body.dark .pow-button{background-color:#4693ff;color:#1d1d1d}body.dark #challenge-success-text{background-image:url(data:image/svg+xml;base64,PHN2ZyB4bWxucz0iaHR0cDovL3d3dy53My5vcmcvMjAwMC9zdmciIHdpZHRoPSIzMiIgaGVpZ2h0PSIzMiIgZmlsbD0ibm9uZSIgdmlld0JveD0iMCAwIDI2IDI2Ij48cGF0aCBmaWxsPSIjZDlkOWQ5IiBkPSJNMTMgMGExMyAxMyAwIDEgMCAwIDI2IDEzIDEzIDAgMCAwIDAtMjZtMCAyNGExMSAxMSAwIDEgMSAwLTIyIDExIDExIDAgMCAxIDAgMjIiLz48cGF0aCBmaWxsPSIjZDlkOWQ5IiBkPSJtMTAuOTU1IDE2LjA1NS0zLjk1LTQuMTI1LTEuNDQ1IDEuMzg1IDUuMzcgNS42MSA5LjQ5NS05LjYtMS40Mi0xLjQwNXoiLz48L3N2Zz4=)}body.dark #challenge-error-text{background-image:url(data:image/svg+xml;base64,PHN2ZyB4bWxucz0iaHR0cDovL3d3dy53My5vcmcvMjAwMC9zdmciIHdpZHRoPSIzMiIgaGVpZ2h0PSIzMiIgZmlsbD0ibm9uZSI+PHBhdGggZmlsbD0iI0IyMEYwMyIgZD0iTTE2IDNhMTMgMTMgMCAxIDAgMTMgMTNBMTMuMDE1IDEzLjAxNSAwIDAgMCAxNiAzbTAgMjRhMTEgMTEgMCAxIDEgMTEtMTEgMTEuMDEgMTEuMDEgMCAwIDEtMTEgMTEiLz48cGF0aCBmaWxsPSIjQjIwRjAzIiBkPSJNMTcuMDM4IDE4LjYxNUgxNC44N0wxNC41NjMgOS41aDIuNzgzem0tMS4wODQgMS40MjdxLjY2IDAgMS4wNTcuMzg4LjQwNy4zODkuNDA3Ljk5NCAwIC41OTYtLjQwNy45ODQtLjM5Ny4zOS0xLjA1Ny4zODktLjY1IDAtMS4wNTYtLjM4OS0uMzk4LS4zODktLjM5OC0uOTg0IDAtLjU5Ny4zOTgtLjk4NS40MDYtLjM5NyAxLjA1Ni0uMzk3Ii8+PC9zdmc+)}body.light{background-color:transparent;color:#313131}body.light a{color:#0051c3}body.light a:hover{color:#ee730a;text-decoration:underline}body.light .lds-ring div{border-color:#595959 transparent transparent}body.light .font-red{color:#fc574a}body.light .pow-button{background-color:#003681;border-color:#003681;color:#fff}body.light #challenge-success-text{background-image:url(data:image/svg+xml;base64,PHN2ZyB4bWxucz0iaHR0cDovL3d3dy53My5vcmcvMjAwMC9zdmciIHdpZHRoPSIzMiIgaGVpZ2h0PSIzMiIgZmlsbD0ibm9uZSIgdmlld0JveD0iMCAwIDI2IDI2Ij48cGF0aCBmaWxsPSIjMzEzMTMxIiBkPSJNMTMgMGExMyAxMyAwIDEgMCAwIDI2IDEzIDEzIDAgMCAwIDAtMjZtMCAyNGExMSAxMSAwIDEgMSAwLTIyIDExIDExIDAgMCAxIDAgMjIiLz48cGF0aCBmaWxsPSIjMzEzMTMxIiBkPSJtMTAuOTU1IDE2LjA1NS0zLjk1LTQuMTI1LTEuNDQ1IDEuMzg1IDUuMzcgNS42MSA5LjQ5NS05LjYtMS40Mi0xLjQwNXoiLz48L3N2Zz4=)}body.light #challenge-error-text{background-image:url(data:image/svg+xml;base64,PHN2ZyB4bWxucz0iaHR0cDovL3d3dy53My5vcmcvMjAwMC9zdmciIHdpZHRoPSIzMiIgaGVpZ2h0PSIzMiIgZmlsbD0ibm9uZSI+PHBhdGggZmlsbD0iI2ZjNTc0YSIgZD0iTTE2IDNhMTMgMTMgMCAxIDAgMTMgMTNBMTMuMDE1IDEzLjAxNSAwIDAgMCAxNiAzbTAgMjRhMTEgMTEgMCAxIDEgMTEtMTEgMTEuMDEgMTEuMDEgMCAwIDEtMTEgMTEiLz48cGF0aCBmaWxsPSIjZmM1NzRhIiBkPSJNMTcuMDM4IDE4LjYxNUgxNC44N0wxNC41NjMgOS41aDIuNzgzem0tMS4wODQgMS40MjdxLjY2IDAgMS4wNTcuMzg4LjQwNy4zODkuNDA3Ljk5NCAwIC41OTYtLjQwNy45ODQtLjM5Ny4zOS0xLjA1Ny4zODktLjY1IDAtMS4wNTYtLjM4OS0uMzk4LS4zODktLjM5OC0uOTg0IDAtLjU5Ny4zOTgtLjk4NS40MDYtLjM5NyAxLjA1Ni0uMzk3Ii8+PC9zdmc+)}a{background-color:transparent;color:#0051c3;text-decoration:none;transition:color .15s ease}a:hover{color:#ee730a;text-decoration:underline}.main-content{margin:8rem auto;max-width:60rem;width:100%}.heading-favicon{height:2rem;margin-right:.5rem;width:2rem}@media (width <= 720px){.main-content{margin-top:4rem}.heading-favicon{height:1.5rem;width:1.5rem}}.footer,.main-content{padding-left:1.5rem;padding-right:1.5rem}.main-wrapper{align-items:center;display:flex;flex:1;flex-direction:column}.font-red{color:#b20f03}.spacer{margin:2rem 0}.h1{font-size:2.5rem;font-weight:500;line-height:3.75rem}.h2{font-weight:500}.core-msg,.h2{font-size:1.5rem;line-height:2.25rem}.body-text,.core-msg{font-weight:400}.body-text{font-size:1rem;line-height:1.25rem}@media (width <= 720px){.h1{font-size:1.5rem;line-height:1.75rem}.h2{font-size:1.25rem}.core-msg,.h2{line-height:1.5rem}.core-msg{font-size:1rem}}#challenge-error-text{background-image:url(data:image/svg+xml;base64,PHN2ZyB4bWxucz0iaHR0cDovL3d3dy53My5vcmcvMjAwMC9zdmciIHdpZHRoPSIzMiIgaGVpZ2h0PSIzMiIgZmlsbD0ibm9uZSI+PHBhdGggZmlsbD0iI2ZjNTc0YSIgZD0iTTE2IDNhMTMgMTMgMCAxIDAgMTMgMTNBMTMuMDE1IDEzLjAxNSAwIDAgMCAxNiAzbTAgMjRhMTEgMTEgMCAxIDEgMTEtMTEgMTEuMDEgMTEuMDEgMCAwIDEtMTEgMTEiLz48cGF0aCBmaWxsPSIjZmM1NzRhIiBkPSJNMTcuMDM4IDE4LjYxNUgxNC44N0wxNC41NjMgOS41aDIuNzgzem0tMS4wODQgMS40MjdxLjY2IDAgMS4wNTcuMzg4LjQwNy4zODkuNDA3Ljk5NCAwIC41OTYtLjQwNy45ODQtLjM5Ny4zOS0xLjA1Ny4zODktLjY1IDAtMS4wNTYtLjM4OS0uMzk4LS4zODktLjM5OC0uOTg0IDAtLjU5Ny4zOTgtLjk4NS40MDYtLjM5NyAxLjA1Ni0uMzk3Ii8+PC9zdmc+);padding-left:34px}#challenge-error-text,#challenge-success-text{background-repeat:no-repeat;background-size:contain}#challenge-success-text{background-image:url(data:image/svg+xml;base64,PHN2ZyB4bWxucz0iaHR0cDovL3d3dy53My5vcmcvMjAwMC9zdmciIHdpZHRoPSIzMiIgaGVpZ2h0PSIzMiIgZmlsbD0ibm9uZSIgdmlld0JveD0iMCAwIDI2IDI2Ij48cGF0aCBmaWxsPSIjMzEzMTMxIiBkPSJNMTMgMGExMyAxMyAwIDEgMCAwIDI2IDEzIDEzIDAgMCAwIDAtMjZtMCAyNGExMSAxMSAwIDEgMSAwLTIyIDExIDExIDAgMCAxIDAgMjIiLz48cGF0aCBmaWxsPSIjMzEzMTMxIiBkPSJtMTAuOTU1IDE2LjA1NS0zLjk1LTQuMTI1LTEuNDQ1IDEuMzg1IDUuMzcgNS42MSA5LjQ5NS05LjYtMS40Mi0xLjQwNXoiLz48L3N2Zz4=);padding-left:42px}.text-center{text-align:center}.pow-button{background-color:#0051c3;border:.063rem solid #0051c3;border-radius:.313rem;color:#fff;font-size:.875rem;line-height:1.313rem;margin:2rem 0;padding:.375rem 1rem;transition-duration:.2s;transition-property:background-color,border-color,color;transition-timing-function:ease}.pow-button:hover{background-color:#003681;border-color:#003681;color:#fff;cursor:pointer}.footer{font-size:.75rem;line-height:1.125rem;margin:0 auto;max-width:60rem;width:100%}.footer-inner{border-top:1px solid #d9d9d9;padding-bottom:1rem;padding-top:1rem}.clearfix:after{clear:both;content:\"\";display:table}.clearfix .column{float:left;padding-right:1.5rem;width:50%}.diagnostic-wrapper{margin-bottom:.5rem}.footer .ray-id{text-align:center}.footer .ray-id code{font-family:monaco,courier,monospace}.core-msg,.zone-name-title{overflow-wrap:break-word}@media (width <= 720px){.diagnostic-wrapper{display:flex;flex-wrap:wrap;justify-content:center}.clearfix:after{clear:none;content:none;display:initial;text-align:center}.column{padding-bottom:2rem}.clearfix .column{float:none;padding:0;width:auto;word-break:keep-all}.zone-name-title{margin-bottom:1rem}}.loading-spinner{height:76.391px}.lds-ring{display:inline-block;position:relative}.lds-ring,.lds-ring div{height:1.875rem;width:1.875rem}.lds-ring div{animation:lds-ring 1.2s cubic-bezier(.5,0,.5,1) infinite;border:.3rem solid transparent;border-radius:50%;border-top-color:#313131;box-sizing:border-box;display:block;position:absolute}.lds-ring div:first-child{animation-delay:-.45s}.lds-ring div:nth-child(2){animation-delay:-.3s}.lds-ring div:nth-child(3){animation-delay:-.15s}@keyframes lds-ring{0%{transform:rotate(0)}to{transform:rotate(1turn)}}@media screen and (-ms-high-contrast:active),screen and (-ms-high-contrast:none){.main-wrapper,body{display:block}}.rtl .heading-favicon{margin-left:.5rem;margin-right:0}.rtl #challenge-success-text{background-position:100%;padding-left:0;padding-right:42px}.rtl #challenge-error-text{background-position:100%;padding-left:0;padding-right:34px}</style><meta content=\"390\" http-equiv=\"refresh\"/></head><body class=\"no-js\"><div class=\"main-wrapper\" role=\"main\"><div class=\"main-content\"><noscript><div id=\"challenge-error-title\"><div class=\"h2\"><span id=\"challenge-error-text\">Enable JavaScript and cookies to continue</span></div></div></noscript></div></div><script>(function(){window._cf_chl_opt={cvId: '3',cZone: \"www.raadvanstate.nl\",cType: 'managed',cNounce: '19101',cRay: '8b95b1e52b0d0ea0',cHash: '9a98a9cb2253a82',cUPMDTk: \"\\/uitspraken\\/?zoeken=true&zoeken_term=&pager_rows=100&actualiteit=kalenderjaar&kalenderjaar=2024&Zoe_Selected_facet%3AType%20uitspraak=111&Zoe_Selected_facet%3AProceduresoort=78&Zoe_Selected_facet%3AProceduresoort=75&Zoe_Selected_facet%3AProceduresoort=47&Zoe_Selected_facet%3AProceduresoort=142&Zoe_Selected_facet%3AProceduresoort=141&Zoe_Selected_facet%3AProceduresoort=51&Zoe_Selected_facet%3ARechtsgebied=73&Zoe_Selected_facet%3ARechtsgebied=82&Zoe_Selected_facet%3ARechtsgebied=102&Zoe_Selected_facet%3ARechtsgebied=85&Zoe_Selected_facet%3ARechtsgebied=101&Zoe_Selected_facet%3ARechtsgebied=57&Zoe_Selected_facet%3ARechtsgebied=58&Zoe_Selected_facet%3ARechtsgebied=59&Zoe_Selected_facet%3ARechtsgebied=60&Zoe_Selected_facet%3ARechtsgebied=61&Zoe_Selected_facet%3ARechtsgebied=38&Zoe_Selected_facet%3ARechtsgebied=63&Zoe_Selected_facet%3ARechtsgebied=56&Zoe_Selected_facet%3ARechtsgebied=65&Zoe_Selected_facet%3ARechtsgebied=66&Zoe_Selected_facet%3ARechtsgebied=67&Zoe_Selected_facet%3ARechtsgebied=68&Zoe_Selected_facet%3ARechtsgebied=69&Zoe_Selected_facet%3ARechtsgebied=70&Zoe_Selected_facet%3ARechtsgebied=104&Zoe_Selected_facet%3ARechtsgebied=121&__cf_chl_tk=90HBZwegh9XYdOGqfIl35HfgD4P_8Yx4d8PWECIPRfg-1724694948-0.0.1.1-8020\",cFPWv: 'b',cTTimeMs: '1000',cMTimeMs: '390000',cTplV: 5,cTplB: 'cf',cK: \"\",fa: \"\\/uitspraken\\/?zoeken=true&zoeken_term=&pager_rows=100&actualiteit=kalenderjaar&kalenderjaar=2024&Zoe_Selected_facet%3AType%20uitspraak=111&Zoe_Selected_facet%3AProceduresoort=78&Zoe_Selected_facet%3AProceduresoort=75&Zoe_Selected_facet%3AProceduresoort=47&Zoe_Selected_facet%3AProceduresoort=142&Zoe_Selected_facet%3AProceduresoort=141&Zoe_Selected_facet%3AProceduresoort=51&Zoe_Selected_facet%3ARechtsgebied=73&Zoe_Selected_facet%3ARechtsgebied=82&Zoe_Selected_facet%3ARechtsgebied=102&Zoe_Selected_facet%3ARechtsgebied=85&Zoe_Selected_facet%3ARechtsgebied=101&Zoe_Selected_facet%3ARechtsgebied=57&Zoe_Selected_facet%3ARechtsgebied=58&Zoe_Selected_facet%3ARechtsgebied=59&Zoe_Selected_facet%3ARechtsgebied=60&Zoe_Selected_facet%3ARechtsgebied=61&Zoe_Selected_facet%3ARechtsgebied=38&Zoe_Selected_facet%3ARechtsgebied=63&Zoe_Selected_facet%3ARechtsgebied=56&Zoe_Selected_facet%3ARechtsgebied=65&Zoe_Selected_facet%3ARechtsgebied=66&Zoe_Selected_facet%3ARechtsgebied=67&Zoe_Selected_facet%3ARechtsgebied=68&Zoe_Selected_facet%3ARechtsgebied=69&Zoe_Selected_facet%3ARechtsgebied=70&Zoe_Selected_facet%3ARechtsgebied=104&Zoe_Selected_facet%3ARechtsgebied=121&__cf_chl_f_tk=90HBZwegh9XYdOGqfIl35HfgD4P_8Yx4d8PWECIPRfg-1724694948-0.0.1.1-8020\",md: \"1iQdqCRyX4nh3yw8xVZ1caQ7wndmu4aTS_R3LLt7P1Q-1724694948-1.1.1.1-f_KFBpW16s8ptNibR.yl2iMRVj9AerZTthLNK1ggvVzscTCrWiVonZg0hsI0whBtmv4h8TnhdVAMXWGSz9RntkBM5Zoj1b5lQbfwNOuraIQbdg7xSkkL1INTTLVJgYLlM5pklaSX0S920yAWNXjERDASEGenW20oQrGvOhhFxBO6YEX6NQ0z1sl3rQiM3O9JJbhgAVhN3hN60mDWbnwkdSQvf4daio4i9flbTvZxv_hB2SkE1teNvlxMZ8sERofnreQ.RRsGjA0erkzX8OWqKbmJ_ZnDwX139cxjoKNn5iuhEq22nGryLNg9otYAUZwDfQvu_I7CoJt_3VYJq2aGO3LMgJYiinIP3X98XlAamwe14mqYo7HSdXuMfijPkql1g4SPtBmfYdcVry1FTWjiW9_axEyrSCfIaXQV3hvRzMUsk0Iz5_Rj6RldVOanjh5Mm3XzuCT_ux9hLC1407nqM3QO0hkl8Fqggsf4zqYoCM0ct75Qi61uWAcN1dp_6WvmjJnZc6FmtcmxYtRrfno4.EWuBap2W7Xsom8b5hWokSrualKkDpgLPda.Td7cMgsf8WtvlTE0ziHhkoiw5b8NkwAwrbg.AKUipXivKlDFAxnbByzdh1Mjm.gAW4g4ZoWYBSnMeLTQBlyVEW.y9fffLDtdCJFkbKEiJupGKtcjC5McgDODZn0mK6tTyz0UFHvxpHstF_.vO1Y7VAXzp_2HntIIP4xQo7KOy.x8XRy11pINxIF8Ut8sV_iOTB6bd.F0dxbJtrtQNgOYFHV_oyJwRn1dgFj0NO0nHWHZarWueLHFbCTqKvCZYjNB8E4AYD.lI_ST6qCylxQj2WD5ACHBRSJQUbDSNZ98cWa7_MPw9AeLKwALz7jRqD3eYh2NoRkgSQNxc8eZ5fUWehh0lChclr8l76Gxrm8wdsDV9Z45QEzA8WporWijPG.VvPny9hTH6fbOdIHfl5ty6V5E2PHsBFEphyC8TSUHxm7z8vVNosJHEN1MPmB2UF7lbyiDJaeQudXBWHruUgMLqlp_CGH._uDnT57L4Pi0rnKuvAECDiQhLPeyIY7nfKidz3HAqtzWcC3V4ztJldZOKc4tSywtZ6QfiQ0s3Rm2H9w.3zAv26wXXs_DC9pTDIJrUbDihKRnzvMEw11kPbSL7aN0J2K33dnyi4GU68bfeRLzlRy8jrMF4MVAC_opTQ9R5MZPof6B73AGwlxZEDbfMZb8s2eO5yoAzE7KnUUVCBJHaZrLuFZWD3LZNBGzUFPGinCpZWmaxENC6XkmHshHkezC3dylljc9QRWrC9nTYhSv0sCy8wlHcNYiEpLDH4521fZKfYkln4zRIzQS_Igm6PnxNchTe249Uwtixsl9mfh2urtIxqwsL8wKY06mplaoj5d.OeHKgBHHCtqYd.pjam_HvoDD2QU877tfD7iDtPgDObiBNDt_c7ePdPrJrVgO7jKjgbHWGl4N3xs.eMlQxwkEXhGRHTEpR.b75OmODNwnjgl8x1pQ3COC7QfVaRdMVxQotGo1zp14XQrSmALxtJe6.gEmyBilzXtIMag59SfmHVfcvqQvXNTHcFVBUHfTAMrgQmHxoJKpQpcdMKr3h3Wwjiwi3ulcdj50wXotzhabVS9vS5u7P4sQWAbO3_RoVNYq3BFyI.eT0_e2KCm5Ry9_9GeD0TR0n_K8bRnQsTmXED4Us6Ilxp_vqpLtoA0RsCOak3PoSI3cC8bL.ZiA6krh.qxMDumUC8qCZu3kM2ffqkMIZ9KxQXBFUs7giuqKH_O.0TpICD6fmMkyP6W76EkPVAuU3ikWVCRAiC6VQfQoOCsGhsDuAJK.NYjtUq47mzj1qMPyE6ePO975SL4MJ.HMgyNKulTZt2zNaqLZZYYaqNs7UQFOhY.5x8RnbPSHZIDZ3HtB7LhfoGeJvEbV5.WyxsoDojYK6dOBmEBbBIf1oadyqvZcb2yLCOeCBt0sjYxchqS4FWBRJJGz.Qy9aMx6ekbt8CyEZVZ47RUyd1L0D3fTLWhtTinSY6bDkYQZUws5KIZ5oetQJRjVHznJpx1rnSjgAPsXzjVBnyP84V1LUi0DEFcH2JZdwCnViArpkrccZSfGjLU8Mk1DMoQ_gItDLyfJk4Uj.tnRnpoi9sffVPdGOyunseJPnfXadWcf33E2feyWQJEcbDHjBmpjRG4KZUYE_bjrR6psDFbesZ1s.eiHuVcYGJe7LL8ccZUfbWVqtvT6QwJSq_LxVP0pLT6sovxYOThGnCYH8vLeWQ6HEzcgn6mrKha_ExmfQUSEW65YzNDqvcVCPLPUAio_XvHotanrxH4Yq8Qev_NSO1AsBWEvFPzaLUR5zEE9erghEcEt6sFpw3FaFrnVg5.DINuM3IpUXMcIhOekb5WKs.uLY.5lIb2.rMA7wsHz_K3C434y57f1v7MokReuevXWbqziLBA3csayVuVoj.Tlt_xy3UeISOD0BlpzOR_vJmFko5VgoYDcyC0D_FeqWAQRN1ZpPElMrqOZtn2kqQTkod31.jwca.xX4jMDOleBws9vxetLnT2aYsvKIB7h2elPXk7bF1.guzihT_UvriOUj6zsl7Tt4yccxm0LS.A6i6mBYoPVoWC1LzbElMUGz1agdopdISTeBeM0vz43vQPlrdIh0xgxknJ27Thi3ET6.2Xvatmfa5XveBfK1sWogYORBDoIcuujXf5OSdpo2h8tUX8.TebOIrfMmryvd5xijhCmjy8QWga.QYK_njhERpkvHAcD37OyIICVWaTizlFIJ0FqZ8aaMjsHd_MCuuoc8zaWTEOTfgBQmT61fX1aLY5kCafP4LMBozRE39LLYVj3_rWRuZoI3QUfSU7xoLHPuzwh_nfvK1XDYgLm4LkwrktMmmEYJVW.b7PTPpLw9DX9DShidTp2GaLlUxQ29JILwbzIsvi6O7wPgMM7Wepqdqo9DY4zhIwokQZOhCJNSHH8ObbfQE3G2PBMbJajmcCmPGF4lq72OZNZrgYyldhzjfZ1g3AbDJMkOB823EOjRiPg7Bh6ijlz7t0I0lHcRA2SINMerXjnts2bQTpqFxX7_pSYh4a4uCN3OFT8CnxuEfRw6nA6eQ_sg_Xbif07j18VDNHsMsTXUwV9Wkjp9I5tzpOZfIAZJ868Nr5SNkFCLfruVpafJsZmw1os9DaRBQDxicV.c55pMo2jkEZF4SxyZSOyDzLBVKnOy85ZALrBwV8mYsONErgWyv1mk6UoviuCyYjH5qItO5ZUuS384RhKKGhJir6j_k4l4SKmKNXEwbDIiqAtwPwwvwfhYTU3PcngJT0t3Efqt8tp0oDDT8JZBRUbVb8Fqa5IAd3MF_SbbLQOSnXuhWKs0j.Zx6IzO2t4bZzFvrmo8FtuVOdWrufE8zDOkXiwYIxoAP15lMud5UMmaXiKRfVWzk.NAMvpQRyHNFydTbGAgUB2HJ2BEVhwCCzqQt1Th.OBbsrhlVFC1pwPaVQBhyjmEVPXM3N8pOTIzKRfgCklIbHBjzyicoLIwNhYB0TwI08NdUksl_LwJ14h9N32Qxc3u0Lbks.0Qyt5V5mBed_S0EVM3fQFZCFQ2JrZlN7f3T9FyI6dfQBHVpgf87H7e2BaBbZbldVXo0O52pFAmQYv4LqDU5cm8nv827Am1tLutNs_5Lfs53cBPihJLF_Gyy4CJeJXMnR_NDjng1WvqSHBwaTe5fSN_SCOa4TKIeQgHCOLrCjREc1Jx8S.UXka_05YK2iHWAvyoP4AiYA9HBkdfCbDYzHs9S.CPrO.QueJjIJy2Y4BcAKH7cGe4RfnhCvSeTWqPR0m80mI1Chf_kBj7oZuuNIHpymx2gTLul5tuFaZGKBrE1CakRuf27HIQkYhbX8Sd5OFJ_YfNRrrN9Lz4hnYwiTc4f.i5m81foODf9akNcCfiPEye34ylkRXMk6DRzorhvewEjIHRC0omQgM7Gl042d1lYNmvOWPL9bXqIae5efAfhBblgklh7pRxgzwL0YX4YBIDkBFNLtjes.4uuX48aEcqWJEj_jI00P81lGkHoDZDyFiT1E_aVWWxaNvzvU_QU7sMPI2m24ZrCERrUzWlhJWhzy5S7lSfOFfabKBqf_VOnqnDcpw0yC41mElfCecKxRwF_3KGgWuJKcfo0ZU9NLOvtZzwCYUURmeYHJJROB2Vz1c4bzGDGcM2XTalPndj3NvyECsLphLPAPEKU.NWIKRFHy0.cQpgp.bmljK4OUvliIOrCKGIzzHiz54rXhD9wBmsoEhmiSKr5NsUyBsSjlf7frQyqXdbDnrDAh1EyJs4H8lpbPgBRb1UdSR3GVYQRXpgQZStjgG_bw6HvDbZ8JC_2qQLHiVt9dTVA3hjzZ3TDwoqDXiiI7xLskV10cY1RfSITA_881Mysefj9nRvl5R4Gu9nENLOFFNx.U_HNcVJYYhaaMqRWyHphdiPENPuS0z56xI7IFfimpLLPAMtFIOrUIQ5FxJjxJUQr0bD6doMYlulDf.x6ZliIUVCVNhOwkwVwcq7ZEYgbCMikcw47ThxKWA6I4wSsCkBiBss0zaFJaa_zjC6ZgrdM18HN9eYlWZOuTo32SvPNKA2MhP4p0t7Qn3Bj3oaCrGT9bGN1oVNzSy4uElLLRXAqInLFmYecr8hgOjGVliXmot9ITn8v4dp8jSZyuPSgSA1OfNBcXZA3Ni7MLjUdnvyyKZ0WnA92A.OofrzgsmZcyi1pkqgNTbDAqyfaCmLsPrtRXnEpyCDzR8714lAl7qsR.XB3LFsqtHz7ajnpbiS_wjmFIxyPmPT5EOKmF9vk7NkTqOnNT7UKYuVZ.DQ5kAMMVY.F3qiZW9GMOxZ0gs10JsHeLBD4gvsau5Gwa0Vnky4NK8Fo4NTM5ZQNiGwILcMr3p7ogGncbz1_9S80gAizy6qihfCaN672jOIYOf2GBgjtbWVg4i0oQEMSmeM8vGdyHJZpN5MjckoTwMKYJJPkuw0Ydi9xfln1t7E2JbJXwvWXu3FVDZYAiD5daZWyBz.nJeyxen_49YdCp3dWV2pX.YDpZVCa6I__pJ5orDfdfXQD8rOQZ3AjkuaTwrllF7s3LP8BdamwSyaWAOcw0vhnRlqnlQEKN_qJcfZcZ7eV_agrUPD_7zu3D0QHqR747wnBPM88kcbyCaPVn7M61aunyzPTqZqhJ6bWx3XV8cJ.0fel3FXm7QYvc5NbECM_a8P_6i7IT1gFhN3B3mZS4N92.i_S._C45_UNzKc0qIPmrii3HZ_pjxZIRiGeHORWN0FsHQ7yULdbKqaLppUxYMyU3LNhrw07QvFNhkgZ9FPp6pKChoEOjLKx_xZJ1hIo2JkVTYo4GhlOuLGqqc.A9r38sNQNb8jC.2kJr9reg.VRLZAymW1NY9GlNj83UBc_4DNKuRetScZlcHJr9elNRxud6LM_eqLbo2yqvOEJN7ak4gMrGMPM0O2CAElOoy5KB.JyT3uKHkZxJlSmzDKr9EeknnX7EQoZpkuObMmQd5F3GfXwwjwQ\",mdrd: \"6JAK_SRWYLt4mCTyHlUv4x_eD_u1Z9HKgv2VCcdFWDg-1724694948-1.1.1.1-3fM4x4HAd0Cj10ho0N9Ua.7NXAWvbKlB9A8bf7un4xFZoWII_xmPpMN.Qz3FtmRYo0nTZQc.SAzZ249xW7TQ0XTN.tYWdP52Mta_Aqww2vLR4WPxD4ZSabfAn13nXVhZbt9rQQmZq3CvBkDcxLelkdY3b.m.e6PclejxCE_NgN041oDJi.C3rhRHXjm_Icv9lkGl69y_8w0apE.Ts9rAWsi9iW0K9RhtSRBd3Rpeg9HcMppG81fjDhlqGHMUs7_frdsIBX9pXl5tl3POeFp9UuAkC7hrbRWmvJxeEJ4zDXhu2zZFUJnLYF.35rUypJAJD_x_V1hqPOX4ByIRK_vhgJE4EA_f0subABoycOd8Tb0M.QiJZgxxkpJHqXJSOjpsx_K.77QhEfTbcibhWexq2qVyGCyr9VQAhopTDtgIaq35f19CL71iY9jAQ4uh8IRJIhI1WjmiceeVpPQPDNtynPmRYjBXBhcXy6fR5IBPps21GFmGFvsGUQVZd87JTb8MTbjaQ04xQYDl28lUfaPuEOJOiVQIrW_o8.KPycG0VbUj7ISsfzx_igxJwGqdxDTwlpFjxhDddFBB4TPIplJ20sQ_ZpBaIG0_2G4B1tQ3D7MulF1eXKvOnUX9bULOiTzowhwLXbkf9k59kivvFFSLjojZ9CJVXZxdG12TMAnZT48Mm2obI74d8j88.BxS.yaXItLZ1cV7W29E0F1HB3QJGicND9HpUlZgN4Z21SuDqSBOtyvchzVCvvLX0ET9buLrfkCv9hXkMqht9o1iw9OFBkKx7Vv3k_HT0w1IjBCpdApnTJDokdY5bGN2M.Z8wa64MllNGYYQmzwkgq_P33xxqTpCer3Vfxq9Q0OxmisVhdEQqnXlu1k2p5Mj7Vb.TckVhdoiF6GrsCb6Ec4CKET75WJVJwj_jgjZU3C0EBaARE0vvEUSoggY7_YrT.feE6xBmQxA2k0_bF5BwCJV.n7rUHfiJzwc.DRZhbEdfVRtzqQMnOGhiZeI_mdxeYdF7wbUFNQ_QZrb0Nnep0qp9XygG9iO53xoAkL0RO_T_L4i8gYocqWzwbf_fLIBVQreCeVmffWzeMsZPX6JpezZ5kqt1Tx9A.S28xSXSuEDIxW7NOqpLtwXDX.kYJnZF79MS3gGpsqP_OR4KUTeci117PmRo4mSNft1L9MCzLpIDx1MNiEdOSZEMD82_29ta5zJLKJlpPVGn2aKxYYpoB4PlGIZm2NBuB55kmxvlFTubMo1gxYmipV0qZQ9XmcKjYPgLOoL6h7gcMLCtzvzYuh7leoUluF9cIjcFla3HE4GfdiCm93AbtBmpXNh.0P54flg1InlFqe1MeHBPbHHbDsHOGT0AP92oC.exRSCCIDmkQJy8SXUW5cwGHIiSTzx4BTXIbYK7Ikiq3q1QmTLerhBIm49u.rC2Lyz.nMY0c008ScEJyBJsBV3mm7ve8LI2ptbPTqdok.CN8q1D36rh30ivOAw81RrbLE.zVher9jpJgv.niINLOfvtKAIg9Z29GpWf7s5ayAL1x3hHy0tI3lzjRq1GsYtI6OLYqcdOGDQNAN3Yq545jUkyGjncsQtDF9auAPrHGnfjlvPX7pmyK9IrCVCE9kUvIIQskfP4F.2IaO31wIl43AB2rAsZabWv.qdVeAolHyVvNrN666c5_nmbbn372KXIXe6Z9zWln0vs1_jk1.Bp1anBPLH8fPjZ4ovdXBDC.D3ufmqPJKgRdQis_1kfourhmC0BrksG4u2B53C4DRcIDiqh8UqKfm22ZkNJ9QMqvGWAdJeNB0_45INO287ZMq6Zr9WNfnexPyZWBj.GBwUHBJMPovK.Uiz7bYzD_EL2Ym.6jBE3LJ9VSSvvymBxUUwrmBH5Q3ijqP_GXw954v3WIR4fpbT6Pysy4aZWTaUATsDhzVc6OmeuTiqfCo5VGckFEfnyVdm_XdRRF7lnc4gOUACe0nH2G1YTP8yeg1EJvEC7u.RfYrtElyHkJYjm6.QyChiz5P2enXiDyqzcwqg_qh92vW1ovaNQ9C6KcQmqWgkELiuRJZ4jZqV2kPMLZQIbMZgVQ1mtz7Lx0zHJNWApGx8.7RnHQNbmH.VKEWlIGEObcfOBMzx2ofrMIDEutZAICVt3CTWEbpqhRKq1OgBQ.lnqI3.p9XbFnlPKJRUMLHaf__Gu_qft2toXfrY0qgFbeL7.vRmf2EzGlssyvUAt6GK9SOolBFVwKmGgbHw.VX4h_WwSzvN7UNqGV1ntrVyZGFo7NFPxldlAOj4zKq5GmuSHmEUiXER9qfyGYyzY66pOgMeT78rD_qknhKE.G34p32__fhSHsZ3QFWcThVvc37T5Fewrt8QAm_C8nx4\",cRq: {ru: 'aHR0cHM6Ly93d3cucmFhZHZhbnN0YXRlLm5sL3VpdHNwcmFrZW4vP3pvZWtlbj10cnVlJnpvZWtlbl90ZXJtPSZwYWdlcl9yb3dzPTEwMCZhY3R1YWxpdGVpdD1rYWxlbmRlcmphYXIma2FsZW5kZXJqYWFyPTIwMjQmWm9lX1NlbGVjdGVkX2ZhY2V0JTNBVHlwZSUyMHVpdHNwcmFhaz0xMTEmWm9lX1NlbGVjdGVkX2ZhY2V0JTNBUHJvY2VkdXJlc29vcnQ9NzgmWm9lX1NlbGVjdGVkX2ZhY2V0JTNBUHJvY2VkdXJlc29vcnQ9NzUmWm9lX1NlbGVjdGVkX2ZhY2V0JTNBUHJvY2VkdXJlc29vcnQ9NDcmWm9lX1NlbGVjdGVkX2ZhY2V0JTNBUHJvY2VkdXJlc29vcnQ9MTQyJlpvZV9TZWxlY3RlZF9mYWNldCUzQVByb2NlZHVyZXNvb3J0PTE0MSZab2VfU2VsZWN0ZWRfZmFjZXQlM0FQcm9jZWR1cmVzb29ydD01MSZab2VfU2VsZWN0ZWRfZmFjZXQlM0FSZWNodHNnZWJpZWQ9NzMmWm9lX1NlbGVjdGVkX2ZhY2V0JTNBUmVjaHRzZ2ViaWVkPTgyJlpvZV9TZWxlY3RlZF9mYWNldCUzQVJlY2h0c2dlYmllZD0xMDImWm9lX1NlbGVjdGVkX2ZhY2V0JTNBUmVjaHRzZ2ViaWVkPTg1JlpvZV9TZWxlY3RlZF9mYWNldCUzQVJlY2h0c2dlYmllZD0xMDEmWm9lX1NlbGVjdGVkX2ZhY2V0JTNBUmVjaHRzZ2ViaWVkPTU3JlpvZV9TZWxlY3RlZF9mYWNldCUzQVJlY2h0c2dlYmllZD01OCZab2VfU2VsZWN0ZWRfZmFjZXQlM0FSZWNodHNnZWJpZWQ9NTkmWm9lX1NlbGVjdGVkX2ZhY2V0JTNBUmVjaHRzZ2ViaWVkPTYwJlpvZV9TZWxlY3RlZF9mYWNldCUzQVJlY2h0c2dlYmllZD02MSZab2VfU2VsZWN0ZWRfZmFjZXQlM0FSZWNodHNnZWJpZWQ9MzgmWm9lX1NlbGVjdGVkX2ZhY2V0JTNBUmVjaHRzZ2ViaWVkPTYzJlpvZV9TZWxlY3RlZF9mYWNldCUzQVJlY2h0c2dlYmllZD01NiZab2VfU2VsZWN0ZWRfZmFjZXQlM0FSZWNodHNnZWJpZWQ9NjUmWm9lX1NlbGVjdGVkX2ZhY2V0JTNBUmVjaHRzZ2ViaWVkPTY2JlpvZV9TZWxlY3RlZF9mYWNldCUzQVJlY2h0c2dlYmllZD02NyZab2VfU2VsZWN0ZWRfZmFjZXQlM0FSZWNodHNnZWJpZWQ9NjgmWm9lX1NlbGVjdGVkX2ZhY2V0JTNBUmVjaHRzZ2ViaWVkPTY5JlpvZV9TZWxlY3RlZF9mYWNldCUzQVJlY2h0c2dlYmllZD03MCZab2VfU2VsZWN0ZWRfZmFjZXQlM0FSZWNodHNnZWJpZWQ9MTA0JlpvZV9TZWxlY3RlZF9mYWNldCUzQVJlY2h0c2dlYmllZD0xMjE=',ra: 'TW96aWxsYS81LjAgKFgxMTsgTGludXggeDg2XzY0KSBBcHBsZVdlYktpdC81MzcuMzYgKEtIVE1MLCBsaWtlIEdlY2tvKSBDaHJvbWUvNTYuMC4yOTI0Ljg3IFNhZmFyaS81MzcuMzY=',d: '1jBAod88+Gy2wQnvwkLqwXsfn9kt1suFspQNurfmkcsGWO0LoObJVBUHbBweuuJVca05li+U+Y4YKhl6SQkW3/+atQesQj0Rdck6fHRbnzXjhV3G9hXSJTy7h/qd2TXcEHrdic6LyomVVnFKHwc/x/FxJ0jZZEI5CLfNMpASFDazQUz/y+9nQJ1xzYrmocD8xavO4XX2sjGBZ6t8aipzjaZCrn/PRw3hdcL5chmg5Pe2pF0Zy8BPPMP+07oGySkIShSQybxA3UAKphPjRDxLNfy7BOOMrp4j7r1Y7mdZ6xSCgXnFiaRzeGLJAldCkbshf8Q4I88prphUpR7LZcSm/y/EjXev6B8Xzpe4CzWTM8VYGgspI15zAufI/I2LjCEPUkrZeNklUg0bEgCZf8MmQAwGzV+xN4dU8TrZzq6j1eEZpyMOJPfAi6ibgGWEuHYNMicGCXMcwkYujXLuYpzBYzJl3sk0UeiSrTSGVhC9hdvak80HYoYPoqZn0wIeELdxJWBQZrFroeMGHPj5f7fSUHhy8BnpbUvc5IymMunSz9TxB2LN+jRqUD/FSkZ/Kecm',t: 'MTcyNDY5NDk0OC4wMDAwMDA=',cT: Math.floor(Date.now() / 1000),m: '/OvlEA1uVy2V/u0rB+yhhgWRX4LqouCbMPmNrRV6yCE=',i1: 'SuJ27g19ol23tgnFgahkkw==',i2: 'NUy1wu3rzZMLnBM3cQcTtg==',zh: 'wvlbwTuT8d/mbzVlI2p6zwfGnJ9fs2U3hKMwss7x3qk=',uh: 'K61ppBkW+8hytuGMXoJ185i2XKi4/ypt7loDhXaLN3k=',hh: '0DfcwF2J4/rc127G5OsawaQEW9hsR4gy3hNVsDluESQ=',}};var cpo = document.createElement('script');cpo.src = '/cdn-cgi/challenge-platform/h/b/orchestrate/chl_page/v1?ray=8b95b1e52b0d0ea0';window._cf_chl_opt.cOgUHash = location.hash === '' && location.href.indexOf('#') !== -1 ? '#' : location.hash;window._cf_chl_opt.cOgUQuery = location.search === '' && location.href.slice(0, location.href.length - window._cf_chl_opt.cOgUHash.length).indexOf('?') !== -1 ? '?' : location.search;if (window.history && window.history.replaceState) {var ogU = location.pathname + window._cf_chl_opt.cOgUQuery + window._cf_chl_opt.cOgUHash;history.replaceState(null, null, \"\\/uitspraken\\/?zoeken=true&zoeken_term=&pager_rows=100&actualiteit=kalenderjaar&kalenderjaar=2024&Zoe_Selected_facet%3AType%20uitspraak=111&Zoe_Selected_facet%3AProceduresoort=78&Zoe_Selected_facet%3AProceduresoort=75&Zoe_Selected_facet%3AProceduresoort=47&Zoe_Selected_facet%3AProceduresoort=142&Zoe_Selected_facet%3AProceduresoort=141&Zoe_Selected_facet%3AProceduresoort=51&Zoe_Selected_facet%3ARechtsgebied=73&Zoe_Selected_facet%3ARechtsgebied=82&Zoe_Selected_facet%3ARechtsgebied=102&Zoe_Selected_facet%3ARechtsgebied=85&Zoe_Selected_facet%3ARechtsgebied=101&Zoe_Selected_facet%3ARechtsgebied=57&Zoe_Selected_facet%3ARechtsgebied=58&Zoe_Selected_facet%3ARechtsgebied=59&Zoe_Selected_facet%3ARechtsgebied=60&Zoe_Selected_facet%3ARechtsgebied=61&Zoe_Selected_facet%3ARechtsgebied=38&Zoe_Selected_facet%3ARechtsgebied=63&Zoe_Selected_facet%3ARechtsgebied=56&Zoe_Selected_facet%3ARechtsgebied=65&Zoe_Selected_facet%3ARechtsgebied=66&Zoe_Selected_facet%3ARechtsgebied=67&Zoe_Selected_facet%3ARechtsgebied=68&Zoe_Selected_facet%3ARechtsgebied=69&Zoe_Selected_facet%3ARechtsgebied=70&Zoe_Selected_facet%3ARechtsgebied=104&Zoe_Selected_facet%3ARechtsgebied=121&__cf_chl_rt_tk=90HBZwegh9XYdOGqfIl35HfgD4P_8Yx4d8PWECIPRfg-1724694948-0.0.1.1-8020\" + window._cf_chl_opt.cOgUHash);cpo.onload = function() {history.replaceState(null, null, ogU);}}document.getElementsByTagName('head')[0].appendChild(cpo);}());</script></body></html>"
      ]
     },
     "execution_count": 16,
     "metadata": {},
     "output_type": "execute_result"
    }
   ],
   "execution_count": 16
  },
  {
   "metadata": {
    "ExecuteTime": {
     "end_time": "2024-08-26T17:55:55.150175Z",
     "start_time": "2024-08-26T17:55:55.147627Z"
    }
   },
   "cell_type": "code",
   "source": "entries = soup.select(\"div.rol-entry\")",
   "id": "b56c68906e0c6f05",
   "outputs": [],
   "execution_count": 14
  },
  {
   "metadata": {
    "ExecuteTime": {
     "end_time": "2024-08-26T17:55:55.930259Z",
     "start_time": "2024-08-26T17:55:55.925885Z"
    }
   },
   "cell_type": "code",
   "source": "len(entries)",
   "id": "30459bf48bfeba88",
   "outputs": [
    {
     "data": {
      "text/plain": [
       "0"
      ]
     },
     "execution_count": 15,
     "metadata": {},
     "output_type": "execute_result"
    }
   ],
   "execution_count": 15
  },
  {
   "metadata": {
    "ExecuteTime": {
     "end_time": "2024-08-26T17:53:11.049519Z",
     "start_time": "2024-08-26T17:53:11.046792Z"
    }
   },
   "cell_type": "code",
   "source": "soup.find_all(\"div\", class_=\"rol-entry\")",
   "id": "23e70808b19ad012",
   "outputs": [
    {
     "data": {
      "text/plain": [
       "[]"
      ]
     },
     "execution_count": 9,
     "metadata": {},
     "output_type": "execute_result"
    }
   ],
   "execution_count": 9
  },
  {
   "metadata": {
    "ExecuteTime": {
     "end_time": "2024-08-26T19:16:14.144980Z",
     "start_time": "2024-08-26T19:16:13.020731Z"
    }
   },
   "cell_type": "code",
   "source": [
    "import csv\n",
    "import pandas as pd"
   ],
   "id": "ed7d5cfd700829b",
   "outputs": [],
   "execution_count": 21
  },
  {
   "metadata": {
    "ExecuteTime": {
     "end_time": "2024-08-26T20:49:47.763015Z",
     "start_time": "2024-08-26T20:49:47.415151Z"
    }
   },
   "cell_type": "code",
   "source": "df_rvs = pd.read_csv(\"rvs.csv\")",
   "id": "cea78014db6a5c22",
   "outputs": [],
   "execution_count": 26
  },
  {
   "metadata": {
    "ExecuteTime": {
     "end_time": "2024-08-26T20:49:48.919028Z",
     "start_time": "2024-08-26T20:49:48.912855Z"
    }
   },
   "cell_type": "code",
   "source": "df_rvs.head()",
   "id": "d24933d80adda8f3",
   "outputs": [
    {
     "data": {
      "text/plain": [
       "  web-scraper-order                              web-scraper-start-url title  \\\n",
       "0      1724700033-1  https://www.raadvanstate.nl/uitspraken/?zoeken...   NaN   \n",
       "1      1724700033-2  https://www.raadvanstate.nl/uitspraken/?zoeken...   NaN   \n",
       "2      1724700033-3  https://www.raadvanstate.nl/uitspraken/?zoeken...   NaN   \n",
       "3      1724700033-4  https://www.raadvanstate.nl/uitspraken/?zoeken...   NaN   \n",
       "4      1724700033-5  https://www.raadvanstate.nl/uitspraken/?zoeken...   NaN   \n",
       "\n",
       "  title-href date summary text procedure area  \n",
       "0        NaN  NaN     NaN  NaN       NaN  NaN  \n",
       "1        NaN  NaN     NaN  NaN       NaN  NaN  \n",
       "2        NaN  NaN     NaN  NaN       NaN  NaN  \n",
       "3        NaN  NaN     NaN  NaN       NaN  NaN  \n",
       "4        NaN  NaN     NaN  NaN       NaN  NaN  "
      ],
      "text/html": [
       "<div>\n",
       "<style scoped>\n",
       "    .dataframe tbody tr th:only-of-type {\n",
       "        vertical-align: middle;\n",
       "    }\n",
       "\n",
       "    .dataframe tbody tr th {\n",
       "        vertical-align: top;\n",
       "    }\n",
       "\n",
       "    .dataframe thead th {\n",
       "        text-align: right;\n",
       "    }\n",
       "</style>\n",
       "<table border=\"1\" class=\"dataframe\">\n",
       "  <thead>\n",
       "    <tr style=\"text-align: right;\">\n",
       "      <th></th>\n",
       "      <th>web-scraper-order</th>\n",
       "      <th>web-scraper-start-url</th>\n",
       "      <th>title</th>\n",
       "      <th>title-href</th>\n",
       "      <th>date</th>\n",
       "      <th>summary</th>\n",
       "      <th>text</th>\n",
       "      <th>procedure</th>\n",
       "      <th>area</th>\n",
       "    </tr>\n",
       "  </thead>\n",
       "  <tbody>\n",
       "    <tr>\n",
       "      <th>0</th>\n",
       "      <td>1724700033-1</td>\n",
       "      <td>https://www.raadvanstate.nl/uitspraken/?zoeken...</td>\n",
       "      <td>NaN</td>\n",
       "      <td>NaN</td>\n",
       "      <td>NaN</td>\n",
       "      <td>NaN</td>\n",
       "      <td>NaN</td>\n",
       "      <td>NaN</td>\n",
       "      <td>NaN</td>\n",
       "    </tr>\n",
       "    <tr>\n",
       "      <th>1</th>\n",
       "      <td>1724700033-2</td>\n",
       "      <td>https://www.raadvanstate.nl/uitspraken/?zoeken...</td>\n",
       "      <td>NaN</td>\n",
       "      <td>NaN</td>\n",
       "      <td>NaN</td>\n",
       "      <td>NaN</td>\n",
       "      <td>NaN</td>\n",
       "      <td>NaN</td>\n",
       "      <td>NaN</td>\n",
       "    </tr>\n",
       "    <tr>\n",
       "      <th>2</th>\n",
       "      <td>1724700033-3</td>\n",
       "      <td>https://www.raadvanstate.nl/uitspraken/?zoeken...</td>\n",
       "      <td>NaN</td>\n",
       "      <td>NaN</td>\n",
       "      <td>NaN</td>\n",
       "      <td>NaN</td>\n",
       "      <td>NaN</td>\n",
       "      <td>NaN</td>\n",
       "      <td>NaN</td>\n",
       "    </tr>\n",
       "    <tr>\n",
       "      <th>3</th>\n",
       "      <td>1724700033-4</td>\n",
       "      <td>https://www.raadvanstate.nl/uitspraken/?zoeken...</td>\n",
       "      <td>NaN</td>\n",
       "      <td>NaN</td>\n",
       "      <td>NaN</td>\n",
       "      <td>NaN</td>\n",
       "      <td>NaN</td>\n",
       "      <td>NaN</td>\n",
       "      <td>NaN</td>\n",
       "    </tr>\n",
       "    <tr>\n",
       "      <th>4</th>\n",
       "      <td>1724700033-5</td>\n",
       "      <td>https://www.raadvanstate.nl/uitspraken/?zoeken...</td>\n",
       "      <td>NaN</td>\n",
       "      <td>NaN</td>\n",
       "      <td>NaN</td>\n",
       "      <td>NaN</td>\n",
       "      <td>NaN</td>\n",
       "      <td>NaN</td>\n",
       "      <td>NaN</td>\n",
       "    </tr>\n",
       "  </tbody>\n",
       "</table>\n",
       "</div>"
      ]
     },
     "execution_count": 27,
     "metadata": {},
     "output_type": "execute_result"
    }
   ],
   "execution_count": 27
  },
  {
   "metadata": {
    "ExecuteTime": {
     "end_time": "2024-08-26T20:49:57.155821Z",
     "start_time": "2024-08-26T20:49:57.152270Z"
    }
   },
   "cell_type": "code",
   "source": "df_rvs.shape",
   "id": "afee0613cf92f064",
   "outputs": [
    {
     "data": {
      "text/plain": [
       "(2100, 9)"
      ]
     },
     "execution_count": 28,
     "metadata": {},
     "output_type": "execute_result"
    }
   ],
   "execution_count": 28
  },
  {
   "metadata": {
    "ExecuteTime": {
     "end_time": "2024-08-26T20:53:32.405894Z",
     "start_time": "2024-08-26T20:53:29.892977Z"
    }
   },
   "cell_type": "code",
   "source": "!pip install selenium",
   "id": "76cb3e2ce22029c0",
   "outputs": [
    {
     "name": "stdout",
     "output_type": "stream",
     "text": [
      "Collecting selenium\r\n",
      "  Obtaining dependency information for selenium from https://files.pythonhosted.org/packages/c9/33/b9da8be5b122b8c3c82c35f515ba0a84a9af3ba9629ae9fd5bbba820d592/selenium-4.23.1-py3-none-any.whl.metadata\r\n",
      "  Downloading selenium-4.23.1-py3-none-any.whl.metadata (7.1 kB)\r\n",
      "Requirement already satisfied: urllib3[socks]<3,>=1.26 in /Users/jeroenvandenieuwenhof/Documents/git/rvs/.venv/lib/python3.12/site-packages (from selenium) (2.2.1)\r\n",
      "Collecting trio~=0.17 (from selenium)\r\n",
      "  Obtaining dependency information for trio~=0.17 from https://files.pythonhosted.org/packages/1c/70/efa56ce2271c44a7f4f43533a0477e6854a0948e9f7b76491de1fd3be7c9/trio-0.26.2-py3-none-any.whl.metadata\r\n",
      "  Downloading trio-0.26.2-py3-none-any.whl.metadata (8.6 kB)\r\n",
      "Collecting trio-websocket~=0.9 (from selenium)\r\n",
      "  Obtaining dependency information for trio-websocket~=0.9 from https://files.pythonhosted.org/packages/48/be/a9ae5f50cad5b6f85bd2574c2c923730098530096e170c1ce7452394d7aa/trio_websocket-0.11.1-py3-none-any.whl.metadata\r\n",
      "  Downloading trio_websocket-0.11.1-py3-none-any.whl.metadata (4.7 kB)\r\n",
      "Requirement already satisfied: certifi>=2021.10.8 in /Users/jeroenvandenieuwenhof/Documents/git/rvs/.venv/lib/python3.12/site-packages (from selenium) (2023.7.22)\r\n",
      "Requirement already satisfied: typing_extensions~=4.9 in /Users/jeroenvandenieuwenhof/Documents/git/rvs/.venv/lib/python3.12/site-packages (from selenium) (4.11.0)\r\n",
      "Requirement already satisfied: websocket-client~=1.8 in /Users/jeroenvandenieuwenhof/Documents/git/rvs/.venv/lib/python3.12/site-packages (from selenium) (1.8.0)\r\n",
      "Requirement already satisfied: attrs>=23.2.0 in /Users/jeroenvandenieuwenhof/Documents/git/rvs/.venv/lib/python3.12/site-packages (from trio~=0.17->selenium) (23.2.0)\r\n",
      "Collecting sortedcontainers (from trio~=0.17->selenium)\r\n",
      "  Obtaining dependency information for sortedcontainers from https://files.pythonhosted.org/packages/32/46/9cb0e58b2deb7f82b84065f37f3bffeb12413f947f9388e4cac22c4621ce/sortedcontainers-2.4.0-py2.py3-none-any.whl.metadata\r\n",
      "  Downloading sortedcontainers-2.4.0-py2.py3-none-any.whl.metadata (10 kB)\r\n",
      "Requirement already satisfied: idna in /Users/jeroenvandenieuwenhof/Documents/git/rvs/.venv/lib/python3.12/site-packages (from trio~=0.17->selenium) (3.4)\r\n",
      "Collecting outcome (from trio~=0.17->selenium)\r\n",
      "  Obtaining dependency information for outcome from https://files.pythonhosted.org/packages/55/8b/5ab7257531a5d830fc8000c476e63c935488d74609b50f9384a643ec0a62/outcome-1.3.0.post0-py2.py3-none-any.whl.metadata\r\n",
      "  Downloading outcome-1.3.0.post0-py2.py3-none-any.whl.metadata (2.6 kB)\r\n",
      "Requirement already satisfied: sniffio>=1.3.0 in /Users/jeroenvandenieuwenhof/Documents/git/rvs/.venv/lib/python3.12/site-packages (from trio~=0.17->selenium) (1.3.1)\r\n",
      "Collecting wsproto>=0.14 (from trio-websocket~=0.9->selenium)\r\n",
      "  Obtaining dependency information for wsproto>=0.14 from https://files.pythonhosted.org/packages/78/58/e860788190eba3bcce367f74d29c4675466ce8dddfba85f7827588416f01/wsproto-1.2.0-py3-none-any.whl.metadata\r\n",
      "  Downloading wsproto-1.2.0-py3-none-any.whl.metadata (5.6 kB)\r\n",
      "Collecting pysocks!=1.5.7,<2.0,>=1.5.6 (from urllib3[socks]<3,>=1.26->selenium)\r\n",
      "  Obtaining dependency information for pysocks!=1.5.7,<2.0,>=1.5.6 from https://files.pythonhosted.org/packages/8d/59/b4572118e098ac8e46e399a1dd0f2d85403ce8bbaad9ec79373ed6badaf9/PySocks-1.7.1-py3-none-any.whl.metadata\r\n",
      "  Downloading PySocks-1.7.1-py3-none-any.whl.metadata (13 kB)\r\n",
      "Requirement already satisfied: h11<1,>=0.9.0 in /Users/jeroenvandenieuwenhof/Documents/git/rvs/.venv/lib/python3.12/site-packages (from wsproto>=0.14->trio-websocket~=0.9->selenium) (0.14.0)\r\n",
      "Downloading selenium-4.23.1-py3-none-any.whl (9.4 MB)\r\n",
      "\u001B[2K   \u001B[90m━━━━━━━━━━━━━━━━━━━━━━━━━━━━━━━━━━━━━━━━\u001B[0m \u001B[32m9.4/9.4 MB\u001B[0m \u001B[31m57.7 MB/s\u001B[0m eta \u001B[36m0:00:00\u001B[0ma \u001B[36m0:00:01\u001B[0m\r\n",
      "\u001B[?25hDownloading trio-0.26.2-py3-none-any.whl (475 kB)\r\n",
      "\u001B[2K   \u001B[90m━━━━━━━━━━━━━━━━━━━━━━━━━━━━━━━━━━━━━━━━\u001B[0m \u001B[32m476.0/476.0 kB\u001B[0m \u001B[31m64.2 MB/s\u001B[0m eta \u001B[36m0:00:00\u001B[0m\r\n",
      "\u001B[?25hDownloading trio_websocket-0.11.1-py3-none-any.whl (17 kB)\r\n",
      "Downloading PySocks-1.7.1-py3-none-any.whl (16 kB)\r\n",
      "Downloading wsproto-1.2.0-py3-none-any.whl (24 kB)\r\n",
      "Downloading outcome-1.3.0.post0-py2.py3-none-any.whl (10 kB)\r\n",
      "Downloading sortedcontainers-2.4.0-py2.py3-none-any.whl (29 kB)\r\n",
      "Installing collected packages: sortedcontainers, wsproto, pysocks, outcome, trio, trio-websocket, selenium\r\n",
      "Successfully installed outcome-1.3.0.post0 pysocks-1.7.1 selenium-4.23.1 sortedcontainers-2.4.0 trio-0.26.2 trio-websocket-0.11.1 wsproto-1.2.0\r\n",
      "\r\n",
      "\u001B[1m[\u001B[0m\u001B[34;49mnotice\u001B[0m\u001B[1;39;49m]\u001B[0m\u001B[39;49m A new release of pip is available: \u001B[0m\u001B[31;49m23.2.1\u001B[0m\u001B[39;49m -> \u001B[0m\u001B[32;49m24.2\u001B[0m\r\n",
      "\u001B[1m[\u001B[0m\u001B[34;49mnotice\u001B[0m\u001B[1;39;49m]\u001B[0m\u001B[39;49m To update, run: \u001B[0m\u001B[32;49mpip install --upgrade pip\u001B[0m\r\n"
     ]
    }
   ],
   "execution_count": 29
  },
  {
   "metadata": {
    "ExecuteTime": {
     "end_time": "2024-08-27T09:30:24.890597Z",
     "start_time": "2024-08-27T09:30:24.884193Z"
    }
   },
   "cell_type": "code",
   "source": [
    "from selenium import webdriver\n",
    "from selenium.webdriver.common.by import By\n",
    "from selenium.common.exceptions import NoSuchElementException, TimeoutException\n",
    "from selenium.webdriver.support.wait import WebDriverWait\n",
    "from selenium.webdriver.support import expected_conditions as EC\n",
    "import time"
   ],
   "id": "c0625ab03a2b7ad8",
   "outputs": [],
   "execution_count": 115
  },
  {
   "metadata": {
    "ExecuteTime": {
     "end_time": "2024-08-27T08:25:52.116842Z",
     "start_time": "2024-08-27T08:25:50.929945Z"
    }
   },
   "cell_type": "code",
   "source": "driver = webdriver.Firefox()",
   "id": "11e663674a68031f",
   "outputs": [],
   "execution_count": 48
  },
  {
   "metadata": {
    "ExecuteTime": {
     "end_time": "2024-08-26T20:56:09.733454Z",
     "start_time": "2024-08-26T20:56:08.927346Z"
    }
   },
   "cell_type": "code",
   "source": "driver.get(\"http://www.python.org\")",
   "id": "3de896b25c1f8c80",
   "outputs": [],
   "execution_count": 32
  },
  {
   "metadata": {
    "ExecuteTime": {
     "end_time": "2024-08-26T20:56:16.978928Z",
     "start_time": "2024-08-26T20:56:16.975125Z"
    }
   },
   "cell_type": "code",
   "source": "assert \"Python\" in driver.title",
   "id": "7f6f23cb1ea05579",
   "outputs": [],
   "execution_count": 33
  },
  {
   "metadata": {
    "ExecuteTime": {
     "end_time": "2024-08-27T08:11:59.632409Z",
     "start_time": "2024-08-27T08:11:59.607698Z"
    }
   },
   "cell_type": "code",
   "source": "url = \"https://www.raadvanstate.nl/uitspraken/?zoeken=true&zoeken_term=&pager_rows=100&kalenderjaar=2024&actualiteit=&Zoe_Selected_facet%3AType%20uitspraak=111&Zoe_Selected_facet%3AProceduresoort=78&Zoe_Selected_facet%3AProceduresoort=75&Zoe_Selected_facet%3AProceduresoort=47&Zoe_Selected_facet%3AProceduresoort=142&Zoe_Selected_facet%3AProceduresoort=141&Zoe_Selected_facet%3AProceduresoort=51&Zoe_Selected_facet%3ARechtsgebied=73&Zoe_Selected_facet%3ARechtsgebied=82&Zoe_Selected_facet%3ARechtsgebied=102&Zoe_Selected_facet%3ARechtsgebied=85&Zoe_Selected_facet%3ARechtsgebied=101&Zoe_Selected_facet%3ARechtsgebied=57&Zoe_Selected_facet%3ARechtsgebied=58&Zoe_Selected_facet%3ARechtsgebied=59&Zoe_Selected_facet%3ARechtsgebied=60&Zoe_Selected_facet%3ARechtsgebied=61&Zoe_Selected_facet%3ARechtsgebied=38&Zoe_Selected_facet%3ARechtsgebied=63&Zoe_Selected_facet%3ARechtsgebied=56&Zoe_Selected_facet%3ARechtsgebied=65&Zoe_Selected_facet%3ARechtsgebied=66&Zoe_Selected_facet%3ARechtsgebied=67&Zoe_Selected_facet%3ARechtsgebied=68&Zoe_Selected_facet%3ARechtsgebied=69&Zoe_Selected_facet%3ARechtsgebied=70&Zoe_Selected_facet%3ARechtsgebied=104&Zoe_Selected_facet%3ARechtsgebied=121\"",
   "id": "8958de838c8956aa",
   "outputs": [],
   "execution_count": 34
  },
  {
   "metadata": {
    "ExecuteTime": {
     "end_time": "2024-08-27T08:38:57.570626Z",
     "start_time": "2024-08-27T08:38:57.212155Z"
    }
   },
   "cell_type": "code",
   "source": "driver.get(url)",
   "id": "e03f75a43e7aa601",
   "outputs": [],
   "execution_count": 61
  },
  {
   "metadata": {
    "ExecuteTime": {
     "end_time": "2024-08-27T08:12:59.828112Z",
     "start_time": "2024-08-27T08:12:59.754687Z"
    }
   },
   "cell_type": "code",
   "source": "soup = BeautifulSoup(driver.page_source, \"html.parser\")",
   "id": "974087a4b7e09ad",
   "outputs": [],
   "execution_count": 36
  },
  {
   "metadata": {
    "ExecuteTime": {
     "end_time": "2024-08-27T08:13:03.077552Z",
     "start_time": "2024-08-27T08:13:03.068799Z"
    }
   },
   "cell_type": "code",
   "source": "entries = soup.select(\"div.rol-entry\")",
   "id": "b8f25b756109ba45",
   "outputs": [],
   "execution_count": 37
  },
  {
   "metadata": {
    "ExecuteTime": {
     "end_time": "2024-08-27T08:13:06.412345Z",
     "start_time": "2024-08-27T08:13:06.408234Z"
    }
   },
   "cell_type": "code",
   "source": "len(entries)",
   "id": "bf7fa210d12c0e7f",
   "outputs": [
    {
     "data": {
      "text/plain": [
       "100"
      ]
     },
     "execution_count": 38,
     "metadata": {},
     "output_type": "execute_result"
    }
   ],
   "execution_count": 38
  },
  {
   "metadata": {
    "ExecuteTime": {
     "end_time": "2024-08-27T08:18:15.433606Z",
     "start_time": "2024-08-27T08:18:15.430502Z"
    }
   },
   "cell_type": "code",
   "source": "element = entries[0]",
   "id": "b9292c855f1abe",
   "outputs": [],
   "execution_count": 39
  },
  {
   "metadata": {
    "ExecuteTime": {
     "end_time": "2024-08-27T08:18:22.474656Z",
     "start_time": "2024-08-27T08:18:22.449305Z"
    }
   },
   "cell_type": "code",
   "source": "link = element.select_one(\"div.grid-title a.siteLink\")[\"href\"]",
   "id": "f85c5af29c1495d9",
   "outputs": [
    {
     "ename": "TypeError",
     "evalue": "'NoneType' object is not subscriptable",
     "output_type": "error",
     "traceback": [
      "\u001B[0;31m---------------------------------------------------------------------------\u001B[0m",
      "\u001B[0;31mTypeError\u001B[0m                                 Traceback (most recent call last)",
      "Cell \u001B[0;32mIn[40], line 1\u001B[0m\n\u001B[0;32m----> 1\u001B[0m link \u001B[38;5;241m=\u001B[39m \u001B[43melement\u001B[49m\u001B[38;5;241;43m.\u001B[39;49m\u001B[43mselect_one\u001B[49m\u001B[43m(\u001B[49m\u001B[38;5;124;43m\"\u001B[39;49m\u001B[38;5;124;43mdiv.grid-title a.siteLink\u001B[39;49m\u001B[38;5;124;43m\"\u001B[39;49m\u001B[43m)\u001B[49m\u001B[43m[\u001B[49m\u001B[38;5;124;43m\"\u001B[39;49m\u001B[38;5;124;43mhref\u001B[39;49m\u001B[38;5;124;43m\"\u001B[39;49m\u001B[43m]\u001B[49m\n",
      "\u001B[0;31mTypeError\u001B[0m: 'NoneType' object is not subscriptable"
     ]
    }
   ],
   "execution_count": 40
  },
  {
   "metadata": {
    "ExecuteTime": {
     "end_time": "2024-08-27T08:21:21.316501Z",
     "start_time": "2024-08-27T08:21:21.312773Z"
    }
   },
   "cell_type": "code",
   "source": "title = element.select_one(\"div.grid-title\")",
   "id": "dc174aa1f82edbca",
   "outputs": [],
   "execution_count": 41
  },
  {
   "metadata": {
    "ExecuteTime": {
     "end_time": "2024-08-27T08:23:36.468219Z",
     "start_time": "2024-08-27T08:23:36.384370Z"
    }
   },
   "cell_type": "code",
   "source": "page = driver.page_source",
   "id": "699d6c519da9b5ae",
   "outputs": [
    {
     "ename": "WebDriverException",
     "evalue": "Message: Failed to write request to stream\n",
     "output_type": "error",
     "traceback": [
      "\u001B[0;31m---------------------------------------------------------------------------\u001B[0m",
      "\u001B[0;31mWebDriverException\u001B[0m                        Traceback (most recent call last)",
      "Cell \u001B[0;32mIn[42], line 1\u001B[0m\n\u001B[0;32m----> 1\u001B[0m page \u001B[38;5;241m=\u001B[39m \u001B[43mdriver\u001B[49m\u001B[38;5;241;43m.\u001B[39;49m\u001B[43mpage_source\u001B[49m\n",
      "File \u001B[0;32m~/Documents/git/rvs/.venv/lib/python3.12/site-packages/selenium/webdriver/remote/webdriver.py:455\u001B[0m, in \u001B[0;36mWebDriver.page_source\u001B[0;34m(self)\u001B[0m\n\u001B[1;32m    446\u001B[0m \u001B[38;5;129m@property\u001B[39m\n\u001B[1;32m    447\u001B[0m \u001B[38;5;28;01mdef\u001B[39;00m \u001B[38;5;21mpage_source\u001B[39m(\u001B[38;5;28mself\u001B[39m) \u001B[38;5;241m-\u001B[39m\u001B[38;5;241m>\u001B[39m \u001B[38;5;28mstr\u001B[39m:\n\u001B[1;32m    448\u001B[0m \u001B[38;5;250m    \u001B[39m\u001B[38;5;124;03m\"\"\"Gets the source of the current page.\u001B[39;00m\n\u001B[1;32m    449\u001B[0m \n\u001B[1;32m    450\u001B[0m \u001B[38;5;124;03m    :Usage:\u001B[39;00m\n\u001B[0;32m   (...)\u001B[0m\n\u001B[1;32m    453\u001B[0m \u001B[38;5;124;03m            driver.page_source\u001B[39;00m\n\u001B[1;32m    454\u001B[0m \u001B[38;5;124;03m    \"\"\"\u001B[39;00m\n\u001B[0;32m--> 455\u001B[0m     \u001B[38;5;28;01mreturn\u001B[39;00m \u001B[38;5;28;43mself\u001B[39;49m\u001B[38;5;241;43m.\u001B[39;49m\u001B[43mexecute\u001B[49m\u001B[43m(\u001B[49m\u001B[43mCommand\u001B[49m\u001B[38;5;241;43m.\u001B[39;49m\u001B[43mGET_PAGE_SOURCE\u001B[49m\u001B[43m)\u001B[49m[\u001B[38;5;124m\"\u001B[39m\u001B[38;5;124mvalue\u001B[39m\u001B[38;5;124m\"\u001B[39m]\n",
      "File \u001B[0;32m~/Documents/git/rvs/.venv/lib/python3.12/site-packages/selenium/webdriver/remote/webdriver.py:354\u001B[0m, in \u001B[0;36mWebDriver.execute\u001B[0;34m(self, driver_command, params)\u001B[0m\n\u001B[1;32m    352\u001B[0m response \u001B[38;5;241m=\u001B[39m \u001B[38;5;28mself\u001B[39m\u001B[38;5;241m.\u001B[39mcommand_executor\u001B[38;5;241m.\u001B[39mexecute(driver_command, params)\n\u001B[1;32m    353\u001B[0m \u001B[38;5;28;01mif\u001B[39;00m response:\n\u001B[0;32m--> 354\u001B[0m     \u001B[38;5;28;43mself\u001B[39;49m\u001B[38;5;241;43m.\u001B[39;49m\u001B[43merror_handler\u001B[49m\u001B[38;5;241;43m.\u001B[39;49m\u001B[43mcheck_response\u001B[49m\u001B[43m(\u001B[49m\u001B[43mresponse\u001B[49m\u001B[43m)\u001B[49m\n\u001B[1;32m    355\u001B[0m     response[\u001B[38;5;124m\"\u001B[39m\u001B[38;5;124mvalue\u001B[39m\u001B[38;5;124m\"\u001B[39m] \u001B[38;5;241m=\u001B[39m \u001B[38;5;28mself\u001B[39m\u001B[38;5;241m.\u001B[39m_unwrap_value(response\u001B[38;5;241m.\u001B[39mget(\u001B[38;5;124m\"\u001B[39m\u001B[38;5;124mvalue\u001B[39m\u001B[38;5;124m\"\u001B[39m, \u001B[38;5;28;01mNone\u001B[39;00m))\n\u001B[1;32m    356\u001B[0m     \u001B[38;5;28;01mreturn\u001B[39;00m response\n",
      "File \u001B[0;32m~/Documents/git/rvs/.venv/lib/python3.12/site-packages/selenium/webdriver/remote/errorhandler.py:229\u001B[0m, in \u001B[0;36mErrorHandler.check_response\u001B[0;34m(self, response)\u001B[0m\n\u001B[1;32m    227\u001B[0m         alert_text \u001B[38;5;241m=\u001B[39m value[\u001B[38;5;124m\"\u001B[39m\u001B[38;5;124malert\u001B[39m\u001B[38;5;124m\"\u001B[39m]\u001B[38;5;241m.\u001B[39mget(\u001B[38;5;124m\"\u001B[39m\u001B[38;5;124mtext\u001B[39m\u001B[38;5;124m\"\u001B[39m)\n\u001B[1;32m    228\u001B[0m     \u001B[38;5;28;01mraise\u001B[39;00m exception_class(message, screen, stacktrace, alert_text)  \u001B[38;5;66;03m# type: ignore[call-arg]  # mypy is not smart enough here\u001B[39;00m\n\u001B[0;32m--> 229\u001B[0m \u001B[38;5;28;01mraise\u001B[39;00m exception_class(message, screen, stacktrace)\n",
      "\u001B[0;31mWebDriverException\u001B[0m: Message: Failed to write request to stream\n"
     ]
    }
   ],
   "execution_count": 42
  },
  {
   "metadata": {
    "ExecuteTime": {
     "end_time": "2024-08-27T08:39:05.630112Z",
     "start_time": "2024-08-27T08:39:05.622934Z"
    }
   },
   "cell_type": "code",
   "source": "entries = driver.find_elements(By.CSS_SELECTOR, \"div.rol-entry\")",
   "id": "645957bc50f55a60",
   "outputs": [],
   "execution_count": 62
  },
  {
   "metadata": {
    "ExecuteTime": {
     "end_time": "2024-08-27T08:33:22.583126Z",
     "start_time": "2024-08-27T08:33:12.172899Z"
    }
   },
   "cell_type": "code",
   "source": [
    "for entry in entries:\n",
    "    entry.click()\n",
    "    time.sleep(10)\n",
    "    driver.back()\n",
    "    print(driver.title)"
   ],
   "id": "99183e78822a38b",
   "outputs": [
    {
     "name": "stdout",
     "output_type": "stream",
     "text": [
      "Uitspraken - Raad van State\n"
     ]
    },
    {
     "ename": "StaleElementReferenceException",
     "evalue": "Message: The element with the reference 87ae0bf6-4516-4d08-ad96-972a3a957530 is stale; either its node document is not the active document, or it is no longer connected to the DOM; For documentation on this error, please visit: https://www.selenium.dev/documentation/webdriver/troubleshooting/errors#stale-element-reference-exception\nStacktrace:\nRemoteError@chrome://remote/content/shared/RemoteError.sys.mjs:8:8\nWebDriverError@chrome://remote/content/shared/webdriver/Errors.sys.mjs:193:5\nStaleElementReferenceError@chrome://remote/content/shared/webdriver/Errors.sys.mjs:725:5\ngetKnownElement@chrome://remote/content/marionette/json.sys.mjs:401:11\ndeserializeJSON@chrome://remote/content/marionette/json.sys.mjs:259:20\ncloneObject@chrome://remote/content/marionette/json.sys.mjs:59:24\ndeserializeJSON@chrome://remote/content/marionette/json.sys.mjs:289:16\njson.deserialize@chrome://remote/content/marionette/json.sys.mjs:293:10\nreceiveMessage@chrome://remote/content/marionette/actors/MarionetteCommandsChild.sys.mjs:73:30\n",
     "output_type": "error",
     "traceback": [
      "\u001B[0;31m---------------------------------------------------------------------------\u001B[0m",
      "\u001B[0;31mStaleElementReferenceException\u001B[0m            Traceback (most recent call last)",
      "Cell \u001B[0;32mIn[60], line 2\u001B[0m\n\u001B[1;32m      1\u001B[0m \u001B[38;5;28;01mfor\u001B[39;00m entry \u001B[38;5;129;01min\u001B[39;00m entries:\n\u001B[0;32m----> 2\u001B[0m     \u001B[43mentry\u001B[49m\u001B[38;5;241;43m.\u001B[39;49m\u001B[43mclick\u001B[49m\u001B[43m(\u001B[49m\u001B[43m)\u001B[49m\n\u001B[1;32m      3\u001B[0m     time\u001B[38;5;241m.\u001B[39msleep(\u001B[38;5;241m10\u001B[39m)\n\u001B[1;32m      4\u001B[0m     driver\u001B[38;5;241m.\u001B[39mback()\n",
      "File \u001B[0;32m~/Documents/git/rvs/.venv/lib/python3.12/site-packages/selenium/webdriver/remote/webelement.py:94\u001B[0m, in \u001B[0;36mWebElement.click\u001B[0;34m(self)\u001B[0m\n\u001B[1;32m     92\u001B[0m \u001B[38;5;28;01mdef\u001B[39;00m \u001B[38;5;21mclick\u001B[39m(\u001B[38;5;28mself\u001B[39m) \u001B[38;5;241m-\u001B[39m\u001B[38;5;241m>\u001B[39m \u001B[38;5;28;01mNone\u001B[39;00m:\n\u001B[1;32m     93\u001B[0m \u001B[38;5;250m    \u001B[39m\u001B[38;5;124;03m\"\"\"Clicks the element.\"\"\"\u001B[39;00m\n\u001B[0;32m---> 94\u001B[0m     \u001B[38;5;28;43mself\u001B[39;49m\u001B[38;5;241;43m.\u001B[39;49m\u001B[43m_execute\u001B[49m\u001B[43m(\u001B[49m\u001B[43mCommand\u001B[49m\u001B[38;5;241;43m.\u001B[39;49m\u001B[43mCLICK_ELEMENT\u001B[49m\u001B[43m)\u001B[49m\n",
      "File \u001B[0;32m~/Documents/git/rvs/.venv/lib/python3.12/site-packages/selenium/webdriver/remote/webelement.py:395\u001B[0m, in \u001B[0;36mWebElement._execute\u001B[0;34m(self, command, params)\u001B[0m\n\u001B[1;32m    393\u001B[0m     params \u001B[38;5;241m=\u001B[39m {}\n\u001B[1;32m    394\u001B[0m params[\u001B[38;5;124m\"\u001B[39m\u001B[38;5;124mid\u001B[39m\u001B[38;5;124m\"\u001B[39m] \u001B[38;5;241m=\u001B[39m \u001B[38;5;28mself\u001B[39m\u001B[38;5;241m.\u001B[39m_id\n\u001B[0;32m--> 395\u001B[0m \u001B[38;5;28;01mreturn\u001B[39;00m \u001B[38;5;28;43mself\u001B[39;49m\u001B[38;5;241;43m.\u001B[39;49m\u001B[43m_parent\u001B[49m\u001B[38;5;241;43m.\u001B[39;49m\u001B[43mexecute\u001B[49m\u001B[43m(\u001B[49m\u001B[43mcommand\u001B[49m\u001B[43m,\u001B[49m\u001B[43m \u001B[49m\u001B[43mparams\u001B[49m\u001B[43m)\u001B[49m\n",
      "File \u001B[0;32m~/Documents/git/rvs/.venv/lib/python3.12/site-packages/selenium/webdriver/remote/webdriver.py:354\u001B[0m, in \u001B[0;36mWebDriver.execute\u001B[0;34m(self, driver_command, params)\u001B[0m\n\u001B[1;32m    352\u001B[0m response \u001B[38;5;241m=\u001B[39m \u001B[38;5;28mself\u001B[39m\u001B[38;5;241m.\u001B[39mcommand_executor\u001B[38;5;241m.\u001B[39mexecute(driver_command, params)\n\u001B[1;32m    353\u001B[0m \u001B[38;5;28;01mif\u001B[39;00m response:\n\u001B[0;32m--> 354\u001B[0m     \u001B[38;5;28;43mself\u001B[39;49m\u001B[38;5;241;43m.\u001B[39;49m\u001B[43merror_handler\u001B[49m\u001B[38;5;241;43m.\u001B[39;49m\u001B[43mcheck_response\u001B[49m\u001B[43m(\u001B[49m\u001B[43mresponse\u001B[49m\u001B[43m)\u001B[49m\n\u001B[1;32m    355\u001B[0m     response[\u001B[38;5;124m\"\u001B[39m\u001B[38;5;124mvalue\u001B[39m\u001B[38;5;124m\"\u001B[39m] \u001B[38;5;241m=\u001B[39m \u001B[38;5;28mself\u001B[39m\u001B[38;5;241m.\u001B[39m_unwrap_value(response\u001B[38;5;241m.\u001B[39mget(\u001B[38;5;124m\"\u001B[39m\u001B[38;5;124mvalue\u001B[39m\u001B[38;5;124m\"\u001B[39m, \u001B[38;5;28;01mNone\u001B[39;00m))\n\u001B[1;32m    356\u001B[0m     \u001B[38;5;28;01mreturn\u001B[39;00m response\n",
      "File \u001B[0;32m~/Documents/git/rvs/.venv/lib/python3.12/site-packages/selenium/webdriver/remote/errorhandler.py:229\u001B[0m, in \u001B[0;36mErrorHandler.check_response\u001B[0;34m(self, response)\u001B[0m\n\u001B[1;32m    227\u001B[0m         alert_text \u001B[38;5;241m=\u001B[39m value[\u001B[38;5;124m\"\u001B[39m\u001B[38;5;124malert\u001B[39m\u001B[38;5;124m\"\u001B[39m]\u001B[38;5;241m.\u001B[39mget(\u001B[38;5;124m\"\u001B[39m\u001B[38;5;124mtext\u001B[39m\u001B[38;5;124m\"\u001B[39m)\n\u001B[1;32m    228\u001B[0m     \u001B[38;5;28;01mraise\u001B[39;00m exception_class(message, screen, stacktrace, alert_text)  \u001B[38;5;66;03m# type: ignore[call-arg]  # mypy is not smart enough here\u001B[39;00m\n\u001B[0;32m--> 229\u001B[0m \u001B[38;5;28;01mraise\u001B[39;00m exception_class(message, screen, stacktrace)\n",
      "\u001B[0;31mStaleElementReferenceException\u001B[0m: Message: The element with the reference 87ae0bf6-4516-4d08-ad96-972a3a957530 is stale; either its node document is not the active document, or it is no longer connected to the DOM; For documentation on this error, please visit: https://www.selenium.dev/documentation/webdriver/troubleshooting/errors#stale-element-reference-exception\nStacktrace:\nRemoteError@chrome://remote/content/shared/RemoteError.sys.mjs:8:8\nWebDriverError@chrome://remote/content/shared/webdriver/Errors.sys.mjs:193:5\nStaleElementReferenceError@chrome://remote/content/shared/webdriver/Errors.sys.mjs:725:5\ngetKnownElement@chrome://remote/content/marionette/json.sys.mjs:401:11\ndeserializeJSON@chrome://remote/content/marionette/json.sys.mjs:259:20\ncloneObject@chrome://remote/content/marionette/json.sys.mjs:59:24\ndeserializeJSON@chrome://remote/content/marionette/json.sys.mjs:289:16\njson.deserialize@chrome://remote/content/marionette/json.sys.mjs:293:10\nreceiveMessage@chrome://remote/content/marionette/actors/MarionetteCommandsChild.sys.mjs:73:30\n"
     ]
    }
   ],
   "execution_count": 60
  },
  {
   "metadata": {
    "ExecuteTime": {
     "end_time": "2024-08-27T08:39:20.045386Z",
     "start_time": "2024-08-27T08:39:19.855586Z"
    }
   },
   "cell_type": "code",
   "source": "entries[0].click()",
   "id": "47b2070db26349d8",
   "outputs": [],
   "execution_count": 63
  },
  {
   "metadata": {
    "ExecuteTime": {
     "end_time": "2024-08-27T08:39:28.246391Z",
     "start_time": "2024-08-27T08:39:28.241937Z"
    }
   },
   "cell_type": "code",
   "source": "print(driver.current_url)",
   "id": "d8090af38b4436cb",
   "outputs": [
    {
     "name": "stdout",
     "output_type": "stream",
     "text": [
      "https://www.raadvanstate.nl/uitspraken/@145395/202100258-1-r4/#toonpersaankondiging\n"
     ]
    }
   ],
   "execution_count": 64
  },
  {
   "metadata": {
    "ExecuteTime": {
     "end_time": "2024-08-27T08:40:24.084442Z",
     "start_time": "2024-08-27T08:40:23.678330Z"
    }
   },
   "cell_type": "code",
   "source": "driver.back()",
   "id": "6c6efffc89b0d64d",
   "outputs": [],
   "execution_count": 65
  },
  {
   "metadata": {
    "ExecuteTime": {
     "end_time": "2024-08-27T08:42:53.212129Z",
     "start_time": "2024-08-27T08:42:52.911467Z"
    }
   },
   "cell_type": "code",
   "source": "driver.get(url)",
   "id": "ab6147248049d46c",
   "outputs": [],
   "execution_count": 67
  },
  {
   "metadata": {
    "ExecuteTime": {
     "end_time": "2024-08-27T08:43:56.400095Z",
     "start_time": "2024-08-27T08:43:56.390040Z"
    }
   },
   "cell_type": "code",
   "source": "entry = driver.find_element(By.CSS_SELECTOR, \"div.rol-entry\")",
   "id": "fc70fa3ac4695ec6",
   "outputs": [],
   "execution_count": 68
  },
  {
   "metadata": {
    "ExecuteTime": {
     "end_time": "2024-08-27T08:44:05.146043Z",
     "start_time": "2024-08-27T08:44:04.975745Z"
    }
   },
   "cell_type": "code",
   "source": "entry.click()",
   "id": "127be096530ffd70",
   "outputs": [],
   "execution_count": 69
  },
  {
   "metadata": {
    "ExecuteTime": {
     "end_time": "2024-08-27T08:44:59.350307Z",
     "start_time": "2024-08-27T08:44:59.344155Z"
    }
   },
   "cell_type": "code",
   "source": "title = driver.find_element(By.CSS_SELECTOR, \"h1.grid-title\").text",
   "id": "e996206990e467b3",
   "outputs": [],
   "execution_count": 72
  },
  {
   "metadata": {
    "ExecuteTime": {
     "end_time": "2024-08-27T08:45:02.433300Z",
     "start_time": "2024-08-27T08:45:02.431689Z"
    }
   },
   "cell_type": "code",
   "source": "print(title)",
   "id": "ccc5ab338885a302",
   "outputs": [
    {
     "name": "stdout",
     "output_type": "stream",
     "text": [
      "Uitspraak 202100258/1/R4\n"
     ]
    }
   ],
   "execution_count": 73
  },
  {
   "metadata": {
    "ExecuteTime": {
     "end_time": "2024-08-27T09:06:57.613686Z",
     "start_time": "2024-08-27T09:06:57.609180Z"
    }
   },
   "cell_type": "code",
   "source": "parent = driver.find_element(By.XPATH, \"//dt[contains(text(), 'Datum uitspraak')]\").parent\n",
   "id": "2b2bcff6fb951b2f",
   "outputs": [],
   "execution_count": 92
  },
  {
   "metadata": {
    "ExecuteTime": {
     "end_time": "2024-08-27T09:07:25.433377Z",
     "start_time": "2024-08-27T09:07:25.422954Z"
    }
   },
   "cell_type": "code",
   "source": "datum = parent.find_elements(By.CSS_SELECTOR, \"dd\")[0].text",
   "id": "bb00735e313dc963",
   "outputs": [],
   "execution_count": 94
  },
  {
   "metadata": {
    "ExecuteTime": {
     "end_time": "2024-08-27T09:07:34.732001Z",
     "start_time": "2024-08-27T09:07:34.722488Z"
    }
   },
   "cell_type": "code",
   "source": "summary = parent.find_elements(By.CSS_SELECTOR, \"dd\")[1].text",
   "id": "a679ec000f8aa2f5",
   "outputs": [],
   "execution_count": 95
  },
  {
   "metadata": {
    "ExecuteTime": {
     "end_time": "2024-08-27T09:07:35.525956Z",
     "start_time": "2024-08-27T09:07:35.523126Z"
    }
   },
   "cell_type": "code",
   "source": "summary",
   "id": "9c2cfdd655a0f140",
   "outputs": [
    {
     "data": {
      "text/plain": [
       "'Bij besluit van 28 augustus 2018 heeft het college van gedeputeerde staten van Noord-Brabant aan [appellante sub 2] een tijdelijke omgevingsvergunning verleend voor de activiteiten bouwen, afwijken van het bestemmingsplan en het milieuneutraal veranderen van de grondstoffenopslag behorend bij de inrichting op het perceel [locatie 1] in Maashees. De omgevingsvergunning is verleend voor de duur van vijf jaar. [appellante sub 2] exploiteert op het perceel een graanhandel die zich bezig houdt met de op- en overslag van grondstoffen voor veevoeders. [appellante sub 2] beschikt over een kade aan de Maas waar schepen van leveranciers en afnemers kunnen worden aangemeerd. Het terrein van de inrichting ligt binnen een planologisch aangewezen geluidzone. De zone omvat geen andere bedrijven. Buiten de zone mag de geluidbelasting van het bedrijf niet meer bedragen dan 50 dB(A). Het besluit van 28 augustus 2018 gaat over het verplaatsen van de van het bedrijf deel uitmakende grondstoffenopslag. [appellant sub 3] en anderen zijn woonachtig in de directe nabijheid van het perceel aan onderscheidenlijk de Monseigneur Geurtsstraat en de Raaijveldweg. Zij vrezen geluidsoverlast.'"
      ]
     },
     "execution_count": 96,
     "metadata": {},
     "output_type": "execute_result"
    }
   ],
   "execution_count": 96
  },
  {
   "metadata": {
    "ExecuteTime": {
     "end_time": "2024-08-27T09:07:38.086332Z",
     "start_time": "2024-08-27T09:07:38.084297Z"
    }
   },
   "cell_type": "code",
   "source": "datum",
   "id": "bc18d66ef6a3be75",
   "outputs": [
    {
     "data": {
      "text/plain": [
       "'28 augustus 2024'"
      ]
     },
     "execution_count": 97,
     "metadata": {},
     "output_type": "execute_result"
    }
   ],
   "execution_count": 97
  },
  {
   "metadata": {
    "ExecuteTime": {
     "end_time": "2024-08-27T09:09:10.001564Z",
     "start_time": "2024-08-27T09:09:09.944936Z"
    }
   },
   "cell_type": "code",
   "source": "full_text = driver.find_element(By.CSS_SELECTOR, \"div#volledigetekst\").text",
   "id": "83990beb34325b6",
   "outputs": [],
   "execution_count": 98
  },
  {
   "metadata": {
    "ExecuteTime": {
     "end_time": "2024-08-27T09:09:12.639659Z",
     "start_time": "2024-08-27T09:09:12.636791Z"
    }
   },
   "cell_type": "code",
   "source": "full_text",
   "id": "57e63f8e120a0bd5",
   "outputs": [
    {
     "data": {
      "text/plain": [
       "'Volledige tekst\\n202107665/1/R3.\\nDatum uitspraak: 21 augustus 2024\\nAFDELING\\nBESTUURSRECHTSPRAAK\\nUitspraak in het geding tussen:\\n1.       [appellant sub 1A] en [appellant sub 1B], beiden wonend te Hoek van Holland, gemeente Rotterdam,\\n2.       [appellant sub 2A] en [appellant sub 2B], beiden wonend te [woonplaats],\\n3.       [appellant sub 3], wonend te Hoek van Holland, gemeente Rotterdam,\\n4.       Ultimate Reduction Level Rotterdam B.V., gevestigd te Rotterdam,\\n5.       [appellante sub 5] en anderen, gevestigd respectievelijk wonend te Hoek van Holland, gemeente Rotterdam (hierna tezamen en in enkelvoud: [appellante sub 5]),\\nappellanten,\\nen\\nde raad van de gemeente Rotterdam,\\nverweerder.\\nProcesverloop\\nBij besluit van 30 september 2021 heeft de raad het bestemmingsplan \"Oranjebonnen\" vastgesteld.\\nTegen dit besluit hebben [appellanten sub 1], [appellanten sub 2], [appellant sub 3], Ultimate Reduction Level Rotterdam B.V. en [appellante sub 5] beroep ingesteld.\\nDe raad heeft een verweerschrift ingediend.\\nNBN Ontwikkeling B.V. en [appellant sub 3] hebben nadere stukken ingediend.\\nZuid-Hollands Landschap, NBN Ontwikkeling B.V. en de erven van [partij] hebben een schriftelijke uiteenzetting gegeven.\\n[appellant sub 3], [appellanten sub 1], Ultimate Reduction Level Rotterdam B.V., [appellanten sub 2], NBN Ontwikkeling B.V. en de raad hebben nadere stukken ingediend.\\nDe Afdeling heeft de zaak ter zitting behandeld op 23 mei 2024, waar zijn verschenen:\\n- [appellant sub 1B];\\n- [appellanten sub 2], bijgestaan door mr. P.J.L.J. Duijsens, advocaat te Den Haag,\\n- [appellant sub 3],\\n- [appellante sub 5], vertegenwoordigd door mr. P.J.L.J. Duijsens, advocaat te Den Haag, \\n- de raad, vertegenwoordigd door mr. A. van der Vlist, mr. A. Dellaert, J. Sturm en I. Lauwers en bijgestaan door B.J.H. Koolstra Msc.\\nVoorts zijn ter zitting als partij gehoord:\\n- NBN Ontwikkeling B.V., vertegenwoordigd door mr. M.J.J. de Winter, advocaat te Tholen, [gemachtigde A], [gemachtigde B] en [gemachtigde C],\\n- Zuid-Hollands Landschap, vertegenwoordigd door [gemachtigde D] en [gemachtigde E],\\n- Vereniging tot behoud van Natuurmonumenten in Nederland, vertegenwoordigd door [gemachtigde F].\\nOverwegingen\\n1.       Op 1 januari 2024 zijn de Omgevingswet en de Invoeringswet Omgevingswet in werking getreden. Op grond van artikel 4.6, derde lid, van de Invoeringswet Omgevingswet blijft op een beroep tegen een besluit tot vaststelling van een bestemmingsplan waarvan het ontwerp vóór het tijdstip van inwerkingtreding van de Omgevingswet ter inzage is gelegd het recht zoals dat gold onmiddellijk vóór dat tijdstip van toepassing tot het bestemmingsplan onherroepelijk is.\\nHet ontwerpplan is op 4 september 2020 ter inzage gelegd. Dat betekent dat op deze beroepsprocedure het recht, waaronder de Wet ruimtelijke ordening (hierna: de Wro), zoals dat gold vóór 1 januari 2024 van toepassing blijft.\\nINLEIDING\\n2.       Oranjebonnen is de aanduiding voor de Oranjebuitenpolder en de Bonnenpolder tussen Hoek van Holland en Maassluis. Het plan voorziet in de mogelijkheid om in dit agrarische gebied ruimte te bieden voor natuurontwikkeling en recreatieve voorzieningen, waarbij ook wordt ingezet op het versterken van de beleving van het gebied door behoud en ontwikkeling van landschappelijke en cultuurhistorische waarden. Het gaat om 128 ha nieuwe natuur waarvan 30 ha is bestemd voor de functie natuurbegraven. Het bestemmingsplan maakt op drie verschillende locaties tussen het Staelduinse bos en de Bonnenweg natuurbegraven mogelijk. In het noorden van het westelijke deel van het plangebied zijn aan twee stukken grond de functieaanduiding \"specifieke vorm van natuur - natuurbegraven in het duinbos\" toegekend. Op grond van artikel 10.1, aanhef en lid d, van de planregels wordt op deze gronden een natuurbegraafplaats ten behoeve van het begraven van lichamen en urnen mogelijk gemaakt. In het midden van het westelijke deel van het plangebied is aan een stuk grond de functieaanduiding \"specifieke vorm van natuur - natuurbegraven in de polder\" toegekend. Op grond van artikel 10.1, aanhef en lid e, van de planregels wordt op deze grond een natuurbegraafplaats ten behoeve van het begraven van urnen mogelijk gemaakt. Daarnaast maakt het plan onder meer een zonnepark van ongeveer 25 ha mogelijk langs het Oranjekanaal in de zuidwesthoek van de Oranjebuitenpolder.\\n2.1.    [appellanten sub 2] zijn eigenaren van gronden aan de [locatie 1], waarop door een ander bedrijf een glastuinbouwbedrijf wordt geëxploiteerd. Het glastuinbouwbedrijf is op ongeveer 400 m van de dichtstbijzijnde voorziene natuurbegraafplaats gesitueerd. [appellante sub 5] is eigenaar van gronden aan de [locatie 2] te Hoek van Holland, waarop zij een tuinbouwbedrijf exploiteert, op ongeveer 550 m van het dichtstbijzijnde voorziene natuurbegraafplaats. Zowel [appellanten sub 2] als [appellante sub 5] zijn het er niet mee eens dat binnen het plangebied natuurbegraven mogelijk wordt gemaakt. Zij vrezen dat het natuurbegraven een negatieve invloed zal hebben op de mogelijkheden voor hun bedrijfsvoering.\\n[appellanten sub 1] hebben namens de actiegroep Zorgen om de Bonnen beroep ingesteld. Onder 5 en 6 van deze uitspraak zal de Afdeling nader op de ontvankelijkheid van deze actiegroep ingaan.\\n[appellant sub 3] woont aan de [locatie 3] te Hoek van Holland. Hij pachtte vroeger een boerderij op de gronden van het plangebied.\\nUltimate Reduction Level Rotterdam B.V. is een projectontwikkelaar die gespecialiseerd is in het realiseren van zonneparken. Ultimate Reduction Level Rotterdam B.V. wil graag op de gronden van het Spuidijkje nabij Polderhaakweg 29 in de Oranjebuitenpolder een zonnepark realiseren. Zij heeft op 29 juli 2021 een omgevingsvergunning voor de aanleg van het zonnepark aangevraagd. Het college van burgemeester en wethouders van de gemeente Rotterdam heeft deze omgevingsvergunning geweigerd.\\n3.       NBN Ontwikkeling B.V., het Zuid-Hollands Landschap en Vereniging tot behoud van Natuurmonumenten in Nederland zijn de initiatiefnemers voor de voorziene natuurbegraafplaats. De erven van [partij] hebben aan NBN Ontwikkeling B.V. gronden verkocht in de Bonnenpolder. Op de zitting is gebleken dat enkele van deze gronden beschikbaar worden voor natuurbegraven.\\nOPZET VAN DE UITSPRAAK\\n4.       In het onderstaande zal de Afdeling de beroepsgronden gericht tegen het vastgestelde bestemmingsplan bespreken. Omdat de beroepsgronden van [appellanten sub 1], [appellanten sub 2], [appellant sub 3] en [appellante sub 5] elkaar op sommige punten overlappen, worden in deze uitspraak de beroepsgronden per onderwerp behandeld en niet per partij. Het beroep van Ultimate Reduction Level Rotterdam B.V. kent geen overlap en zal dan ook zelfstandig besproken worden. In de uitspraak komen de volgende onderwerpen aan de orde:\\n- participatie (overweging 8);\\n- omgevingsverordening Zuid-Holland (overweging 9);\\n- strijd met gemeentelijk beleid (overweging 10);\\n- uitstoot Natura 2000-gebied (overweging 11);\\n- bedrijfsvoering wordt verstoord (overwegingen 12-18);\\n- afgraven kavels Bonnenpolder (overweging 19);\\n- recreatieve functie en natuurbegraven (overweging 20);\\n- bereikbaarheid natuurbegraafplaats (overweging 21);\\n- alternatieve locatie (overweging 22);\\n- uitbreidingsmogelijkheden op het perceel van [appellanten sub 2] (overweging 23);\\n- twee woningen (overweging 24);\\n- gevolgen lange termijn (overweging 25);\\n- eerdere plannen (overweging 26);\\n- beginselen van behoorlijk bestuur (overweging 27);\\n- financiële uitvoerbaarheid (overweging 28);\\n- zonnepark (overweging 29);\\n- herhalen en inlassen zienswijzen (overweging 30).\\nAan het einde van de uitspraak staat de conclusie (overwegingen 31 en 32).\\nONTVANKELIJKHEID VERMEULEN EN RIETKERK-VERMEULEN\\n5.       [appellanten sub 1] hebben beroep ingesteld namens de actiegroep Zorgen om de Bonnen. De Afdeling stelt vast dat Zorgen om de Bonnen geen bij notariële akte opgerichte rechtspersoon is en niet over statuten beschikt. Zorgen om de Bonnen is ook niet een vereniging met beperkte rechtsbevoegdheid, ook wel informele vereniging genoemd, in de zin van artikel 2:26 van het Burgerlijk Wetboek. De Afdeling komt tot die vaststelling op grond van de overgelegde stukken en hetgeen op zitting is besproken. [appellanten sub 1] hebben desgevraagd nader toegelicht dat zij opkomen voor de bezorgde bewoners van de Bonnenpolder van Hoek van Holland en omstreken en voor de tuinders in en grenzend aan de Bonnenpolder en dat de actiegroep in het leven is geroepen om op te komen voor alle rechten en belangen van deze personen. Op de zitting heeft [appellant sub 1B] nader toegelicht dat er geen ledenbestand is en geen bestuur. Er werd voorheen wel eens een nieuwsbrief verstuurd, maar de laatste jaren wordt dit ook niet meer gedaan, aldus [appellant sub 1B]. Zorgen om de Bonnen voldoet daarmee niet aan de in de uitspraak van 12 maart 2008, ECLI:NL:RVS:2008:BC6406, genoemde cumulatieve vereisten waaraan moet zijn voldaan om te concluderen dat sprake is van een informele vereniging.\\nDe Afdeling merkt daarom het beroep van Zorgen om de Bonnen aan als een beroep van de twee natuurlijke personen [appellanten sub 1].\\n6.       De Afdeling stelt vast dat [appellanten sub 1] geen zienswijze op het ontwerpbesluit hebben ingediend, waarmee hun beroep op voorhand ontvankelijk zou zijn (zie daartoe ECLI:NL:RVS:2021:786 en ECLI:NL:RVS:2021:953). De Afdeling ziet zich daarom gesteld voor de vraag of [appellanten sub 1] belanghebbende zijn en hun beroep daarmee ontvankelijk is.\\nIn artikel 1:2, eerste lid, van de Awb, staat dat onder belanghebbende wordt verstaan: degene wiens belang rechtstreeks bij een besluit is betrokken. Wie rechtstreeks feitelijke gevolgen ondervindt van een activiteit die het besluit - zoals een bestemmingsplan of een vergunning - toestaat, is in beginsel belanghebbende bij dat besluit. Het criterium \"gevolgen van enige betekenis\" van de activiteit dient als correctie op dit uitgangspunt. Zonder gevolgen van enige betekenis heeft een betrokkene geen persoonlijk belang bij het besluit. Hij onderscheidt zich dan onvoldoende van anderen. Om te bepalen of er gevolgen van enige betekenis voor de woon-, leef- of bedrijfssituatie van een betrokkene zijn, wordt acht geslagen op de factoren afstand tot, zicht op, planologische uitstraling van en milieugevolgen (o.a. geur, geluid, licht, trilling, emissie, risico) van de activiteit die het besluit toestaat, waarbij die factoren zo nodig in onderlinge samenhang worden bezien. Ook aard, intensiteit en frequentie van de feitelijke gevolgen kunnen van belang zijn.\\nOp de zitting heeft [appellant sub 1B] desgevraagd toegelicht dat [appellant sub 1A] woont aan de [locatie 4] in Hoek van Holland en dat zij zelf woont aan de Theeboomstraat in Rotterdam. De Afdeling stelt vast dat [appellant sub 1A] woont naast het plangebied en dat [appellant sub 1B] woont op ongeveer 630 m afstand van het plangebied. De Afdeling is, gelet hierop, van oordeel dat [appellant sub 1A] belanghebbende is bij het bestreden besluit. De Afdeling is daarnaast van oordeel dat [appellant sub 1B], gelet op de afstand tot het plangebied, geen gevolgen van enige betekenis ondervindt van de voorziene ontwikkeling. Dat betekent dat [appellant sub 1B] geen belanghebbende is bij het bestreden besluit. De Afdeling zal daarom alleen de beroepsgronden die [appellant sub 1A] heeft ingediend behandelen voor zover deze beroepsgronden de individuele belangen van [appellant sub 1A] raken.\\nTOETSINGSKADER\\n7.       Bij de vaststelling van een bestemmingsplan moet de raad bestemmingen aanwijzen en regels geven die de raad uit het oogpunt van een goede ruimtelijke ordening nodig acht. De raad heeft daarbij beleidsruimte en moet de betrokken belangen afwegen. De Afdeling oordeelt niet zelf of het plan in overeenstemming is met een goede ruimtelijke ordening. De Afdeling beoordeelt aan de hand van de beroepsgronden of het besluit tot vaststelling van het bestemmingsplan in overeenstemming is met het recht. Daarbij kan aan de orde komen of de nadelige gevolgen van het plan onevenredig zijn in verhouding tot de met het plan te dienen doelen.\\nParticipatie\\n8.       [appellant sub 1A] en [appellant sub 3] stellen dat er op onjuiste, dan welonvoldoende participatie heeft plaatsgevonden bij de voorbereiding van het plan.\\n[appellant sub 1A] voert aan dat de participatie geforceerd was en de bevolking is misleid met ateliers, uitjes, reclames en sociale media.\\n[appellant sub 3] voert aan dat hij zich onvoldoende gehoord voelt. Volgens hem weigert de gemeente contact met hem. Er is door de verantwoordelijke wethouder ook niet inhoudelijk gereageerd op zijn brieven van 3 januari 2011, 17 maart 2011, 25 september 2011 en 30 mei 2014. Daarnaast werd er aan hem soms te laat of soms zelfs helemaal geen informatie gegeven over de voorziene ontwikkeling.\\n8.1.    De raad stelt in zijn verweerschrift dat er voorafgaande aan de terinzagelegging van het ontwerpbestemmingsplan verschillende inloopavonden zijn georganiseerd en dat er werkateliers zijn georganiseerd over de invulling van het plangebied.\\n8.2.    Afgezien van het feit dat niet in geschil is dat er verschillende vormen van inspraak hebben plaatsgevonden, is het bieden van inspraak voorafgaande aan de terinzagelegging van het ontwerpbestemmingsplan geen verplichting op grond van de Wro en het Besluit ruimtelijke ordening geregelde bestemmingsplanprocedure. De wijze waarop al dan niet invulling is gegeven aan inspraak in die fase heeft daarom geen gevolgen voor de rechtmatigheid van het besluit tot vaststelling van het bestemmingsplan.\\nDe betogen slagen niet.\\nOmgevingsverordening Zuid-Holland\\n9.       [appellanten sub 2] en [appellante sub 5] voeren aan dat het plan in strijd is met artikel 6.9 van de Omgevingsverordening Zuid-Holland, omdat de voorziene natuurbegraafplaats de structuur van het gebied aantast. De huidige functie van het gebied is namelijk agrarisch en die functie wordt gewijzigd in recreatie en natuurgebied met ruimte voor natuurbegraven. De voorziene natuurbegraafplaats doet afbreuk aan de bestaande cultuurhistorische en landschappelijke structuren en elementen. Er is dan ook geen sprake van \"aanpassing\" zoals bedoeld in artikel 6.9 van de Omgevingsverordening Zuid-Holland.\\n9.1.    Het op deze beroepsgrond betrekking hebbend wettelijk kader is opgenomen in de bijlage bij deze uitspraak.\\n9.2.    In paragraaf 2.2.2 van de plantoelichting staat dat het bestemmingsplan zich in hoofdzaak richt op de ontwikkeling van nieuwe natuur en recreatie binnen de Oranjebuiten- en Bonnenpolder in Hoek van Holland. Het bestemmingsplan staat diverse afzonderlijke ontwikkelingen toe die bijdragen aan de meer algemene ontwikkeling van natuur en recreatie. Zo voorziet het bestemmingsplan onder meer in de realisatie van een nieuw natuurgebied met ruimte voor natuurbegraven, het opwekken van duurzame energie, sanering van een glaslocatie en recreatiemogelijkheden. Het ligt volgens de raad dan ook voor de hand om het plan als geheel te toetsen aan het provinciaal beleid in plaats van ieder daarin opgenomen (deel)project afzonderlijk. Het bestemmingsplan als geheel laat zien dat er sprake is van ontwikkelingen die de structuur in bepaalde delen van het landschap aanpassen. Op basis daarvan, zo betoogt de raad, is er geen sprake van inpassing zoals bedoeld in het provinciaal beleid. Aan de andere kant is de ontwikkeling niet zo ingrijpend dat er na realisatie sprake is van een compleet nieuw landschap. De huidige functie van het gebied (agrarisch) blijft bestaan. Deze functie wordt aangevuld met recreatiemogelijkheden en de ontwikkeling van nieuwe natuur. Ook voorziet het plan in de versterking en het herstel van de bestaande cultuurhistorische en landschappelijke structuren en elementen. Volgens de raad is met het bestemmingsplan Oranjebonnen dan ook sprake is van aanpassing, zoals bedoeld in het provinciaal beleid.\\n9.3.    Tussen partijen is in geschil of er sprake is van \"aanpassen\" of van  \"transformeren\" als bedoeld in artikel 6.9, eerste lid, aanhef en onder b en c, van de Omgevingsverordening Zuid-Holland.\\nAnders dan wat [appellanten sub 2] en [appellante sub 5] betogen, is de Afdeling wel van oordeel dat in dit geval sprake is van aanpassen als bedoeld in artikel 6.9, eerste lid, onder b, van de Omgevingsverordening Zuid-Holland. In de toelichting bij de Omgevingsverordening Zuid-Holland staat dat van aanpassen sprake is bij een ontwikkeling die aansluit bij de huidige identiteit van een gebied, maar die op structuurniveau in wijzigingen of aanvullingen voorziet. Een voorbeeld is volgens de toelichting de aanleg of verbreding van een provinciale weg, een beperkt aantal nieuwe woningen in het buitengebied of een nieuw landgoed. Bewoners en gebruikers uit de bestaande omgeving merken duidelijk invloed van de nieuwe ontwikkeling, aldus de toelichting.\\nIn dit geval past de ontwikkeling binnen de bestaande gebiedsidentiteit. Het is niet zo dat er na de ontwikkeling een geheel nieuw landschap ontstaat. Weliswaar vindt er binnen het plangebied een verandering plaats, omdat er recreatiemogelijkheden worden gecreëerd en nieuwe natuur wordt ontwikkeld, maar de huidige agrarische functie van het gebied blijft grotendeels bestaan.\\n9.4.    Omdat er sprake is van ‘aanpassen’ als bedoeld in artikel 6.9, eerste lid, aanhef en onder b, van de Omgevingsverordening Zuid-Holland geldt dat een plan mag voorzien in een nieuwe ruimtelijke ontwikkeling, mits de ruimtelijke kwaliteit per saldo ten minste gelijk blijft door zorgvuldige inbedding van die ontwikkeling in de omgeving, rekening houdend met de relevante richtpunten van de kwaliteitskaart en dat zo nodig aanvullende maatregelen moeten worden getroffen.\\n9.5.    Op de zitting hebben [appellanten sub 2] en [appellante sub 5] desgevraagd aangegeven dat hun betoog ziet op de kwaliteitskaart \\'laag van cultuur- en natuurlandschappen\\'. De locatie van het plangebied is op de kwaliteitskaart \\'laag van de cultuur- en natuurlandschappen\\' aangemerkt als \\'zeekleipolder\\'. Op de kwaliteitskaart zijn de volgende richtpunten opgenomen ter plaatse van het plangebied:\\n\"- Ontwikkelingen dragen bij aan het versterken van de karakteristieke kenmerken van de eilanden en de verschillen daartussen.\\n- Ontwikkelingen aan de rand van de eilanden passen bij de maat en schaal van de dijk en de deltawateren.\\n- Herkenbaar houden van het patroon van (ronde) opwas- en (langgerekte) aanwaspolders door behouden en versterken van de (beplante) dijk als herkenbare landschappelijke structuurdrager in contrast met de grootschalig, open polder.\\n- Versterken van de kreek als herkenbare landschappelijke structuurdrager van het zeekleilandschap.\\n- Bebouwing concentreert zich in of bij compacte kernen, niet in het open middengebied van de polders.\\n- Behoud van het contrast tussen de binnendijkse akkerbouwpolders en buitendijkse natuur.\"\\n9.6.    De Afdeling stelt voorop dat de enkele omstandigheid dat met het plan mogelijk niet wordt voldaan aan alle relevante richtpunten van de kwaliteitskaart, niet betekent dat zich reeds om die reden strijd voordoet met artikel 6.9, eerste lid, aanhef en onder b, van de Omgevingsverordening Zuid-Holland. Uit dit onderdeel van het artikellid immers volgt niet dat moet worden voldaan aan alle relevante richtpunten van de kwaliteitskaart, maar dat daarmee rekening moet worden gehouden (vergelijk de uitspraak van de Afdeling van 24 april 2019, ECLI:NL:RVS:2019:1352, onder 7.2).\\nOp de zitting hebben [appellanten sub 2] en [appellante sub 5] aangevoerd dat zij vrezen voor een aantasting van het zeekleipolderlandschap omdat er enorm veel grond zal worden afgegraven om de gronden waarop wordt voorzien in natuurbegraven op te hogen. In paragraaf 4.4 van de plantoelichting is ingegaan op alle ontwikkelingen die het plan mogelijk maakt en in hoeverre deze ontwikkelingen bijdragen aan de kenmerken en kwaliteit van het gebied. De raad stelt dat de aanwezige kwaliteit van het kleinschalige en open cultuurlandschap behouden blijft en cultuurhistorische elementen waar mogelijk worden versterkt met de natuurontwikkeling. Door het voorziene natuurbegraven blijft het herkenbare karakter van de Bonnenpolder behouden en is het open polderlandschap voor toekomstige generaties veiliggesteld, aldus de raad. Volgens de raad blijven cultuurhistorische elementen behouden of worden hersteld en beschermd waaronder de Bonnendijk en het Kerkepad, de waterlopen zijn in het bestemmingsplan vastgelegd en de oude kreek van de Rel wordt verbreed en voorzien van natuurvriendelijke oevers. Elementen en structuren worden beleefbaar gemaakt, aldus de raad. De Afdeling ziet in hetgeen is aangevoerd niet dat het zeekleipolder wordt aangetast door de voorziene ontwikkeling.\\nNaar het oordeel van de Afdeling blijkt uit het vorenstaande verder dat voldoende aandacht is besteed aan de voor dit geval relevante richtpunten van de kwaliteitskaart van de Omgevingsverordening.\\n9.7.    Gelet op het vorenstaande is de Afdeling van oordeel dat de raad het plan niet heeft vastgesteld in strijd met artikel 6.9 van de Omgevingsverordening Zuid-Holland.\\nDe betogen slagen niet.\\nStrijd met gemeentelijk beleid\\n10.     [appellant sub 1A], [appellanten sub 2], [appellant sub 3] en [appellante sub 5] betogen dat de voorziene natuurbegraafplaats in strijd is met het Ontwikkelplan Oranjebonnen. Daarnaast betoogt [appellant sub 3] ook dat de voorziene natuurbegraafplaats in strijd is met Ambitiedocument Oranjebonnen.\\n[appellant sub 1A] voert aan dat natuurbegraven in strijd is met het Ontwikkelplan Oranjebonnen. Hij vraagt zich af of de doelstellingen in het Ontwikkelplan wel haalbaar zijn.\\n[appellanten sub 2] en [appellante sub 5] voeren aan dat de natuurbegraafplaats in strijd is met de Ontwikkelplankaart uit het Ontwikkelplan Oranjebonnen. De gronden in de Bonnenpolder werden in dat plan aangeduid als landschappelijk waardevol agrarisch gebied. De Korte Bonnen en de Lange Bonnen werden geduid als gronden voor agrarisch en licht recreatief gebruik. Het initiatief om een natuurbegraafplaats in de Bonnenpolder te realiseren past dan ook naar hun mening niet binnen die kaders. Het grasland dient als foerageergebied in stand te blijven en de natuurdoelen voor een bloemrijk grasland en een nat schraalgrasland dienen eveneens gehandhaafd te blijven. Het gebied dient dus open te blijven en dient niet bebost te worden.\\n[appellant sub 3] voert aan dat de voorziene ontwikkeling in strijd is met het Ontwikkelplan Oranjebonnen en het Ambitiedocument Oranjebonnen. Volgens hem wordt er ten onrechte vanwege een privaat belang een natuurbegraafplaats mogelijk gemaakt. Hij wijst erop dat het schrijnend is om te moeten constateren dat wat in het Ambitiedocument Oranjebonnen nog een kwaliteit wordt genoemd, te weten het oorspronkelijke open cultuurlandschap met een duidelijk herkenbare ontginningsgeschiedenis, ineens deels getransformeerd zou moeten worden in een kunstmatig duinbos en nieuwe natuur, waarmee op geen enkele wijze recht wordt gedaan aan de eerder benoemde kwaliteiten.\\n10.1.  Op 10 mei 2016 is het Ontwikkelplan Oranjebonnen vastgesteld door het college. Op de Ontwikkelkaart in het Ontwikkelplan Oranjebonnen zijn de gronden waar natuurbegraven mogelijk wordt gemaakt bestemd als \"landschappelijk waardevol gebied\" en \"agrarisch en licht recreatief gebruik\". Het meerderendeel van het natuurbegraven zal plaatsvinden op gronden met de bestemming \"agrarisch en licht recreatief gebruik\". Slechts op een klein deel van de gronden bestemd als \"landschappelijk waardevol gebied\" wordt natuurbegraven mogelijk gemaakt.\\n10.2.  In paragraaf 3.3.1 van het Ontwikkelplan Oranjebonnen staat dat in het agrarische gebied met een lichtgroene kleur voorzieningen voor licht recreatief gebruik welkom zijn. Vervolgens worden enkele voorbeelden genoemd van dergelijke voorzieningen, zoals een bed & breakfast in bestaande bebouwing, trekkershutten en een uitkijktoren. Voor landschappelijk waardevol gebied is geen aparte paragraaf in het Ontwikkelplan opgenomen. Ook worden geen voorbeelden van voorzieningen voor deze gronden genoemd.\\n10.3.  In paragraaf 2.4 van het Ontwikkelplan Oranjebonnen staan de doelstellingen van het Ontwikkelplan weergegeven. Die doelstellingen zijn gebaseerd op het Ambitiedocument Oranjebonnen Hoek van Holland. Deze doelstellingen zijn het vergroten van de ruimtelijke groenbelevering door een recreatief netwerk en recreatieve voorzieningen, het versterken van de biodiversiteit, het versterken van (agrarisch) ondernemerschap en het realiseren van een sterk imago voor de Oranjebonnen.\\nIn paragraaf 3.3.4 van het Ontwikkelplan Oranjebonnen staat onder meer dat de functie van \"natuurbegraafplaats (geen besloten boomgaard aanwezig in open polderlandschap)\" ongewenst is, gezien de doelen uit het Ambitiedocument Oranjebonnen.\\n10.4.  Uit paragraaf 1.1 van de plantoelichting volgt dat de raad het door het college ontwikkelde beleid Ontwikkelplan Oranjebonnen als uitgangspunt heeft gebruikt voor het vaststellen van het bestreden plan. In dit geval heeft de raad op de zitting desgevraagd toegelicht dat het Ambitiedocument uit 2013 is en dat het uitgangspunt altijd is geweest dat de recreatiefunctie in de polder moet worden versterkt en het bijzondere polderlandschap zo veel mogelijk moet worden behouden. Het Ontwikkelplan is in 2016 vastgesteld. Inmiddels is door verloop van tijd gebleken dat de agrarische bedrijfsvoering op lange termijn niet houdbaar zou zijn om de polder vitaler te houden. Daarom is ingezet op een economische transformatie van beide polders met behoud van de ruimtelijke kwaliteit en waarden van de Oranjebonnen en op het realiseren van recreatieve en ecologische voorzieningen. In zijn verweerschrift stelt de raad dat er sprake is van een ontwikkeling in de Bonnenpolder waarbij op termijn onrendabele agrarische gronden tot natuur worden omgevormd. De bestaande natuur in Hoek van Holland, waaronder het aangrenzende Staelduinse bos wordt daardoor uitgebreid, versterkt en toekomstbestendig gemaakt.\\n10.5.  In de nota van zienswijzen stelt de raad dat aan de doelstellingen van het Ontwikkelplan wordt voldaan. Zo maakt de ontwikkeling van de natuurbegraafplaats het mogelijk om extra natuur toe te voegen. De voorziene natuurbegraafplaats is vooral een natuurgebied, maar heeft zo ook  een extra functie. De natuurontwikkeling met als onderdeel daarvan een natuurbegraafplaats, draagt bij aan de beleving van de Bonnenpolder door het openstellen van extra natuur voor publiek, door de investering in natuurontwikkeling en door het versterken en beschermen van cultuurhistorisch en ecologisch waardevolle elementen, aldus de raad. Daarbij is van belang dat de raad stelt dat de openheid van het gebied niet wordt aangetast. Zo betoogt de raad in zijn verweerschrift dat het voorziene natuurbegraven een onderdeel vormt van een veel groter natuurgebied en dat door de piëteitszones mensen in mindere mate met begraven geconfronteerd worden en toch kunnen genieten van de nieuwe natuur. In het \"Inrichtings- en beheerplan natuur in de Bonnen\" van RPS advies- en ingenieursbureau B.V. van 17 mei 2021, opgenomen als bijlage 3 bij de planregels, (hierna: het Inrichtings- en beheerplan) is beschreven dat in de ontwikkeling van de Bonnenpolder het behoud en de karakteristieke openheid van het polderlandschap en de versterking van de natuurwaarden centraal staan. De Bonnenpolder blijft daarmee een open gebied dat wordt ontwikkeld tot natuur. Door uitbreiding van het Staelduinse bos en een gedeeltelijke ophoging daarvan ter hoogte van de noordzijde van de Bonnenpolder wordt duinbos ontwikkeld. Dit gaat verdroging tegen en er ontstaat meer ruimte voor planten en dieren in het gebied, zo volgt uit het Inrichtings- en beheerplan.\\n10.6.  Gelet op het vorenstaande is de Afdeling van oordeel dat de raad zich op het standpunt mocht stellen dat er weliswaar een natuurbegraafplaats mogelijk wordt gemaakt, maar dat de openheid van het polderlandschap daardoor niet dusdanig wordt aangetast dat natuurbegraven achterwege gelaten zou moeten worden. Hetgeen [appellant sub 1A], [appellanten sub 2], [appellant sub 3] en [appellante sub 5] hierover hebben aangevoerd geeft geen aanleiding voor het oordeel dat de raad onder deze omstandigheden na afweging van alle betrokken belangen niet deels in afwijking van het in het Ontwikkelplan Oranjebonnen en het Ambitiedocument Oranjebonnen gehanteerde beleid heeft kunnen besluiten tot de voorziene natuurbegraafplaats binnen het plangebied.\\nDe betogen slagen niet.\\nUitstoot Natura 2000-gebied\\n11.     [appellant sub 1A], [appellanten sub 2], [appellant sub 3] en [appellante sub 5] betogen dat ten onrechte geen rekening is gehouden met de gevolgen van de voorziene natuurbegraafplaats voor de depositie van stikstof en de gevolgen daarvan op het Natura 2000-gebied \"Solleveld & Kapittelduinen\".\\nZo voert [appellant sub 1A] aan dat de mogelijke effecten op het Natura 2000-gebied als gevolg van \"vertering van stoffelijke overschotten\" onvoldoende is onderzocht. Daarnaast is ook onduidelijk hoeveel stikstof er vrijkomt tijdens de bouwwerkzaamheden en de graafwerkzaamheden voor elk graf.\\n[appellanten sub 2] en [appellante sub 5] voeren aan dat het voorziene natuurbegraven een effect heeft op de uitstoot van stikstof, fosfor, nitraat, ammoniak, magnesium en calcium op het nabijgelegen Natura 2000-gebied. Door natuurbegraven met alle geplande voorzieningen zo dicht bij het Natura 2000-gebied mogelijk te maken, is dat onvoldoende beschermd. Daarnaast voeren [appellanten sub 2] en [appellante sub 5] aan dat de voorziene natuurbegraafplaats meer verkeersbewegingen tot gevolg heeft. Dit zal volgens hen ongetwijfeld meer uitstoot van stikstof geven, terwijl met dit gegeven in de onderzoeken geen rekening wordt gehouden.\\n[appellant sub 3] voert aan dat het argument dat de stikstofuitstoot wordt teruggebracht met een natuurbegraafplaats geen stand houdt.\\n11.1.  Het westelijk deel van het plangebied grenst in het noorden aan het Natura 2000-gebied \"Solleveld & Kapittelduinen\".\\n11.2.  Artikel 8:69a van de Awb luidt: \"De bestuursrechter vernietigt een besluit niet op de grond dat het in strijd is met een geschreven of ongeschreven rechtsregel of een algemeen rechtsbeginsel, indien deze regel of dit beginsel kennelijk niet strekt tot bescherming van de belangen van degene die zich daarop beroept.\"\\n11.3.  Uit de geschiedenis van de totstandkoming van de Wet aanpassing bestuursprocesrecht (Kamerstukken II, 2009/10, 32 450, nr. 3, blz. 18-20) blijkt dat de wetgever met artikel 8:69a van de Awb de eis heeft willen stellen dat er een verband is tussen een beroepsgrond en het belang waarin de appellant door het bestreden besluit dreigt te worden geschaad. De bestuursrechter mag een besluit niet vernietigen wegens schending van een rechtsregel die kennelijk niet strekt tot bescherming van het belang van degene die in (hoger) beroep komt.\\n11.4.  Voor zover [appellant sub 1A] in dit kader wijst op de mogelijke gevolgen voor de stikstofdepositie, stelt de Afdeling vast dat het dichtstbijzijnde Natura 2000-gebied \"Solleveld & Kapittelduinen\" is gesitueerd op ongeveer 640 m afstand van het perceel van [appellant sub 1A].\\nVoor zover [appellant sub 1A] als natuurlijk persoon deze grond aanvoert, is het belang bij het behoud van een goede kwaliteit van zijn woonomgeving, gelet op de afstand, in dit geval niet zo verweven met de algemene belangen die de Wet natuurbescherming (hierna: de Wnb) beoogt te beschermen dat kan worden geoordeeld dat de betrokken normen van de Wnb kennelijk strekken tot bescherming van zijn belangen. De Afdeling zal daarom hetgeen [appellant sub 1A] hierover naar voren heeft gebracht verder onbesproken laten.\\n11.5.  Voor zover deze beroepsgrond is aangevoerd door [appellanten sub 2] en [appellante sub 5] overweegt de Afdeling als volgt. De bepalingen in de Wnb over de beoordeling van plannen, projecten of andere handelingen, die gevolgen kunnen hebben voor een Natura 2000-gebied, strekken kennelijk niet tot bescherming van bedrijfseconomische belangen. In de overzichtsuitspraak van 11 november 2020, ECLI:NL:RVS:2020:2706, heeft de Afdeling overwogen dat de bedrijfseconomische belangen van een appellant zo verweven kunnen zijn met het algemeen belang van het behoud van een goede staat van instandhouding van het betrokken Natura 2000-gebied, een belang dat de Wnb beoogt te beschermen, dat er geen aanleiding bestaat voor het oordeel dat de betrokken normen van de Wnb kennelijk niet strekken tot bescherming van de belangen van deze appellant. Geen verwevenheid wordt aangenomen wanneer de bedrijfsvoering niet beïnvloed wordt door de staat van instandhouding van het Natura 2000-gebied, bijvoorbeeld omdat de afstand tussen de bedrijfsgronden en het Natura 2000-gebied te groot is. Verwevenheid wordt ook niet aangenomen wanneer er een te ver verwijderd verband bestaat tussen het bedrijfseconomische belang en het belang van de natuurbescherming.\\nDe Afdeling stelt vast dat de afstand tussen de kassen van [appellanten sub 2] en het Natura 2000-gebied ongeveer 580 m is en de afstand tussen het bedrijf van [appellante sub 5] en het Natura 2000-gebied ongeveer 650 m is. De Afdeling stelt ook vast dat [appellanten sub 2] en [appellante sub 5] niet hebben toegelicht of en zo ja waarom hun bedrijfseconomische belangen verweven zijn met het belang dat de Wnb beoogt te beschermen. De Afdeling ziet dan ook geen aanknopingspunten voor het oordeel dat de bedrijfseconomische belangen van [appellanten sub 2] en [appellante sub 5] verweven zijn met het algemeen belang dat de Wnb beoogt te beschermen. Dit betekent dat de norm uit de Wnb waarop [appellanten sub 2] en [appellante sub 5] zich beroepen, niet strekt tot bescherming van hun belangen.\\n11.6.  Verder stelt de Afdeling vast dat [appellant sub 3] op ongeveer 1,8 km van het plangebied woont en op ongeveer 80 m van het Natura 200-gebied \"Solleveld & Kapittelduinen\" dat ten noorden aan het plangebied grenst. Gelet hierop kunnen mogelijke effecten van het plan invloed hebben op de gronden van het Natura 2000-gebied \"Solleveld & Kapittelduinen\" nabij de woning van [appellant sub 3] en dus ook op zijn directe woon- en leefomgeving. De in artikel 8:69a van de Awb neergelegde relativiteitsvereiste staat dus niet in de weg aan een mogelijke vernietiging van het besluit. De Afdeling zal daarom zijn beroepsgrond inhoudelijk behandelen.\\n11.7.  Onder verwijzing naar het rapport \"Bestemmingsplan Oranjebonnen natuurtoets\" van Koolstra Advies (hierna: de natuurtoets), stelt de raad zich op het standpunt dat negatieve effecten op het Natura 2000-gebied door het bestreden plan zijn uit te sluiten. In de natuurtoets wordt met de resultaten die zijn verkregen via de AERIUS Calculator een vergelijking gemaakt tussen de stikstofdepositie in de huidige, de realisatie- en de toekomstige planfase op het dichtstbijzijnde Natura 2000-gebied. In deze natuurtoets staat dat significante gevolgen op het Natura 2000-gebied \"Solleveld & Kapittelduinen\" of andere Natura 2000-gebieden zijn uitgesloten. Omdat significante effecten op basis van de conclusies van deze voortoets met zekerheid zijn uit te sluiten is geen passende beoordeling nodig om het bestemmingsplan vast te kunnen stellen, zo staat in de natuurtoets. Ook staat in de natuurtoets dat zowel tijdens de realisatie van de ontwikkelingen die het nieuwe bestemmingsplan mogelijk maakt als in de planfase (de gebruiksfase) de depositie op alle stikstofgevoelige delen van Natura 2000-gebieden aanzienlijk lager zal zijn dan in de huidige situatie. Deze daling is het gevolg van het omvormen van een groot oppervlak van ongeveer 120 ha aan landbouwpercelen in natuur en bos, waardoor de perceelsemissie sterk afneemt. Op de zitting heeft de heer Koolstra namens de raad nader toegelicht dat bij de AERIUS berekening rekening is gehouden met de maximale planologische mogelijkheden van onder meer de voorziene natuurbegraafplaats. Zo is rekening gehouden met het aantal begrafenissen, bezoek van mensen aan graven en van recreanten die daar willen wandelen. Ook is bij de berekeningen rekening gehouden met een elektrische graafmachine voor het maken van de graven. Verder heeft Koolstra desgevraagd op de zitting bevestigd dat er sprake is van een afname van meer dan 100 mol N/ha depositie in de plansituatie ten opzichte van de referentiesituatie. Dit volgt ook uit afbeelding 6 in de natuurtoets. Verder geeft Koolstra op de zitting aan dat hij ook een berekening heeft gemaakt als er gebruik wordt gemaakt van een graafmachine op diesel/benzine voor het maken van de graven. Ook dan is er volgens hem geen sprake van een toename van stikstofdepositie in vergelijking met de huidige situatie.\\n11.8.  De Afdeling stelt vast dat [appellant sub 3] niet inhoudelijk heeft gereageerd op de natuurtoets en de juistheid van de bevindingen en de conclusie van de natuurtoets niet heeft betwist. Gelet hierop ziet de Afdeling geen reden om de conclusie van de natuurtoets dat significante negatieve effecten op Natura 2000-gebieden zijn uitgesloten, niet te volgen. Voor zover [appellant sub 3] nog wijst op het PAS, is niet gebleken dat het PAS een rol speelt bij het bestreden besluit. Dat de Afdeling op 29 mei 2019 in de PAS-uitspraak (ECLI:NL:RVS:2019:1603) heeft geoordeeld dat het PAS in strijd is met de Habitatrichtlijn en bepaalde wet- en regelgeving daardoor onverbindend heeft geacht, is daarom niet van betekenis in deze zaak.\\nHet betoog slaagt niet.\\nBedrijfsvoering wordt verstoord\\n12.     [appellant sub 1A] voert aan dat de bedrijfsvoering van tuinders rondom de voorziene natuurbegraafplaats wordt verstoord. [appellanten sub 2] en [appellante sub 5] voeren aan dat de voorziene natuurbegraafplaats hun bedrijfsvoering zal verstoren. Hierna zal de Afdeling ingaan op de aangevoerde bezwaren.\\n12.1.  De raad stelt in zijn verweerschrift dat de vrees van [appellant sub 1A], [appellanten sub 2] en [appellante sub 5] voor een negatieve impact op de bedrijfsvoering als gevolg van het natuurbegraven ongefundeerd is. Er is om die reden voor de raad geen aanleiding om de locatie van de natuurbegraafplaats te heroverwegen. De raad acht evenmin objectieve argumenten aanwezig die tot een daling van de bedrijfswaarde of\\n-opbrengsten aanleiding zouden kunnen geven.\\n- Belangen [appellant sub 1A]\\n13.     Voor zover [appellant sub 1A] opkomt voor de belangen van tuinders die rondom de voorzien natuurbegraafplaats zijn gesitueerd, is de Afdeling van oordeel dat appellanten zich in rechte op de norm van een goede ruimtelijke ordening kunnen beroepen om een vernietiging van het besluit tot vaststelling van het bestemmingsplan te bewerkstelligen voor zover die norm betrekking of mede betrekking heeft op hun eigen belangen. Dit volgt ook uit haar overzichtsuitspraak van 11 november 2020, ECLI:NL:RVS:2020:2706, onder 10.10, In artikel 8:69a van de Awb ligt besloten dat degene die vernietiging van een besluit beoogt zich in beginsel niet met succes kan beroepen op belangen van anderen. [appellant sub 1A] komt als natuurlijke persoon op voor belangen van tuinders, zodat de regeling kennelijk niet strekt tot bescherming van zijn belangen. Artikel 8:69a van de Awb staat eraan in de weg dat het bestreden besluit om die reden wordt vernietigd. De Afdeling ziet daarom af van een verdere inhoudelijke bespreking van zijn betoog.\\n- Niet verenigbaar met bedrijfsvoering\\n14.     [appellanten sub 2] en [appellante sub 5] voeren aan dat hun bedrijfsvoering wordt verstoord doordat hun bedrijven vlakbij de ceremonieruimte van 900 m2 met bijbehorende parkeerplaatsen van 1.800 m2 voor de voorziene natuurbegraafplaats liggen. Ook wordt vanaf de Haakweg een verbindingsweg aangelegd naar het Bonnenpad waar auto\\'s te gast zijn en ook dit is niet verenigbaar met hun bedrijfsvoering. In dat kader wijzen zij er verder op dat het plan ook mogelijk maakt om urnen in de grond te plaatsen en as uit te strooien, wat evenmin verenigbaar is met de exploitatie van hun tuinbouwbedrijven.\\n14.1.  De Afdeling stelt vast dat de voorziene ceremonieruimte van de natuurbegraafplaats zal zijn gesitueerd op ongeveer 630 m afstand van het perceel van [appellanten sub 2] en op ongeveer 600 m afstand van het perceel van [appellante sub 5]. De parkeerterrein voor de voorziene natuurbegraafplaats is op ongeveer 730 m afstand van het perceel van [appellanten sub 2] gevestigd en op ongeveer 640 m afstand van het perceel van [appellante sub 5]. De Afdeling ziet, gelet op deze afstanden en gelet op de weinig concrete onderbouwing van hetgeen is aangevoerd, geen aanknopingspunten voor het oordeel dat de ceremonieruimte en de bijbehorende parkeerplaatsen niet verenigbaar zijn met de bedrijfsvoering van [appellanten sub 2] en van [appellante sub 5]. Daarbij neemt de Afdeling in aanmerking dat zij op basis van de niet nader onderbouwde stelling ook niet ziet waarom de voorziene verbindingsweg naar het Bonnenpad niet verenigbaar zou zijn met de bedrijfsvoering van [appellanten sub 2] en van [appellante sub 5].\\n14.2.  De Afdeling stelt daarnaast vast dat het bewaren van urnen in de grond krachtens artikel 10.1, aanhef en lid d en e, van de planregels zowel mag op de gronden waaraan de functieaanduiding \"\\'specifieke vorm van natuur - natuurbegraven in het duinbos\" als de functieaanduiding \"specifieke vorm van natuur - natuurbegraven in de polder\" is toegekend. Het glastuinbouwbedrijf van [appellanten sub 2] ligt op ongeveer 400 m van de dichtstbijzijnde voorziene natuurbegraafplaats, dat van [appellante sub 5] op ongeveer 550 m. De Afdeling ziet ook hier in hetgeen is aangevoerd geen grond voor het oordeel dat het begraven van urnen niet verenigbaar zou zijn met de bedrijfsvoering van [appellanten sub 2] en [appellante sub 5]. Voor zover [appellanten sub 2] en [appellante sub 5] vrezen voor overlast door het uitstrooien van as, wijst de raad er in zijn verweerschrift op dat het plan het verstrooien van as helemaal niet mogelijk maakt. In artikel 1.45 van de planregels is gedefinieerd dat een natuurbegraafplaats een terrein is dat deel uitmaakt van een natuur- en/of bosgebied, waar lichamen worden begraven en/of urnen worden bewaard en activiteiten van levensbeschouwelijke aard plaatsvinden in relatie tot het begraven van lichamen en/of bewaren van urnen. Er wordt zo veel mogelijk gebruikgemaakt van onbehandelde en/of onbewerkte natuurlijke materialen. Grafmonumenten, zoals grafstenen, zerken of grafbeplanting, zijn niet toegestaan, enkel een gedenkteken van vergankelijk natuurlijk materiaal. Nu de planregel het uitstrooien van as niet toestaat is de vrees van [appellanten sub 2] en [appellante sub 5] op dit punt ongegrond.\\n14.3.  De betogen slagen niet.\\n- Beperkingen waterkwaliteit\\n15.     [appellanten sub 2] en [appellante sub 5] wijzen erop dat zij slootwater gebruiken voor hun teelt. Zij vrezen voor de mogelijke vervuiling van het grondwater en het oppervlaktewater door de voorziene natuurbegraafplaats. [appellanten sub 2] en [appellante sub 5] voeren in dat verband aan dat er recent door het kennisinstituut Alterra onderzoeken zijn gedaan waaruit blijkt dat natuurbegraven tal van chemische stoffen toevoegt aan de bodem, die niet in de natuur thuishoren. Natuurbegraven versterkt de vervuiling met gemiddeld 26 ton stoffelijke overschotten per ha en daarin zitten giftige siliconen, kwikvullingen, cadmium en miniscuul kleine hoeveelheden medicijnresten. Ook is natuurbegraven gekoppeld aan wegsijpelende lijksappen onder de graven en heeft het, gelet daarop, effect op het bodemleven en het grondwater.\\n15.1.  De Afdeling stelt op grond van de stukken vast dat er 30 ha grond binnen het plangebied is bestemd voor natuurbegraven. Op grond van artikel 10.3, aanhef en lid a, van de planregels zijn ter plaatste van de gronden met de functieaanduidingen \"specifieke vorm van natuur - natuurbegraven in het duinbos\" en \"specifieke vorm van natuur - natuurbegraven in de polder\" gezamenlijk maximaal 10.000 natuurgraven toegestaan, voor zover de gezamenlijke oppervlakte natuurgraven waar feitelijk is gegraven niet meer dan 10% van het oppervlak met de gronden met de functieaanduidingen \"specifieke vorm van bos - duinbos\" en \"specifieke vorm van natuur - natuurbegraven in de polder\" bedraagt. Dit betekent dat er sprake is van een grafdichtheid van ongeveer 333 graven per ha.\\n15.2.  De Afdeling stelt vast dat de relatie tussen grondwater en begraafplaatsen is geregeld in de Wet op de lijkbezorging en het Besluit op de lijkbezorging. In het Inrichtings- en beheerplan behorende bij het bestreden plan is vermeld dat op grond van het Besluit op de lijkbezorging het maaiveld 145 cm boven de gemiddeld hoogste grondwaterstand (hierna: GHG) moet liggen. Deze maat wordt aangehouden omdat er minimaal 65 cm grond bovenop een kist moet worden aangebracht, de kist zich 30 cm boven de gemiddelde hoogste grondwaterstand moet bevinden en een kist gemiddeld 50 cm hoog is.\\nAan het plan ligt onder meer de \"Natuurtoets natuurontwikkeling Bonnenpolder\" van Bureau Waardenburg B.V. van mei 2021 (hierna: de natuurtoets natuurontwikkeling) ten grondslag. In de natuurtoets natuurontwikkeling staat dat de algemene conclusie op basis van bekende literatuur en voorhanden zijnde veldonderzoek is dat de kans op verslechtering van de kwaliteit van grondwater door natuurbegraven minimaal is en dat er altijd een zeker mate van bodemverstoring zal optreden, maar dat de omvang daarvan afhankelijk is van de vraag of er al eerder bodemverstoring is opgetreden. In de natuurtoets natuurontwikkeling wordt geconcludeerd dat in dit geval de voorziene natuurbegraafplaats is gesitueerd in een nu nog in intensief agrarisch gebruik zijnde polder zonder boomopstanden. Door het agrarisch gebruik is er sprake van een duidelijk geroerde bovenste bodemlaag. Er zal daarom geen sprake zijn van bodemverstoring. Voor het vrijkomen van stoffen als stikstof en fosfaat zullen enkel effecten zijn te verwachten als deze stoffen vrijkomen in de wortelzone van de aanwezige vegetatie. De bij wet vastgelegde minimaal verplicht aan te houden begraafdiepte ligt ruim beneden de wortelzone van kruid- en grasachtige vegetaties. De stoffen die uit ontbindende stoffelijke resten vrijkomen, blijven daarom vrijwel buiten bereik van kruiden- en heidevegetaties. Bomen wortelen dieper dan de verplichte minimum begraafdiepte, zo volgt uit de natuurtoets natuurontwikkeling.\\nDaarnaast is aan het plan het \"Waterhuishoudkundig plan natuurinrichting Bonnenpolder\" van de Witteveen + Bos van 29 maart 2021 (hierna: het waterhuishoudkundig plan) ten grondslag gelegd. In het waterhuishoudkundig plan staat dat de Wet op de lijkbezorging en de daarbij behorende inspectierichtlijnen dusdanig zijn ingericht dat wordt voldaan aan milieuhygiënische randvoorwaarden van de Inspectie van de volksgezondheid. Weliswaar zal er uitloging van stoffen plaatsvinden naar het grondwater en vervolgens het oppervlaktewater, maar dit proces is echter zeer traag en concentraties zullen zeer laag zijn, zodat er geen effect op de kwaliteit van het grond- en oppervlaktewater wordt verwacht. In het waterhuishoudkundig plan is ook uiteengezet dat de kwaliteit van het grondwater niet wordt beïnvloed door de voorziene natuurbegraafplaats. Daarbij is ook gekeken naar de verschillende stoffen en metalen die in de bodem komen voor het natuurbegraven. Zo wordt in het waterhuishoudkundig plan verwezen naar de onderzoeken die Alterra heeft gedaan naar de milieubelasting van begraven. Op basis van deze metingen kan worden geconcludeerd dat op en rondom begraafplaatsen de gehalten aan zware metalen, elementen (natrium, kalium), anionen (nitraat, sulfaat, chloride), organische zuren en afbraakproducten (putrescine, cadaverine) niet verschillen van grond- en oppervlaktewater dat niet in contact staat met begraafplaatsen. Bovendien liggen de gehalten ruim onder de geldende streefwaarden. Dit geldt ook voor eventuele medicijnresten. Medicijnen worden na inname snel uit het lichaam gescheiden of reageren met lichaamseigen stoffen tot andere verbindingen. Over het algemeen zullen in het lichaam van een overledene ten hoogste geringe hoeveelheden medicijnen aanwezig zijn, waarvan de meesten vervolgens worden afgebroken tijdens het ontbindingsproces. De gehaltes van niet of langzaam afgebroken medicijnen zullen zo gering zijn dat deze geen effect hebben op het milieu of het ecosysteem. Natuurbegraven heeft dus geen impact op de waterkwaliteit en de milieubelasting is verwaarloosbaar, zelfs bij 1.500 begravingen per ha. De algehele conclusie van het onderzoek is dat de milieueffecten verwaarloosbaar klein zijn. Om aan te kunnen tonen dat er in de praktijk daadwerkelijk geen effecten optreden wordt in het waterhuishoudkundig plan geadviseerd om de waterkwaliteit te monitoren. De raad betoogt in zijn verweerschrift dat er om die reden in overleg met het Hoogheemraadschap van Delfland is afgesproken dat de kwaliteit van het grond- en oppervlaktewater blijvend zal worden gemonitord. Het monitoringsplan zal worden geborgd doordat deze onderdeel van de te zijner tijd aan te vragen watervergunning bij het Hoogheemraadschap van Delfland wordt.\\nIn de plantoelichting staat dat de realisatie van de natuurbegraafplaats extra verharding met zich mee brengt. Ook zullen bestaande watergangen worden gedempt en nieuwe watergangen worden gegraven. Door de westzijde van het plangebied loopt de Rel. De Rel voert het water uit de polders af naar het Oranjekanaal. In het kader van natuurontwikkeling, maar ook als compensatie voor verhardingstoenamen buiten het bestemmingsplangebied, zal de Rel worden verbreed. In het waterhuishoudkundig plan staat dat als er oppervlaktewater onttrokken wordt uit de Bonnenpolder, dat zal gebeuren ter hoogte van de Dwarshaak en Haakweg. Daar liggen de watergangen ten opzichte van de natuurbegraafplaats bovenstrooms. Mogelijke verontreinigingen in het oppervlaktewater zullen zich dus niet richting deze locaties kunnen bewegen. Ook hier geldt weer dat op grond van onderzoek geen normoverschrijdende concentraties van stoffen uit het ontbindingsproces te verwachten zijn. De tuinbouwbedrijven in de naastgelegen polder grenzend aan de Bonnenlaan onttrekken water uit de watergang langs de Van Rijckevorsellaan. Deze watergang staat los van het plangebied en hier zullen dus geen effecten op het gebied van kwantiteit en kwaliteit worden verwacht.\\n15.3.  Voor zover [appellanten sub 2] en [appellante sub 5] verwijzen naar het onderzoek van Alterra uit 2009, waarin staat dat het gebruik van het water voor het besproeien van gewassen zo veel mogelijk vermeden moet worden, wijst de raad erop dat de conclusie in het rapport Alterra 2009 is dat de milieubelasting door begraven van stoffelijke resten of asurnen en door verstrooien van crematieas in natuurterreinen in het algemeen verwaarloosbaar is. Deze conclusie is door Alterra in 2013 nader onderzocht, maar wordt voornamelijk versterkt door de resultaten van het onderzoek van Wageningen UR in 2017, aldus de raad. Uit de onderzoeken van Alterra volgt dat over het algemeen van natuurbegraven geen (significante) effecten op de kwaliteit van het grondwater zijn te verwachten, zelfs niet bij 1.500 graven per hectare. Uit de onderzoeken komt eenduidig naar voren dat eventuele milieueffecten verwaarloosbaar zijn. Deze conclusies zijn door [appellanten sub 2] en [appellante sub 5] niet weerlegd.\\n15.4.  De Afdeling ziet in het aangevoerde geen aanleiding te concluderen dat de uitgevoerde onderzoeken onzorgvuldig zijn. [appellanten sub 2] en [appellante sub 5] hebben niets tegenover de uitgevoerde onderzoeken gesteld, noch aannemelijk gemaakt waaruit zou moeten blijken dat de onderzoeken zodanige gebreken of leemten in kennis bevatten dat de raad die niet aan het plan ten grondslag heeft mogen leggen. De enkele niet onderbouwde vrees van [appellanten sub 2] en [appellante sub 5] dat het monitoren van de waterkwaliteit binnen en rondom het plangebied niet goed gaat, is daarvoor ook onvoldoende, nog los van het feit dat dit de handhaving van voorschriften betreft.\\n15.5.  Gelet op het vorenstaande ziet de Afdeling geen grond voor de verwachting dat er verontreinigende stoffen als gevolg van de voorziene natuurbegraafplaats bij het grondwater en het oppervlaktewater kunnen komen waardoor normen overschreden worden.\\nDe betogen slagen niet.\\n- Uitbreidingsmogelijkheden [appellanten sub 2] naar het oosten\\n16.     [appellanten sub 2] voeren aan dat hun uitbreidingsmogelijkheden uit het vorige bestemmingsplan ten onrechte niet zijn overgenomen in het bestreden plan. In het vorige bestemmingsplan hadden zij de mogelijkheid om hun kassen uit te breiden op de gronden ten oosten van hun perceel.\\n16.1.  In het stelsel van de Wro is een bestemmingsplan het ruimtelijke instrument waarin de wenselijke toekomstige ontwikkeling van een gebied wordt neergelegd. De raad moet bij de vaststelling van een bestemmingsplan rekening houden met een particulier initiatief voor een ruimtelijke ontwikkeling als dat initiatief voldoende concreet is, tijdig aan hem kenbaar is gemaakt en de raad op het moment van de vaststelling van het plan op basis van de op dat moment bekende gegevens de ruimtelijke aanvaardbaarheid daarvan kan beoordelen.\\n16.2.  Op de zitting heeft [appellant sub 2A] desgevraagd toegelicht dat hij geen eigenaar is van de betreffende gronden. Uit het verhandelde op de zitting blijkt ook dat [appellanten sub 2] geen concrete uitbreidingsplannen hebben. Gelet hierop is de Afdeling van oordeel dat de raad terecht heeft gesteld dat [appellanten sub 2] bij de vaststelling van het bestemmingsplan geen concrete uitbreidingsplannen kenbaar hebben gemaakt. Ook is niet duidelijk hoe [appellanten sub 2] hun bedrijf eventueel wensen uit te breiden. Aangezien geen sprake is van een concreet initiatief waarvan de raad de ruimtelijke aanvaardbaarheid kon beoordelen, heeft de raad alleen daarom al met dit verzoek van [appellanten sub 2] bij de vaststelling van het plan geen rekening hoeven houden.\\nHet betoog slaagt niet.\\n- Bomen en lantaarns\\n17.     [appellanten sub 2] en [appellante sub 5] voeren aan dat ten onrechte niet in het plan is geborgd dat er geen hooggroeiende bomen mogen worden geplaatst nabij hun kassen. Hooggroeiende bomen en kassen laten zich namelijk lastig met elkaar verenigen omdat in kassen zoveel mogelijk zonlicht moet binnenkomen. Ook is in het bestreden plan volgens hen ten onrechte niets opgenomen over de plaats van lantaarnpalen vlakbij hun bedrijven.\\n17.1.  De Afdeling stelt vast dat in figuur 5.1 van het Inrichtings- en beheerplan is opgenomen dat langs de Dwarshaak een bomenrij is ingetekend. In paragraaf 6.8 van het Inrichtings- en beheerplan staat dat door ruimte tussen de dubbele bomenrij en de watergang langs de Dwarshaak vrij te houden, een goed beheer van de watergang mogelijk is en er ook minder overlast van bladval is in de watergang. Welke boomsoorten worden toegepast wordt afgestemd op de omgeving. Het gaat in ieder geval om streekeigen soorten. Aangrenzende omwonenden/bedrijven mogen geen schaduwhinder ondervinden van de bomen, zo staat in het Inrichtings- en beheerplan. De raad stelt dat hij, gelet op het vorenstaande, voldoende heeft geborgd dat er geen schaduwhinder voor de bedrijven van [appellanten sub 2] en [appellante sub 5] zal ontstaan. Ook stelt de raad dat dit ter plaatse van hun percelen niet tot schaduwhinder zal leiden, gezien de draairichting van de zon. Tussen de bomenrij en het bedrijf van [appellante sub 5] bevinden zich in ieder geval nog de Dwarshaak zelf, de daarlangs gelegen watergang en vrij te houden onderhoudsstrook. Om die reden acht de raad de kans op hinder voor [appellante sub 5] minimaal. Gelet op het vorenstaande is de Afdeling van oordeel dat de raad niet in het bestreden plan heeft hoeven borgen dat er geen hooggroeiende bomen mogen worden geplaatst nabij de bedrijven van [appellanten sub 2] en van [appellante sub 5].\\n17.2.  Voor zover [appellanten sub 2] en [appellante sub 5] aanvoeren dat in het bestreden plan niets is opgenomen over de positie van lantaarnpalen, betreft dit veeleer een uitvoeringsaspect. Het behoort tot de beleidsruimte van de raad om de mate van gedetailleerdheid van een bestemmingsplan te bepalen. De Afdeling ziet overigens op basis van het aangevoerde niet in dat er sprake zal zijn van onaanvaardbare overlast door lantaarnpalen.\\n17.3.  De betogen slagen niet.\\n- Waardedaling bedrijf\\n18.     [appellanten sub 2] en [appellante sub 5] voeren aan dat de waarde van hun bedrijf zal dalen en hun teelt nadeel zal ondervinden door de beperkingen die de voorziene natuurbegraafplaats met zich meebrengt. Zij wijzen op de aspecten water, de sloot, onkruid en overlast van ratten en muizen.\\n18.1.  Wat de eventueel nadelige invloed van het plan op de waarde van het bedrijf en het perceel van [appellanten sub 2] en [appellante sub 5] betreft, bestaat, gelet op het vorenstaande geen grond voor de verwachting dat die waardevermindering zodanig zal zijn dat de raad bij de afweging van de belangen hieraan een groter gewicht had moeten toekennen dan hij heeft gedaan. Voor eventuele tegemoetkoming in planschade bestaat bovendien een aparte procedure met eigen rechtsbeschermingsmogelijkheden.\\nDe betogen slagen niet.\\nAfgraven kavels Bonnenpolder\\n19.     [appellanten sub 2] voeren aan dat er in het bp ten onrechte geen regeling is opgenomen over het afgraven van de kavels in de Bonnepolder. Dit zal toegestaan moeten worden voordat de Bonneweg in goede staat is hersteld en dat dient te geschieden voordat de werkzaamheden ter uitvoering van het nieuwe bestemmingsplan zullen gaan plaatsvinden.\\n19.1.  Uit de stukken en het verhandelde ter zitting is gebleken dat er enkele gronden moeten worden opgehoogd voor de voorziene natuurbegraafplaats. Hoe de gronden worden opgehoogd, is een kwestie van uitvoering. Het is niet vereist dat het bestemmingsplan dat al regelt.\\nHet betoog slaagt niet.\\nRecreatieve functie en natuurbegraven\\n20.     [appellant sub 1A] voert aan dat de voorziene natuurbegraafplaats en de recreatiefunctie binnen het plangebied niet te combineren zijn met elkaar. Hij vraagt zich ook af hoe de recreatieve activiteiten zich met de begrafenisplechtigheden verhouden.\\n20.1.  De raad stelt in zijn verweerschrift dat het natuurbegraven slechts op een klein deel van het totale natuurgebied mogelijk is. Daarbij is gekozen voor een zorgvuldige inpassing in de omgeving door middel van zogenaamde piëteitszones die de natuurbegraafplaats aan het zicht onttrekken. Op die manier is de diversiteit aan functies in het gebied volgens de raad goed met elkaar te verenigen.\\n20.2.  Onder verwijzing naar haar overzichtsuitspraak over het relativiteitsvereiste van 11 november 2020, ECLI:NL:RVS:2020:2706, overweegt de Afdeling ook hier dat in artikel 8:69a van de Awb ligt besloten dat degene die vernietiging van een besluit beoogt zich in beginsel niet met succes kan beroepen op belangen van anderen. Als zo’n eigen belang is bijvoorbeeld te beschouwen het belang van een appellant bij de bescherming van het woon- en leefklimaat in de directe omgeving van zijn woning. Dat een appellant stelt ook gebruik te maken van gronden in een gebied dat niet in de directe omgeving van zijn woning is gelegen, is echter niet voldoende om de mogelijke aantasting van bijvoorbeeld recreatieve functie van dit gebied als aantasting van zijn eigen belang te beschouwen.\\nDe Afdeling stelt vast dat [appellant sub 1A] op ongeveer 570 m afstand woont van de dichtstbijzijnde voorziene natuurbegraafplaats. Dat hij als recreant gebruik maakt van de Bonnenpolder is voldoende om de mogelijke aantasting van de recreatieve functie van de Bonnenpolder als zijn eigen belang te beschouwen. De Afdeling is daarom van oordeel dat het in artikel 8:69a van de Awb neergelegde relativiteitsvereiste hier in de weg staat aan een inhoudelijke beoordeling van deze beroepsgrond van [appellant sub 1A]. Deze beroepsgrond blijft daarom buiten inhoudelijke bespreking.\\nBereikbaarheid natuurbegraafplaats\\n21.     [appellanten sub 2] en [appellante sub 5] voeren aan dat de voorziene natuurbegraafplaats slecht bereikbaar is met zowel de auto als de fiets. Er is daarnaast geen goed openbaar vervoer en er zijn geen andere voorzieningen.\\n21.1.  De Afdeling ziet in hetgeen is aangevoerd niet in dat de bereikbaarheid van de voorziene natuurbegraafplaats van invloed is op het ondernemersklimaat van [appellanten sub 2] en van [appellante sub 5]. Op de zitting hebben [appellanten sub 2] en [appellante sub 5] ook geen aanknopingspunten gegeven voor een ander oordeel. Gelet hierop staat artikel 8:69a van de Awb eraan in de weg om het besluit te vernietigen vanwege de beroepsgrond over de bereikbaarheid van de voorziene natuurbegraafplaats.\\nDe betogen slagen niet.\\nAlternatieve locatie\\n22.     [appellanten sub 2] en [appellante sub 5] voeren aan dat de voorziene natuurbegraafplaats beter had gepast langs de Hoeksebaan.\\n22.1.  De raad stelt in zijn verweerschrift dat hij totaal een drietal opties heeft overwogen. De raad stelt dat de Hoeksebaan niet een geschikte locatie is. Deze locatie is weliswaar eveneens in de Bonnenpolder, maar dit gebied is niet in eigendom van de gemeente. Op de locatie waar het bestemmingsplan nu in voorziet wordt direct aangesloten op het Staelduinse bos waardoor een natuurlijke aansluiting ontstaat in het landschapstype. Op een afzonderlijke locatie in de polder werd dit duinbos ongewenst geacht. De raad meent dat hiermee toereikend is gemotiveerd waarom niet voor dat alternatief is gekozen.\\n22.2.  De Afdeling stelt vast dat de Hoeksebaan een weg is, die is gesitueerd ten zuiden van het plangebied. De Hoeksebaan is niet gesitueerd binnen het plangebied. De Afdeling overweegt dat [appellanten sub 2] en [appellante sub 5] niet hebben geconcretiseerd op welke gronden aan de Hoeksebaan zij doelen. Uit het verhandelde ter zitting is gebleken dat de Hoeksebaan een lange weg is en dat [appellanten sub 2] en [appellante sub 5] ter zitting ook niet concreet konden aanwijzen welke locatie zij voor ogen hebben. Gelet hierop slagen de betogen niet.\\nUitbreidingsmogelijkheden op het perceel van [appellanten sub 2]\\n23.     [appellanten sub 2] voeren aan dat de woning aan de [locatie 5] te Hoek van Holland ten onrechte is bestemd als burgerwoning. Volgens [appellanten sub 2] is de betreffende woning te dicht bij hun tuinbouwbedrijf gesitueerd en kan deze burgerbestemming het gebruik als tuinbouwbedrijf belemmeren als zij hun bedrijf zullen uitbreiden. In dat kader voeren [appellanten sub 2] ook aan dat ten onrechte hun uitbreidingsmogelijkheden uit het vorige bestemmingsplan niet zijn overgenomen in het bestreden plan. In het vorige bestemmingsplan hadden zij de mogelijkheid om hun kassen uit te breiden.\\n23.1.  Op de zitting hebben [appellanten sub 2] aangegeven dat het hen niet gaat om de bestemming van de woning aan de [locatie 5], maar meer om de omstandigheid dat de uitbreidingsmogelijkheden in het vorige bestemmingsplan niet zijn overgenomen in het bestreden plan.\\n23.2.  Naar aanleiding van het verhandelde ter zitting stelt de Afdeling vast dat de gronden die in eigendom zijn van [appellanten sub 2] en waar kassen op staan gesitueerd, niet binnen het plangebied zijn gesitueerd. De Afdeling stelt vast dat deze gronden in het ontwerpplan wel lagen binnen het plangebied. De Afdeling vat het betoog daarom op als een plangrensbezwaar. De raad komt beleidsruimte toe bij het bepalen van de begrenzingen van een bestemmingsplan. Deze ruimte strekt echter niet zo ver dat de raad een begrenzing kan vaststellen die in strijd is met een goede ruimtelijke ordening. In de nota van zienswijzen naar aanleiding van het ontwerpplan stelt de raad dat voor het glastuinbouwbedrijf van [appellanten sub 2] de keuze is gemaakt de plangrens van het bestemmingsplan Oranjebonnen buitenom dit perceel te leggen. Op deze wijze blijft het bestemmingsplan \"Hoek van Holland Buitengebied Noord en Oost II\" van 27 februari 1989 hier van toepassing en blijven daarmee ook de bestaande planologische mogelijkheden volledig intact. Gelet hierop stelt de raad dat het plan niet hoeft te voorzien in de uitbreidingsmogelijkheden op het perceel van [appellanten sub 2]. Onder deze omstandigheden is de Afdeling van oordeel dat de raad zich op het standpunt heeft kunnen stellen dat de vastgestelde planbegrenzing strekt ten behoeve van een goede ruimtelijke ordening.\\nHet betoog slaagt niet.\\nTwee woningen\\n24.     [appellanten sub 2] voeren aan dat zij twee woningen willen realiseren op hun perceel, omdat de voorziene natuurbegraafplaats zich volgens hen niet verdraagt met de tuinbouwbestemming. [appellanten sub 2] wijzen erop dat zij hierover met de gemeente al gesprekken hebben gevoerd.\\n24.1.  De Afdeling stelt vast dat de gronden van [appellanten sub 2] waar kassen op zijn gesitueerd geen onderdeel uitmaken van het plangebied van het bestreden plan. De raad heeft in zijn verweerschrift en op de zitting toegelicht dat het college welwillend staat tegenover het voorstel van [appellanten sub 2] om de kassen te slopen en twee woningen te realiseren. Dat staat echter in deze procedure over het bestemmingsplan niet ter toetsing. Als [appellanten sub 2] twee woningen willen realiseren op hun gronden dienen zij hiervoor een andere procedure te starten. Gelet op het vorenstaande ziet de Afdeling geen aanleiding voor het oordeel dat het plan in zoverre onzorgvuldig is voorbereid.\\nHet betoog slaagt niet.\\nGevolgen lange termijn\\n25.     [appellant sub 1A] voert aan dat onduidelijk is wat de gevolgen op lange termijn zijn van de voorziene natuurbegraafplaats. Volgens [appellant sub 1A] wordt de maatschappij geconfronteerd met eeuwigdurende grafrechten, waardoor ter plaatse geen andere functies meer mogelijk zijn, zoals agrarisch gebruik. NBN Ontwikkeling B.V. belooft volgens [appellant sub 1A] namelijk dat de stoffelijke overschotten eeuwig mogen blijven liggen, maar neemt hiervoor niet de verantwoordelijkheid.\\n25.1.  De raad stelt in zijn verweerschrift dat hij aan het initiatief om een relatief klein gedeelte van de Bonnenpolder te bestemmen voor natuurbegraven zijn medewerking heeft verleend aangezien er vraag is naar natuurbegraven. Natuurbegraven kenmerkt zich doordat een graf onder invloed van de natuur daar op een zeker moment volledig in opgaat. Het gaat hier om in totaal ongeveer 128 ha nieuwe natuur waarvan slechts 3 ha over een tijdspanne van ongeveer 40 jaar daadwerkelijk wordt gebruikt voor het begraven van mensen die een laatste rustplaats wensen in de natuur.\\n25.2.  Zoals de Afdeling hiervoor verscheidene malen heeft overwogen, kunnen appellanten tegen een besluit tot vaststelling van een bestemmingsplan op grond van de Wro, zoals hier aan de orde, opkomen met het oog op hun belang om gevrijwaard te blijven van aantasting van hun woon- en leefomgeving.\\n25.3.  [appellant sub 1A] woont op ongeveer 570 m afstand van de dichtstbijzijnde voorziene natuurbegraafplaats. De Afdeling stelt vast dat deze afstand te groot is om ter plaatse van de woning van [appellant sub 1A] feitelijke gevolgen van de voorziene natuurbegraafplaats te kunnen ondervinden. De met het plan mogelijk gemaakte bouw- en gebruiksmogelijkheden op de natuurbegraafplaats kunnen de woon- en leefomgeving van [appellant sub 1A] niet aantasten. Gelet hierop strekt de norm van een goede ruimtelijke ordening, als neergelegd in artikel 3.1 van de Wro, in dit verband niet tot bescherming van de belangen van [appellant sub 1A]. Gelet hierop staat artikel 8:69a van de Awb in de weg aan een inhoudelijke beoordeling van het betoog.\\nEerdere plannen\\n26.     [appellant sub 3] voert aan dat de raad ten onrechte eerdere plannen niet heeft uitgevoerd. Zo is de aangenomen motie van 20 november 2003 over de gebiedsvisie de Bonnen niet binnen de gestelde termijn uitgevoerd en zijn de besluiten van 21 december 2005 en 21 september 2006 ook niet uitgevoerd.\\n26.1.  De Afdeling stelt vast dat in deze procedure alleen het voorliggende plan ter beoordeling ligt. Het betoog slaagt reeds daarom niet.\\nBeginselen van behoorlijk bestuur\\n27.     [appellant sub 3] betoogt dat verschillende beginselen van behoorlijk bestuur zijn geschonden, in het bijzonder het fair play-beginsel, het evenredigheidsbeginsel, het rechtszekerheidsbeginsel, het gelijkheidsbeginsel en het vertrouwensbeginsel. Zo heeft de raad onder meer ten onrechte het algemeen belang zwaarder laten wegen dan de belangen van burgers die worden geconfronteerd met de impact van het bestreden besluit en de nadelige gevolgen daarvan. Natuurdoelen worden volgens hem ondergeschikt gemaakt aan het commerciële doel om een natuurbegraafplaats te exploiteren. Er kan volgens hem geen waarde worden toegekend aan bestuurlijk uitgesproken intenties, bestuurlijk gewekte verwachtingen, bestuurlijk gedane toezeggingen en bestuurlijk genomen besluiten bij het gebiedsontwikkelingsproces in de Bonnenpolder. Ook wijst hij erop dat hij in het verleden gedurende een ruime periode een rechtspositie heeft opgebouwd er in principe op mag vertrouwen dat deze rechtspositie kan worden voortgezet, dan wel dat hij bij gewijzigd beleid gecompenseerd wordt. Verder wijst hij erop dat aan iemand anders wel gemeentelijke landbouwgrond is gegeven, terwijl de gemeente niet bereid was om met hem in gesprek te gaan over een doorstart van zijn activiteiten op een gemeentelijke locatie.\\n27.1.  Uit de stukken en uit het verhandelde op de zitting is het de Afdeling duidelijk dat de gang van zaken in het verleden rond de Bonnenpolder [appellant sub 3] raakt. Ook is duidelijk geworden dat de rol van de gemeente bij de ontwikkeling van de voorziene natuurbegraafplaats hem raakt. De Afdeling is evenwel van oordeel dat uit het betoog van [appellant sub 3] en uit de door hem overgelegde stukken onvoldoende objectief blijkt dat de raad in strijd met de beginselen van behoorlijk bestuur of met vooringenomenheid heeft gehandeld bij de totstandkoming van het bestreden besluit. Gelet hierop slaagt het betoog niet.\\nFinanciële uitvoerbaarheid\\n28.     [appellant sub 1A] voert aan dat de financiële haalbaarheid van het plan niet inzichtelijk is gemaakt.\\n[appellant sub 3] voert aan dat de raad niet is geïnformeerd over de financiële paragraaf, een grondexploitatieplan en ook niet over een anterieure overeenkomst voor de voorziene natuurbegraafplaats. Hierover ontbreekt de gewenste transparantie. Er is bij de raad geen kennis over de inhoud van de afspraken met de gemeente Rotterdam en dat is voor volksvertegenwoordigers wel nodig om zich een oordeel te kunnen vormen over de vraag of het toestaan van een ontwikkeling ook leidt tot de gewenste publieke doelen. Dit alles terwijl het concept van een natuurbegraafplaats in de Bonnenpolder vooral voortkomt vanuit financiële motieven.\\n28.1.  Bij een beroep tegen een bestemmingsplan kan een betoog over de uitvoerbaarheid van dat plan, waaronder de financieel-economische uitvoerbaarheid, alleen leiden tot vernietiging van het bestreden besluit als de raad redelijkerwijs had moeten inzien dat het plan om financieel-economische of andere redenen op voorhand niet uitvoerbaar is.\\nIn hoofdstuk 9 van de plantoelichting staat dat het plan voorziet in een aantal nieuwe ontwikkelingen. Voor de natuurontwikkeling in combinatie met natuurbegraven zijn de gemeentelijke kosten gedekt via het sluiten van een anterieure overeenkomst tussen de gemeente Rotterdam en de afzonderlijke initiatiefnemers.\\nDe Afdeling ziet in het aangevoerde geen aanleiding voor het oordeel dat de raad zich niet op het standpunt mocht stellen dat er geen redenen zijn waarom het plan op voorhand niet uitvoerbaar is.\\n28.2.  Op de zitting heeft de raad toegelicht dat er geen aanwijzingen zijn dat hij onjuist zou zijn geïnformeerd over de financiële uitvoerbaarheid. [appellant sub 3] heeft ook geen objectief bewijs overgelegd ter ondersteuning van zijn betoog waaruit zou blijken dat de raad onvolledig is geïnformeerd over de financiële haalbaarheid van de voorziene natuurbegraafplaats.\\n28.3.  De betogen slagen niet.\\nZonnepark\\n29.     Ultimate Reduction Level Rotterdam B.V. betoogt dat de raad ten onrechte de gronden bij het Spuidijkje niet heeft bestemd voor een zonnepark.\\nZo voert Ultimate Reduction Level Rotterdam B.V. aan dat in de Startnotitie versnelling Zonne-energie (hierna: de Startnotitie) de gronden van de Oranjebuitenpolder zijn aangemerkt als locatie met de hoogste potentie voor het realiseren van zonne-energie. In dit kader wijst Ultimate Reduction Level Rotterdam B.V. erop dat er nauwelijks andere initiatieven zijn op het gebied van grondgebonden zonneparken binnen de gemeente Rotterdam en begrijpt zij daarom niet waarom de locatie Spuidijkje met een oppervlakte van 9 ha hier geen bijdrage aan kan leveren. Hierbij wijst zij er ook op dat op de gronden van de beoogde locatie voor het zonnepark sprake is van meervoudige grondgebruik, omdat er schapen kunnen blijven grazen.\\nVolgens Ultimate Reduction Level Rotterdam B.V. kan het beoogde zonnepark overeenkomstig de Landschapsvisie Oranjebonnen worden ingepast. De recreatieve functie wordt namelijk versterkt, doordat recreatief verkeer ongestoord langs de locatie kan worden afgewikkeld.\\nVerder voert Ultimate Reduction Level Rotterdam B.V. aan dat de gronden van het Spuidijkje geen archeologische en cultuurhistorische belemmeringen opleveren. Het huidige, volgens Ultimate Reduction Level Rotterdam B.V. kale, aangezicht straalt weinig cultuurhistorie uit en uit het archeologisch onderzoek dat gedaan is met het oog op de aanvraag van een omgevingsvergunning is gebleken dat er ter plaatse geen sporen uit het verleden gevonden zijn.\\nVoorts voert Ultimate Reduction Level Rotterdam B.V. aan dat de raad ten onrechte wijst op gewijzigd beleid. Het is onbehoorlijk om het beleid ten opzichte van de Startnotitie zo snel te veranderen met als reden dat schaarse open agrarische grond niet gebruikt mag worden. Ultimate Reduction Level Rotterdam B.V. wijst erop dat zij al voorbereidingen heeft getroffen voor het beoogde zonnepark en dat zij daarvoor inmiddels € 90.000,- aan kosten voor heeft gemaakt.\\nTot slot wijst Ultimate Reduction Level Rotterdam B.V. erop dat zij haar zonnepark sneller kan realiseren dan het voorziene zonnepark van de gemeente. Ook wijst zij erop dat zij al afspraken heeft gemaakt met netbeheerders Stedin en Westland Infra om het zonnepark aan te sluiten op het energienetwerk.\\n29.1.  De gronden van het Spuidijkje zijn gesitueerd binnen het plangebied nabij Polderhaakweg 29. Aan deze gronden is de bestemming \"Agrarisch\" toegekend. Binnen het plangebied ten westen van het oostelijke deel van het plangebied is aan enkele gronden de functieaanduiding \"specifieke vorm van bedrijf - zonnepark\" toegekend.\\nIn paragraaf 4.4.4. van de plantoelichting staat dat in de Oranjebuitenpolder langs het Oranjekanaal een zonnepark mogelijk wordt gemaakt op het voormalige slibdepot. Het zonnepark van ongeveer 25 ha levert een bijdrage van ongeveer 25 MW, wat een belangrijke bijdrage is om in 2022 het aandeel zonne-energie naar 150 MW te brengen en in 2030 uiteindelijk tot 750 MW.\\n29.2.  In de nota van zienswijzen en in het verweerschrift geeft de raad aan dat hij positief tegenover zonne-energie staat, maar dat hij het initiatief niet gewenst vindt op de locatie van het Spuidijkje. De raad stelt zich in zijn verweerschrift op het standpunt dat het bestemmingsplan een aanzienlijk zonnepark mogelijk gemaakt en dat het plan daarmee een bijdrage levert aan het gemeentelijke beleid op grond van de Startnotitie van duurzame energie. In hoofdstuk 6 van de Startnotitie staat aangegeven hoe de gemeente de opgave aan zonne-energie in 2018-2022 wil gaan opschalen. Onder de paragraaf \"Zon op velden\" staat dat moet worden onderzocht wat de mogelijkheden zijn om een zonnepark in Hoek van Holland te realiseren ter grootte van ongeveer 25 ha.\\nDe raad stelt, anders dan Ultimate Reduction Level Rotterdam B.V. aanvoert, dat er door de weigering om haar initiatief in het plan op te nemen, geen sprake is van handelen in strijd met de Startnotitie. In het plan is juist uitvoering aan dit beleid gegeven doordat de in de Startnota benoemde 25 ha zonnepark één op één in het plan is vertaald. Dat in de Startnota aan meer gronden in de Oranjebuitenpolder een hoge potentie van zonne-energie is toegekend, betekent niet dat die potentie ook volledig benut zou moeten worden, aldus de raad. Dat kan ook niet omdat er in het plangebied meerdere grondeigenaren zijn. Ook stelt de raad dat het ook planologisch ongewenst is om de Oranjebuitenpolder zijn overwegend agrarische bestemming te ontnemen.\\nDaarnaast heeft het Spuidijkje volgens de raad een cultuurhistorisch waardevolle structuur op grond van de Landschapsvisie Oranjebonnen. In hoofdstuk 2 van de Landschapsvisie Oranjebonnen staat dat de Oude Spuidijk en het Spuidijkje waardevolle cultuurhistorische structuren zijn. De raad meent dat ook als er vanuit archeologisch oogpunt geen beletselen tegen de keuze voor deze locatie als zonnepark zouden bestaan, dit niet maakt dat de raad die locatie anders zou behoren te waarderen nu deze locatie als landschappelijk zeer waardevol is beoordeeld en er sprake zou zijn van een ingrijpende bovengrondse wijziging van het landschap wanneer ter plekke een zonnepark zou worden gebouwd.\\nVoor zover Ultimate Reduction Level Rotterdam B.V. wijst op gewijzigd beleid, begrijpt de Afdeling dat betoog zo dat zij wijst op de Leidraad Zonne-energie. De raad stelt dat de Leidraad Zonne-energie op 21 september 2021 is vastgesteld door het college. In de Leidraad zonne-energie staat dat er sprake is van een nee, tenzij-principe. Dat houdt in dat ter plekke geen zonnepanelen worden geplaatst, omdat de open ruimte rondom Rotterdam schaars is. Enkelvoudige oplossingen horen daarom niet tot de mogelijkheden, tenzij het perceel geen andere waardevolle bestemming heeft zoals vuilstortplaatsen, zo staat in de Leidraad Zonne-Energie. De raad stelt dat hij beleidsruimte heeft en dat hij het belang van de bescherming van een waardevolle cultuurhistorische structuur zwaarder weegt dan het belang van Ultimate Reduction Level Rotterdam B.V.\\nDe Afdeling ziet, gelet op het aangevoerde, niet in waarom de raad zich niet op het standpunt mocht stellen dat hij een zonnepark op de locatie Spuidijkje niet passend vindt. De raad heeft dit voldoende gemotiveerd. Het is aan de raad om op basis van planologische inzichten en na afweging van alle betrokken belangen bestemmingen voor gronden vast te stellen.\\n29.3.  Dat Ultimate Reduction Level Rotterdam B.V. al kosten heeft gemaakt voor een zonnepark, wat daar ook van zij, doet aan het vorenstaande niet af. Ook de stelling dat zij een zonnepark sneller kan realiseren, leidt niet tot een ander oordeel.\\n29.4.  Het betoog slaagt niet.\\nHerhalen en inlassen zienswijzen\\n30.     [appellant sub 1A] voert aan dat er onvoldoende antwoord is gegeven op de door Zorgen om de Bonnen ingediende zienswijze.\\n[appellanten sub 2] en [appellante sub 5] verzoeken hetgeen Stichting Natuurbegraafplaats-waaromniet.nl in haar zienswijze naar voren heeft gebracht als herhaald en ingelast te beschouwen.\\n30.1.  In de \"Nota zienswijzen. Bestemmingsplan Oranjebonnen\" (hierna: de nota van zienswijzen) is ingegaan op de zienswijze van Zorgen om de Bonnen. Artikel 3:46 van de Awb verzet zich er niet tegen dat zienswijzen samengevat worden weergegeven. Dat niet op ieder argument ter ondersteuning van een zienswijze afzonderlijk is ingegaan, is op zichzelf geen aanleiding voor het oordeel dat het besluit tot vaststelling van het plan niet voldoende is gemotiveerd. Niet is gebleken dat bepaalde argumenten niet in de besluitvorming zijn betrokken.\\nOver het verzoek van [appellanten sub 2] en [appellante sub 5] om de inhoud van de zienswijze van Stichting Natuurbegraafplaats-waaromniet.nl als herhaald en ingelast in hun beroepschriften te beschouwen, overweegt de Afdeling dat in de nota van zienswijzen bij het bestreden besluit uitgebreid is ingegaan op deze zienswijze. [appellanten sub 2] en [appellante sub 5] hebben in hun beroepschriften noch op de zitting toegelicht waarom die weerlegging van de zienswijze onjuist zou zijn. Ook is niet onderbouwd dat de beantwoording van de zienswijze onvoldoende is gemotiveerd.\\n30.2.  De betogen slagen niet.\\nCONCLUSIE\\n31.     Het beroep van [appellant sub 1A], voor zover ingesteld door [appellant sub 1B], is niet-ontvankelijk. De beroepen van [appellanten sub 2], [appellant sub 3], Ultimate Reduction Level Rotterdam B.V., [appellante sub 5] en [appellant sub 1A] voor het overige zijn ongegrond.\\nPROCESKOSTEN\\n32.     De raad hoeft geen proceskosten te vergoeden.\\nBeslissing\\nDe Afdeling bestuursrechtspraak van de Raad van State:\\nI.        verklaart het beroep van [appellant sub 1A] en [appellant sub 1B] niet-ontvankelijk, voor zover ingesteld namens [appellant sub 1B];\\nII.       verklaart de beroepen van [appellant sub 1A] voor het overige, [appellant sub 2A] en [appellant sub 2B], [appellant sub 3], Ultimate Reduction Level Rotterdam B.V. en [appellante sub 5] en anderen ongegrond.\\nAldus vastgesteld door mr. P.H.A. Knol, voorzitter, en mr. G.O. van Veldhuizen en mr. J.C.A. de Poorter, leden, in tegenwoordigheid van mr. S.M.W. van Ewijk, griffier.\\nw.g. Knol\\nvoorzitter\\nw.g. Van Ewijk\\ngriffier\\nUitgesproken in het openbaar op 21 augustus 2024\\n867\\nBIJLAGE\\nArtikel 6.9 van de Omgevingsverordening Zuid-Holland luidt:\\n\"1. Een bestemmingsplan kan voorzien in een nieuwe ruimtelijke ontwikkeling, onder de volgende voorwaarden ten aanzien van ruimtelijke kwaliteit:\\na. de ruimtelijke ontwikkeling past binnen de bestaande gebiedsidentiteit, voorziet geen wijziging op structuurniveau, past bij de aard en schaal van het gebied en voldoet aan de relevante richtpunten van de kwaliteitskaart (inpassen);\\nb. als de ruimtelijke ontwikkeling past binnen de bestaande gebiedsidentiteit, maar wijziging op structuurniveau voorziet (aanpassen), wordt deze uitsluitend toegestaan mits de ruimtelijke kwaliteit per saldo ten minste gelijk blijft door:\\n1°. zorgvuldige inbedding van de ontwikkeling in de omgeving, rekening houdend met de relevante richtpunten van de kwaliteitskaart; en\\n2°. het zo nodig treffen van aanvullende ruimtelijke maatregelen als bedoeld in het derde lid;\\nc. als de ruimtelijke ontwikkeling niet past bij de bestaande gebiedsidentiteit (transformeren), wordt deze uitsluitend toegestaan mits de ruimtelijke kwaliteit van de nieuwe ontwikkeling is gewaarborgd door:\\n1°. een integraal ontwerp, waarin behalve aan de ruimtelijke kwaliteit van het gehele gebied ook aandacht is besteed aan de fysieke en visuele overgang naar de omgeving en de fasering in ruimte en tijd, alsmede rekening is gehouden met de relevante richtpunten van de kwaliteitskaart; en\\n2°. het zo nodig treffen van aanvullende ruimtelijke maatregelen als bedoeld in het derde lid.\\n2. Uitzonderingen vanwege beschermingscategorieën zijn:\\na. een bestemmingsplan voor een gebied met    beschermingscategorie 1, waarvan de plaats geometrisch is bepaald en verbeeld op kaart 14 in bijlage II, kan niet voorzien in een ruimtelijke ontwikkeling als bedoeld in het eerste lid, onder b en c, tenzij het gaat om de ontwikkeling van bovenlokale infrastructuur of van natuur of om een in het Programma ruimte uitgezonderde ruimtelijke ontwikkeling of een zwaarwegend algemeen belang en voorts wordt voldaan aan de onder b en c gestelde voorwaarden;\\nb. een bestemmingsplan voor een gebied met    beschermingscategorie 2, waarvan de plaats geometrisch is bepaald en verbeeld op kaart 14 in bijlage II, kan niet voorzien in een ruimtelijke ontwikkeling als bedoeld in het eerste lid, onder c, tenzij het gaat om de ontwikkeling van bovenlokale infrastructuur of van natuur of om een in het Programma ruimte uitgezonderde ruimtelijke ontwikkeling of een zwaarwegend algemeen belang en voorts wordt voldaan aan de onder c gestelde voorwaarden.\\n3. Aanvullende ruimtelijke maatregelen zijn:\\na. de aanvullende ruimtelijke maatregelen kunnen bestaan uit (een combinatie van):\\n1° duurzame sanering van leegstaande bebouwing, kassen en/of boom- en sierteelt;\\n2° wegnemen van verharding;\\n3° toevoegen of herstellen van kenmerkende landschapselementen;\\n4° andere maatregelen waardoor de ruimtelijke kwaliteit verbetert.\\nb. de onder a genoemde maatregelen worden in beginsel getroffen binnen hetzelfde plangebied als de voorgenomen ruimtelijke ontwikkeling, tenzij kan worden gemotiveerd dat dat niet mogelijk is. In dat geval kunnen ook ruimtelijke maatregelen elders in de motivering inzake ruimtelijke kwaliteit worden betrokken;\\nc. in afwijking van onder b kan het bevoegd gezag in plaats van het treffen van ruimtelijke maatregelen een (gedeeltelijke) financiële compensatie verlangen door middel van een storting in een kwaliteitsfonds, dat is ingesteld op basis van de door provinciale staten vastgestelde regeling voor kwaliteitsfondsen, mits de daadwerkelijke uitvoering van de compenserende ruimtelijke kwaliteitsmaatregelen afdoende is verzekerd.\\n4. Een bestemmingsplan dat een nieuwe ruimtelijke ontwikkeling mogelijk maakt als bedoeld in het eerste lid bevat een beeldkwaliteitsparagraaf, waarin het effect van deze ontwikkeling op de bestaande kenmerken en waarden wordt beschreven en waaruit blijkt dat de ruimtelijke kwaliteit ten minste gelijk blijft, voor zover het gaat om een ruimtelijke ontwikkeling:\\na. waarbij de richtpunten van de kwaliteitskaart in het geding zijn; of\\nb. die is gelegen op gronden binnen een beschermingscategorie als bedoeld in het tweede lid, onder a en b.\\n[…].\"'"
      ]
     },
     "execution_count": 99,
     "metadata": {},
     "output_type": "execute_result"
    }
   ],
   "execution_count": 99
  },
  {
   "metadata": {
    "ExecuteTime": {
     "end_time": "2024-08-27T09:11:04.169842Z",
     "start_time": "2024-08-27T09:11:04.157640Z"
    }
   },
   "cell_type": "code",
   "source": [
    "trefwoorden_list = driver.find_element(By.CSS_SELECTOR, \"ul.trefwoorden\")\n",
    "trefwoorden = trefwoorden_list.find_elements(By.CSS_SELECTOR, \"li\")"
   ],
   "id": "5a53290920726d5a",
   "outputs": [],
   "execution_count": 100
  },
  {
   "metadata": {
    "ExecuteTime": {
     "end_time": "2024-08-27T09:12:40.798258Z",
     "start_time": "2024-08-27T09:12:40.785601Z"
    }
   },
   "cell_type": "code",
   "source": [
    "for t in trefwoorden:\n",
    "    if t.get_attribute(\"title\").startswith(\"Proceduresoort\"):\n",
    "        print(t.text)"
   ],
   "id": "16e94a17fc7af365",
   "outputs": [
    {
     "name": "stdout",
     "output_type": "stream",
     "text": [
      "eerste aanleg - meervoudig\n"
     ]
    }
   ],
   "execution_count": 105
  },
  {
   "metadata": {
    "ExecuteTime": {
     "end_time": "2024-08-27T09:19:58.267889Z",
     "start_time": "2024-08-27T09:19:58.260884Z"
    }
   },
   "cell_type": "code",
   "source": [
    "try:\n",
    "    driver.find_element(By.CSS_SELECTOR, \"div#volledigete\").text\n",
    "except NoSuchElementException:\n",
    "    print(\"Element not found\")"
   ],
   "id": "46bc0c1e74c6aaf7",
   "outputs": [
    {
     "name": "stdout",
     "output_type": "stream",
     "text": [
      "Element not found\n"
     ]
    }
   ],
   "execution_count": 110
  },
  {
   "metadata": {
    "ExecuteTime": {
     "end_time": "2024-08-27T09:22:23.206965Z",
     "start_time": "2024-08-27T09:22:23.194464Z"
    }
   },
   "cell_type": "code",
   "source": "next_button = driver.find_element(By.CSS_SELECTOR, \"div.goto-next-result a\")",
   "id": "854819573f8e8c7b",
   "outputs": [],
   "execution_count": 111
  },
  {
   "metadata": {
    "ExecuteTime": {
     "end_time": "2024-08-27T09:22:31.089589Z",
     "start_time": "2024-08-27T09:22:30.354027Z"
    }
   },
   "cell_type": "code",
   "source": "next_button.click()",
   "id": "e0daf358a8c1ab5f",
   "outputs": [],
   "execution_count": 112
  },
  {
   "metadata": {
    "ExecuteTime": {
     "end_time": "2024-08-27T09:33:06.056146Z",
     "start_time": "2024-08-27T09:33:06.027336Z"
    }
   },
   "cell_type": "code",
   "source": [
    "try:\n",
    "    element = WebDriverWait(driver, 3).until(\n",
    "        EC.presence_of_element_located((By.CSS_SELECTOR, \"h1.grid-title\"))\n",
    "    )\n",
    "except TimeoutException:\n",
    "    print(\"Element not found\")"
   ],
   "id": "1dddbb20bc13c3fe",
   "outputs": [],
   "execution_count": 116
  },
  {
   "metadata": {
    "ExecuteTime": {
     "end_time": "2024-08-27T09:33:18.882733Z",
     "start_time": "2024-08-27T09:33:18.877798Z"
    }
   },
   "cell_type": "code",
   "source": "driver.title",
   "id": "73d1c10a80dcbc40",
   "outputs": [
    {
     "data": {
      "text/plain": [
       "'Uitspraak 202301845/1/R1 - Raad van State'"
      ]
     },
     "execution_count": 117,
     "metadata": {},
     "output_type": "execute_result"
    }
   ],
   "execution_count": 117
  },
  {
   "metadata": {
    "ExecuteTime": {
     "end_time": "2024-08-27T10:50:58.542682Z",
     "start_time": "2024-08-27T10:50:58.540231Z"
    }
   },
   "cell_type": "code",
   "source": [
    "from datetime import datetime\n",
    "import locale"
   ],
   "id": "e4e0699b9c40cac4",
   "outputs": [],
   "execution_count": 119
  },
  {
   "metadata": {
    "ExecuteTime": {
     "end_time": "2024-08-27T10:51:00.642429Z",
     "start_time": "2024-08-27T10:51:00.640433Z"
    }
   },
   "cell_type": "code",
   "source": [
    "def parse_dutch_datetime(date_string):\n",
    "    locale.setlocale(locale.LC_TIME, 'nl_NL')\n",
    "\n",
    "    try:\n",
    "        parsed_datetime = datetime.strptime(date_string, '%d %B %Y')\n",
    "        return parsed_datetime\n",
    "    except ValueError:\n",
    "        return datetime.min"
   ],
   "id": "8f56352b535d43d5",
   "outputs": [],
   "execution_count": 120
  },
  {
   "metadata": {
    "ExecuteTime": {
     "end_time": "2024-08-27T10:51:31.425159Z",
     "start_time": "2024-08-27T10:51:31.421640Z"
    }
   },
   "cell_type": "code",
   "source": [
    "def get_full_data(soup):\n",
    "\n",
    "    titel = soup.find(\"h1\", class_=\"grid-title\").get_text(strip=True).split(\"Uitspraak \")[1]\n",
    "    if len(titel) > 90:\n",
    "        titel = titel[:90]\n",
    "    print(\"Found entry \" + titel)\n",
    "    # if entry_already_exists(titel):\n",
    "    #     print(\"Duplicate found: \" + titel)\n",
    "    #     return\n",
    "\n",
    "    ecli = soup.find(\"div\", class_=\"rol-metadata-blok\").find(string=re.compile(\"ECLI:\")).get_text(strip=True)\n",
    "    datum = soup.find(string=re.compile(\"Datum uitspraak\")).find_next('dd').contents[0].get_text(strip=True)\n",
    "    datum_parsed = parse_dutch_datetime(datum)\n",
    "    samenvatting = soup.find(string=re.compile(\"Inhoudsindicatie\")).find_next('dd').contents[0].get_text(strip=True)\n",
    "\n",
    "    trefwoorden_element = soup.find(\"ul\", class_=\"trefwoorden\").find_all(\"li\")\n",
    "    trefwoorden = []\n",
    "    for trefwoord in trefwoorden_element:\n",
    "        tw_title = trefwoord.attrs[\"title\"]\n",
    "        if tw_title.startswith(\"Proceduresoort \"):\n",
    "            trefwoorden.append((\"proceduresoort\", tw_title.split(\"Proceduresoort \")[1]))\n",
    "        elif tw_title.startswith(\"Rechtsgebied \"):\n",
    "            trefwoorden.append((\"rechtsgebied\", tw_title.split(\"Rechtsgebied \")[1]))\n",
    "\n",
    "    inhoud = soup.find(\"div\", id=\"volledigetekst\").find(\"div\", class_=\"iprox-rich-content\").get_text()\n",
    "\n",
    "    return titel, ecli, datum_parsed, samenvatting, trefwoorden, inhoud"
   ],
   "id": "68589fbb20985636",
   "outputs": [],
   "execution_count": 121
  },
  {
   "metadata": {
    "ExecuteTime": {
     "end_time": "2024-08-27T10:55:39.985561Z",
     "start_time": "2024-08-27T10:55:37.182598Z"
    }
   },
   "cell_type": "code",
   "source": [
    "url = f\"https://www.raadvanstate.nl/uitspraken/?zoeken=true&zoeken_term=&pager_rows=&kalenderjaar=&actualiteit=&Zoe_Selected_facet%3AType%20uitspraak=111&Zoe_Selected_facet%3AProceduresoort=78&Zoe_Selected_facet%3AProceduresoort=75&Zoe_Selected_facet%3AProceduresoort=47&Zoe_Selected_facet%3AProceduresoort=142&Zoe_Selected_facet%3AProceduresoort=141&Zoe_Selected_facet%3AProceduresoort=51&Zoe_Selected_facet%3ARechtsgebied=73&Zoe_Selected_facet%3ARechtsgebied=82&Zoe_Selected_facet%3ARechtsgebied=102&Zoe_Selected_facet%3ARechtsgebied=85&Zoe_Selected_facet%3ARechtsgebied=101&Zoe_Selected_facet%3ARechtsgebied=57&Zoe_Selected_facet%3ARechtsgebied=58&Zoe_Selected_facet%3ARechtsgebied=59&Zoe_Selected_facet%3ARechtsgebied=60&Zoe_Selected_facet%3ARechtsgebied=61&Zoe_Selected_facet%3ARechtsgebied=38&Zoe_Selected_facet%3ARechtsgebied=63&Zoe_Selected_facet%3ARechtsgebied=56&Zoe_Selected_facet%3ARechtsgebied=65&Zoe_Selected_facet%3ARechtsgebied=66&Zoe_Selected_facet%3ARechtsgebied=67&Zoe_Selected_facet%3ARechtsgebied=68&Zoe_Selected_facet%3ARechtsgebied=69&Zoe_Selected_facet%3ARechtsgebied=70&Zoe_Selected_facet%3ARechtsgebied=104&Zoe_Selected_facet%3ARechtsgebied=121\"\n",
    "\n",
    "print(\"Scraping url \" + url)\n",
    "\n",
    "driver = webdriver.Firefox()\n",
    "driver.get(url)"
   ],
   "id": "50bd71023f2f94c3",
   "outputs": [
    {
     "name": "stdout",
     "output_type": "stream",
     "text": [
      "Scraping url https://www.raadvanstate.nl/uitspraken/?zoeken=true&zoeken_term=&pager_rows=&kalenderjaar=&actualiteit=&Zoe_Selected_facet%3AType%20uitspraak=111&Zoe_Selected_facet%3AProceduresoort=78&Zoe_Selected_facet%3AProceduresoort=75&Zoe_Selected_facet%3AProceduresoort=47&Zoe_Selected_facet%3AProceduresoort=142&Zoe_Selected_facet%3AProceduresoort=141&Zoe_Selected_facet%3AProceduresoort=51&Zoe_Selected_facet%3ARechtsgebied=73&Zoe_Selected_facet%3ARechtsgebied=82&Zoe_Selected_facet%3ARechtsgebied=102&Zoe_Selected_facet%3ARechtsgebied=85&Zoe_Selected_facet%3ARechtsgebied=101&Zoe_Selected_facet%3ARechtsgebied=57&Zoe_Selected_facet%3ARechtsgebied=58&Zoe_Selected_facet%3ARechtsgebied=59&Zoe_Selected_facet%3ARechtsgebied=60&Zoe_Selected_facet%3ARechtsgebied=61&Zoe_Selected_facet%3ARechtsgebied=38&Zoe_Selected_facet%3ARechtsgebied=63&Zoe_Selected_facet%3ARechtsgebied=56&Zoe_Selected_facet%3ARechtsgebied=65&Zoe_Selected_facet%3ARechtsgebied=66&Zoe_Selected_facet%3ARechtsgebied=67&Zoe_Selected_facet%3ARechtsgebied=68&Zoe_Selected_facet%3ARechtsgebied=69&Zoe_Selected_facet%3ARechtsgebied=70&Zoe_Selected_facet%3ARechtsgebied=104&Zoe_Selected_facet%3ARechtsgebied=121\n"
     ]
    }
   ],
   "execution_count": 129
  },
  {
   "metadata": {
    "ExecuteTime": {
     "end_time": "2024-08-27T10:55:52.771991Z",
     "start_time": "2024-08-27T10:55:52.577227Z"
    }
   },
   "cell_type": "code",
   "source": [
    "entry = driver.find_element(By.CSS_SELECTOR, \"div.rol-entry\")\n",
    "entry.click()"
   ],
   "id": "ba9f8650b2d47f9",
   "outputs": [],
   "execution_count": 130
  },
  {
   "metadata": {
    "ExecuteTime": {
     "end_time": "2024-08-27T10:57:14.200728Z",
     "start_time": "2024-08-27T10:57:14.194831Z"
    }
   },
   "cell_type": "code",
   "source": [
    "try:\n",
    "    next_button = WebDriverWait(driver, 3).until(\n",
    "        EC.presence_of_element_located((By.CSS_SELECTOR, \"div.goto-next-result a\"))\n",
    "    )\n",
    "except TimeoutException:\n",
    "    print(\"Driver timeout\")\n",
    "    driver.quit()"
   ],
   "id": "ff8e9fdd01ec9a2d",
   "outputs": [],
   "execution_count": 169
  },
  {
   "metadata": {
    "ExecuteTime": {
     "end_time": "2024-08-27T10:57:15.120082Z",
     "start_time": "2024-08-27T10:57:15.101507Z"
    }
   },
   "cell_type": "code",
   "source": [
    "link = driver.current_url\n",
    "\n",
    "soup = BeautifulSoup(driver.page_source, \"html.parser\")"
   ],
   "id": "db199dcf1897cbd8",
   "outputs": [],
   "execution_count": 170
  },
  {
   "metadata": {
    "ExecuteTime": {
     "end_time": "2024-08-27T10:57:15.578248Z",
     "start_time": "2024-08-27T10:57:15.575040Z"
    }
   },
   "cell_type": "code",
   "source": "titel, ecli, datum, samenvatting, trefwoorden, inhoud = get_full_data(soup)",
   "id": "be1397195618bf8a",
   "outputs": [
    {
     "name": "stdout",
     "output_type": "stream",
     "text": [
      "Found entry 202107665/1/R3\n"
     ]
    }
   ],
   "execution_count": 171
  },
  {
   "metadata": {
    "ExecuteTime": {
     "end_time": "2024-08-27T10:57:10.983927Z",
     "start_time": "2024-08-27T10:57:10.867828Z"
    }
   },
   "cell_type": "code",
   "source": "next_button.click()",
   "id": "527a670ba3395134",
   "outputs": [],
   "execution_count": 168
  },
  {
   "metadata": {
    "ExecuteTime": {
     "end_time": "2024-08-27T10:58:14.588331Z",
     "start_time": "2024-08-27T10:58:14.584818Z"
    }
   },
   "cell_type": "code",
   "source": "samenvatting",
   "id": "1477b42a01409a46",
   "outputs": [
    {
     "data": {
      "text/plain": [
       "'Bij besluit van 30 september 2021 heeft de raad van de gemeente Rotterdam het bestemmingsplan \"Oranjebonnen\" vastgesteld. Oranjebonnen is de aanduiding voor de Oranjebuitenpolder en de Bonnenpolder tussen Hoek van Holland en Maassluis. Het plan voorziet in de mogelijkheid om in dit agrarische gebied ruimte te bieden voor natuurontwikkeling en recreatieve voorzieningen, waarbij ook wordt ingezet op het versterken van de beleving van het gebied door behoud en ontwikkeling van landschappelijke en cultuurhistorische waarden. Het gaat om 128 ha nieuwe natuur waarvan 30 ha is bestemd voor de functie natuurbegraven. Het bestemmingsplan maakt op drie verschillende locaties tussen het Staelduinse bos en de Bonnenweg natuurbegraven mogelijk. Appellanten zijn het er niet mee eens zijn het er niet mee eens dat binnen het plangebied natuurbegraven mogelijk wordt gemaakt. Zij vrezen dat het natuurbegraven een negatieve invloed zal hebben op de mogelijkheden voor hun bedrijfsvoering.'"
      ]
     },
     "execution_count": 175,
     "metadata": {},
     "output_type": "execute_result"
    }
   ],
   "execution_count": 175
  },
  {
   "metadata": {
    "ExecuteTime": {
     "end_time": "2024-08-27T10:58:19.220520Z",
     "start_time": "2024-08-27T10:58:19.217336Z"
    }
   },
   "cell_type": "code",
   "source": "inhoud",
   "id": "4211e0d508ef02f1",
   "outputs": [
    {
     "data": {
      "text/plain": [
       "'\\n202107665/1/R3. Datum uitspraak: 21 augustus 2024\\nAFDELING BESTUURSRECHTSPRAAK\\nUitspraak in het geding tussen:\\n1.\\xa0\\xa0\\xa0\\xa0\\xa0\\xa0 [appellant sub 1A] en [appellant sub 1B], beiden wonend te Hoek van Holland, gemeente Rotterdam,2.\\xa0\\xa0\\xa0\\xa0\\xa0\\xa0 [appellant sub 2A] en [appellant sub 2B], beiden wonend te [woonplaats],3.\\xa0\\xa0\\xa0\\xa0\\xa0\\xa0 [appellant sub 3], wonend te Hoek van Holland, gemeente Rotterdam,4.\\xa0\\xa0\\xa0\\xa0\\xa0\\xa0 Ultimate Reduction Level Rotterdam B.V., gevestigd te Rotterdam,5.\\xa0\\xa0\\xa0\\xa0\\xa0\\xa0 [appellante sub 5] en anderen, gevestigd respectievelijk wonend te Hoek van Holland, gemeente Rotterdam (hierna tezamen en in enkelvoud: [appellante sub 5]),appellanten,\\nen\\nde raad van de gemeente Rotterdam,verweerder.\\nProcesverloop\\nBij besluit van 30 september 2021 heeft de raad het bestemmingsplan \"Oranjebonnen\" vastgesteld.\\nTegen dit besluit hebben [appellanten sub 1], [appellanten sub 2], [appellant sub 3], Ultimate Reduction Level Rotterdam B.V. en [appellante sub 5] beroep ingesteld.\\nDe raad heeft een verweerschrift ingediend.\\nNBN Ontwikkeling B.V. en [appellant sub 3] hebben nadere stukken ingediend.\\nZuid-Hollands Landschap, NBN Ontwikkeling B.V. en de erven van [partij] hebben een schriftelijke uiteenzetting gegeven.\\n[appellant sub 3], [appellanten sub 1], Ultimate Reduction Level Rotterdam B.V., [appellanten sub 2], NBN Ontwikkeling B.V. en de raad hebben nadere stukken ingediend.\\nDe Afdeling heeft de zaak ter zitting behandeld op 23 mei 2024, waar zijn verschenen:- [appellant sub 1B];- [appellanten sub 2], bijgestaan door mr. P.J.L.J. Duijsens, advocaat te Den Haag,- [appellant sub 3],- [appellante sub 5], vertegenwoordigd door mr. P.J.L.J. Duijsens, advocaat te Den Haag,\\xa0- de raad, vertegenwoordigd door mr. A. van der Vlist, mr. A. Dellaert, J. Sturm en I. Lauwers en bijgestaan door B.J.H. Koolstra Msc.\\nVoorts zijn ter zitting als partij gehoord:- NBN Ontwikkeling B.V., vertegenwoordigd door mr. M.J.J. de Winter, advocaat te Tholen, [gemachtigde A], [gemachtigde B] en [gemachtigde C],- Zuid-Hollands Landschap, vertegenwoordigd door [gemachtigde D] en [gemachtigde E],- Vereniging tot behoud van Natuurmonumenten in Nederland, vertegenwoordigd door [gemachtigde F].\\nOverwegingen\\n1.\\xa0\\xa0\\xa0\\xa0\\xa0\\xa0 Op 1 januari 2024 zijn de Omgevingswet en de Invoeringswet Omgevingswet in werking getreden. Op grond van artikel 4.6, derde lid, van de Invoeringswet Omgevingswet blijft op een beroep tegen een besluit tot vaststelling van een bestemmingsplan waarvan het ontwerp vóór het tijdstip van inwerkingtreding van de Omgevingswet ter inzage is gelegd het recht zoals dat gold onmiddellijk vóór dat tijdstip van toepassing tot het bestemmingsplan onherroepelijk is.\\nHet ontwerpplan is op 4 september 2020 ter inzage gelegd. Dat betekent dat op deze beroepsprocedure het recht, waaronder de Wet ruimtelijke ordening (hierna: de Wro), zoals dat gold vóór 1 januari 2024 van toepassing blijft.\\nINLEIDING\\n2.\\xa0\\xa0\\xa0\\xa0\\xa0\\xa0 Oranjebonnen is de aanduiding voor de Oranjebuitenpolder en de Bonnenpolder tussen Hoek van Holland en Maassluis. Het plan voorziet in de mogelijkheid om in dit agrarische gebied ruimte te bieden voor natuurontwikkeling en recreatieve voorzieningen, waarbij ook wordt ingezet op het versterken van de beleving van het gebied door behoud en ontwikkeling van landschappelijke en cultuurhistorische waarden. Het gaat om 128 ha nieuwe natuur waarvan 30 ha is bestemd voor de functie natuurbegraven. Het bestemmingsplan maakt op drie verschillende locaties tussen het Staelduinse bos en de Bonnenweg natuurbegraven mogelijk. In het noorden van het westelijke deel van het plangebied zijn aan twee stukken grond de functieaanduiding \"specifieke vorm van natuur - natuurbegraven in het duinbos\" toegekend. Op grond van artikel 10.1, aanhef en lid d, van de planregels wordt op deze gronden een natuurbegraafplaats ten behoeve van het begraven van lichamen en urnen mogelijk gemaakt. In het midden van het westelijke deel van het plangebied is aan een stuk grond de functieaanduiding \"specifieke vorm van natuur - natuurbegraven in de polder\" toegekend. Op grond van artikel 10.1, aanhef en lid e, van de planregels wordt op deze grond een natuurbegraafplaats ten behoeve van het begraven van urnen mogelijk gemaakt. Daarnaast maakt het plan onder meer een zonnepark van ongeveer 25 ha mogelijk langs het Oranjekanaal in de zuidwesthoek van de Oranjebuitenpolder.\\n2.1.\\xa0\\xa0\\xa0 [appellanten sub 2] zijn eigenaren van gronden aan de [locatie 1], waarop door een ander bedrijf een glastuinbouwbedrijf wordt geëxploiteerd. Het glastuinbouwbedrijf is op ongeveer 400 m van de dichtstbijzijnde voorziene natuurbegraafplaats gesitueerd. [appellante sub 5] is eigenaar van gronden aan de [locatie 2] te Hoek van Holland, waarop zij een tuinbouwbedrijf exploiteert, op ongeveer 550 m van het dichtstbijzijnde voorziene natuurbegraafplaats. Zowel [appellanten sub 2] als [appellante sub 5] zijn het er niet mee eens dat binnen het plangebied natuurbegraven mogelijk wordt gemaakt. Zij vrezen dat het natuurbegraven een negatieve invloed zal hebben op de mogelijkheden voor hun bedrijfsvoering.\\n[appellanten sub 1] hebben namens de actiegroep Zorgen om de Bonnen beroep ingesteld. Onder 5 en 6 van deze uitspraak zal de Afdeling nader op de ontvankelijkheid van deze actiegroep ingaan.\\n[appellant sub 3] woont aan de [locatie 3] te Hoek van Holland. Hij pachtte vroeger een boerderij op de gronden van het plangebied.\\nUltimate Reduction Level Rotterdam B.V. is een projectontwikkelaar die gespecialiseerd is in het realiseren van zonneparken. Ultimate Reduction Level Rotterdam B.V. wil graag op de gronden van het Spuidijkje nabij Polderhaakweg 29 in de Oranjebuitenpolder een zonnepark realiseren. Zij heeft op 29 juli 2021 een omgevingsvergunning voor de aanleg van het zonnepark aangevraagd. Het college van burgemeester en wethouders van de gemeente Rotterdam heeft deze omgevingsvergunning geweigerd.\\n3.\\xa0\\xa0\\xa0\\xa0\\xa0\\xa0 NBN Ontwikkeling B.V., het Zuid-Hollands Landschap en Vereniging tot behoud van Natuurmonumenten in Nederland zijn de initiatiefnemers voor de voorziene natuurbegraafplaats. De erven van [partij] hebben aan NBN Ontwikkeling B.V. gronden verkocht in de Bonnenpolder. Op de zitting is gebleken dat enkele van deze gronden beschikbaar worden voor natuurbegraven.\\nOPZET VAN DE UITSPRAAK\\n4.\\xa0\\xa0\\xa0\\xa0\\xa0\\xa0 In het onderstaande zal de Afdeling de beroepsgronden gericht tegen het vastgestelde bestemmingsplan bespreken. Omdat de beroepsgronden van [appellanten sub 1], [appellanten sub 2], [appellant sub 3] en [appellante sub 5] elkaar op sommige punten overlappen, worden in deze uitspraak de beroepsgronden per onderwerp behandeld en niet per partij. Het beroep van Ultimate Reduction Level Rotterdam B.V. kent geen overlap en zal dan ook zelfstandig besproken worden. In de uitspraak komen de volgende onderwerpen aan de orde:\\n- participatie (overweging 8);- omgevingsverordening Zuid-Holland (overweging 9);- strijd met gemeentelijk beleid (overweging 10);- uitstoot Natura 2000-gebied (overweging 11);- bedrijfsvoering wordt verstoord (overwegingen 12-18);- afgraven kavels Bonnenpolder (overweging 19);- recreatieve functie en natuurbegraven (overweging 20);- bereikbaarheid natuurbegraafplaats (overweging 21);- alternatieve locatie (overweging 22);- uitbreidingsmogelijkheden op het perceel van [appellanten sub 2] (overweging 23);- twee woningen (overweging 24);- gevolgen lange termijn (overweging 25);- eerdere plannen (overweging 26);- beginselen van behoorlijk bestuur (overweging 27);- financiële uitvoerbaarheid (overweging 28);- zonnepark (overweging 29);- herhalen en inlassen zienswijzen (overweging 30).\\nAan het einde van de uitspraak staat de conclusie (overwegingen 31 en 32).\\nONTVANKELIJKHEID VERMEULEN EN RIETKERK-VERMEULEN\\n5.\\xa0\\xa0\\xa0\\xa0\\xa0\\xa0 [appellanten sub 1] hebben beroep ingesteld namens de actiegroep Zorgen om de Bonnen. De Afdeling stelt vast dat Zorgen om de Bonnen geen bij notariële akte opgerichte rechtspersoon is en niet over statuten beschikt. Zorgen om de Bonnen is ook niet een vereniging met beperkte rechtsbevoegdheid, ook wel informele vereniging genoemd, in de zin van artikel 2:26 van het Burgerlijk Wetboek. De Afdeling komt tot die vaststelling op grond van de overgelegde stukken en hetgeen op zitting is besproken. [appellanten sub 1] hebben desgevraagd nader toegelicht dat zij opkomen voor de bezorgde bewoners van de Bonnenpolder van Hoek van Holland en omstreken en voor de tuinders in en grenzend aan de Bonnenpolder en dat de actiegroep in het leven is geroepen om op te komen voor alle rechten en belangen van deze personen. Op de zitting heeft [appellant sub 1B] nader toegelicht dat er geen ledenbestand is en geen bestuur. Er werd voorheen wel eens een nieuwsbrief verstuurd, maar de laatste jaren wordt dit ook niet meer gedaan, aldus [appellant sub 1B]. Zorgen om de Bonnen voldoet daarmee niet aan de in de uitspraak van 12 maart 2008, ECLI:NL:RVS:2008:BC6406, genoemde cumulatieve vereisten waaraan moet zijn voldaan om te concluderen dat sprake is van een informele vereniging.\\nDe Afdeling merkt daarom het beroep van Zorgen om de Bonnen aan als een beroep van de twee natuurlijke personen [appellanten sub 1].\\n6.\\xa0\\xa0\\xa0\\xa0\\xa0\\xa0 De Afdeling stelt vast dat [appellanten sub 1] geen zienswijze op het ontwerpbesluit hebben ingediend, waarmee hun beroep op voorhand ontvankelijk zou zijn (zie daartoe ECLI:NL:RVS:2021:786 en ECLI:NL:RVS:2021:953). De Afdeling ziet zich daarom gesteld voor de vraag of [appellanten sub 1] belanghebbende zijn en hun beroep daarmee ontvankelijk is.\\nIn artikel 1:2, eerste lid, van de Awb, staat dat onder belanghebbende wordt verstaan: degene wiens belang rechtstreeks bij een besluit is betrokken. Wie rechtstreeks feitelijke gevolgen ondervindt van een activiteit die het besluit - zoals een bestemmingsplan of een vergunning - toestaat, is in beginsel belanghebbende bij dat besluit. Het criterium \"gevolgen van enige betekenis\" van de activiteit dient als correctie op dit uitgangspunt. Zonder gevolgen van enige betekenis heeft een betrokkene geen persoonlijk belang bij het besluit. Hij onderscheidt zich dan onvoldoende van anderen. Om te bepalen of er gevolgen van enige betekenis voor de woon-, leef- of bedrijfssituatie van een betrokkene zijn, wordt acht geslagen op de factoren afstand tot, zicht op, planologische uitstraling van en milieugevolgen (o.a. geur, geluid, licht, trilling, emissie, risico) van de activiteit die het besluit toestaat, waarbij die factoren zo nodig in onderlinge samenhang worden bezien. Ook aard, intensiteit en frequentie van de feitelijke gevolgen kunnen van belang zijn.\\nOp de zitting heeft [appellant sub 1B] desgevraagd toegelicht dat [appellant sub 1A] woont aan de [locatie 4] in Hoek van Holland en dat zij zelf woont aan de Theeboomstraat in Rotterdam. De Afdeling stelt vast dat [appellant sub 1A] woont naast het plangebied en dat [appellant sub 1B] woont op ongeveer 630 m afstand van het plangebied. De Afdeling is, gelet hierop, van oordeel dat [appellant sub 1A] belanghebbende is bij het bestreden besluit. De Afdeling is daarnaast van oordeel dat [appellant sub 1B], gelet op de afstand tot het plangebied, geen gevolgen van enige betekenis ondervindt van de voorziene ontwikkeling. Dat betekent dat [appellant sub 1B] geen belanghebbende is bij het bestreden besluit. De Afdeling zal daarom alleen de beroepsgronden die [appellant sub 1A] heeft ingediend behandelen voor zover deze beroepsgronden de individuele belangen van [appellant sub 1A] raken.\\nTOETSINGSKADER\\n7.\\xa0\\xa0\\xa0\\xa0\\xa0\\xa0 Bij de vaststelling van een bestemmingsplan moet de raad bestemmingen aanwijzen en regels geven die de raad uit het oogpunt van een goede ruimtelijke ordening nodig acht. De raad heeft daarbij beleidsruimte en moet de betrokken belangen afwegen. De Afdeling oordeelt niet zelf of het plan in overeenstemming is met een goede ruimtelijke ordening. De Afdeling beoordeelt aan de hand van de beroepsgronden of het besluit tot vaststelling van het bestemmingsplan in overeenstemming is met het recht. Daarbij kan aan de orde komen of de nadelige gevolgen van het plan onevenredig zijn in verhouding tot de met het plan te dienen doelen.\\nParticipatie\\n8.\\xa0\\xa0\\xa0\\xa0\\xa0\\xa0 [appellant sub 1A] en [appellant sub 3] stellen dat er op onjuiste, dan welonvoldoende participatie heeft plaatsgevonden bij de voorbereiding van het plan.\\n[appellant sub 1A] voert aan dat de participatie geforceerd was en de bevolking is misleid met ateliers, uitjes, reclames en sociale media.\\n[appellant sub 3] voert aan dat hij zich onvoldoende gehoord voelt. Volgens hem weigert de gemeente contact met hem. Er is door de verantwoordelijke wethouder ook niet inhoudelijk gereageerd op zijn brieven van 3 januari 2011, 17 maart 2011, 25 september 2011 en 30 mei 2014. Daarnaast werd er aan hem soms te laat of soms zelfs helemaal geen informatie gegeven over de voorziene ontwikkeling.\\n8.1.\\xa0\\xa0\\xa0 De raad stelt in zijn verweerschrift dat er voorafgaande aan de terinzagelegging van het ontwerpbestemmingsplan verschillende inloopavonden zijn georganiseerd en dat er werkateliers zijn georganiseerd over de invulling van het plangebied.\\n8.2.\\xa0\\xa0\\xa0 Afgezien van het feit dat niet in geschil is dat er verschillende vormen van inspraak hebben plaatsgevonden, is het bieden van inspraak voorafgaande aan de terinzagelegging van het ontwerpbestemmingsplan geen verplichting op grond van de Wro en het Besluit ruimtelijke ordening geregelde bestemmingsplanprocedure. De wijze waarop al dan niet invulling is gegeven aan inspraak in die fase heeft daarom geen gevolgen voor de rechtmatigheid van het besluit tot vaststelling van het bestemmingsplan.\\nDe betogen slagen niet.\\nOmgevingsverordening Zuid-Holland\\n9.\\xa0\\xa0\\xa0\\xa0\\xa0\\xa0 [appellanten sub 2] en [appellante sub 5] voeren aan dat het plan in strijd is met artikel 6.9 van de Omgevingsverordening Zuid-Holland, omdat de voorziene natuurbegraafplaats de structuur van het gebied aantast. De huidige functie van het gebied is namelijk agrarisch en die functie wordt gewijzigd in recreatie en natuurgebied met ruimte voor natuurbegraven. De voorziene natuurbegraafplaats doet afbreuk aan de bestaande cultuurhistorische en landschappelijke structuren en elementen. Er is dan ook geen sprake van \"aanpassing\" zoals bedoeld in artikel 6.9 van de Omgevingsverordening Zuid-Holland.\\n9.1.\\xa0\\xa0\\xa0 Het op deze beroepsgrond betrekking hebbend wettelijk kader is opgenomen in de bijlage bij deze uitspraak.\\n9.2.\\xa0\\xa0\\xa0 In paragraaf 2.2.2 van de plantoelichting staat dat het bestemmingsplan zich in hoofdzaak richt op de ontwikkeling van nieuwe natuur en recreatie binnen de Oranjebuiten- en Bonnenpolder in Hoek van Holland. Het bestemmingsplan staat diverse afzonderlijke ontwikkelingen toe die bijdragen aan de meer algemene ontwikkeling van natuur en recreatie. Zo voorziet het bestemmingsplan onder meer in de realisatie van een nieuw natuurgebied met ruimte voor natuurbegraven, het opwekken van duurzame energie, sanering van een glaslocatie en recreatiemogelijkheden. Het ligt volgens de raad dan ook voor de hand om het plan als geheel te toetsen aan het provinciaal beleid in plaats van ieder daarin opgenomen (deel)project afzonderlijk. Het bestemmingsplan als geheel laat zien dat er sprake is van ontwikkelingen die de structuur in bepaalde delen van het landschap aanpassen. Op basis daarvan, zo betoogt de raad, is er geen sprake van inpassing zoals bedoeld in het provinciaal beleid. Aan de andere kant is de ontwikkeling niet zo ingrijpend dat er na realisatie sprake is van een compleet nieuw landschap. De huidige functie van het gebied (agrarisch) blijft bestaan. Deze functie wordt aangevuld met recreatiemogelijkheden en de ontwikkeling van nieuwe natuur. Ook voorziet het plan in de versterking en het herstel van de bestaande cultuurhistorische en landschappelijke structuren en elementen. Volgens de raad is met het bestemmingsplan Oranjebonnen dan ook sprake is van aanpassing, zoals bedoeld in het provinciaal beleid.\\n9.3.\\xa0\\xa0\\xa0 Tussen partijen is in geschil of er sprake is van \"aanpassen\" of van\\xa0 \"transformeren\" als bedoeld in artikel 6.9, eerste lid, aanhef en onder b en c, van de Omgevingsverordening Zuid-Holland.\\nAnders dan wat [appellanten sub 2] en [appellante sub 5] betogen, is de Afdeling wel van oordeel dat in dit geval sprake is van aanpassen als bedoeld in artikel 6.9, eerste lid, onder b, van de Omgevingsverordening Zuid-Holland. In de toelichting bij de Omgevingsverordening Zuid-Holland staat dat van aanpassen sprake is bij een ontwikkeling die aansluit bij de huidige identiteit van een gebied, maar die op structuurniveau in wijzigingen of aanvullingen voorziet. Een voorbeeld is volgens de toelichting de aanleg of verbreding van een provinciale weg, een beperkt aantal nieuwe woningen in het buitengebied of een nieuw landgoed. Bewoners en gebruikers uit de bestaande omgeving merken duidelijk invloed van de nieuwe ontwikkeling, aldus de toelichting.\\nIn dit geval past de ontwikkeling binnen de bestaande gebiedsidentiteit. Het is niet zo dat er na de ontwikkeling een geheel nieuw landschap ontstaat. Weliswaar vindt er binnen het plangebied een verandering plaats, omdat er recreatiemogelijkheden worden gecreëerd en nieuwe natuur wordt ontwikkeld, maar de huidige agrarische functie van het gebied blijft grotendeels bestaan.\\n9.4.\\xa0\\xa0\\xa0 Omdat er sprake is van ‘aanpassen’ als bedoeld in artikel 6.9, eerste lid, aanhef en onder b, van de Omgevingsverordening Zuid-Holland geldt dat een plan mag voorzien in een nieuwe ruimtelijke ontwikkeling, mits de ruimtelijke kwaliteit per saldo ten minste gelijk blijft door zorgvuldige inbedding van die ontwikkeling in de omgeving, rekening houdend met de relevante richtpunten van de kwaliteitskaart en dat zo nodig aanvullende maatregelen moeten worden getroffen.\\n9.5.\\xa0\\xa0\\xa0 Op de zitting hebben [appellanten sub 2] en [appellante sub 5] desgevraagd aangegeven dat hun betoog ziet op de kwaliteitskaart \\'laag van cultuur- en natuurlandschappen\\'. De locatie van het plangebied is op de kwaliteitskaart \\'laag van de cultuur- en natuurlandschappen\\' aangemerkt als \\'zeekleipolder\\'. Op de kwaliteitskaart zijn de volgende richtpunten opgenomen ter plaatse van het plangebied:\\n\"- Ontwikkelingen dragen bij aan het versterken van de karakteristieke kenmerken van de eilanden en de verschillen daartussen.\\n- Ontwikkelingen aan de rand van de eilanden passen bij de maat en schaal van de dijk en de deltawateren.\\n- Herkenbaar houden van het patroon van (ronde) opwas- en (langgerekte) aanwaspolders door behouden en versterken van de (beplante) dijk als herkenbare landschappelijke structuurdrager in contrast met de grootschalig, open polder.\\n- Versterken van de kreek als herkenbare landschappelijke structuurdrager van het zeekleilandschap.\\n- Bebouwing concentreert zich in of bij compacte kernen, niet in het open middengebied van de polders.\\n- Behoud van het contrast tussen de binnendijkse akkerbouwpolders en buitendijkse natuur.\"\\n9.6.\\xa0\\xa0\\xa0 De Afdeling stelt voorop dat de enkele omstandigheid dat met het plan mogelijk niet wordt voldaan aan alle relevante richtpunten van de kwaliteitskaart, niet betekent dat zich reeds om die reden strijd voordoet met artikel 6.9, eerste lid, aanhef en onder b, van de Omgevingsverordening Zuid-Holland. Uit dit onderdeel van het artikellid immers volgt niet dat moet worden voldaan aan alle relevante richtpunten van de kwaliteitskaart, maar dat daarmee rekening moet worden gehouden (vergelijk de uitspraak van de Afdeling van 24 april 2019, ECLI:NL:RVS:2019:1352, onder 7.2).\\nOp de zitting hebben [appellanten sub 2] en [appellante sub 5] aangevoerd dat zij vrezen voor een aantasting van het zeekleipolderlandschap omdat er enorm veel grond zal worden afgegraven om de gronden waarop wordt voorzien in natuurbegraven op te hogen. In paragraaf 4.4 van de plantoelichting is ingegaan op alle ontwikkelingen die het plan mogelijk maakt en in hoeverre deze ontwikkelingen bijdragen aan de kenmerken en kwaliteit van het gebied. De raad stelt dat de aanwezige kwaliteit van het kleinschalige en open cultuurlandschap behouden blijft en cultuurhistorische elementen waar mogelijk worden versterkt met de natuurontwikkeling. Door het voorziene natuurbegraven blijft het herkenbare karakter van de Bonnenpolder behouden en is het open polderlandschap voor toekomstige generaties veiliggesteld, aldus de raad. Volgens de raad blijven cultuurhistorische elementen behouden of worden hersteld en beschermd waaronder de Bonnendijk en het Kerkepad, de waterlopen zijn in het bestemmingsplan vastgelegd en de oude kreek van de Rel wordt verbreed en voorzien van natuurvriendelijke oevers. Elementen en structuren worden beleefbaar gemaakt, aldus de raad. De Afdeling ziet in hetgeen is aangevoerd niet dat het zeekleipolder wordt aangetast door de voorziene ontwikkeling.\\nNaar het oordeel van de Afdeling blijkt uit het vorenstaande verder dat voldoende aandacht is besteed aan de voor dit geval relevante richtpunten van de kwaliteitskaart van de Omgevingsverordening.\\n9.7.\\xa0\\xa0\\xa0 Gelet op het vorenstaande is de Afdeling van oordeel dat de raad het plan niet heeft vastgesteld in strijd met artikel 6.9 van de Omgevingsverordening Zuid-Holland.\\nDe betogen slagen niet.\\nStrijd met gemeentelijk beleid\\n10.\\xa0\\xa0\\xa0\\xa0 [appellant sub 1A], [appellanten sub 2], [appellant sub 3] en [appellante sub 5] betogen dat de voorziene natuurbegraafplaats in strijd is met het Ontwikkelplan Oranjebonnen. Daarnaast betoogt [appellant sub 3] ook dat de voorziene natuurbegraafplaats in strijd is met Ambitiedocument Oranjebonnen.\\n[appellant sub 1A] voert aan dat natuurbegraven in strijd is met het Ontwikkelplan Oranjebonnen. Hij vraagt zich af of de doelstellingen in het Ontwikkelplan wel haalbaar zijn.\\n[appellanten sub 2] en [appellante sub 5] voeren aan dat de natuurbegraafplaats in strijd is met de Ontwikkelplankaart uit het Ontwikkelplan Oranjebonnen. De gronden in de Bonnenpolder werden in dat plan aangeduid als landschappelijk waardevol agrarisch gebied. De Korte Bonnen en de Lange Bonnen werden geduid als gronden voor agrarisch en licht recreatief gebruik. Het initiatief om een natuurbegraafplaats in de Bonnenpolder te realiseren past dan ook naar hun mening niet binnen die kaders. Het grasland dient als foerageergebied in stand te blijven en de natuurdoelen voor een bloemrijk grasland en een nat schraalgrasland dienen eveneens gehandhaafd te blijven. Het gebied dient dus open te blijven en dient niet bebost te worden.\\n[appellant sub 3] voert aan dat de voorziene ontwikkeling in strijd is met het Ontwikkelplan Oranjebonnen en het Ambitiedocument Oranjebonnen. Volgens hem wordt er ten onrechte vanwege een privaat belang een natuurbegraafplaats mogelijk gemaakt. Hij wijst erop dat het schrijnend is om te moeten constateren dat wat in het Ambitiedocument Oranjebonnen nog een kwaliteit wordt genoemd, te weten het oorspronkelijke open cultuurlandschap met een duidelijk herkenbare ontginningsgeschiedenis, ineens deels getransformeerd zou moeten worden in een kunstmatig duinbos en nieuwe natuur, waarmee op geen enkele wijze recht wordt gedaan aan de eerder benoemde kwaliteiten.\\n10.1.\\xa0 Op 10 mei 2016 is het Ontwikkelplan Oranjebonnen vastgesteld door het college. Op de Ontwikkelkaart in het Ontwikkelplan Oranjebonnen zijn de gronden waar natuurbegraven mogelijk wordt gemaakt bestemd als \"landschappelijk waardevol gebied\" en \"agrarisch en licht recreatief gebruik\". Het meerderendeel van het natuurbegraven zal plaatsvinden op gronden met de bestemming \"agrarisch en licht recreatief gebruik\". Slechts op een klein deel van de gronden bestemd als \"landschappelijk waardevol gebied\" wordt natuurbegraven mogelijk gemaakt.\\n10.2.\\xa0 In paragraaf 3.3.1 van het Ontwikkelplan Oranjebonnen staat dat in het agrarische gebied met een lichtgroene kleur voorzieningen voor licht recreatief gebruik welkom zijn. Vervolgens worden enkele voorbeelden genoemd van dergelijke voorzieningen, zoals een bed & breakfast in bestaande bebouwing, trekkershutten en een uitkijktoren. Voor landschappelijk waardevol gebied is geen aparte paragraaf in het Ontwikkelplan opgenomen. Ook worden geen voorbeelden van voorzieningen voor deze gronden genoemd.\\n10.3.\\xa0 In paragraaf 2.4 van het Ontwikkelplan Oranjebonnen staan de doelstellingen van het Ontwikkelplan weergegeven. Die doelstellingen zijn gebaseerd op het Ambitiedocument Oranjebonnen Hoek van Holland. Deze doelstellingen zijn het vergroten van de ruimtelijke groenbelevering door een recreatief netwerk en recreatieve voorzieningen, het versterken van de biodiversiteit, het versterken van (agrarisch) ondernemerschap en het realiseren van een sterk imago voor de Oranjebonnen.\\nIn paragraaf 3.3.4 van het Ontwikkelplan Oranjebonnen staat onder meer dat de functie van \"natuurbegraafplaats (geen besloten boomgaard aanwezig in open polderlandschap)\" ongewenst is, gezien de doelen uit het Ambitiedocument Oranjebonnen.\\n10.4.\\xa0 Uit paragraaf 1.1 van de plantoelichting volgt dat de raad het door het college ontwikkelde beleid Ontwikkelplan Oranjebonnen als uitgangspunt heeft gebruikt voor het vaststellen van het bestreden plan. In dit geval heeft de raad op de zitting desgevraagd toegelicht dat het Ambitiedocument uit 2013 is en dat het uitgangspunt altijd is geweest dat de recreatiefunctie in de polder moet worden versterkt en het bijzondere polderlandschap zo veel mogelijk moet worden behouden. Het Ontwikkelplan is in 2016 vastgesteld. Inmiddels is door verloop van tijd gebleken dat de agrarische bedrijfsvoering op lange termijn niet houdbaar zou zijn om de polder vitaler te houden. Daarom is ingezet op een economische transformatie van beide polders met behoud van de ruimtelijke kwaliteit en waarden van de Oranjebonnen en op het realiseren van recreatieve en ecologische voorzieningen. In zijn verweerschrift stelt de raad dat er sprake is van een ontwikkeling in de Bonnenpolder waarbij op termijn onrendabele agrarische gronden tot natuur worden omgevormd. De bestaande natuur in Hoek van Holland, waaronder het aangrenzende Staelduinse bos wordt daardoor uitgebreid, versterkt en toekomstbestendig gemaakt.\\n10.5.\\xa0 In de nota van zienswijzen stelt de raad dat aan de doelstellingen van het Ontwikkelplan wordt voldaan. Zo maakt de ontwikkeling van de natuurbegraafplaats het mogelijk om extra natuur toe te voegen. De voorziene natuurbegraafplaats is vooral een natuurgebied, maar heeft zo ook\\xa0 een extra functie. De natuurontwikkeling met als onderdeel daarvan een natuurbegraafplaats, draagt bij aan de beleving van de Bonnenpolder door het openstellen van extra natuur voor publiek, door de investering in natuurontwikkeling en door het versterken en beschermen van cultuurhistorisch en ecologisch waardevolle elementen, aldus de raad. Daarbij is van belang dat de raad stelt dat de openheid van het gebied niet wordt aangetast. Zo betoogt de raad in zijn verweerschrift dat het voorziene natuurbegraven een onderdeel vormt van een veel groter natuurgebied en dat door de piëteitszones mensen in mindere mate met begraven geconfronteerd worden en toch kunnen genieten van de nieuwe natuur. In het \"Inrichtings- en beheerplan natuur in de Bonnen\" van RPS advies- en ingenieursbureau B.V. van 17 mei 2021, opgenomen als bijlage 3 bij de planregels, (hierna: het Inrichtings- en beheerplan) is beschreven dat in de ontwikkeling van de Bonnenpolder het behoud en de karakteristieke openheid van het polderlandschap en de versterking van de natuurwaarden centraal staan. De Bonnenpolder blijft daarmee een open gebied dat wordt ontwikkeld tot natuur. Door uitbreiding van het Staelduinse bos en een gedeeltelijke ophoging daarvan ter hoogte van de noordzijde van de Bonnenpolder wordt duinbos ontwikkeld. Dit gaat verdroging tegen en er ontstaat meer ruimte voor planten en dieren in het gebied, zo volgt uit het Inrichtings- en beheerplan.\\n10.6.\\xa0 Gelet op het vorenstaande is de Afdeling van oordeel dat de raad zich op het standpunt mocht stellen dat er weliswaar een natuurbegraafplaats mogelijk wordt gemaakt, maar dat de openheid van het polderlandschap daardoor niet dusdanig wordt aangetast dat natuurbegraven achterwege gelaten zou moeten worden. Hetgeen [appellant sub 1A], [appellanten sub 2], [appellant sub 3] en [appellante sub 5] hierover hebben aangevoerd geeft geen aanleiding voor het oordeel dat de raad onder deze omstandigheden na afweging van alle betrokken belangen niet deels in afwijking van het in het Ontwikkelplan Oranjebonnen en het Ambitiedocument Oranjebonnen gehanteerde beleid heeft kunnen besluiten tot de voorziene natuurbegraafplaats binnen het plangebied.\\nDe betogen slagen niet.\\nUitstoot Natura 2000-gebied\\n11.\\xa0\\xa0\\xa0\\xa0 [appellant sub 1A], [appellanten sub 2], [appellant sub 3] en [appellante sub 5] betogen dat ten onrechte geen rekening is gehouden met de gevolgen van de voorziene natuurbegraafplaats voor de depositie van stikstof en de gevolgen daarvan op het Natura 2000-gebied \"Solleveld & Kapittelduinen\".\\nZo voert [appellant sub 1A] aan dat de mogelijke effecten op het Natura 2000-gebied als gevolg van \"vertering van stoffelijke overschotten\" onvoldoende is onderzocht. Daarnaast is ook onduidelijk hoeveel stikstof er vrijkomt tijdens de bouwwerkzaamheden en de graafwerkzaamheden voor elk graf.\\n[appellanten sub 2] en [appellante sub 5] voeren aan dat het voorziene natuurbegraven een effect heeft op de uitstoot van stikstof, fosfor, nitraat, ammoniak, magnesium en calcium op het nabijgelegen Natura 2000-gebied. Door natuurbegraven met alle geplande voorzieningen zo dicht bij het Natura 2000-gebied mogelijk te maken, is dat onvoldoende beschermd. Daarnaast voeren [appellanten sub 2] en [appellante sub 5] aan dat de voorziene natuurbegraafplaats meer verkeersbewegingen tot gevolg heeft. Dit zal volgens hen ongetwijfeld meer uitstoot van stikstof geven, terwijl met dit gegeven in de onderzoeken geen rekening wordt gehouden.\\n[appellant sub 3] voert aan dat het argument dat de stikstofuitstoot wordt teruggebracht met een natuurbegraafplaats geen stand houdt.\\n11.1.\\xa0 Het westelijk deel van het plangebied grenst in het noorden aan het Natura 2000-gebied \"Solleveld & Kapittelduinen\".\\n11.2.\\xa0 Artikel 8:69a van de Awb luidt: \"De bestuursrechter vernietigt een besluit niet op de grond dat het in strijd is met een geschreven of ongeschreven rechtsregel of een algemeen rechtsbeginsel, indien deze regel of dit beginsel kennelijk niet strekt tot bescherming van de belangen van degene die zich daarop beroept.\"\\n11.3.\\xa0 Uit de geschiedenis van de totstandkoming van de Wet aanpassing bestuursprocesrecht (Kamerstukken II, 2009/10, 32 450, nr. 3, blz. 18-20) blijkt dat de wetgever met artikel 8:69a van de Awb de eis heeft willen stellen dat er een verband is tussen een beroepsgrond en het belang waarin de appellant door het bestreden besluit dreigt te worden geschaad. De bestuursrechter mag een besluit niet vernietigen wegens schending van een rechtsregel die kennelijk niet strekt tot bescherming van het belang van degene die in (hoger) beroep komt.\\n11.4.\\xa0 Voor zover [appellant sub 1A] in dit kader wijst op de mogelijke gevolgen voor de stikstofdepositie, stelt de Afdeling vast dat het dichtstbijzijnde Natura 2000-gebied \"Solleveld & Kapittelduinen\" is gesitueerd op ongeveer 640 m afstand van het perceel van [appellant sub 1A].\\nVoor zover [appellant sub 1A] als natuurlijk persoon deze grond aanvoert, is het belang bij het behoud van een goede kwaliteit van zijn woonomgeving, gelet op de afstand, in dit geval niet zo verweven met de algemene belangen die de Wet natuurbescherming (hierna: de Wnb) beoogt te beschermen dat kan worden geoordeeld dat de betrokken normen van de Wnb kennelijk strekken tot bescherming van zijn belangen. De Afdeling zal daarom hetgeen [appellant sub 1A] hierover naar voren heeft gebracht verder onbesproken laten.\\n11.5.\\xa0 Voor zover deze beroepsgrond is aangevoerd door [appellanten sub 2] en [appellante sub 5] overweegt de Afdeling als volgt. De bepalingen in de Wnb over de beoordeling van plannen, projecten of andere handelingen, die gevolgen kunnen hebben voor een Natura 2000-gebied, strekken kennelijk niet tot bescherming van bedrijfseconomische belangen. In de overzichtsuitspraak van 11 november 2020, ECLI:NL:RVS:2020:2706, heeft de Afdeling overwogen dat de bedrijfseconomische belangen van een appellant zo verweven kunnen zijn met het algemeen belang van het behoud van een goede staat van instandhouding van het betrokken Natura 2000-gebied, een belang dat de Wnb beoogt te beschermen, dat er geen aanleiding bestaat voor het oordeel dat de betrokken normen van de Wnb kennelijk niet strekken tot bescherming van de belangen van deze appellant. Geen verwevenheid wordt aangenomen wanneer de bedrijfsvoering niet beïnvloed wordt door de staat van instandhouding van het Natura 2000-gebied, bijvoorbeeld omdat de afstand tussen de bedrijfsgronden en het Natura 2000-gebied te groot is. Verwevenheid wordt ook niet aangenomen wanneer er een te ver verwijderd verband bestaat tussen het bedrijfseconomische belang en het belang van de natuurbescherming.\\nDe Afdeling stelt vast dat de afstand tussen de kassen van [appellanten sub 2] en het Natura 2000-gebied ongeveer 580 m is en de afstand tussen het bedrijf van [appellante sub 5] en het Natura 2000-gebied ongeveer 650 m is. De Afdeling stelt ook vast dat [appellanten sub 2] en [appellante sub 5] niet hebben toegelicht of en zo ja waarom hun bedrijfseconomische belangen verweven zijn met het belang dat de Wnb beoogt te beschermen. De Afdeling ziet dan ook geen aanknopingspunten voor het oordeel dat de bedrijfseconomische belangen van [appellanten sub 2] en [appellante sub 5] verweven zijn met het algemeen belang dat de Wnb beoogt te beschermen. Dit betekent dat de norm uit de Wnb waarop [appellanten sub 2] en [appellante sub 5] zich beroepen, niet strekt tot bescherming van hun belangen.\\n11.6.\\xa0 Verder stelt de Afdeling vast dat [appellant sub 3] op ongeveer 1,8 km van het plangebied woont en op ongeveer 80 m van het Natura 200-gebied \"Solleveld & Kapittelduinen\" dat ten noorden aan het plangebied grenst. Gelet hierop kunnen mogelijke effecten van het plan invloed hebben op de gronden van het Natura 2000-gebied \"Solleveld & Kapittelduinen\" nabij de woning van [appellant sub 3] en dus ook op zijn directe woon- en leefomgeving. De in artikel 8:69a van de Awb neergelegde relativiteitsvereiste staat dus niet in de weg aan een mogelijke vernietiging van het besluit. De Afdeling zal daarom zijn beroepsgrond inhoudelijk behandelen.\\n11.7.\\xa0 Onder verwijzing naar het rapport \"Bestemmingsplan Oranjebonnen natuurtoets\" van Koolstra Advies (hierna: de natuurtoets), stelt de raad zich op het standpunt dat negatieve effecten op het Natura 2000-gebied door het bestreden plan zijn uit te sluiten. In de natuurtoets wordt met de resultaten die zijn verkregen via de AERIUS Calculator een vergelijking gemaakt tussen de stikstofdepositie in de huidige, de realisatie- en de toekomstige planfase op het dichtstbijzijnde Natura 2000-gebied. In deze natuurtoets staat dat significante gevolgen op het Natura 2000-gebied \"Solleveld & Kapittelduinen\" of andere Natura 2000-gebieden zijn uitgesloten. Omdat significante effecten op basis van de conclusies van deze voortoets met zekerheid zijn uit te sluiten is geen passende beoordeling nodig om het bestemmingsplan vast te kunnen stellen, zo staat in de natuurtoets. Ook staat in de natuurtoets dat zowel tijdens de realisatie van de ontwikkelingen die het nieuwe bestemmingsplan mogelijk maakt als in de planfase (de gebruiksfase) de depositie op alle stikstofgevoelige delen van Natura 2000-gebieden aanzienlijk lager zal zijn dan in de huidige situatie. Deze daling is het gevolg van het omvormen van een groot oppervlak van ongeveer 120 ha aan landbouwpercelen in natuur en bos, waardoor de perceelsemissie sterk afneemt. Op de zitting heeft de heer Koolstra namens de raad nader toegelicht dat bij de AERIUS berekening rekening is gehouden met de maximale planologische mogelijkheden van onder meer de voorziene natuurbegraafplaats. Zo is rekening gehouden met het aantal begrafenissen, bezoek van mensen aan graven en van recreanten die daar willen wandelen. Ook is bij de berekeningen rekening gehouden met een elektrische graafmachine voor het maken van de graven. Verder heeft Koolstra desgevraagd op de zitting bevestigd dat er sprake is van een afname van meer dan 100 mol N/ha depositie in de plansituatie ten opzichte van de referentiesituatie. Dit volgt ook uit afbeelding 6 in de natuurtoets. Verder geeft Koolstra op de zitting aan dat hij ook een berekening heeft gemaakt als er gebruik wordt gemaakt van een graafmachine op diesel/benzine voor het maken van de graven. Ook dan is er volgens hem geen sprake van een toename van stikstofdepositie in vergelijking met de huidige situatie.\\n11.8.\\xa0 De Afdeling stelt vast dat [appellant sub 3] niet inhoudelijk heeft gereageerd op de natuurtoets en de juistheid van de bevindingen en de conclusie van de natuurtoets niet heeft betwist. Gelet hierop ziet de Afdeling geen reden om de conclusie van de natuurtoets dat significante negatieve effecten op Natura 2000-gebieden zijn uitgesloten, niet te volgen. Voor zover [appellant sub 3] nog wijst op het PAS, is niet gebleken dat het PAS een rol speelt bij het bestreden besluit. Dat de Afdeling op 29 mei 2019 in de PAS-uitspraak (ECLI:NL:RVS:2019:1603) heeft geoordeeld dat het PAS in strijd is met de Habitatrichtlijn en bepaalde wet- en regelgeving daardoor onverbindend heeft geacht, is daarom niet van betekenis in deze zaak.\\nHet betoog slaagt niet.\\nBedrijfsvoering wordt verstoord\\n12.\\xa0\\xa0\\xa0\\xa0 [appellant sub 1A] voert aan dat de bedrijfsvoering van tuinders rondom de voorziene natuurbegraafplaats wordt verstoord. [appellanten sub 2] en [appellante sub 5] voeren aan dat de voorziene natuurbegraafplaats hun bedrijfsvoering zal verstoren. Hierna zal de Afdeling ingaan op de aangevoerde bezwaren.\\n12.1.\\xa0 De raad stelt in zijn verweerschrift dat de vrees van [appellant sub 1A], [appellanten sub 2] en [appellante sub 5] voor een negatieve impact op de bedrijfsvoering als gevolg van het natuurbegraven ongefundeerd is. Er is om die reden voor de raad geen aanleiding om de locatie van de natuurbegraafplaats te heroverwegen. De raad acht evenmin objectieve argumenten aanwezig die tot een daling van de bedrijfswaarde of\\n-opbrengsten aanleiding zouden kunnen geven.\\n- Belangen [appellant sub 1A]\\n13.\\xa0\\xa0\\xa0\\xa0 Voor zover [appellant sub 1A] opkomt voor de belangen van tuinders die rondom de voorzien natuurbegraafplaats zijn gesitueerd, is de Afdeling van oordeel dat appellanten zich in rechte op de norm van een goede ruimtelijke ordening kunnen beroepen om een vernietiging van het besluit tot vaststelling van het bestemmingsplan te bewerkstelligen voor zover die norm betrekking of mede betrekking heeft op hun eigen belangen. Dit volgt ook uit haar overzichtsuitspraak van 11 november 2020, ECLI:NL:RVS:2020:2706, onder 10.10, In artikel 8:69a van de Awb ligt besloten dat degene die vernietiging van een besluit beoogt zich in beginsel niet met succes kan beroepen op belangen van anderen. [appellant sub 1A] komt als natuurlijke persoon op voor belangen van tuinders, zodat de regeling kennelijk niet strekt tot bescherming van zijn belangen. Artikel 8:69a van de Awb staat eraan in de weg dat het bestreden besluit om die reden wordt vernietigd. De Afdeling ziet daarom af van een verdere inhoudelijke bespreking van zijn betoog.\\n- Niet verenigbaar met bedrijfsvoering\\n14.\\xa0\\xa0\\xa0\\xa0 [appellanten sub 2] en [appellante sub 5] voeren aan dat hun bedrijfsvoering wordt verstoord doordat hun bedrijven vlakbij de ceremonieruimte van 900 m2 met bijbehorende parkeerplaatsen van 1.800 m2 voor de voorziene natuurbegraafplaats liggen. Ook wordt vanaf de Haakweg een verbindingsweg aangelegd naar het Bonnenpad waar auto\\'s te gast zijn en ook dit is niet verenigbaar met hun bedrijfsvoering. In dat kader wijzen zij er verder op dat het plan ook mogelijk maakt om urnen in de grond te plaatsen en as uit te strooien, wat evenmin verenigbaar is met de exploitatie van hun tuinbouwbedrijven.\\n14.1.\\xa0 De Afdeling stelt vast dat de voorziene ceremonieruimte van de natuurbegraafplaats zal zijn gesitueerd op ongeveer 630 m afstand van het perceel van [appellanten sub 2] en op ongeveer 600 m afstand van het perceel van [appellante sub 5]. De parkeerterrein voor de voorziene natuurbegraafplaats is op ongeveer 730 m afstand van het perceel van [appellanten sub 2] gevestigd en op ongeveer 640 m afstand van het perceel van [appellante sub 5]. De Afdeling ziet, gelet op deze afstanden en gelet op de weinig concrete onderbouwing van hetgeen is aangevoerd, geen aanknopingspunten voor het oordeel dat de ceremonieruimte en de bijbehorende parkeerplaatsen niet verenigbaar zijn met de bedrijfsvoering van [appellanten sub 2] en van [appellante sub 5]. Daarbij neemt de Afdeling in aanmerking dat zij op basis van de niet nader onderbouwde stelling ook niet ziet waarom de voorziene verbindingsweg naar het Bonnenpad niet verenigbaar zou zijn met de bedrijfsvoering van [appellanten sub 2] en van [appellante sub 5].\\n14.2.\\xa0 De Afdeling stelt daarnaast vast dat het bewaren van urnen in de grond krachtens artikel 10.1, aanhef en lid d en e, van de planregels zowel mag op de gronden waaraan de functieaanduiding \"\\'specifieke vorm van natuur - natuurbegraven in het duinbos\" als de functieaanduiding \"specifieke vorm van natuur - natuurbegraven in de polder\" is toegekend. Het glastuinbouwbedrijf van [appellanten sub 2] ligt op ongeveer 400 m van de dichtstbijzijnde voorziene natuurbegraafplaats, dat van [appellante sub 5] op ongeveer 550 m. De Afdeling ziet ook hier in hetgeen is aangevoerd geen grond voor het oordeel dat het begraven van urnen niet verenigbaar zou zijn met de bedrijfsvoering van [appellanten sub 2] en [appellante sub 5]. Voor zover [appellanten sub 2] en [appellante sub 5] vrezen voor overlast door het uitstrooien van as, wijst de raad er in zijn verweerschrift op dat het plan het verstrooien van as helemaal niet mogelijk maakt. In artikel 1.45 van de planregels is gedefinieerd dat een natuurbegraafplaats een terrein is dat deel uitmaakt van een natuur- en/of bosgebied, waar lichamen worden begraven en/of urnen worden bewaard en activiteiten van levensbeschouwelijke aard plaatsvinden in relatie tot het begraven van lichamen en/of bewaren van urnen. Er wordt zo veel mogelijk gebruikgemaakt van onbehandelde en/of onbewerkte natuurlijke materialen. Grafmonumenten, zoals grafstenen, zerken of grafbeplanting, zijn niet toegestaan, enkel een gedenkteken van vergankelijk natuurlijk materiaal. Nu de planregel het uitstrooien van as niet toestaat is de vrees van [appellanten sub 2] en [appellante sub 5] op dit punt ongegrond.\\n14.3.\\xa0 De betogen slagen niet.\\n- Beperkingen waterkwaliteit\\n15.\\xa0\\xa0\\xa0\\xa0 [appellanten sub 2] en [appellante sub 5] wijzen erop dat zij slootwater gebruiken voor hun teelt. Zij vrezen voor de mogelijke vervuiling van het grondwater en het oppervlaktewater door de voorziene natuurbegraafplaats. [appellanten sub 2] en [appellante sub 5] voeren in dat verband aan dat er recent door het kennisinstituut Alterra onderzoeken zijn gedaan waaruit blijkt dat natuurbegraven tal van chemische stoffen toevoegt aan de bodem, die niet in de natuur thuishoren. Natuurbegraven versterkt de vervuiling met gemiddeld 26 ton stoffelijke overschotten per ha en daarin zitten giftige siliconen, kwikvullingen, cadmium en miniscuul kleine hoeveelheden medicijnresten. Ook is natuurbegraven gekoppeld aan wegsijpelende lijksappen onder de graven en heeft het, gelet daarop, effect op het bodemleven en het grondwater.\\n15.1.\\xa0 De Afdeling stelt op grond van de stukken vast dat er 30 ha grond binnen het plangebied is bestemd voor natuurbegraven. Op grond van artikel 10.3, aanhef en lid a, van de planregels zijn ter plaatste van de gronden met de functieaanduidingen \"specifieke vorm van natuur - natuurbegraven in het duinbos\" en \"specifieke vorm van natuur - natuurbegraven in de polder\" gezamenlijk maximaal 10.000 natuurgraven toegestaan, voor zover de gezamenlijke oppervlakte natuurgraven waar feitelijk is gegraven niet meer dan 10% van het oppervlak met de gronden met de functieaanduidingen \"specifieke vorm van bos - duinbos\" en \"specifieke vorm van natuur - natuurbegraven in de polder\" bedraagt. Dit betekent dat er sprake is van een grafdichtheid van ongeveer 333 graven per ha.\\n15.2.\\xa0 De Afdeling stelt vast dat de relatie tussen grondwater en begraafplaatsen is geregeld in de Wet op de lijkbezorging en het Besluit op de lijkbezorging. In het Inrichtings- en beheerplan behorende bij het bestreden plan is vermeld dat op grond van het Besluit op de lijkbezorging het maaiveld 145 cm boven de gemiddeld hoogste grondwaterstand (hierna: GHG) moet liggen. Deze maat wordt aangehouden omdat er minimaal 65 cm grond bovenop een kist moet worden aangebracht, de kist zich 30 cm boven de gemiddelde hoogste grondwaterstand moet bevinden en een kist gemiddeld 50 cm hoog is.\\nAan het plan ligt onder meer de \"Natuurtoets natuurontwikkeling Bonnenpolder\" van Bureau Waardenburg B.V. van mei 2021 (hierna: de natuurtoets natuurontwikkeling) ten grondslag. In de natuurtoets natuurontwikkeling staat dat de algemene conclusie op basis van bekende literatuur en voorhanden zijnde veldonderzoek is dat de kans op verslechtering van de kwaliteit van grondwater door natuurbegraven minimaal is en dat er altijd een zeker mate van bodemverstoring zal optreden, maar dat de omvang daarvan afhankelijk is van de vraag of er al eerder bodemverstoring is opgetreden. In de natuurtoets natuurontwikkeling wordt geconcludeerd dat in dit geval de voorziene natuurbegraafplaats is gesitueerd in een nu nog in intensief agrarisch gebruik zijnde polder zonder boomopstanden. Door het agrarisch gebruik is er sprake van een duidelijk geroerde bovenste bodemlaag. Er zal daarom geen sprake zijn van bodemverstoring. Voor het vrijkomen van stoffen als stikstof en fosfaat zullen enkel effecten zijn te verwachten als deze stoffen vrijkomen in de wortelzone van de aanwezige vegetatie. De bij wet vastgelegde minimaal verplicht aan te houden begraafdiepte ligt ruim beneden de wortelzone van kruid- en grasachtige vegetaties. De stoffen die uit ontbindende stoffelijke resten vrijkomen, blijven daarom vrijwel buiten bereik van kruiden- en heidevegetaties. Bomen wortelen dieper dan de verplichte minimum begraafdiepte, zo volgt uit de natuurtoets natuurontwikkeling.\\nDaarnaast is aan het plan het \"Waterhuishoudkundig plan natuurinrichting Bonnenpolder\" van de Witteveen + Bos van 29 maart 2021 (hierna: het waterhuishoudkundig plan) ten grondslag gelegd. In het waterhuishoudkundig plan staat dat de Wet op de lijkbezorging en de daarbij behorende inspectierichtlijnen dusdanig zijn ingericht dat wordt voldaan aan milieuhygiënische randvoorwaarden van de Inspectie van de volksgezondheid. Weliswaar zal er uitloging van stoffen plaatsvinden naar het grondwater en vervolgens het oppervlaktewater, maar dit proces is echter zeer traag en concentraties zullen zeer laag zijn, zodat er geen effect op de kwaliteit van het grond- en oppervlaktewater wordt verwacht. In het waterhuishoudkundig plan is ook uiteengezet dat de kwaliteit van het grondwater niet wordt beïnvloed door de voorziene natuurbegraafplaats. Daarbij is ook gekeken naar de verschillende stoffen en metalen die in de bodem komen voor het natuurbegraven. Zo wordt in het waterhuishoudkundig plan verwezen naar de onderzoeken die Alterra heeft gedaan naar de milieubelasting van begraven. Op basis van deze metingen kan worden geconcludeerd dat op en rondom begraafplaatsen de gehalten aan zware metalen, elementen (natrium, kalium), anionen (nitraat, sulfaat, chloride), organische zuren en afbraakproducten (putrescine, cadaverine) niet verschillen van grond- en oppervlaktewater dat niet in contact staat met begraafplaatsen. Bovendien liggen de gehalten ruim onder de geldende streefwaarden. Dit geldt ook voor eventuele medicijnresten. Medicijnen worden na inname snel uit het lichaam gescheiden of reageren met lichaamseigen stoffen tot andere verbindingen. Over het algemeen zullen in het lichaam van een overledene ten hoogste geringe hoeveelheden medicijnen aanwezig zijn, waarvan de meesten vervolgens worden afgebroken tijdens het ontbindingsproces. De gehaltes van niet of langzaam afgebroken medicijnen zullen zo gering zijn dat deze geen effect hebben op het milieu of het ecosysteem. Natuurbegraven heeft dus geen impact op de waterkwaliteit en de milieubelasting is verwaarloosbaar, zelfs bij 1.500 begravingen per ha. De algehele conclusie van het onderzoek is dat de milieueffecten verwaarloosbaar klein zijn. Om aan te kunnen tonen dat er in de praktijk daadwerkelijk geen effecten optreden wordt in het waterhuishoudkundig plan geadviseerd om de waterkwaliteit te monitoren. De raad betoogt in zijn verweerschrift dat er om die reden in overleg met het Hoogheemraadschap van Delfland is afgesproken dat de kwaliteit van het grond- en oppervlaktewater blijvend zal worden gemonitord. Het monitoringsplan zal worden geborgd doordat deze onderdeel van de te zijner tijd aan te vragen watervergunning bij het Hoogheemraadschap van Delfland wordt.\\nIn de plantoelichting staat dat de realisatie van de natuurbegraafplaats extra verharding met zich mee brengt. Ook zullen bestaande watergangen worden gedempt en nieuwe watergangen worden gegraven. Door de westzijde van het plangebied loopt de Rel. De Rel voert het water uit de polders af naar het Oranjekanaal. In het kader van natuurontwikkeling, maar ook als compensatie voor verhardingstoenamen buiten het bestemmingsplangebied, zal de Rel worden verbreed. In het waterhuishoudkundig plan staat dat als er oppervlaktewater onttrokken wordt uit de Bonnenpolder, dat zal gebeuren ter hoogte van de Dwarshaak en Haakweg. Daar liggen de watergangen ten opzichte van de natuurbegraafplaats bovenstrooms. Mogelijke verontreinigingen in het oppervlaktewater zullen zich dus niet richting deze locaties kunnen bewegen. Ook hier geldt weer dat op grond van onderzoek geen normoverschrijdende concentraties van stoffen uit het ontbindingsproces te verwachten zijn. De tuinbouwbedrijven in de naastgelegen polder grenzend aan de Bonnenlaan onttrekken water uit de watergang langs de Van Rijckevorsellaan. Deze watergang staat los van het plangebied en hier zullen dus geen effecten op het gebied van kwantiteit en kwaliteit worden verwacht.\\n15.3.\\xa0 Voor zover [appellanten sub 2] en [appellante sub 5] verwijzen naar het onderzoek van Alterra uit 2009, waarin staat dat het gebruik van het water voor het besproeien van gewassen zo veel mogelijk vermeden moet worden, wijst de raad erop dat de conclusie in het rapport Alterra 2009 is dat de milieubelasting door begraven van stoffelijke resten of asurnen en door verstrooien van crematieas in natuurterreinen in het algemeen verwaarloosbaar is. Deze conclusie is door Alterra in 2013 nader onderzocht, maar wordt voornamelijk versterkt door de resultaten van het onderzoek van Wageningen UR in 2017, aldus de raad. Uit de onderzoeken van Alterra volgt dat over het algemeen van natuurbegraven geen (significante) effecten op de kwaliteit van het grondwater zijn te verwachten, zelfs niet bij 1.500 graven per hectare. Uit de onderzoeken komt eenduidig naar voren dat eventuele milieueffecten verwaarloosbaar zijn. Deze conclusies zijn door [appellanten sub 2] en [appellante sub 5] niet weerlegd.\\n15.4.\\xa0 De Afdeling ziet in het aangevoerde geen aanleiding te concluderen dat de uitgevoerde onderzoeken onzorgvuldig zijn. [appellanten sub 2] en [appellante sub 5] hebben niets tegenover de uitgevoerde onderzoeken gesteld, noch aannemelijk gemaakt waaruit zou moeten blijken dat de onderzoeken zodanige gebreken of leemten in kennis bevatten dat de raad die niet aan het plan ten grondslag heeft mogen leggen. De enkele niet onderbouwde vrees van [appellanten sub 2] en [appellante sub 5] dat het monitoren van de waterkwaliteit binnen en rondom het plangebied niet goed gaat, is daarvoor ook onvoldoende, nog los van het feit dat dit de handhaving van voorschriften betreft.\\n15.5.\\xa0 Gelet op het vorenstaande ziet de Afdeling geen grond voor de verwachting dat er verontreinigende stoffen als gevolg van de voorziene natuurbegraafplaats bij het grondwater en het oppervlaktewater kunnen komen waardoor normen overschreden worden.\\nDe betogen slagen niet.\\n- Uitbreidingsmogelijkheden [appellanten sub 2] naar het oosten\\n16.\\xa0\\xa0\\xa0\\xa0 [appellanten sub 2] voeren aan dat hun uitbreidingsmogelijkheden uit het vorige bestemmingsplan ten onrechte niet zijn overgenomen in het bestreden plan. In het vorige bestemmingsplan hadden zij de mogelijkheid om hun kassen uit te breiden op de gronden ten oosten van hun perceel.\\n16.1.\\xa0 In het stelsel van de Wro is een bestemmingsplan het ruimtelijke instrument waarin de wenselijke toekomstige ontwikkeling van een gebied wordt neergelegd. De raad moet bij de vaststelling van een bestemmingsplan rekening houden met een particulier initiatief voor een ruimtelijke ontwikkeling als dat initiatief voldoende concreet is, tijdig aan hem kenbaar is gemaakt en de raad op het moment van de vaststelling van het plan op basis van de op dat moment bekende gegevens de ruimtelijke aanvaardbaarheid daarvan kan beoordelen.\\n16.2.\\xa0 Op de zitting heeft [appellant sub 2A] desgevraagd toegelicht dat hij geen eigenaar is van de betreffende gronden. Uit het verhandelde op de zitting blijkt ook dat [appellanten sub 2] geen concrete uitbreidingsplannen hebben. Gelet hierop is de Afdeling van oordeel dat de raad terecht heeft gesteld dat [appellanten sub 2] bij de vaststelling van het bestemmingsplan geen concrete uitbreidingsplannen kenbaar hebben gemaakt. Ook is niet duidelijk hoe [appellanten sub 2] hun bedrijf eventueel wensen uit te breiden. Aangezien geen sprake is van een concreet initiatief waarvan de raad de ruimtelijke aanvaardbaarheid kon beoordelen, heeft de raad alleen daarom al met dit verzoek van [appellanten sub 2] bij de vaststelling van het plan geen rekening hoeven houden.\\nHet betoog slaagt niet.\\n- Bomen en lantaarns\\n17.\\xa0\\xa0\\xa0\\xa0 [appellanten sub 2] en [appellante sub 5] voeren aan dat ten onrechte niet in het plan is geborgd dat er geen hooggroeiende bomen mogen worden geplaatst nabij hun kassen. Hooggroeiende bomen en kassen laten zich namelijk lastig met elkaar verenigen omdat in kassen zoveel mogelijk zonlicht moet binnenkomen. Ook is in het bestreden plan volgens hen ten onrechte niets opgenomen over de plaats van lantaarnpalen vlakbij hun bedrijven.\\n17.1.\\xa0 De Afdeling stelt vast dat in figuur 5.1 van het Inrichtings- en beheerplan is opgenomen dat langs de Dwarshaak een bomenrij is ingetekend. In paragraaf 6.8 van het Inrichtings- en beheerplan staat dat door ruimte tussen de dubbele bomenrij en de watergang langs de Dwarshaak vrij te houden, een goed beheer van de watergang mogelijk is en er ook minder overlast van bladval is in de watergang. Welke boomsoorten worden toegepast wordt afgestemd op de omgeving. Het gaat in ieder geval om streekeigen soorten. Aangrenzende omwonenden/bedrijven mogen geen schaduwhinder ondervinden van de bomen, zo staat in het Inrichtings- en beheerplan. De raad stelt dat hij, gelet op het vorenstaande, voldoende heeft geborgd dat er geen schaduwhinder voor de bedrijven van [appellanten sub 2] en [appellante sub 5] zal ontstaan. Ook stelt de raad dat dit ter plaatse van hun percelen niet tot schaduwhinder zal leiden, gezien de draairichting van de zon. Tussen de bomenrij en het bedrijf van [appellante sub 5] bevinden zich in ieder geval nog de Dwarshaak zelf, de daarlangs gelegen watergang en vrij te houden onderhoudsstrook. Om die reden acht de raad de kans op hinder voor [appellante sub 5] minimaal. Gelet op het vorenstaande is de Afdeling van oordeel dat de raad niet in het bestreden plan heeft hoeven borgen dat er geen hooggroeiende bomen mogen worden geplaatst nabij de bedrijven van [appellanten sub 2] en van [appellante sub 5].\\n17.2.\\xa0 Voor zover [appellanten sub 2] en [appellante sub 5] aanvoeren dat in het bestreden plan niets is opgenomen over de positie van lantaarnpalen, betreft dit veeleer een uitvoeringsaspect. Het behoort tot de beleidsruimte van de raad om de mate van gedetailleerdheid van een bestemmingsplan te bepalen. De Afdeling ziet overigens op basis van het aangevoerde niet in dat er sprake zal zijn van onaanvaardbare overlast door lantaarnpalen.\\n17.3.\\xa0 De betogen slagen niet.\\n- Waardedaling bedrijf\\n18.\\xa0\\xa0\\xa0\\xa0 [appellanten sub 2] en [appellante sub 5] voeren aan dat de waarde van hun bedrijf zal dalen en hun teelt nadeel zal ondervinden door de beperkingen die de voorziene natuurbegraafplaats met zich meebrengt. Zij wijzen op de aspecten water, de sloot, onkruid en overlast van ratten en muizen.\\n18.1.\\xa0 Wat de eventueel nadelige invloed van het plan op de waarde van het bedrijf en het perceel van [appellanten sub 2] en [appellante sub 5] betreft, bestaat, gelet op het vorenstaande geen grond voor de verwachting dat die waardevermindering zodanig zal zijn dat de raad bij de afweging van de belangen hieraan een groter gewicht had moeten toekennen dan hij heeft gedaan. Voor eventuele tegemoetkoming in planschade bestaat bovendien een aparte procedure met eigen rechtsbeschermingsmogelijkheden.\\nDe betogen slagen niet.\\nAfgraven kavels Bonnenpolder\\n19.\\xa0\\xa0\\xa0\\xa0 [appellanten sub 2] voeren aan dat er in het bp ten onrechte geen regeling is opgenomen over het afgraven van de kavels in de Bonnepolder. Dit zal toegestaan moeten worden voordat de Bonneweg in goede staat is hersteld en dat dient te geschieden voordat de werkzaamheden ter uitvoering van het nieuwe bestemmingsplan zullen gaan plaatsvinden.\\n19.1.\\xa0 Uit de stukken en het verhandelde ter zitting is gebleken dat er enkele gronden moeten worden opgehoogd voor de voorziene natuurbegraafplaats. Hoe de gronden worden opgehoogd, is een kwestie van uitvoering. Het is niet vereist dat het bestemmingsplan dat al regelt.\\nHet betoog slaagt niet.\\nRecreatieve functie en natuurbegraven\\n20.\\xa0\\xa0\\xa0\\xa0 [appellant sub 1A] voert aan dat de voorziene natuurbegraafplaats en de recreatiefunctie binnen het plangebied niet te combineren zijn met elkaar. Hij vraagt zich ook af hoe de recreatieve activiteiten zich met de begrafenisplechtigheden verhouden.\\n20.1.\\xa0 De raad stelt in zijn verweerschrift dat het natuurbegraven slechts op een klein deel van het totale natuurgebied mogelijk is. Daarbij is gekozen voor een zorgvuldige inpassing in de omgeving door middel van zogenaamde piëteitszones die de natuurbegraafplaats aan het zicht onttrekken. Op die manier is de diversiteit aan functies in het gebied volgens de raad goed met elkaar te verenigen.\\n20.2.\\xa0 Onder verwijzing naar haar overzichtsuitspraak over het relativiteitsvereiste van 11 november 2020, ECLI:NL:RVS:2020:2706, overweegt de Afdeling ook hier dat in artikel 8:69a van de Awb ligt besloten dat degene die vernietiging van een besluit beoogt zich in beginsel niet met succes kan beroepen op belangen van anderen. Als zo’n eigen belang is bijvoorbeeld te beschouwen het belang van een appellant bij de bescherming van het woon- en leefklimaat in de directe omgeving van zijn woning. Dat een appellant stelt ook gebruik te maken van gronden in een gebied dat niet in de directe omgeving van zijn woning is gelegen, is echter niet voldoende om de mogelijke aantasting van bijvoorbeeld recreatieve functie van dit gebied als aantasting van zijn eigen belang te beschouwen.\\nDe Afdeling stelt vast dat [appellant sub 1A] op ongeveer 570 m afstand woont van de dichtstbijzijnde voorziene natuurbegraafplaats. Dat hij als recreant gebruik maakt van de Bonnenpolder is voldoende om de mogelijke aantasting van de recreatieve functie van de Bonnenpolder als zijn eigen belang te beschouwen. De Afdeling is daarom van oordeel dat het in artikel 8:69a van de Awb neergelegde relativiteitsvereiste hier in de weg staat aan een inhoudelijke beoordeling van deze beroepsgrond van [appellant sub 1A]. Deze beroepsgrond blijft daarom buiten inhoudelijke bespreking.\\nBereikbaarheid natuurbegraafplaats\\n21.\\xa0\\xa0\\xa0\\xa0 [appellanten sub 2] en [appellante sub 5] voeren aan dat de voorziene natuurbegraafplaats slecht bereikbaar is met zowel de auto als de fiets. Er is daarnaast geen goed openbaar vervoer en er zijn geen andere voorzieningen.\\n21.1.\\xa0 De Afdeling ziet in hetgeen is aangevoerd niet in dat de bereikbaarheid van de voorziene natuurbegraafplaats van invloed is op het ondernemersklimaat van [appellanten sub 2] en van [appellante sub 5]. Op de zitting hebben [appellanten sub 2] en [appellante sub 5] ook geen aanknopingspunten gegeven voor een ander oordeel. Gelet hierop staat artikel 8:69a van de Awb eraan in de weg om het besluit te vernietigen vanwege de beroepsgrond over de bereikbaarheid van de voorziene natuurbegraafplaats.\\nDe betogen slagen niet.\\nAlternatieve locatie\\n22.\\xa0\\xa0\\xa0\\xa0 [appellanten sub 2] en [appellante sub 5] voeren aan dat de voorziene natuurbegraafplaats beter had gepast langs de Hoeksebaan.\\n22.1.\\xa0 De raad stelt in zijn verweerschrift dat hij totaal een drietal opties heeft overwogen. De raad stelt dat de Hoeksebaan niet een geschikte locatie is. Deze locatie is weliswaar eveneens in de Bonnenpolder, maar dit gebied is niet in eigendom van de gemeente. Op de locatie waar het bestemmingsplan nu in voorziet wordt direct aangesloten op het Staelduinse bos waardoor een natuurlijke aansluiting ontstaat in het landschapstype. Op een afzonderlijke locatie in de polder werd dit duinbos ongewenst geacht. De raad meent dat hiermee toereikend is gemotiveerd waarom niet voor dat alternatief is gekozen.\\n22.2.\\xa0 De Afdeling stelt vast dat de Hoeksebaan een weg is, die is gesitueerd ten zuiden van het plangebied. De Hoeksebaan is niet gesitueerd binnen het plangebied. De Afdeling overweegt dat [appellanten sub 2] en [appellante sub 5] niet hebben geconcretiseerd op welke gronden aan de Hoeksebaan zij doelen. Uit het verhandelde ter zitting is gebleken dat de Hoeksebaan een lange weg is en dat [appellanten sub 2] en [appellante sub 5] ter zitting ook niet concreet konden aanwijzen welke locatie zij voor ogen hebben. Gelet hierop slagen de betogen niet.\\nUitbreidingsmogelijkheden op het perceel van [appellanten sub 2]\\n23.\\xa0\\xa0\\xa0\\xa0 [appellanten sub 2] voeren aan dat de woning aan de [locatie 5] te Hoek van Holland ten onrechte is bestemd als burgerwoning. Volgens [appellanten sub 2] is de betreffende woning te dicht bij hun tuinbouwbedrijf gesitueerd en kan deze burgerbestemming het gebruik als tuinbouwbedrijf belemmeren als zij hun bedrijf zullen uitbreiden. In dat kader voeren [appellanten sub 2] ook aan dat ten onrechte hun uitbreidingsmogelijkheden uit het vorige bestemmingsplan niet zijn overgenomen in het bestreden plan. In het vorige bestemmingsplan hadden zij de mogelijkheid om hun kassen uit te breiden.\\n23.1.\\xa0 Op de zitting hebben [appellanten sub 2] aangegeven dat het hen niet gaat om de bestemming van de woning aan de [locatie 5], maar meer om de omstandigheid dat de uitbreidingsmogelijkheden in het vorige bestemmingsplan niet zijn overgenomen in het bestreden plan.\\n23.2.\\xa0 Naar aanleiding van het verhandelde ter zitting stelt de Afdeling vast dat de gronden die in eigendom zijn van [appellanten sub 2] en waar kassen op staan gesitueerd, niet binnen het plangebied zijn gesitueerd. De Afdeling stelt vast dat deze gronden in het ontwerpplan wel lagen binnen het plangebied. De Afdeling vat het betoog daarom op als een plangrensbezwaar. De raad komt beleidsruimte toe bij het bepalen van de begrenzingen van een bestemmingsplan. Deze ruimte strekt echter niet zo ver dat de raad een begrenzing kan vaststellen die in strijd is met een goede ruimtelijke ordening. In de nota van zienswijzen naar aanleiding van het ontwerpplan stelt de raad dat voor het glastuinbouwbedrijf van [appellanten sub 2] de keuze is gemaakt de plangrens van het bestemmingsplan Oranjebonnen buitenom dit perceel te leggen. Op deze wijze blijft het bestemmingsplan \"Hoek van Holland Buitengebied Noord en Oost II\" van 27 februari 1989 hier van toepassing en blijven daarmee ook de bestaande planologische mogelijkheden volledig intact. Gelet hierop stelt de raad dat het plan niet hoeft te voorzien in de uitbreidingsmogelijkheden op het perceel van [appellanten sub 2]. Onder deze omstandigheden is de Afdeling van oordeel dat de raad zich op het standpunt heeft kunnen stellen dat de vastgestelde planbegrenzing strekt ten behoeve van een goede ruimtelijke ordening.\\nHet betoog slaagt niet.\\nTwee woningen\\n24.\\xa0\\xa0\\xa0\\xa0 [appellanten sub 2] voeren aan dat zij twee woningen willen realiseren op hun perceel, omdat de voorziene natuurbegraafplaats zich volgens hen niet verdraagt met de tuinbouwbestemming. [appellanten sub 2] wijzen erop dat zij hierover met de gemeente al gesprekken hebben gevoerd.\\n24.1.\\xa0 De Afdeling stelt vast dat de gronden van [appellanten sub 2] waar kassen op zijn gesitueerd geen onderdeel uitmaken van het plangebied van het bestreden plan. De raad heeft in zijn verweerschrift en op de zitting toegelicht dat het college welwillend staat tegenover het voorstel van [appellanten sub 2] om de kassen te slopen en twee woningen te realiseren. Dat staat echter in deze procedure over het bestemmingsplan niet ter toetsing. Als [appellanten sub 2] twee woningen willen realiseren op hun gronden dienen zij hiervoor een andere procedure te starten. Gelet op het vorenstaande ziet de Afdeling geen aanleiding voor het oordeel dat het plan in zoverre onzorgvuldig is voorbereid.\\nHet betoog slaagt niet.\\nGevolgen lange termijn\\n25.\\xa0\\xa0\\xa0\\xa0 [appellant sub 1A] voert aan dat onduidelijk is wat de gevolgen op lange termijn zijn van de voorziene natuurbegraafplaats. Volgens [appellant sub 1A] wordt de maatschappij geconfronteerd met eeuwigdurende grafrechten, waardoor ter plaatse geen andere functies meer mogelijk zijn, zoals agrarisch gebruik. NBN Ontwikkeling B.V. belooft volgens [appellant sub 1A] namelijk dat de stoffelijke overschotten eeuwig mogen blijven liggen, maar neemt hiervoor niet de verantwoordelijkheid.\\n25.1.\\xa0 De raad stelt in zijn verweerschrift dat hij aan het initiatief om een relatief klein gedeelte van de Bonnenpolder te bestemmen voor natuurbegraven zijn medewerking heeft verleend aangezien er vraag is naar natuurbegraven. Natuurbegraven kenmerkt zich doordat een graf onder invloed van de natuur daar op een zeker moment volledig in opgaat. Het gaat hier om in totaal ongeveer 128 ha nieuwe natuur waarvan slechts 3 ha over een tijdspanne van ongeveer 40 jaar daadwerkelijk wordt gebruikt voor het begraven van mensen die een laatste rustplaats wensen in de natuur.\\n25.2.\\xa0 Zoals de Afdeling hiervoor verscheidene malen heeft overwogen, kunnen appellanten tegen een besluit tot vaststelling van een bestemmingsplan op grond van de Wro, zoals hier aan de orde, opkomen met het oog op hun belang om gevrijwaard te blijven van aantasting van hun woon- en leefomgeving.\\n25.3.\\xa0 [appellant sub 1A] woont op ongeveer 570 m afstand van de dichtstbijzijnde voorziene natuurbegraafplaats. De Afdeling stelt vast dat deze afstand te groot is om ter plaatse van de woning van [appellant sub 1A] feitelijke gevolgen van de voorziene natuurbegraafplaats te kunnen ondervinden. De met het plan mogelijk gemaakte bouw- en gebruiksmogelijkheden op de natuurbegraafplaats kunnen de woon- en leefomgeving van [appellant sub 1A] niet aantasten. Gelet hierop strekt de norm van een goede ruimtelijke ordening, als neergelegd in artikel 3.1 van de Wro, in dit verband niet tot bescherming van de belangen van [appellant sub 1A]. Gelet hierop staat artikel 8:69a van de Awb in de weg aan een inhoudelijke beoordeling van het betoog.\\nEerdere plannen\\n26.\\xa0\\xa0\\xa0\\xa0 [appellant sub 3] voert aan dat de raad ten onrechte eerdere plannen niet heeft uitgevoerd. Zo is de aangenomen motie van 20 november 2003 over de gebiedsvisie de Bonnen niet binnen de gestelde termijn uitgevoerd en zijn de besluiten van 21 december 2005 en 21 september 2006 ook niet uitgevoerd.\\n26.1.\\xa0 De Afdeling stelt vast dat in deze procedure alleen het voorliggende plan ter beoordeling ligt. Het betoog slaagt reeds daarom niet.\\nBeginselen van behoorlijk bestuur\\n27.\\xa0\\xa0\\xa0\\xa0 [appellant sub 3] betoogt dat verschillende beginselen van behoorlijk bestuur zijn geschonden, in het bijzonder het fair play-beginsel, het evenredigheidsbeginsel, het rechtszekerheidsbeginsel, het gelijkheidsbeginsel en het vertrouwensbeginsel. Zo heeft de raad onder meer ten onrechte het algemeen belang zwaarder laten wegen dan de belangen van burgers die worden geconfronteerd met de impact van het bestreden besluit en de nadelige gevolgen daarvan. Natuurdoelen worden volgens hem ondergeschikt gemaakt aan het commerciële doel om een natuurbegraafplaats te exploiteren. Er kan volgens hem geen waarde worden toegekend aan bestuurlijk uitgesproken intenties, bestuurlijk gewekte verwachtingen, bestuurlijk gedane toezeggingen en bestuurlijk genomen besluiten bij het gebiedsontwikkelingsproces in de Bonnenpolder. Ook wijst hij erop dat hij in het verleden gedurende een ruime periode een rechtspositie heeft opgebouwd er in principe op mag vertrouwen dat deze rechtspositie kan worden voortgezet, dan wel dat hij bij gewijzigd beleid gecompenseerd wordt. Verder wijst hij erop dat aan iemand anders wel gemeentelijke landbouwgrond is gegeven, terwijl de gemeente niet bereid was om met hem in gesprek te gaan over een doorstart van zijn activiteiten op een gemeentelijke locatie.\\n27.1.\\xa0 Uit de stukken en uit het verhandelde op de zitting is het de Afdeling duidelijk dat de gang van zaken in het verleden rond de Bonnenpolder [appellant sub 3] raakt. Ook is duidelijk geworden dat de rol van de gemeente bij de ontwikkeling van de voorziene natuurbegraafplaats hem raakt. De Afdeling is evenwel van oordeel dat uit het betoog van [appellant sub 3] en uit de door hem overgelegde stukken onvoldoende objectief blijkt dat de raad in strijd met de beginselen van behoorlijk bestuur of met vooringenomenheid heeft gehandeld bij de totstandkoming van het bestreden besluit. Gelet hierop slaagt het betoog niet.\\nFinanciële uitvoerbaarheid\\n28.\\xa0\\xa0\\xa0\\xa0 [appellant sub 1A] voert aan dat de financiële haalbaarheid van het plan niet inzichtelijk is gemaakt.\\n[appellant sub 3] voert aan dat de raad niet is geïnformeerd over de financiële paragraaf, een grondexploitatieplan en ook niet over een anterieure overeenkomst voor de voorziene natuurbegraafplaats. Hierover ontbreekt de gewenste transparantie. Er is bij de raad geen kennis over de inhoud van de afspraken met de gemeente Rotterdam en dat is voor volksvertegenwoordigers wel nodig om zich een oordeel te kunnen vormen over de vraag of het toestaan van een ontwikkeling ook leidt tot de gewenste publieke doelen. Dit alles terwijl het concept van een natuurbegraafplaats in de Bonnenpolder vooral voortkomt vanuit financiële motieven.\\n28.1.\\xa0 Bij een beroep tegen een bestemmingsplan kan een betoog over de uitvoerbaarheid van dat plan, waaronder de financieel-economische uitvoerbaarheid, alleen leiden tot vernietiging van het bestreden besluit als de raad redelijkerwijs had moeten inzien dat het plan om financieel-economische of andere redenen op voorhand niet uitvoerbaar is.\\nIn hoofdstuk 9 van de plantoelichting staat dat het plan voorziet in een aantal nieuwe ontwikkelingen. Voor de natuurontwikkeling in combinatie met natuurbegraven zijn de gemeentelijke kosten gedekt via het sluiten van een anterieure overeenkomst tussen de gemeente Rotterdam en de afzonderlijke initiatiefnemers.\\nDe Afdeling ziet in het aangevoerde geen aanleiding voor het oordeel dat de raad zich niet op het standpunt mocht stellen dat er geen redenen zijn waarom het plan op voorhand niet uitvoerbaar is.\\n28.2.\\xa0 Op de zitting heeft de raad toegelicht dat er geen aanwijzingen zijn dat hij onjuist zou zijn geïnformeerd over de financiële uitvoerbaarheid. [appellant sub 3] heeft ook geen objectief bewijs overgelegd ter ondersteuning van zijn betoog waaruit zou blijken dat de raad onvolledig is geïnformeerd over de financiële haalbaarheid van de voorziene natuurbegraafplaats.\\n28.3.\\xa0 De betogen slagen niet.\\nZonnepark\\n29.\\xa0\\xa0\\xa0\\xa0 Ultimate Reduction Level Rotterdam B.V. betoogt dat de raad ten onrechte de gronden bij het Spuidijkje niet heeft bestemd voor een zonnepark.\\nZo voert Ultimate Reduction Level Rotterdam B.V. aan dat in de Startnotitie versnelling Zonne-energie (hierna: de Startnotitie) de gronden van de Oranjebuitenpolder zijn aangemerkt als locatie met de hoogste potentie voor het realiseren van zonne-energie. In dit kader wijst Ultimate Reduction Level Rotterdam B.V. erop dat er nauwelijks andere initiatieven zijn op het gebied van grondgebonden zonneparken binnen de gemeente Rotterdam en begrijpt zij daarom niet waarom de locatie Spuidijkje met een oppervlakte van 9 ha hier geen bijdrage aan kan leveren. Hierbij wijst zij er ook op dat op de gronden van de beoogde locatie voor het zonnepark sprake is van meervoudige grondgebruik, omdat er schapen kunnen blijven grazen.\\nVolgens Ultimate Reduction Level Rotterdam B.V. kan het beoogde zonnepark overeenkomstig de Landschapsvisie Oranjebonnen worden ingepast. De recreatieve functie wordt namelijk versterkt, doordat recreatief verkeer ongestoord langs de locatie kan worden afgewikkeld.\\nVerder voert Ultimate Reduction Level Rotterdam B.V. aan dat de gronden van het Spuidijkje geen archeologische en cultuurhistorische belemmeringen opleveren. Het huidige, volgens Ultimate Reduction Level Rotterdam B.V. kale, aangezicht straalt weinig cultuurhistorie uit en uit het archeologisch onderzoek dat gedaan is met het oog op de aanvraag van een omgevingsvergunning is gebleken dat er ter plaatse geen sporen uit het verleden gevonden zijn.\\nVoorts voert Ultimate Reduction Level Rotterdam B.V. aan dat de raad ten onrechte wijst op gewijzigd beleid. Het is onbehoorlijk om het beleid ten opzichte van de Startnotitie zo snel te veranderen met als reden dat schaarse open agrarische grond niet gebruikt mag worden. Ultimate Reduction Level Rotterdam B.V. wijst erop dat zij al voorbereidingen heeft getroffen voor het beoogde zonnepark en dat zij daarvoor inmiddels € 90.000,- aan kosten voor heeft gemaakt.\\nTot slot wijst Ultimate Reduction Level Rotterdam B.V. erop dat zij haar zonnepark sneller kan realiseren dan het voorziene zonnepark van de gemeente. Ook wijst zij erop dat zij al afspraken heeft gemaakt met netbeheerders Stedin en Westland Infra om het zonnepark aan te sluiten op het energienetwerk.\\n29.1.\\xa0 De gronden van het Spuidijkje zijn gesitueerd binnen het plangebied nabij Polderhaakweg 29. Aan deze gronden is de bestemming \"Agrarisch\" toegekend. Binnen het plangebied ten westen van het oostelijke deel van het plangebied is aan enkele gronden de functieaanduiding \"specifieke vorm van bedrijf - zonnepark\" toegekend.\\nIn paragraaf 4.4.4. van de plantoelichting staat dat in de Oranjebuitenpolder langs het Oranjekanaal een zonnepark mogelijk wordt gemaakt op het voormalige slibdepot. Het zonnepark van ongeveer 25 ha levert een bijdrage van ongeveer 25 MW, wat een belangrijke bijdrage is om in 2022 het aandeel zonne-energie naar 150 MW te brengen en in 2030 uiteindelijk tot 750 MW.\\n29.2.\\xa0 In de nota van zienswijzen en in het verweerschrift geeft de raad aan dat hij positief tegenover zonne-energie staat, maar dat hij het initiatief niet gewenst vindt op de locatie van het Spuidijkje. De raad stelt zich in zijn verweerschrift op het standpunt dat het bestemmingsplan een aanzienlijk zonnepark mogelijk gemaakt en dat het plan daarmee een bijdrage levert aan het gemeentelijke beleid op grond van de Startnotitie van duurzame energie. In hoofdstuk 6 van de Startnotitie staat aangegeven hoe de gemeente de opgave aan zonne-energie in 2018-2022 wil gaan opschalen. Onder de paragraaf \"Zon op velden\" staat dat moet worden onderzocht wat de mogelijkheden zijn om een zonnepark in Hoek van Holland te realiseren ter grootte van ongeveer 25 ha.\\nDe raad stelt, anders dan Ultimate Reduction Level Rotterdam B.V. aanvoert, dat er door de weigering om haar initiatief in het plan op te nemen, geen sprake is van handelen in strijd met de Startnotitie. In het plan is juist uitvoering aan dit beleid gegeven doordat de in de Startnota benoemde 25 ha zonnepark één op één in het plan is vertaald. Dat in de Startnota aan meer gronden in de Oranjebuitenpolder een hoge potentie van zonne-energie is toegekend, betekent niet dat die potentie ook volledig benut zou moeten worden, aldus de raad. Dat kan ook niet omdat er in het plangebied meerdere grondeigenaren zijn. Ook stelt de raad dat het ook planologisch ongewenst is om de Oranjebuitenpolder zijn overwegend agrarische bestemming te ontnemen.\\nDaarnaast heeft het Spuidijkje volgens de raad een cultuurhistorisch waardevolle structuur op grond van de Landschapsvisie Oranjebonnen. In hoofdstuk 2 van de Landschapsvisie Oranjebonnen staat dat de Oude Spuidijk en het Spuidijkje waardevolle cultuurhistorische structuren zijn. De raad meent dat ook als er vanuit archeologisch oogpunt geen beletselen tegen de keuze voor deze locatie als zonnepark zouden bestaan, dit niet maakt dat de raad die locatie anders zou behoren te waarderen nu deze locatie als landschappelijk zeer waardevol is beoordeeld en er sprake zou zijn van een ingrijpende bovengrondse wijziging van het landschap wanneer ter plekke een zonnepark zou worden gebouwd.\\nVoor zover Ultimate Reduction Level Rotterdam B.V. wijst op gewijzigd beleid, begrijpt de Afdeling dat betoog zo dat zij wijst op de Leidraad Zonne-energie. De raad stelt dat de Leidraad Zonne-energie op 21 september 2021 is vastgesteld door het college. In de Leidraad zonne-energie staat dat er sprake is van een nee, tenzij-principe. Dat houdt in dat ter plekke geen zonnepanelen worden geplaatst, omdat de open ruimte rondom Rotterdam schaars is. Enkelvoudige oplossingen horen daarom niet tot de mogelijkheden, tenzij het perceel geen andere waardevolle bestemming heeft zoals vuilstortplaatsen, zo staat in de Leidraad Zonne-Energie. De raad stelt dat hij beleidsruimte heeft en dat hij het belang van de bescherming van een waardevolle cultuurhistorische structuur zwaarder weegt dan het belang van Ultimate Reduction Level Rotterdam B.V.\\nDe Afdeling ziet, gelet op het aangevoerde, niet in waarom de raad zich niet op het standpunt mocht stellen dat hij een zonnepark op de locatie Spuidijkje niet passend vindt. De raad heeft dit voldoende gemotiveerd. Het is aan de raad om op basis van planologische inzichten en na afweging van alle betrokken belangen bestemmingen voor gronden vast te stellen.\\n29.3.\\xa0 Dat Ultimate Reduction Level Rotterdam B.V. al kosten heeft gemaakt voor een zonnepark, wat daar ook van zij, doet aan het vorenstaande niet af. Ook de stelling dat zij een zonnepark sneller kan realiseren, leidt niet tot een ander oordeel.\\n29.4.\\xa0 Het betoog slaagt niet.\\nHerhalen en inlassen zienswijzen\\n30.\\xa0\\xa0\\xa0\\xa0 [appellant sub 1A] voert aan dat er onvoldoende antwoord is gegeven op de door Zorgen om de Bonnen ingediende zienswijze.\\n[appellanten sub 2] en [appellante sub 5] verzoeken hetgeen Stichting Natuurbegraafplaats-waaromniet.nl in haar zienswijze naar voren heeft gebracht als herhaald en ingelast te beschouwen.\\n30.1.\\xa0 In de \"Nota zienswijzen. Bestemmingsplan Oranjebonnen\" (hierna: de nota van zienswijzen) is ingegaan op de zienswijze van Zorgen om de Bonnen. Artikel 3:46 van de Awb verzet zich er niet tegen dat zienswijzen samengevat worden weergegeven. Dat niet op ieder argument ter ondersteuning van een zienswijze afzonderlijk is ingegaan, is op zichzelf geen aanleiding voor het oordeel dat het besluit tot vaststelling van het plan niet voldoende is gemotiveerd. Niet is gebleken dat bepaalde argumenten niet in de besluitvorming zijn betrokken.\\nOver het verzoek van [appellanten sub 2] en [appellante sub 5] om de inhoud van de zienswijze van Stichting Natuurbegraafplaats-waaromniet.nl als herhaald en ingelast in hun beroepschriften te beschouwen, overweegt de Afdeling dat in de nota van zienswijzen bij het bestreden besluit uitgebreid is ingegaan op deze zienswijze. [appellanten sub 2] en [appellante sub 5] hebben in hun beroepschriften noch op de zitting toegelicht waarom die weerlegging van de zienswijze onjuist zou zijn. Ook is niet onderbouwd dat de beantwoording van de zienswijze onvoldoende is gemotiveerd.\\n30.2.\\xa0 De betogen slagen niet.\\nCONCLUSIE\\n31.\\xa0\\xa0\\xa0\\xa0 Het beroep van [appellant sub 1A], voor zover ingesteld door [appellant sub 1B], is niet-ontvankelijk. De beroepen van [appellanten sub 2], [appellant sub 3], Ultimate Reduction Level Rotterdam B.V., [appellante sub 5] en [appellant sub 1A] voor het overige zijn ongegrond.\\nPROCESKOSTEN\\n32.\\xa0\\xa0\\xa0\\xa0 De raad hoeft geen proceskosten te vergoeden.\\nBeslissing\\nDe Afdeling bestuursrechtspraak van de Raad van State:\\nI.\\xa0\\xa0\\xa0\\xa0\\xa0\\xa0\\xa0 verklaart het beroep van [appellant sub 1A] en [appellant sub 1B] niet-ontvankelijk, voor zover ingesteld namens [appellant sub 1B];\\nII.\\xa0\\xa0\\xa0\\xa0\\xa0\\xa0 verklaart de beroepen van [appellant sub 1A] voor het overige, [appellant sub 2A] en [appellant sub 2B], [appellant sub 3], Ultimate Reduction Level Rotterdam B.V. en [appellante sub 5] en anderen ongegrond.\\nAldus vastgesteld door mr. P.H.A. Knol, voorzitter, en mr. G.O. van Veldhuizen en mr. J.C.A. de Poorter, leden, in tegenwoordigheid van mr. S.M.W. van Ewijk, griffier.\\nw.g. Knol voorzitter\\nw.g. Van Ewijk griffier\\nUitgesproken in het openbaar op 21 augustus 2024\\n867\\nBIJLAGE\\nArtikel 6.9 van de Omgevingsverordening Zuid-Holland luidt:\\n\"1. Een bestemmingsplan kan voorzien in een nieuwe ruimtelijke ontwikkeling, onder de volgende voorwaarden ten aanzien van ruimtelijke kwaliteit:\\na. de ruimtelijke ontwikkeling past binnen de bestaande gebiedsidentiteit, voorziet geen wijziging op structuurniveau, past bij de aard en schaal van het gebied en voldoet aan de relevante richtpunten van de kwaliteitskaart (inpassen);\\nb. als de ruimtelijke ontwikkeling past binnen de bestaande gebiedsidentiteit, maar wijziging op structuurniveau voorziet (aanpassen), wordt deze uitsluitend toegestaan mits de ruimtelijke kwaliteit per saldo ten minste gelijk blijft door:\\n1°. zorgvuldige inbedding van de ontwikkeling in de omgeving, rekening houdend met de relevante richtpunten van de kwaliteitskaart; en\\n2°. het zo nodig treffen van aanvullende ruimtelijke maatregelen als bedoeld in het derde lid;\\nc. als de ruimtelijke ontwikkeling niet past bij de bestaande gebiedsidentiteit (transformeren), wordt deze uitsluitend toegestaan mits de ruimtelijke kwaliteit van de nieuwe ontwikkeling is gewaarborgd door:\\n1°. een integraal ontwerp, waarin behalve aan de ruimtelijke kwaliteit van het gehele gebied ook aandacht is besteed aan de fysieke en visuele overgang naar de omgeving en de fasering in ruimte en tijd, alsmede rekening is gehouden met de relevante richtpunten van de kwaliteitskaart; en\\n2°. het zo nodig treffen van aanvullende ruimtelijke maatregelen als bedoeld in het derde lid.\\n2. Uitzonderingen vanwege beschermingscategorieën zijn:\\na. een bestemmingsplan voor een gebied met \\xa0\\xa0 beschermingscategorie 1, waarvan de plaats geometrisch is bepaald en verbeeld op kaart 14 in bijlage II, kan niet voorzien in een ruimtelijke ontwikkeling als bedoeld in het eerste lid, onder b en c, tenzij het gaat om de ontwikkeling van bovenlokale infrastructuur of van natuur of om een in het Programma ruimte uitgezonderde ruimtelijke ontwikkeling of een zwaarwegend algemeen belang en voorts wordt voldaan aan de onder b en c gestelde voorwaarden;\\nb. een bestemmingsplan voor een gebied met \\xa0\\xa0 beschermingscategorie 2, waarvan de plaats geometrisch is bepaald en verbeeld op kaart 14 in bijlage II, kan niet voorzien in een ruimtelijke ontwikkeling als bedoeld in het eerste lid, onder c, tenzij het gaat om de ontwikkeling van bovenlokale infrastructuur of van natuur of om een in het Programma ruimte uitgezonderde ruimtelijke ontwikkeling of een zwaarwegend algemeen belang en voorts wordt voldaan aan de onder c gestelde voorwaarden.\\n3. Aanvullende ruimtelijke maatregelen zijn:\\na. de aanvullende ruimtelijke maatregelen kunnen bestaan uit (een combinatie van):\\n1° duurzame sanering van leegstaande bebouwing, kassen en/of boom- en sierteelt;\\n2° wegnemen van verharding;\\n3° toevoegen of herstellen van kenmerkende landschapselementen;\\n4° andere maatregelen waardoor de ruimtelijke kwaliteit verbetert.\\nb. de onder a genoemde maatregelen worden in beginsel getroffen binnen hetzelfde plangebied als de voorgenomen ruimtelijke ontwikkeling, tenzij kan worden gemotiveerd dat dat niet mogelijk is. In dat geval kunnen ook ruimtelijke maatregelen elders in de motivering inzake ruimtelijke kwaliteit worden betrokken;\\nc. in afwijking van onder b kan het bevoegd gezag in plaats van het treffen van ruimtelijke maatregelen een (gedeeltelijke) financiële compensatie verlangen door middel van een storting in een kwaliteitsfonds, dat is ingesteld op basis van de door provinciale staten vastgestelde regeling voor kwaliteitsfondsen, mits de daadwerkelijke uitvoering van de compenserende ruimtelijke kwaliteitsmaatregelen afdoende is verzekerd.\\n4. Een bestemmingsplan dat een nieuwe ruimtelijke ontwikkeling mogelijk maakt als bedoeld in het eerste lid bevat een beeldkwaliteitsparagraaf, waarin het effect van deze ontwikkeling op de bestaande kenmerken en waarden wordt beschreven en waaruit blijkt dat de ruimtelijke kwaliteit ten minste gelijk blijft, voor zover het gaat om een ruimtelijke ontwikkeling:\\na. waarbij de richtpunten van de kwaliteitskaart in het geding zijn; of\\nb. die is gelegen op gronden binnen een beschermingscategorie als bedoeld in het tweede lid, onder a en b.\\n[…].\"\\n'"
      ]
     },
     "execution_count": 176,
     "metadata": {},
     "output_type": "execute_result"
    }
   ],
   "execution_count": 176
  },
  {
   "metadata": {
    "ExecuteTime": {
     "end_time": "2024-08-27T10:58:46.320404Z",
     "start_time": "2024-08-27T10:58:46.316678Z"
    }
   },
   "cell_type": "code",
   "source": "datum >= datetime(2024, 7, 1)",
   "id": "f66d10a1e83f27e8",
   "outputs": [
    {
     "data": {
      "text/plain": [
       "True"
      ]
     },
     "execution_count": 177,
     "metadata": {},
     "output_type": "execute_result"
    }
   ],
   "execution_count": 177
  },
  {
   "metadata": {
    "ExecuteTime": {
     "end_time": "2024-08-27T11:32:29.266458Z",
     "start_time": "2024-08-27T11:32:29.236080Z"
    }
   },
   "cell_type": "code",
   "source": "from uitspraken.models import Uitspraak, Trefwoord",
   "id": "bc42283914f04eb9",
   "outputs": [
    {
     "ename": "AppRegistryNotReady",
     "evalue": "Apps aren't loaded yet.",
     "output_type": "error",
     "traceback": [
      "\u001B[0;31m---------------------------------------------------------------------------\u001B[0m",
      "\u001B[0;31mAppRegistryNotReady\u001B[0m                       Traceback (most recent call last)",
      "Cell \u001B[0;32mIn[188], line 1\u001B[0m\n\u001B[0;32m----> 1\u001B[0m \u001B[38;5;28;01mfrom\u001B[39;00m \u001B[38;5;21;01muitspraken\u001B[39;00m\u001B[38;5;21;01m.\u001B[39;00m\u001B[38;5;21;01mmodels\u001B[39;00m \u001B[38;5;28;01mimport\u001B[39;00m Uitspraak, Trefwoord\n",
      "File \u001B[0;32m~/Documents/git/rvs/uitspraken/models.py:4\u001B[0m\n\u001B[1;32m      1\u001B[0m \u001B[38;5;28;01mfrom\u001B[39;00m \u001B[38;5;21;01mdjango\u001B[39;00m\u001B[38;5;21;01m.\u001B[39;00m\u001B[38;5;21;01mdb\u001B[39;00m \u001B[38;5;28;01mimport\u001B[39;00m models\n\u001B[0;32m----> 4\u001B[0m \u001B[38;5;28;43;01mclass\u001B[39;49;00m\u001B[43m \u001B[49m\u001B[38;5;21;43;01mTrefwoord\u001B[39;49;00m\u001B[43m(\u001B[49m\u001B[43mmodels\u001B[49m\u001B[38;5;241;43m.\u001B[39;49m\u001B[43mModel\u001B[49m\u001B[43m)\u001B[49m\u001B[43m:\u001B[49m\n\u001B[1;32m      5\u001B[0m \u001B[43m    \u001B[49m\u001B[43mnaam\u001B[49m\u001B[43m \u001B[49m\u001B[38;5;241;43m=\u001B[39;49m\u001B[43m \u001B[49m\u001B[43mmodels\u001B[49m\u001B[38;5;241;43m.\u001B[39;49m\u001B[43mCharField\u001B[49m\u001B[43m(\u001B[49m\u001B[43mmax_length\u001B[49m\u001B[38;5;241;43m=\u001B[39;49m\u001B[38;5;241;43m100\u001B[39;49m\u001B[43m)\u001B[49m\n\u001B[1;32m      6\u001B[0m \u001B[43m    \u001B[49m\u001B[38;5;28;43mtype\u001B[39;49m\u001B[43m \u001B[49m\u001B[38;5;241;43m=\u001B[39;49m\u001B[43m \u001B[49m\u001B[43mmodels\u001B[49m\u001B[38;5;241;43m.\u001B[39;49m\u001B[43mCharField\u001B[49m\u001B[43m(\u001B[49m\u001B[43mmax_length\u001B[49m\u001B[38;5;241;43m=\u001B[39;49m\u001B[38;5;241;43m24\u001B[39;49m\u001B[43m)\u001B[49m\n",
      "File \u001B[0;32m~/Documents/git/rvs/.venv/lib/python3.12/site-packages/django/db/models/base.py:129\u001B[0m, in \u001B[0;36mModelBase.__new__\u001B[0;34m(cls, name, bases, attrs, **kwargs)\u001B[0m\n\u001B[1;32m    126\u001B[0m app_label \u001B[38;5;241m=\u001B[39m \u001B[38;5;28;01mNone\u001B[39;00m\n\u001B[1;32m    128\u001B[0m \u001B[38;5;66;03m# Look for an application configuration to attach the model to.\u001B[39;00m\n\u001B[0;32m--> 129\u001B[0m app_config \u001B[38;5;241m=\u001B[39m \u001B[43mapps\u001B[49m\u001B[38;5;241;43m.\u001B[39;49m\u001B[43mget_containing_app_config\u001B[49m\u001B[43m(\u001B[49m\u001B[43mmodule\u001B[49m\u001B[43m)\u001B[49m\n\u001B[1;32m    131\u001B[0m \u001B[38;5;28;01mif\u001B[39;00m \u001B[38;5;28mgetattr\u001B[39m(meta, \u001B[38;5;124m\"\u001B[39m\u001B[38;5;124mapp_label\u001B[39m\u001B[38;5;124m\"\u001B[39m, \u001B[38;5;28;01mNone\u001B[39;00m) \u001B[38;5;129;01mis\u001B[39;00m \u001B[38;5;28;01mNone\u001B[39;00m:\n\u001B[1;32m    132\u001B[0m     \u001B[38;5;28;01mif\u001B[39;00m app_config \u001B[38;5;129;01mis\u001B[39;00m \u001B[38;5;28;01mNone\u001B[39;00m:\n",
      "File \u001B[0;32m~/Documents/git/rvs/.venv/lib/python3.12/site-packages/django/apps/registry.py:260\u001B[0m, in \u001B[0;36mApps.get_containing_app_config\u001B[0;34m(self, object_name)\u001B[0m\n\u001B[1;32m    251\u001B[0m \u001B[38;5;28;01mdef\u001B[39;00m \u001B[38;5;21mget_containing_app_config\u001B[39m(\u001B[38;5;28mself\u001B[39m, object_name):\n\u001B[1;32m    252\u001B[0m \u001B[38;5;250m    \u001B[39m\u001B[38;5;124;03m\"\"\"\u001B[39;00m\n\u001B[1;32m    253\u001B[0m \u001B[38;5;124;03m    Look for an app config containing a given object.\u001B[39;00m\n\u001B[1;32m    254\u001B[0m \n\u001B[0;32m   (...)\u001B[0m\n\u001B[1;32m    258\u001B[0m \u001B[38;5;124;03m    Return None if the object isn't in any registered app config.\u001B[39;00m\n\u001B[1;32m    259\u001B[0m \u001B[38;5;124;03m    \"\"\"\u001B[39;00m\n\u001B[0;32m--> 260\u001B[0m     \u001B[38;5;28;43mself\u001B[39;49m\u001B[38;5;241;43m.\u001B[39;49m\u001B[43mcheck_apps_ready\u001B[49m\u001B[43m(\u001B[49m\u001B[43m)\u001B[49m\n\u001B[1;32m    261\u001B[0m     candidates \u001B[38;5;241m=\u001B[39m []\n\u001B[1;32m    262\u001B[0m     \u001B[38;5;28;01mfor\u001B[39;00m app_config \u001B[38;5;129;01min\u001B[39;00m \u001B[38;5;28mself\u001B[39m\u001B[38;5;241m.\u001B[39mapp_configs\u001B[38;5;241m.\u001B[39mvalues():\n",
      "File \u001B[0;32m~/Documents/git/rvs/.venv/lib/python3.12/site-packages/django/apps/registry.py:138\u001B[0m, in \u001B[0;36mApps.check_apps_ready\u001B[0;34m(self)\u001B[0m\n\u001B[1;32m    134\u001B[0m \u001B[38;5;66;03m# If \"not ready\" is due to unconfigured settings, accessing\u001B[39;00m\n\u001B[1;32m    135\u001B[0m \u001B[38;5;66;03m# INSTALLED_APPS raises a more helpful ImproperlyConfigured\u001B[39;00m\n\u001B[1;32m    136\u001B[0m \u001B[38;5;66;03m# exception.\u001B[39;00m\n\u001B[1;32m    137\u001B[0m settings\u001B[38;5;241m.\u001B[39mINSTALLED_APPS\n\u001B[0;32m--> 138\u001B[0m \u001B[38;5;28;01mraise\u001B[39;00m AppRegistryNotReady(\u001B[38;5;124m\"\u001B[39m\u001B[38;5;124mApps aren\u001B[39m\u001B[38;5;124m'\u001B[39m\u001B[38;5;124mt loaded yet.\u001B[39m\u001B[38;5;124m\"\u001B[39m)\n",
      "\u001B[0;31mAppRegistryNotReady\u001B[0m: Apps aren't loaded yet."
     ]
    }
   ],
   "execution_count": 188
  },
  {
   "metadata": {
    "ExecuteTime": {
     "end_time": "2024-08-27T11:31:43.218504Z",
     "start_time": "2024-08-27T11:31:43.211759Z"
    }
   },
   "cell_type": "code",
   "source": "from rvs import settings",
   "id": "e08f0cb56e2d3780",
   "outputs": [],
   "execution_count": 182
  },
  {
   "metadata": {
    "ExecuteTime": {
     "end_time": "2024-08-27T11:31:52.039973Z",
     "start_time": "2024-08-27T11:31:52.038223Z"
    }
   },
   "cell_type": "code",
   "source": "DJANGO_SETTINGS_MODULE=settings",
   "id": "1637561246b6d65f",
   "outputs": [],
   "execution_count": 183
  },
  {
   "metadata": {
    "ExecuteTime": {
     "end_time": "2024-08-27T11:32:09.388165Z",
     "start_time": "2024-08-27T11:32:09.386617Z"
    }
   },
   "cell_type": "code",
   "source": "import os",
   "id": "98447cbc45e1fc79",
   "outputs": [],
   "execution_count": 185
  },
  {
   "metadata": {
    "ExecuteTime": {
     "end_time": "2024-08-27T11:32:18.944404Z",
     "start_time": "2024-08-27T11:32:18.942400Z"
    }
   },
   "cell_type": "code",
   "source": "os.environ[\"DJANGO_SETTINGS_MODULE\"] = \"rvs.settings\"",
   "id": "b415eb26ce96abf5",
   "outputs": [],
   "execution_count": 186
  },
  {
   "metadata": {
    "ExecuteTime": {
     "end_time": "2024-08-27T11:33:38.633370Z",
     "start_time": "2024-08-27T11:33:38.630345Z"
    }
   },
   "cell_type": "code",
   "source": "import django",
   "id": "b7f6613b5e089430",
   "outputs": [],
   "execution_count": 189
  },
  {
   "metadata": {
    "ExecuteTime": {
     "end_time": "2024-08-27T11:33:48.583291Z",
     "start_time": "2024-08-27T11:33:48.479765Z"
    }
   },
   "cell_type": "code",
   "source": "django.setup()",
   "id": "2db66d199f94fbf9",
   "outputs": [],
   "execution_count": 190
  },
  {
   "metadata": {
    "ExecuteTime": {
     "end_time": "2024-08-27T11:33:50.715442Z",
     "start_time": "2024-08-27T11:33:50.713653Z"
    }
   },
   "cell_type": "code",
   "source": "",
   "id": "682883d013ed1d17",
   "outputs": [],
   "execution_count": 190
  },
  {
   "metadata": {
    "ExecuteTime": {
     "end_time": "2024-08-27T11:33:54.826375Z",
     "start_time": "2024-08-27T11:33:54.823954Z"
    }
   },
   "cell_type": "code",
   "source": "from uitspraken.models import Uitspraak, Trefwoord",
   "id": "32c1c35777c1e3d",
   "outputs": [],
   "execution_count": 191
  },
  {
   "metadata": {
    "ExecuteTime": {
     "end_time": "2024-08-27T11:34:08.636804Z",
     "start_time": "2024-08-27T11:34:08.633898Z"
    }
   },
   "cell_type": "code",
   "source": "uitspraken = Uitspraak.objects.all()",
   "id": "c6a32c99d179fe23",
   "outputs": [],
   "execution_count": 192
  },
  {
   "metadata": {
    "ExecuteTime": {
     "end_time": "2024-08-27T11:34:24.450875Z",
     "start_time": "2024-08-27T11:34:24.423262Z"
    }
   },
   "cell_type": "code",
   "source": "len(uitspraken)",
   "id": "75a20c7f3ed37616",
   "outputs": [
    {
     "ename": "SynchronousOnlyOperation",
     "evalue": "You cannot call this from an async context - use a thread or sync_to_async.",
     "output_type": "error",
     "traceback": [
      "\u001B[0;31m---------------------------------------------------------------------------\u001B[0m",
      "\u001B[0;31mSynchronousOnlyOperation\u001B[0m                  Traceback (most recent call last)",
      "Cell \u001B[0;32mIn[194], line 1\u001B[0m\n\u001B[0;32m----> 1\u001B[0m \u001B[38;5;28;43mlen\u001B[39;49m\u001B[43m(\u001B[49m\u001B[43muitspraken\u001B[49m\u001B[43m)\u001B[49m\n",
      "File \u001B[0;32m~/Documents/git/rvs/.venv/lib/python3.12/site-packages/django/db/models/query.py:380\u001B[0m, in \u001B[0;36mQuerySet.__len__\u001B[0;34m(self)\u001B[0m\n\u001B[1;32m    379\u001B[0m \u001B[38;5;28;01mdef\u001B[39;00m \u001B[38;5;21m__len__\u001B[39m(\u001B[38;5;28mself\u001B[39m):\n\u001B[0;32m--> 380\u001B[0m     \u001B[38;5;28;43mself\u001B[39;49m\u001B[38;5;241;43m.\u001B[39;49m\u001B[43m_fetch_all\u001B[49m\u001B[43m(\u001B[49m\u001B[43m)\u001B[49m\n\u001B[1;32m    381\u001B[0m     \u001B[38;5;28;01mreturn\u001B[39;00m \u001B[38;5;28mlen\u001B[39m(\u001B[38;5;28mself\u001B[39m\u001B[38;5;241m.\u001B[39m_result_cache)\n",
      "File \u001B[0;32m~/Documents/git/rvs/.venv/lib/python3.12/site-packages/django/db/models/query.py:1881\u001B[0m, in \u001B[0;36mQuerySet._fetch_all\u001B[0;34m(self)\u001B[0m\n\u001B[1;32m   1879\u001B[0m \u001B[38;5;28;01mdef\u001B[39;00m \u001B[38;5;21m_fetch_all\u001B[39m(\u001B[38;5;28mself\u001B[39m):\n\u001B[1;32m   1880\u001B[0m     \u001B[38;5;28;01mif\u001B[39;00m \u001B[38;5;28mself\u001B[39m\u001B[38;5;241m.\u001B[39m_result_cache \u001B[38;5;129;01mis\u001B[39;00m \u001B[38;5;28;01mNone\u001B[39;00m:\n\u001B[0;32m-> 1881\u001B[0m         \u001B[38;5;28mself\u001B[39m\u001B[38;5;241m.\u001B[39m_result_cache \u001B[38;5;241m=\u001B[39m \u001B[38;5;28;43mlist\u001B[39;49m\u001B[43m(\u001B[49m\u001B[38;5;28;43mself\u001B[39;49m\u001B[38;5;241;43m.\u001B[39;49m\u001B[43m_iterable_class\u001B[49m\u001B[43m(\u001B[49m\u001B[38;5;28;43mself\u001B[39;49m\u001B[43m)\u001B[49m\u001B[43m)\u001B[49m\n\u001B[1;32m   1882\u001B[0m     \u001B[38;5;28;01mif\u001B[39;00m \u001B[38;5;28mself\u001B[39m\u001B[38;5;241m.\u001B[39m_prefetch_related_lookups \u001B[38;5;129;01mand\u001B[39;00m \u001B[38;5;129;01mnot\u001B[39;00m \u001B[38;5;28mself\u001B[39m\u001B[38;5;241m.\u001B[39m_prefetch_done:\n\u001B[1;32m   1883\u001B[0m         \u001B[38;5;28mself\u001B[39m\u001B[38;5;241m.\u001B[39m_prefetch_related_objects()\n",
      "File \u001B[0;32m~/Documents/git/rvs/.venv/lib/python3.12/site-packages/django/db/models/query.py:91\u001B[0m, in \u001B[0;36mModelIterable.__iter__\u001B[0;34m(self)\u001B[0m\n\u001B[1;32m     88\u001B[0m compiler \u001B[38;5;241m=\u001B[39m queryset\u001B[38;5;241m.\u001B[39mquery\u001B[38;5;241m.\u001B[39mget_compiler(using\u001B[38;5;241m=\u001B[39mdb)\n\u001B[1;32m     89\u001B[0m \u001B[38;5;66;03m# Execute the query. This will also fill compiler.select, klass_info,\u001B[39;00m\n\u001B[1;32m     90\u001B[0m \u001B[38;5;66;03m# and annotations.\u001B[39;00m\n\u001B[0;32m---> 91\u001B[0m results \u001B[38;5;241m=\u001B[39m \u001B[43mcompiler\u001B[49m\u001B[38;5;241;43m.\u001B[39;49m\u001B[43mexecute_sql\u001B[49m\u001B[43m(\u001B[49m\n\u001B[1;32m     92\u001B[0m \u001B[43m    \u001B[49m\u001B[43mchunked_fetch\u001B[49m\u001B[38;5;241;43m=\u001B[39;49m\u001B[38;5;28;43mself\u001B[39;49m\u001B[38;5;241;43m.\u001B[39;49m\u001B[43mchunked_fetch\u001B[49m\u001B[43m,\u001B[49m\u001B[43m \u001B[49m\u001B[43mchunk_size\u001B[49m\u001B[38;5;241;43m=\u001B[39;49m\u001B[38;5;28;43mself\u001B[39;49m\u001B[38;5;241;43m.\u001B[39;49m\u001B[43mchunk_size\u001B[49m\n\u001B[1;32m     93\u001B[0m \u001B[43m\u001B[49m\u001B[43m)\u001B[49m\n\u001B[1;32m     94\u001B[0m select, klass_info, annotation_col_map \u001B[38;5;241m=\u001B[39m (\n\u001B[1;32m     95\u001B[0m     compiler\u001B[38;5;241m.\u001B[39mselect,\n\u001B[1;32m     96\u001B[0m     compiler\u001B[38;5;241m.\u001B[39mklass_info,\n\u001B[1;32m     97\u001B[0m     compiler\u001B[38;5;241m.\u001B[39mannotation_col_map,\n\u001B[1;32m     98\u001B[0m )\n\u001B[1;32m     99\u001B[0m model_cls \u001B[38;5;241m=\u001B[39m klass_info[\u001B[38;5;124m\"\u001B[39m\u001B[38;5;124mmodel\u001B[39m\u001B[38;5;124m\"\u001B[39m]\n",
      "File \u001B[0;32m~/Documents/git/rvs/.venv/lib/python3.12/site-packages/django/db/models/sql/compiler.py:1560\u001B[0m, in \u001B[0;36mSQLCompiler.execute_sql\u001B[0;34m(self, result_type, chunked_fetch, chunk_size)\u001B[0m\n\u001B[1;32m   1558\u001B[0m     cursor \u001B[38;5;241m=\u001B[39m \u001B[38;5;28mself\u001B[39m\u001B[38;5;241m.\u001B[39mconnection\u001B[38;5;241m.\u001B[39mchunked_cursor()\n\u001B[1;32m   1559\u001B[0m \u001B[38;5;28;01melse\u001B[39;00m:\n\u001B[0;32m-> 1560\u001B[0m     cursor \u001B[38;5;241m=\u001B[39m \u001B[38;5;28;43mself\u001B[39;49m\u001B[38;5;241;43m.\u001B[39;49m\u001B[43mconnection\u001B[49m\u001B[38;5;241;43m.\u001B[39;49m\u001B[43mcursor\u001B[49m\u001B[43m(\u001B[49m\u001B[43m)\u001B[49m\n\u001B[1;32m   1561\u001B[0m \u001B[38;5;28;01mtry\u001B[39;00m:\n\u001B[1;32m   1562\u001B[0m     cursor\u001B[38;5;241m.\u001B[39mexecute(sql, params)\n",
      "File \u001B[0;32m~/Documents/git/rvs/.venv/lib/python3.12/site-packages/django/utils/asyncio.py:24\u001B[0m, in \u001B[0;36masync_unsafe.<locals>.decorator.<locals>.inner\u001B[0;34m(*args, **kwargs)\u001B[0m\n\u001B[1;32m     22\u001B[0m \u001B[38;5;28;01melse\u001B[39;00m:\n\u001B[1;32m     23\u001B[0m     \u001B[38;5;28;01mif\u001B[39;00m \u001B[38;5;129;01mnot\u001B[39;00m os\u001B[38;5;241m.\u001B[39menviron\u001B[38;5;241m.\u001B[39mget(\u001B[38;5;124m\"\u001B[39m\u001B[38;5;124mDJANGO_ALLOW_ASYNC_UNSAFE\u001B[39m\u001B[38;5;124m\"\u001B[39m):\n\u001B[0;32m---> 24\u001B[0m         \u001B[38;5;28;01mraise\u001B[39;00m SynchronousOnlyOperation(message)\n\u001B[1;32m     25\u001B[0m \u001B[38;5;66;03m# Pass onward.\u001B[39;00m\n\u001B[1;32m     26\u001B[0m \u001B[38;5;28;01mreturn\u001B[39;00m func(\u001B[38;5;241m*\u001B[39margs, \u001B[38;5;241m*\u001B[39m\u001B[38;5;241m*\u001B[39mkwargs)\n",
      "\u001B[0;31mSynchronousOnlyOperation\u001B[0m: You cannot call this from an async context - use a thread or sync_to_async."
     ]
    }
   ],
   "execution_count": 194
  },
  {
   "metadata": {
    "ExecuteTime": {
     "end_time": "2024-08-27T11:34:47.790196Z",
     "start_time": "2024-08-27T11:34:47.786274Z"
    }
   },
   "cell_type": "code",
   "source": [
    "def scrape_and_populate_database():\n",
    "\n",
    "    url = f\"https://www.raadvanstate.nl/uitspraken/?zoeken=true&zoeken_term=&pager_rows=&kalenderjaar=&actualiteit=&Zoe_Selected_facet%3AType%20uitspraak=111&Zoe_Selected_facet%3AProceduresoort=78&Zoe_Selected_facet%3AProceduresoort=75&Zoe_Selected_facet%3AProceduresoort=47&Zoe_Selected_facet%3AProceduresoort=142&Zoe_Selected_facet%3AProceduresoort=141&Zoe_Selected_facet%3AProceduresoort=51&Zoe_Selected_facet%3ARechtsgebied=73&Zoe_Selected_facet%3ARechtsgebied=82&Zoe_Selected_facet%3ARechtsgebied=102&Zoe_Selected_facet%3ARechtsgebied=85&Zoe_Selected_facet%3ARechtsgebied=101&Zoe_Selected_facet%3ARechtsgebied=57&Zoe_Selected_facet%3ARechtsgebied=58&Zoe_Selected_facet%3ARechtsgebied=59&Zoe_Selected_facet%3ARechtsgebied=60&Zoe_Selected_facet%3ARechtsgebied=61&Zoe_Selected_facet%3ARechtsgebied=38&Zoe_Selected_facet%3ARechtsgebied=63&Zoe_Selected_facet%3ARechtsgebied=56&Zoe_Selected_facet%3ARechtsgebied=65&Zoe_Selected_facet%3ARechtsgebied=66&Zoe_Selected_facet%3ARechtsgebied=67&Zoe_Selected_facet%3ARechtsgebied=68&Zoe_Selected_facet%3ARechtsgebied=69&Zoe_Selected_facet%3ARechtsgebied=70&Zoe_Selected_facet%3ARechtsgebied=104&Zoe_Selected_facet%3ARechtsgebied=121\"\n",
    "\n",
    "    print(\"Scraping url \" + url)\n",
    "\n",
    "    driver = webdriver.Firefox()\n",
    "    driver.get(url)\n",
    "\n",
    "    entry = driver.find_element(By.CSS_SELECTOR, \"div.rol-entry\")\n",
    "    entry.click()\n",
    "\n",
    "    while True:\n",
    "        try:\n",
    "            next_button = WebDriverWait(driver, 3).until(\n",
    "                EC.presence_of_element_located((By.CSS_SELECTOR, \"div.goto-next-result a\"))\n",
    "            )\n",
    "        except TimeoutException:\n",
    "            print(\"Driver timeout\")\n",
    "            driver.quit()\n",
    "            return\n",
    "\n",
    "        link = driver.current_url\n",
    "\n",
    "        soup = BeautifulSoup(driver.page_source, \"html.parser\")\n",
    "        try:\n",
    "            titel, ecli, datum, samenvatting, trefwoorden, inhoud = get_full_data(soup)\n",
    "        except:  # noqa\n",
    "            print(\"Skipping\")\n",
    "            next_button.click()\n",
    "            continue\n",
    "\n",
    "        if datum >= datetime(2024, 7,1):\n",
    "            print(\"Too recent\")\n",
    "            next_button.click()\n",
    "            continue\n",
    "\n",
    "        if datum < datetime(2004, 7,1):\n",
    "            print(\"Too old\")\n",
    "            driver.quit()\n",
    "            break\n",
    "\n",
    "        trefwoorden_data = []\n",
    "\n",
    "        for trefwoord in trefwoorden:\n",
    "            trefwoord_data, _ = Trefwoord.objects.get_or_create(\n",
    "                naam=trefwoord[1],\n",
    "                type=trefwoord[0]\n",
    "            )\n",
    "            trefwoorden_data.append(trefwoord_data)\n",
    "\n",
    "        uitspraak = Uitspraak(\n",
    "            titel=titel,\n",
    "            ecli=ecli,\n",
    "            samenvatting=samenvatting,\n",
    "            datum=datum,\n",
    "            link=link,\n",
    "            inhoud=inhoud,\n",
    "        )\n",
    "\n",
    "        uitspraak.save()\n",
    "\n",
    "        uitspraak.trefwoorden.set(trefwoorden_data)\n",
    "\n",
    "        uitspraak.save()\n",
    "\n",
    "        print(\"Saved \" + titel)\n",
    "        next_button.click()"
   ],
   "id": "7b3644aad0b016cc",
   "outputs": [],
   "execution_count": 195
  },
  {
   "metadata": {
    "ExecuteTime": {
     "end_time": "2024-08-27T11:35:25.829412Z",
     "start_time": "2024-08-27T11:34:50.449488Z"
    }
   },
   "cell_type": "code",
   "source": "scrape_and_populate_database()",
   "id": "8b708f5d0d1e908d",
   "outputs": [
    {
     "name": "stdout",
     "output_type": "stream",
     "text": [
      "Scraping url https://www.raadvanstate.nl/uitspraken/?zoeken=true&zoeken_term=&pager_rows=&kalenderjaar=&actualiteit=&Zoe_Selected_facet%3AType%20uitspraak=111&Zoe_Selected_facet%3AProceduresoort=78&Zoe_Selected_facet%3AProceduresoort=75&Zoe_Selected_facet%3AProceduresoort=47&Zoe_Selected_facet%3AProceduresoort=142&Zoe_Selected_facet%3AProceduresoort=141&Zoe_Selected_facet%3AProceduresoort=51&Zoe_Selected_facet%3ARechtsgebied=73&Zoe_Selected_facet%3ARechtsgebied=82&Zoe_Selected_facet%3ARechtsgebied=102&Zoe_Selected_facet%3ARechtsgebied=85&Zoe_Selected_facet%3ARechtsgebied=101&Zoe_Selected_facet%3ARechtsgebied=57&Zoe_Selected_facet%3ARechtsgebied=58&Zoe_Selected_facet%3ARechtsgebied=59&Zoe_Selected_facet%3ARechtsgebied=60&Zoe_Selected_facet%3ARechtsgebied=61&Zoe_Selected_facet%3ARechtsgebied=38&Zoe_Selected_facet%3ARechtsgebied=63&Zoe_Selected_facet%3ARechtsgebied=56&Zoe_Selected_facet%3ARechtsgebied=65&Zoe_Selected_facet%3ARechtsgebied=66&Zoe_Selected_facet%3ARechtsgebied=67&Zoe_Selected_facet%3ARechtsgebied=68&Zoe_Selected_facet%3ARechtsgebied=69&Zoe_Selected_facet%3ARechtsgebied=70&Zoe_Selected_facet%3ARechtsgebied=104&Zoe_Selected_facet%3ARechtsgebied=121\n",
      "Found entry 202100258/1/R4\n",
      "Skipping\n",
      "Found entry 202105534/1/R4\n",
      "Skipping\n",
      "Found entry 202108152/2/R4\n",
      "Skipping\n",
      "Found entry 202200891/1/R2\n",
      "Skipping\n",
      "Found entry 202204999/1/R3\n",
      "Skipping\n",
      "Found entry 202300873/3/R3\n",
      "Skipping\n",
      "Found entry 202303169/1/R4\n",
      "Skipping\n",
      "Found entry 202304461/1/A2\n",
      "Skipping\n",
      "Found entry 202305430/1/R3\n",
      "Skipping\n",
      "Found entry 202107665/1/R3\n",
      "Too recent\n",
      "Found entry 202200297/1/R4\n",
      "Too recent\n",
      "Found entry 202201912/1/R4\n",
      "Too recent\n",
      "Found entry 202301845/1/R1\n",
      "Too recent\n",
      "Found entry 202302464/1/R1\n",
      "Too recent\n",
      "Found entry 202302747/1/R3\n",
      "Too recent\n",
      "Found entry 202303000/1/R1 en 202303033/1/R1\n",
      "Too recent\n",
      "Found entry 202303002/1/R2\n",
      "Too recent\n",
      "Found entry 202303028/1/R1\n",
      "Too recent\n",
      "Found entry 202303643/1/R3\n",
      "Too recent\n",
      "Found entry 202307676/1/V6\n",
      "Too recent\n",
      "Found entry 202307707/1/V6\n",
      "Too recent\n",
      "Found entry 202307710/1/V6\n",
      "Too recent\n",
      "Found entry 202307711/1/V6\n",
      "Too recent\n",
      "Found entry 202307713/1/V6\n",
      "Too recent\n",
      "Found entry 202201507/3/R4\n",
      "Too recent\n",
      "Found entry 202204624/1/R3\n",
      "Too recent\n",
      "Found entry 202204714/1/R1\n",
      "Too recent\n",
      "Found entry 202204927/1/A3\n",
      "Too recent\n",
      "Found entry 202206699/1/R3\n",
      "Too recent\n",
      "Found entry 202305633/1/V6\n",
      "Too recent\n",
      "Found entry 202305636/1/V6\n",
      "Too recent\n",
      "Found entry 202305868/1/V6\n",
      "Too recent\n",
      "Found entry 202306249/1/V6\n",
      "Too recent\n",
      "Found entry 202306250/1/V6\n",
      "Too recent\n",
      "Found entry 202306252/1/V6\n",
      "Too recent\n",
      "Found entry 202306253/1/V6\n",
      "Too recent\n",
      "Found entry 202306254/1/V6\n",
      "Too recent\n",
      "Found entry 202306255/1/V6\n",
      "Too recent\n",
      "Found entry 202306256/1/V6\n",
      "Too recent\n",
      "Found entry 202004603/2/R2\n",
      "Too recent\n",
      "Found entry 202104944/2/R3\n",
      "Too recent\n",
      "Found entry 202206161/1/R1\n",
      "Too recent\n",
      "Found entry 202206465/1/A3\n",
      "Too recent\n",
      "Found entry 202206976/1/R2\n",
      "Too recent\n"
     ]
    },
    {
     "ename": "KeyboardInterrupt",
     "evalue": "",
     "output_type": "error",
     "traceback": [
      "\u001B[0;31m---------------------------------------------------------------------------\u001B[0m",
      "\u001B[0;31mKeyboardInterrupt\u001B[0m                         Traceback (most recent call last)",
      "Cell \u001B[0;32mIn[196], line 1\u001B[0m\n\u001B[0;32m----> 1\u001B[0m \u001B[43mscrape_and_populate_database\u001B[49m\u001B[43m(\u001B[49m\u001B[43m)\u001B[49m\n",
      "Cell \u001B[0;32mIn[195], line 35\u001B[0m, in \u001B[0;36mscrape_and_populate_database\u001B[0;34m()\u001B[0m\n\u001B[1;32m     33\u001B[0m \u001B[38;5;28;01mif\u001B[39;00m datum \u001B[38;5;241m>\u001B[39m\u001B[38;5;241m=\u001B[39m datetime(\u001B[38;5;241m2024\u001B[39m, \u001B[38;5;241m7\u001B[39m,\u001B[38;5;241m1\u001B[39m):\n\u001B[1;32m     34\u001B[0m     \u001B[38;5;28mprint\u001B[39m(\u001B[38;5;124m\"\u001B[39m\u001B[38;5;124mToo recent\u001B[39m\u001B[38;5;124m\"\u001B[39m)\n\u001B[0;32m---> 35\u001B[0m     \u001B[43mnext_button\u001B[49m\u001B[38;5;241;43m.\u001B[39;49m\u001B[43mclick\u001B[49m\u001B[43m(\u001B[49m\u001B[43m)\u001B[49m\n\u001B[1;32m     36\u001B[0m     \u001B[38;5;28;01mcontinue\u001B[39;00m\n\u001B[1;32m     38\u001B[0m \u001B[38;5;28;01mif\u001B[39;00m datum \u001B[38;5;241m<\u001B[39m datetime(\u001B[38;5;241m2004\u001B[39m, \u001B[38;5;241m7\u001B[39m,\u001B[38;5;241m1\u001B[39m):\n",
      "File \u001B[0;32m~/Documents/git/rvs/.venv/lib/python3.12/site-packages/selenium/webdriver/remote/webelement.py:94\u001B[0m, in \u001B[0;36mWebElement.click\u001B[0;34m(self)\u001B[0m\n\u001B[1;32m     92\u001B[0m \u001B[38;5;28;01mdef\u001B[39;00m \u001B[38;5;21mclick\u001B[39m(\u001B[38;5;28mself\u001B[39m) \u001B[38;5;241m-\u001B[39m\u001B[38;5;241m>\u001B[39m \u001B[38;5;28;01mNone\u001B[39;00m:\n\u001B[1;32m     93\u001B[0m \u001B[38;5;250m    \u001B[39m\u001B[38;5;124;03m\"\"\"Clicks the element.\"\"\"\u001B[39;00m\n\u001B[0;32m---> 94\u001B[0m     \u001B[38;5;28;43mself\u001B[39;49m\u001B[38;5;241;43m.\u001B[39;49m\u001B[43m_execute\u001B[49m\u001B[43m(\u001B[49m\u001B[43mCommand\u001B[49m\u001B[38;5;241;43m.\u001B[39;49m\u001B[43mCLICK_ELEMENT\u001B[49m\u001B[43m)\u001B[49m\n",
      "File \u001B[0;32m~/Documents/git/rvs/.venv/lib/python3.12/site-packages/selenium/webdriver/remote/webelement.py:395\u001B[0m, in \u001B[0;36mWebElement._execute\u001B[0;34m(self, command, params)\u001B[0m\n\u001B[1;32m    393\u001B[0m     params \u001B[38;5;241m=\u001B[39m {}\n\u001B[1;32m    394\u001B[0m params[\u001B[38;5;124m\"\u001B[39m\u001B[38;5;124mid\u001B[39m\u001B[38;5;124m\"\u001B[39m] \u001B[38;5;241m=\u001B[39m \u001B[38;5;28mself\u001B[39m\u001B[38;5;241m.\u001B[39m_id\n\u001B[0;32m--> 395\u001B[0m \u001B[38;5;28;01mreturn\u001B[39;00m \u001B[38;5;28;43mself\u001B[39;49m\u001B[38;5;241;43m.\u001B[39;49m\u001B[43m_parent\u001B[49m\u001B[38;5;241;43m.\u001B[39;49m\u001B[43mexecute\u001B[49m\u001B[43m(\u001B[49m\u001B[43mcommand\u001B[49m\u001B[43m,\u001B[49m\u001B[43m \u001B[49m\u001B[43mparams\u001B[49m\u001B[43m)\u001B[49m\n",
      "File \u001B[0;32m~/Documents/git/rvs/.venv/lib/python3.12/site-packages/selenium/webdriver/remote/webdriver.py:352\u001B[0m, in \u001B[0;36mWebDriver.execute\u001B[0;34m(self, driver_command, params)\u001B[0m\n\u001B[1;32m    349\u001B[0m     \u001B[38;5;28;01melif\u001B[39;00m \u001B[38;5;124m\"\u001B[39m\u001B[38;5;124msessionId\u001B[39m\u001B[38;5;124m\"\u001B[39m \u001B[38;5;129;01mnot\u001B[39;00m \u001B[38;5;129;01min\u001B[39;00m params:\n\u001B[1;32m    350\u001B[0m         params[\u001B[38;5;124m\"\u001B[39m\u001B[38;5;124msessionId\u001B[39m\u001B[38;5;124m\"\u001B[39m] \u001B[38;5;241m=\u001B[39m \u001B[38;5;28mself\u001B[39m\u001B[38;5;241m.\u001B[39msession_id\n\u001B[0;32m--> 352\u001B[0m response \u001B[38;5;241m=\u001B[39m \u001B[38;5;28;43mself\u001B[39;49m\u001B[38;5;241;43m.\u001B[39;49m\u001B[43mcommand_executor\u001B[49m\u001B[38;5;241;43m.\u001B[39;49m\u001B[43mexecute\u001B[49m\u001B[43m(\u001B[49m\u001B[43mdriver_command\u001B[49m\u001B[43m,\u001B[49m\u001B[43m \u001B[49m\u001B[43mparams\u001B[49m\u001B[43m)\u001B[49m\n\u001B[1;32m    353\u001B[0m \u001B[38;5;28;01mif\u001B[39;00m response:\n\u001B[1;32m    354\u001B[0m     \u001B[38;5;28mself\u001B[39m\u001B[38;5;241m.\u001B[39merror_handler\u001B[38;5;241m.\u001B[39mcheck_response(response)\n",
      "File \u001B[0;32m~/Documents/git/rvs/.venv/lib/python3.12/site-packages/selenium/webdriver/remote/remote_connection.py:302\u001B[0m, in \u001B[0;36mRemoteConnection.execute\u001B[0;34m(self, command, params)\u001B[0m\n\u001B[1;32m    300\u001B[0m trimmed \u001B[38;5;241m=\u001B[39m \u001B[38;5;28mself\u001B[39m\u001B[38;5;241m.\u001B[39m_trim_large_entries(params)\n\u001B[1;32m    301\u001B[0m LOGGER\u001B[38;5;241m.\u001B[39mdebug(\u001B[38;5;124m\"\u001B[39m\u001B[38;5;132;01m%s\u001B[39;00m\u001B[38;5;124m \u001B[39m\u001B[38;5;132;01m%s\u001B[39;00m\u001B[38;5;124m \u001B[39m\u001B[38;5;132;01m%s\u001B[39;00m\u001B[38;5;124m\"\u001B[39m, command_info[\u001B[38;5;241m0\u001B[39m], url, \u001B[38;5;28mstr\u001B[39m(trimmed))\n\u001B[0;32m--> 302\u001B[0m \u001B[38;5;28;01mreturn\u001B[39;00m \u001B[38;5;28;43mself\u001B[39;49m\u001B[38;5;241;43m.\u001B[39;49m\u001B[43m_request\u001B[49m\u001B[43m(\u001B[49m\u001B[43mcommand_info\u001B[49m\u001B[43m[\u001B[49m\u001B[38;5;241;43m0\u001B[39;49m\u001B[43m]\u001B[49m\u001B[43m,\u001B[49m\u001B[43m \u001B[49m\u001B[43murl\u001B[49m\u001B[43m,\u001B[49m\u001B[43m \u001B[49m\u001B[43mbody\u001B[49m\u001B[38;5;241;43m=\u001B[39;49m\u001B[43mdata\u001B[49m\u001B[43m)\u001B[49m\n",
      "File \u001B[0;32m~/Documents/git/rvs/.venv/lib/python3.12/site-packages/selenium/webdriver/remote/remote_connection.py:322\u001B[0m, in \u001B[0;36mRemoteConnection._request\u001B[0;34m(self, method, url, body)\u001B[0m\n\u001B[1;32m    319\u001B[0m     body \u001B[38;5;241m=\u001B[39m \u001B[38;5;28;01mNone\u001B[39;00m\n\u001B[1;32m    321\u001B[0m \u001B[38;5;28;01mif\u001B[39;00m \u001B[38;5;28mself\u001B[39m\u001B[38;5;241m.\u001B[39mkeep_alive:\n\u001B[0;32m--> 322\u001B[0m     response \u001B[38;5;241m=\u001B[39m \u001B[38;5;28;43mself\u001B[39;49m\u001B[38;5;241;43m.\u001B[39;49m\u001B[43m_conn\u001B[49m\u001B[38;5;241;43m.\u001B[39;49m\u001B[43mrequest\u001B[49m\u001B[43m(\u001B[49m\u001B[43mmethod\u001B[49m\u001B[43m,\u001B[49m\u001B[43m \u001B[49m\u001B[43murl\u001B[49m\u001B[43m,\u001B[49m\u001B[43m \u001B[49m\u001B[43mbody\u001B[49m\u001B[38;5;241;43m=\u001B[39;49m\u001B[43mbody\u001B[49m\u001B[43m,\u001B[49m\u001B[43m \u001B[49m\u001B[43mheaders\u001B[49m\u001B[38;5;241;43m=\u001B[39;49m\u001B[43mheaders\u001B[49m\u001B[43m)\u001B[49m\n\u001B[1;32m    323\u001B[0m     statuscode \u001B[38;5;241m=\u001B[39m response\u001B[38;5;241m.\u001B[39mstatus\n\u001B[1;32m    324\u001B[0m \u001B[38;5;28;01melse\u001B[39;00m:\n",
      "File \u001B[0;32m~/Documents/git/rvs/.venv/lib/python3.12/site-packages/urllib3/_request_methods.py:144\u001B[0m, in \u001B[0;36mRequestMethods.request\u001B[0;34m(self, method, url, body, fields, headers, json, **urlopen_kw)\u001B[0m\n\u001B[1;32m    136\u001B[0m     \u001B[38;5;28;01mreturn\u001B[39;00m \u001B[38;5;28mself\u001B[39m\u001B[38;5;241m.\u001B[39mrequest_encode_url(\n\u001B[1;32m    137\u001B[0m         method,\n\u001B[1;32m    138\u001B[0m         url,\n\u001B[0;32m   (...)\u001B[0m\n\u001B[1;32m    141\u001B[0m         \u001B[38;5;241m*\u001B[39m\u001B[38;5;241m*\u001B[39murlopen_kw,\n\u001B[1;32m    142\u001B[0m     )\n\u001B[1;32m    143\u001B[0m \u001B[38;5;28;01melse\u001B[39;00m:\n\u001B[0;32m--> 144\u001B[0m     \u001B[38;5;28;01mreturn\u001B[39;00m \u001B[38;5;28;43mself\u001B[39;49m\u001B[38;5;241;43m.\u001B[39;49m\u001B[43mrequest_encode_body\u001B[49m\u001B[43m(\u001B[49m\n\u001B[1;32m    145\u001B[0m \u001B[43m        \u001B[49m\u001B[43mmethod\u001B[49m\u001B[43m,\u001B[49m\u001B[43m \u001B[49m\u001B[43murl\u001B[49m\u001B[43m,\u001B[49m\u001B[43m \u001B[49m\u001B[43mfields\u001B[49m\u001B[38;5;241;43m=\u001B[39;49m\u001B[43mfields\u001B[49m\u001B[43m,\u001B[49m\u001B[43m \u001B[49m\u001B[43mheaders\u001B[49m\u001B[38;5;241;43m=\u001B[39;49m\u001B[43mheaders\u001B[49m\u001B[43m,\u001B[49m\u001B[43m \u001B[49m\u001B[38;5;241;43m*\u001B[39;49m\u001B[38;5;241;43m*\u001B[39;49m\u001B[43murlopen_kw\u001B[49m\n\u001B[1;32m    146\u001B[0m \u001B[43m    \u001B[49m\u001B[43m)\u001B[49m\n",
      "File \u001B[0;32m~/Documents/git/rvs/.venv/lib/python3.12/site-packages/urllib3/_request_methods.py:279\u001B[0m, in \u001B[0;36mRequestMethods.request_encode_body\u001B[0;34m(self, method, url, fields, headers, encode_multipart, multipart_boundary, **urlopen_kw)\u001B[0m\n\u001B[1;32m    275\u001B[0m     extra_kw[\u001B[38;5;124m\"\u001B[39m\u001B[38;5;124mheaders\u001B[39m\u001B[38;5;124m\"\u001B[39m]\u001B[38;5;241m.\u001B[39msetdefault(\u001B[38;5;124m\"\u001B[39m\u001B[38;5;124mContent-Type\u001B[39m\u001B[38;5;124m\"\u001B[39m, content_type)\n\u001B[1;32m    277\u001B[0m extra_kw\u001B[38;5;241m.\u001B[39mupdate(urlopen_kw)\n\u001B[0;32m--> 279\u001B[0m \u001B[38;5;28;01mreturn\u001B[39;00m \u001B[38;5;28;43mself\u001B[39;49m\u001B[38;5;241;43m.\u001B[39;49m\u001B[43murlopen\u001B[49m\u001B[43m(\u001B[49m\u001B[43mmethod\u001B[49m\u001B[43m,\u001B[49m\u001B[43m \u001B[49m\u001B[43murl\u001B[49m\u001B[43m,\u001B[49m\u001B[43m \u001B[49m\u001B[38;5;241;43m*\u001B[39;49m\u001B[38;5;241;43m*\u001B[39;49m\u001B[43mextra_kw\u001B[49m\u001B[43m)\u001B[49m\n",
      "File \u001B[0;32m~/Documents/git/rvs/.venv/lib/python3.12/site-packages/urllib3/poolmanager.py:444\u001B[0m, in \u001B[0;36mPoolManager.urlopen\u001B[0;34m(self, method, url, redirect, **kw)\u001B[0m\n\u001B[1;32m    442\u001B[0m     response \u001B[38;5;241m=\u001B[39m conn\u001B[38;5;241m.\u001B[39murlopen(method, url, \u001B[38;5;241m*\u001B[39m\u001B[38;5;241m*\u001B[39mkw)\n\u001B[1;32m    443\u001B[0m \u001B[38;5;28;01melse\u001B[39;00m:\n\u001B[0;32m--> 444\u001B[0m     response \u001B[38;5;241m=\u001B[39m \u001B[43mconn\u001B[49m\u001B[38;5;241;43m.\u001B[39;49m\u001B[43murlopen\u001B[49m\u001B[43m(\u001B[49m\u001B[43mmethod\u001B[49m\u001B[43m,\u001B[49m\u001B[43m \u001B[49m\u001B[43mu\u001B[49m\u001B[38;5;241;43m.\u001B[39;49m\u001B[43mrequest_uri\u001B[49m\u001B[43m,\u001B[49m\u001B[43m \u001B[49m\u001B[38;5;241;43m*\u001B[39;49m\u001B[38;5;241;43m*\u001B[39;49m\u001B[43mkw\u001B[49m\u001B[43m)\u001B[49m\n\u001B[1;32m    446\u001B[0m redirect_location \u001B[38;5;241m=\u001B[39m redirect \u001B[38;5;129;01mand\u001B[39;00m response\u001B[38;5;241m.\u001B[39mget_redirect_location()\n\u001B[1;32m    447\u001B[0m \u001B[38;5;28;01mif\u001B[39;00m \u001B[38;5;129;01mnot\u001B[39;00m redirect_location:\n",
      "File \u001B[0;32m~/Documents/git/rvs/.venv/lib/python3.12/site-packages/urllib3/connectionpool.py:793\u001B[0m, in \u001B[0;36mHTTPConnectionPool.urlopen\u001B[0;34m(self, method, url, body, headers, retries, redirect, assert_same_host, timeout, pool_timeout, release_conn, chunked, body_pos, preload_content, decode_content, **response_kw)\u001B[0m\n\u001B[1;32m    790\u001B[0m response_conn \u001B[38;5;241m=\u001B[39m conn \u001B[38;5;28;01mif\u001B[39;00m \u001B[38;5;129;01mnot\u001B[39;00m release_conn \u001B[38;5;28;01melse\u001B[39;00m \u001B[38;5;28;01mNone\u001B[39;00m\n\u001B[1;32m    792\u001B[0m \u001B[38;5;66;03m# Make the request on the HTTPConnection object\u001B[39;00m\n\u001B[0;32m--> 793\u001B[0m response \u001B[38;5;241m=\u001B[39m \u001B[38;5;28;43mself\u001B[39;49m\u001B[38;5;241;43m.\u001B[39;49m\u001B[43m_make_request\u001B[49m\u001B[43m(\u001B[49m\n\u001B[1;32m    794\u001B[0m \u001B[43m    \u001B[49m\u001B[43mconn\u001B[49m\u001B[43m,\u001B[49m\n\u001B[1;32m    795\u001B[0m \u001B[43m    \u001B[49m\u001B[43mmethod\u001B[49m\u001B[43m,\u001B[49m\n\u001B[1;32m    796\u001B[0m \u001B[43m    \u001B[49m\u001B[43murl\u001B[49m\u001B[43m,\u001B[49m\n\u001B[1;32m    797\u001B[0m \u001B[43m    \u001B[49m\u001B[43mtimeout\u001B[49m\u001B[38;5;241;43m=\u001B[39;49m\u001B[43mtimeout_obj\u001B[49m\u001B[43m,\u001B[49m\n\u001B[1;32m    798\u001B[0m \u001B[43m    \u001B[49m\u001B[43mbody\u001B[49m\u001B[38;5;241;43m=\u001B[39;49m\u001B[43mbody\u001B[49m\u001B[43m,\u001B[49m\n\u001B[1;32m    799\u001B[0m \u001B[43m    \u001B[49m\u001B[43mheaders\u001B[49m\u001B[38;5;241;43m=\u001B[39;49m\u001B[43mheaders\u001B[49m\u001B[43m,\u001B[49m\n\u001B[1;32m    800\u001B[0m \u001B[43m    \u001B[49m\u001B[43mchunked\u001B[49m\u001B[38;5;241;43m=\u001B[39;49m\u001B[43mchunked\u001B[49m\u001B[43m,\u001B[49m\n\u001B[1;32m    801\u001B[0m \u001B[43m    \u001B[49m\u001B[43mretries\u001B[49m\u001B[38;5;241;43m=\u001B[39;49m\u001B[43mretries\u001B[49m\u001B[43m,\u001B[49m\n\u001B[1;32m    802\u001B[0m \u001B[43m    \u001B[49m\u001B[43mresponse_conn\u001B[49m\u001B[38;5;241;43m=\u001B[39;49m\u001B[43mresponse_conn\u001B[49m\u001B[43m,\u001B[49m\n\u001B[1;32m    803\u001B[0m \u001B[43m    \u001B[49m\u001B[43mpreload_content\u001B[49m\u001B[38;5;241;43m=\u001B[39;49m\u001B[43mpreload_content\u001B[49m\u001B[43m,\u001B[49m\n\u001B[1;32m    804\u001B[0m \u001B[43m    \u001B[49m\u001B[43mdecode_content\u001B[49m\u001B[38;5;241;43m=\u001B[39;49m\u001B[43mdecode_content\u001B[49m\u001B[43m,\u001B[49m\n\u001B[1;32m    805\u001B[0m \u001B[43m    \u001B[49m\u001B[38;5;241;43m*\u001B[39;49m\u001B[38;5;241;43m*\u001B[39;49m\u001B[43mresponse_kw\u001B[49m\u001B[43m,\u001B[49m\n\u001B[1;32m    806\u001B[0m \u001B[43m\u001B[49m\u001B[43m)\u001B[49m\n\u001B[1;32m    808\u001B[0m \u001B[38;5;66;03m# Everything went great!\u001B[39;00m\n\u001B[1;32m    809\u001B[0m clean_exit \u001B[38;5;241m=\u001B[39m \u001B[38;5;28;01mTrue\u001B[39;00m\n",
      "File \u001B[0;32m~/Documents/git/rvs/.venv/lib/python3.12/site-packages/urllib3/connectionpool.py:537\u001B[0m, in \u001B[0;36mHTTPConnectionPool._make_request\u001B[0;34m(self, conn, method, url, body, headers, retries, timeout, chunked, response_conn, preload_content, decode_content, enforce_content_length)\u001B[0m\n\u001B[1;32m    535\u001B[0m \u001B[38;5;66;03m# Receive the response from the server\u001B[39;00m\n\u001B[1;32m    536\u001B[0m \u001B[38;5;28;01mtry\u001B[39;00m:\n\u001B[0;32m--> 537\u001B[0m     response \u001B[38;5;241m=\u001B[39m \u001B[43mconn\u001B[49m\u001B[38;5;241;43m.\u001B[39;49m\u001B[43mgetresponse\u001B[49m\u001B[43m(\u001B[49m\u001B[43m)\u001B[49m\n\u001B[1;32m    538\u001B[0m \u001B[38;5;28;01mexcept\u001B[39;00m (BaseSSLError, \u001B[38;5;167;01mOSError\u001B[39;00m) \u001B[38;5;28;01mas\u001B[39;00m e:\n\u001B[1;32m    539\u001B[0m     \u001B[38;5;28mself\u001B[39m\u001B[38;5;241m.\u001B[39m_raise_timeout(err\u001B[38;5;241m=\u001B[39me, url\u001B[38;5;241m=\u001B[39murl, timeout_value\u001B[38;5;241m=\u001B[39mread_timeout)\n",
      "File \u001B[0;32m~/Documents/git/rvs/.venv/lib/python3.12/site-packages/urllib3/connection.py:466\u001B[0m, in \u001B[0;36mHTTPConnection.getresponse\u001B[0;34m(self)\u001B[0m\n\u001B[1;32m    463\u001B[0m \u001B[38;5;28;01mfrom\u001B[39;00m \u001B[38;5;21;01m.\u001B[39;00m\u001B[38;5;21;01mresponse\u001B[39;00m \u001B[38;5;28;01mimport\u001B[39;00m HTTPResponse\n\u001B[1;32m    465\u001B[0m \u001B[38;5;66;03m# Get the response from http.client.HTTPConnection\u001B[39;00m\n\u001B[0;32m--> 466\u001B[0m httplib_response \u001B[38;5;241m=\u001B[39m \u001B[38;5;28;43msuper\u001B[39;49m\u001B[43m(\u001B[49m\u001B[43m)\u001B[49m\u001B[38;5;241;43m.\u001B[39;49m\u001B[43mgetresponse\u001B[49m\u001B[43m(\u001B[49m\u001B[43m)\u001B[49m\n\u001B[1;32m    468\u001B[0m \u001B[38;5;28;01mtry\u001B[39;00m:\n\u001B[1;32m    469\u001B[0m     assert_header_parsing(httplib_response\u001B[38;5;241m.\u001B[39mmsg)\n",
      "File \u001B[0;32m/Library/Frameworks/Python.framework/Versions/3.12/lib/python3.12/http/client.py:1411\u001B[0m, in \u001B[0;36mHTTPConnection.getresponse\u001B[0;34m(self)\u001B[0m\n\u001B[1;32m   1409\u001B[0m \u001B[38;5;28;01mtry\u001B[39;00m:\n\u001B[1;32m   1410\u001B[0m     \u001B[38;5;28;01mtry\u001B[39;00m:\n\u001B[0;32m-> 1411\u001B[0m         \u001B[43mresponse\u001B[49m\u001B[38;5;241;43m.\u001B[39;49m\u001B[43mbegin\u001B[49m\u001B[43m(\u001B[49m\u001B[43m)\u001B[49m\n\u001B[1;32m   1412\u001B[0m     \u001B[38;5;28;01mexcept\u001B[39;00m \u001B[38;5;167;01mConnectionError\u001B[39;00m:\n\u001B[1;32m   1413\u001B[0m         \u001B[38;5;28mself\u001B[39m\u001B[38;5;241m.\u001B[39mclose()\n",
      "File \u001B[0;32m/Library/Frameworks/Python.framework/Versions/3.12/lib/python3.12/http/client.py:324\u001B[0m, in \u001B[0;36mHTTPResponse.begin\u001B[0;34m(self)\u001B[0m\n\u001B[1;32m    322\u001B[0m \u001B[38;5;66;03m# read until we get a non-100 response\u001B[39;00m\n\u001B[1;32m    323\u001B[0m \u001B[38;5;28;01mwhile\u001B[39;00m \u001B[38;5;28;01mTrue\u001B[39;00m:\n\u001B[0;32m--> 324\u001B[0m     version, status, reason \u001B[38;5;241m=\u001B[39m \u001B[38;5;28;43mself\u001B[39;49m\u001B[38;5;241;43m.\u001B[39;49m\u001B[43m_read_status\u001B[49m\u001B[43m(\u001B[49m\u001B[43m)\u001B[49m\n\u001B[1;32m    325\u001B[0m     \u001B[38;5;28;01mif\u001B[39;00m status \u001B[38;5;241m!=\u001B[39m CONTINUE:\n\u001B[1;32m    326\u001B[0m         \u001B[38;5;28;01mbreak\u001B[39;00m\n",
      "File \u001B[0;32m/Library/Frameworks/Python.framework/Versions/3.12/lib/python3.12/http/client.py:285\u001B[0m, in \u001B[0;36mHTTPResponse._read_status\u001B[0;34m(self)\u001B[0m\n\u001B[1;32m    284\u001B[0m \u001B[38;5;28;01mdef\u001B[39;00m \u001B[38;5;21m_read_status\u001B[39m(\u001B[38;5;28mself\u001B[39m):\n\u001B[0;32m--> 285\u001B[0m     line \u001B[38;5;241m=\u001B[39m \u001B[38;5;28mstr\u001B[39m(\u001B[38;5;28;43mself\u001B[39;49m\u001B[38;5;241;43m.\u001B[39;49m\u001B[43mfp\u001B[49m\u001B[38;5;241;43m.\u001B[39;49m\u001B[43mreadline\u001B[49m\u001B[43m(\u001B[49m\u001B[43m_MAXLINE\u001B[49m\u001B[43m \u001B[49m\u001B[38;5;241;43m+\u001B[39;49m\u001B[43m \u001B[49m\u001B[38;5;241;43m1\u001B[39;49m\u001B[43m)\u001B[49m, \u001B[38;5;124m\"\u001B[39m\u001B[38;5;124miso-8859-1\u001B[39m\u001B[38;5;124m\"\u001B[39m)\n\u001B[1;32m    286\u001B[0m     \u001B[38;5;28;01mif\u001B[39;00m \u001B[38;5;28mlen\u001B[39m(line) \u001B[38;5;241m>\u001B[39m _MAXLINE:\n\u001B[1;32m    287\u001B[0m         \u001B[38;5;28;01mraise\u001B[39;00m LineTooLong(\u001B[38;5;124m\"\u001B[39m\u001B[38;5;124mstatus line\u001B[39m\u001B[38;5;124m\"\u001B[39m)\n",
      "File \u001B[0;32m/Library/Frameworks/Python.framework/Versions/3.12/lib/python3.12/socket.py:707\u001B[0m, in \u001B[0;36mSocketIO.readinto\u001B[0;34m(self, b)\u001B[0m\n\u001B[1;32m    705\u001B[0m \u001B[38;5;28;01mwhile\u001B[39;00m \u001B[38;5;28;01mTrue\u001B[39;00m:\n\u001B[1;32m    706\u001B[0m     \u001B[38;5;28;01mtry\u001B[39;00m:\n\u001B[0;32m--> 707\u001B[0m         \u001B[38;5;28;01mreturn\u001B[39;00m \u001B[38;5;28;43mself\u001B[39;49m\u001B[38;5;241;43m.\u001B[39;49m\u001B[43m_sock\u001B[49m\u001B[38;5;241;43m.\u001B[39;49m\u001B[43mrecv_into\u001B[49m\u001B[43m(\u001B[49m\u001B[43mb\u001B[49m\u001B[43m)\u001B[49m\n\u001B[1;32m    708\u001B[0m     \u001B[38;5;28;01mexcept\u001B[39;00m timeout:\n\u001B[1;32m    709\u001B[0m         \u001B[38;5;28mself\u001B[39m\u001B[38;5;241m.\u001B[39m_timeout_occurred \u001B[38;5;241m=\u001B[39m \u001B[38;5;28;01mTrue\u001B[39;00m\n",
      "\u001B[0;31mKeyboardInterrupt\u001B[0m: "
     ]
    }
   ],
   "execution_count": 196
  },
  {
   "metadata": {
    "ExecuteTime": {
     "end_time": "2024-08-27T11:35:48.686698Z",
     "start_time": "2024-08-27T11:35:46.871118Z"
    }
   },
   "cell_type": "code",
   "source": [
    "url = f\"https://www.raadvanstate.nl/uitspraken/?zoeken=true&zoeken_term=&pager_rows=&kalenderjaar=&actualiteit=&Zoe_Selected_facet%3AType%20uitspraak=111&Zoe_Selected_facet%3AProceduresoort=78&Zoe_Selected_facet%3AProceduresoort=75&Zoe_Selected_facet%3AProceduresoort=47&Zoe_Selected_facet%3AProceduresoort=142&Zoe_Selected_facet%3AProceduresoort=141&Zoe_Selected_facet%3AProceduresoort=51&Zoe_Selected_facet%3ARechtsgebied=73&Zoe_Selected_facet%3ARechtsgebied=82&Zoe_Selected_facet%3ARechtsgebied=102&Zoe_Selected_facet%3ARechtsgebied=85&Zoe_Selected_facet%3ARechtsgebied=101&Zoe_Selected_facet%3ARechtsgebied=57&Zoe_Selected_facet%3ARechtsgebied=58&Zoe_Selected_facet%3ARechtsgebied=59&Zoe_Selected_facet%3ARechtsgebied=60&Zoe_Selected_facet%3ARechtsgebied=61&Zoe_Selected_facet%3ARechtsgebied=38&Zoe_Selected_facet%3ARechtsgebied=63&Zoe_Selected_facet%3ARechtsgebied=56&Zoe_Selected_facet%3ARechtsgebied=65&Zoe_Selected_facet%3ARechtsgebied=66&Zoe_Selected_facet%3ARechtsgebied=67&Zoe_Selected_facet%3ARechtsgebied=68&Zoe_Selected_facet%3ARechtsgebied=69&Zoe_Selected_facet%3ARechtsgebied=70&Zoe_Selected_facet%3ARechtsgebied=104&Zoe_Selected_facet%3ARechtsgebied=121\"\n",
    "\n",
    "print(\"Scraping url \" + url)\n",
    "\n",
    "driver = webdriver.Firefox()\n",
    "driver.get(url)\n",
    "\n",
    "entry = driver.find_element(By.CSS_SELECTOR, \"div.rol-entry\")\n",
    "entry.click()"
   ],
   "id": "16818b521983623a",
   "outputs": [
    {
     "name": "stdout",
     "output_type": "stream",
     "text": [
      "Scraping url https://www.raadvanstate.nl/uitspraken/?zoeken=true&zoeken_term=&pager_rows=&kalenderjaar=&actualiteit=&Zoe_Selected_facet%3AType%20uitspraak=111&Zoe_Selected_facet%3AProceduresoort=78&Zoe_Selected_facet%3AProceduresoort=75&Zoe_Selected_facet%3AProceduresoort=47&Zoe_Selected_facet%3AProceduresoort=142&Zoe_Selected_facet%3AProceduresoort=141&Zoe_Selected_facet%3AProceduresoort=51&Zoe_Selected_facet%3ARechtsgebied=73&Zoe_Selected_facet%3ARechtsgebied=82&Zoe_Selected_facet%3ARechtsgebied=102&Zoe_Selected_facet%3ARechtsgebied=85&Zoe_Selected_facet%3ARechtsgebied=101&Zoe_Selected_facet%3ARechtsgebied=57&Zoe_Selected_facet%3ARechtsgebied=58&Zoe_Selected_facet%3ARechtsgebied=59&Zoe_Selected_facet%3ARechtsgebied=60&Zoe_Selected_facet%3ARechtsgebied=61&Zoe_Selected_facet%3ARechtsgebied=38&Zoe_Selected_facet%3ARechtsgebied=63&Zoe_Selected_facet%3ARechtsgebied=56&Zoe_Selected_facet%3ARechtsgebied=65&Zoe_Selected_facet%3ARechtsgebied=66&Zoe_Selected_facet%3ARechtsgebied=67&Zoe_Selected_facet%3ARechtsgebied=68&Zoe_Selected_facet%3ARechtsgebied=69&Zoe_Selected_facet%3ARechtsgebied=70&Zoe_Selected_facet%3ARechtsgebied=104&Zoe_Selected_facet%3ARechtsgebied=121\n"
     ]
    }
   ],
   "execution_count": 197
  },
  {
   "metadata": {
    "ExecuteTime": {
     "end_time": "2024-08-27T11:36:10.940522Z",
     "start_time": "2024-08-27T11:36:10.931189Z"
    }
   },
   "cell_type": "code",
   "source": [
    "try:\n",
    "    next_button = WebDriverWait(driver, 3).until(\n",
    "        EC.presence_of_element_located((By.CSS_SELECTOR, \"div.goto-next-result a\"))\n",
    "    )\n",
    "except TimeoutException:\n",
    "    print(\"Driver timeout\")\n",
    "    driver.quit()"
   ],
   "id": "7357ca726226c959",
   "outputs": [],
   "execution_count": 199
  },
  {
   "metadata": {
    "ExecuteTime": {
     "end_time": "2024-08-27T11:37:01.088869Z",
     "start_time": "2024-08-27T11:37:01.081959Z"
    }
   },
   "cell_type": "code",
   "source": "link = driver.current_url",
   "id": "10719f8cec2e4ef3",
   "outputs": [],
   "execution_count": 200
  },
  {
   "metadata": {
    "ExecuteTime": {
     "end_time": "2024-08-27T11:37:23.412315Z",
     "start_time": "2024-08-27T11:37:23.406027Z"
    }
   },
   "cell_type": "code",
   "source": "titel, ecli, datum, samenvatting, trefwoorden, inhoud = get_full_data(soup)",
   "id": "35618c30640c1c21",
   "outputs": [
    {
     "name": "stdout",
     "output_type": "stream",
     "text": [
      "Found entry 202107665/1/R3\n"
     ]
    }
   ],
   "execution_count": 201
  },
  {
   "metadata": {
    "ExecuteTime": {
     "end_time": "2024-08-27T11:37:37.655551Z",
     "start_time": "2024-08-27T11:37:37.652735Z"
    }
   },
   "cell_type": "code",
   "source": "trefwoorden_data = []",
   "id": "a82aa6d946ba0fab",
   "outputs": [],
   "execution_count": 202
  },
  {
   "metadata": {
    "ExecuteTime": {
     "end_time": "2024-08-27T11:38:29.883493Z",
     "start_time": "2024-08-27T11:38:29.704985Z"
    }
   },
   "cell_type": "code",
   "source": [
    "for trefwoord in trefwoorden:\n",
    "    trefwoord_data, _ = Trefwoord.objects.get_or_create(\n",
    "        naam=trefwoord[1],\n",
    "        type=trefwoord[0]\n",
    "    )\n",
    "    trefwoorden_data.append(trefwoord_data)"
   ],
   "id": "9140451b69f9b7a3",
   "outputs": [],
   "execution_count": 205
  },
  {
   "metadata": {
    "ExecuteTime": {
     "end_time": "2024-08-27T11:38:27.618047Z",
     "start_time": "2024-08-27T11:38:27.615255Z"
    }
   },
   "cell_type": "code",
   "source": "os.environ[\"DJANGO_ALLOW_ASYNC_UNSAFE\"] = \"true\"",
   "id": "43b778c95c477f62",
   "outputs": [],
   "execution_count": 204
  },
  {
   "metadata": {
    "ExecuteTime": {
     "end_time": "2024-08-27T11:39:00.957109Z",
     "start_time": "2024-08-27T11:39:00.953535Z"
    }
   },
   "cell_type": "code",
   "source": "trefwoorden_data",
   "id": "b8f090272f13a9fa",
   "outputs": [
    {
     "data": {
      "text/plain": [
       "[<Trefwoord: Eerste aanleg - meervoudig>, <Trefwoord: RO - Zuid-Holland>]"
      ]
     },
     "execution_count": 206,
     "metadata": {},
     "output_type": "execute_result"
    }
   ],
   "execution_count": 206
  },
  {
   "metadata": {
    "ExecuteTime": {
     "end_time": "2024-08-27T11:42:14.732397Z",
     "start_time": "2024-08-27T11:42:14.729954Z"
    }
   },
   "cell_type": "code",
   "source": [
    "uitspraak = Uitspraak(\n",
    "            titel=titel,\n",
    "            ecli=ecli,\n",
    "            samenvatting=samenvatting,\n",
    "            datum=datum,\n",
    "            link=link,\n",
    "            inhoud=inhoud,\n",
    "        )"
   ],
   "id": "6c8741d6257cf4ef",
   "outputs": [],
   "execution_count": 214
  },
  {
   "metadata": {
    "ExecuteTime": {
     "end_time": "2024-08-27T11:42:18.267439Z",
     "start_time": "2024-08-27T11:42:18.265427Z"
    }
   },
   "cell_type": "code",
   "source": "uitspraak.id",
   "id": "3318927bdc15b0a5",
   "outputs": [],
   "execution_count": 215
  },
  {
   "metadata": {
    "ExecuteTime": {
     "end_time": "2024-08-27T11:39:29.932804Z",
     "start_time": "2024-08-27T11:39:29.659105Z"
    }
   },
   "cell_type": "code",
   "source": "uitspraak.save()",
   "id": "91f92df2376974c5",
   "outputs": [],
   "execution_count": 209
  },
  {
   "metadata": {
    "ExecuteTime": {
     "end_time": "2024-08-27T11:39:33.398127Z",
     "start_time": "2024-08-27T11:39:33.395628Z"
    }
   },
   "cell_type": "code",
   "source": "uitspraak",
   "id": "2db2f04d355ed9bf",
   "outputs": [
    {
     "data": {
      "text/plain": [
       "<Uitspraak: Uitspraak object (12504)>"
      ]
     },
     "execution_count": 210,
     "metadata": {},
     "output_type": "execute_result"
    }
   ],
   "execution_count": 210
  },
  {
   "metadata": {
    "ExecuteTime": {
     "end_time": "2024-08-27T11:39:42.484649Z",
     "start_time": "2024-08-27T11:39:42.480382Z"
    }
   },
   "cell_type": "code",
   "source": "uitspraken = Uitspraak.objects.all()",
   "id": "56330e34b5af1ee8",
   "outputs": [],
   "execution_count": 211
  },
  {
   "metadata": {
    "ExecuteTime": {
     "end_time": "2024-08-27T11:39:44.685030Z",
     "start_time": "2024-08-27T11:39:44.682500Z"
    }
   },
   "cell_type": "code",
   "source": "len(uitspraken)",
   "id": "107138deb48e67e3",
   "outputs": [
    {
     "data": {
      "text/plain": [
       "0"
      ]
     },
     "execution_count": 212,
     "metadata": {},
     "output_type": "execute_result"
    }
   ],
   "execution_count": 212
  },
  {
   "metadata": {
    "ExecuteTime": {
     "end_time": "2024-08-27T11:42:09.086027Z",
     "start_time": "2024-08-27T11:42:09.082279Z"
    }
   },
   "cell_type": "code",
   "source": "uitspraak.id",
   "id": "833535ebb04752b8",
   "outputs": [
    {
     "data": {
      "text/plain": [
       "12504"
      ]
     },
     "execution_count": 213,
     "metadata": {},
     "output_type": "execute_result"
    }
   ],
   "execution_count": 213
  },
  {
   "metadata": {},
   "cell_type": "code",
   "outputs": [],
   "execution_count": null,
   "source": "",
   "id": "3dd46459b85092ff"
  }
 ],
 "metadata": {
  "kernelspec": {
   "display_name": "Python 3 (ipykernel)",
   "language": "python",
   "name": "python3"
  },
  "language_info": {
   "codemirror_mode": {
    "name": "ipython",
    "version": 3
   },
   "file_extension": ".py",
   "mimetype": "text/x-python",
   "name": "python",
   "nbconvert_exporter": "python",
   "pygments_lexer": "ipython3",
   "version": "3.12.0"
  }
 },
 "nbformat": 4,
 "nbformat_minor": 5
}
