{
 "cells": [
  {
   "cell_type": "code",
   "id": "initial_id",
   "metadata": {
    "collapsed": true,
    "ExecuteTime": {
     "end_time": "2024-12-02T17:46:41.470697Z",
     "start_time": "2024-12-02T17:46:41.275232Z"
    }
   },
   "source": "import pandas as pd",
   "outputs": [],
   "execution_count": 1
  },
  {
   "metadata": {
    "ExecuteTime": {
     "end_time": "2024-12-02T17:48:07.931878Z",
     "start_time": "2024-12-02T17:48:07.928080Z"
    }
   },
   "cell_type": "code",
   "source": "from django.conf import settings",
   "id": "fdab4d881188c292",
   "outputs": [],
   "execution_count": 3
  },
  {
   "metadata": {
    "ExecuteTime": {
     "end_time": "2024-12-02T17:48:14.310555Z",
     "start_time": "2024-12-02T17:48:14.307389Z"
    }
   },
   "cell_type": "code",
   "source": "settings.configure()",
   "id": "af09b2b1bc137e97",
   "outputs": [],
   "execution_count": 4
  },
  {
   "metadata": {
    "ExecuteTime": {
     "end_time": "2024-12-02T17:48:25.711711Z",
     "start_time": "2024-12-02T17:48:25.668457Z"
    }
   },
   "cell_type": "code",
   "source": "from uitspraken.models import Uitspraak",
   "id": "e65441ed6b3e3af8",
   "outputs": [
    {
     "ename": "AppRegistryNotReady",
     "evalue": "Apps aren't loaded yet.",
     "output_type": "error",
     "traceback": [
      "\u001B[0;31m---------------------------------------------------------------------------\u001B[0m",
      "\u001B[0;31mAppRegistryNotReady\u001B[0m                       Traceback (most recent call last)",
      "Cell \u001B[0;32mIn[5], line 1\u001B[0m\n\u001B[0;32m----> 1\u001B[0m \u001B[38;5;28;01mfrom\u001B[39;00m \u001B[38;5;21;01muitspraken\u001B[39;00m\u001B[38;5;21;01m.\u001B[39;00m\u001B[38;5;21;01mmodels\u001B[39;00m \u001B[38;5;28;01mimport\u001B[39;00m Uitspraak\n",
      "File \u001B[0;32m~/Documents/git/rvs/uitspraken/models.py:4\u001B[0m\n\u001B[1;32m      1\u001B[0m \u001B[38;5;28;01mfrom\u001B[39;00m \u001B[38;5;21;01mdjango\u001B[39;00m\u001B[38;5;21;01m.\u001B[39;00m\u001B[38;5;21;01mdb\u001B[39;00m \u001B[38;5;28;01mimport\u001B[39;00m models\n\u001B[0;32m----> 4\u001B[0m \u001B[38;5;28;43;01mclass\u001B[39;49;00m\u001B[43m \u001B[49m\u001B[38;5;21;43;01mTrefwoord\u001B[39;49;00m\u001B[43m(\u001B[49m\u001B[43mmodels\u001B[49m\u001B[38;5;241;43m.\u001B[39;49m\u001B[43mModel\u001B[49m\u001B[43m)\u001B[49m\u001B[43m:\u001B[49m\n\u001B[1;32m      5\u001B[0m \u001B[43m    \u001B[49m\u001B[43mnaam\u001B[49m\u001B[43m \u001B[49m\u001B[38;5;241;43m=\u001B[39;49m\u001B[43m \u001B[49m\u001B[43mmodels\u001B[49m\u001B[38;5;241;43m.\u001B[39;49m\u001B[43mCharField\u001B[49m\u001B[43m(\u001B[49m\u001B[43mmax_length\u001B[49m\u001B[38;5;241;43m=\u001B[39;49m\u001B[38;5;241;43m100\u001B[39;49m\u001B[43m)\u001B[49m\n\u001B[1;32m      6\u001B[0m \u001B[43m    \u001B[49m\u001B[38;5;28;43mtype\u001B[39;49m\u001B[43m \u001B[49m\u001B[38;5;241;43m=\u001B[39;49m\u001B[43m \u001B[49m\u001B[43mmodels\u001B[49m\u001B[38;5;241;43m.\u001B[39;49m\u001B[43mCharField\u001B[49m\u001B[43m(\u001B[49m\u001B[43mmax_length\u001B[49m\u001B[38;5;241;43m=\u001B[39;49m\u001B[38;5;241;43m24\u001B[39;49m\u001B[43m)\u001B[49m\n",
      "File \u001B[0;32m~/Documents/git/rvs/.venv/lib/python3.12/site-packages/django/db/models/base.py:129\u001B[0m, in \u001B[0;36mModelBase.__new__\u001B[0;34m(cls, name, bases, attrs, **kwargs)\u001B[0m\n\u001B[1;32m    126\u001B[0m app_label \u001B[38;5;241m=\u001B[39m \u001B[38;5;28;01mNone\u001B[39;00m\n\u001B[1;32m    128\u001B[0m \u001B[38;5;66;03m# Look for an application configuration to attach the model to.\u001B[39;00m\n\u001B[0;32m--> 129\u001B[0m app_config \u001B[38;5;241m=\u001B[39m \u001B[43mapps\u001B[49m\u001B[38;5;241;43m.\u001B[39;49m\u001B[43mget_containing_app_config\u001B[49m\u001B[43m(\u001B[49m\u001B[43mmodule\u001B[49m\u001B[43m)\u001B[49m\n\u001B[1;32m    131\u001B[0m \u001B[38;5;28;01mif\u001B[39;00m \u001B[38;5;28mgetattr\u001B[39m(meta, \u001B[38;5;124m\"\u001B[39m\u001B[38;5;124mapp_label\u001B[39m\u001B[38;5;124m\"\u001B[39m, \u001B[38;5;28;01mNone\u001B[39;00m) \u001B[38;5;129;01mis\u001B[39;00m \u001B[38;5;28;01mNone\u001B[39;00m:\n\u001B[1;32m    132\u001B[0m     \u001B[38;5;28;01mif\u001B[39;00m app_config \u001B[38;5;129;01mis\u001B[39;00m \u001B[38;5;28;01mNone\u001B[39;00m:\n",
      "File \u001B[0;32m~/Documents/git/rvs/.venv/lib/python3.12/site-packages/django/apps/registry.py:260\u001B[0m, in \u001B[0;36mApps.get_containing_app_config\u001B[0;34m(self, object_name)\u001B[0m\n\u001B[1;32m    251\u001B[0m \u001B[38;5;28;01mdef\u001B[39;00m \u001B[38;5;21mget_containing_app_config\u001B[39m(\u001B[38;5;28mself\u001B[39m, object_name):\n\u001B[1;32m    252\u001B[0m \u001B[38;5;250m    \u001B[39m\u001B[38;5;124;03m\"\"\"\u001B[39;00m\n\u001B[1;32m    253\u001B[0m \u001B[38;5;124;03m    Look for an app config containing a given object.\u001B[39;00m\n\u001B[1;32m    254\u001B[0m \n\u001B[0;32m   (...)\u001B[0m\n\u001B[1;32m    258\u001B[0m \u001B[38;5;124;03m    Return None if the object isn't in any registered app config.\u001B[39;00m\n\u001B[1;32m    259\u001B[0m \u001B[38;5;124;03m    \"\"\"\u001B[39;00m\n\u001B[0;32m--> 260\u001B[0m     \u001B[38;5;28;43mself\u001B[39;49m\u001B[38;5;241;43m.\u001B[39;49m\u001B[43mcheck_apps_ready\u001B[49m\u001B[43m(\u001B[49m\u001B[43m)\u001B[49m\n\u001B[1;32m    261\u001B[0m     candidates \u001B[38;5;241m=\u001B[39m []\n\u001B[1;32m    262\u001B[0m     \u001B[38;5;28;01mfor\u001B[39;00m app_config \u001B[38;5;129;01min\u001B[39;00m \u001B[38;5;28mself\u001B[39m\u001B[38;5;241m.\u001B[39mapp_configs\u001B[38;5;241m.\u001B[39mvalues():\n",
      "File \u001B[0;32m~/Documents/git/rvs/.venv/lib/python3.12/site-packages/django/apps/registry.py:138\u001B[0m, in \u001B[0;36mApps.check_apps_ready\u001B[0;34m(self)\u001B[0m\n\u001B[1;32m    134\u001B[0m \u001B[38;5;66;03m# If \"not ready\" is due to unconfigured settings, accessing\u001B[39;00m\n\u001B[1;32m    135\u001B[0m \u001B[38;5;66;03m# INSTALLED_APPS raises a more helpful ImproperlyConfigured\u001B[39;00m\n\u001B[1;32m    136\u001B[0m \u001B[38;5;66;03m# exception.\u001B[39;00m\n\u001B[1;32m    137\u001B[0m settings\u001B[38;5;241m.\u001B[39mINSTALLED_APPS\n\u001B[0;32m--> 138\u001B[0m \u001B[38;5;28;01mraise\u001B[39;00m AppRegistryNotReady(\u001B[38;5;124m\"\u001B[39m\u001B[38;5;124mApps aren\u001B[39m\u001B[38;5;124m'\u001B[39m\u001B[38;5;124mt loaded yet.\u001B[39m\u001B[38;5;124m\"\u001B[39m)\n",
      "\u001B[0;31mAppRegistryNotReady\u001B[0m: Apps aren't loaded yet."
     ]
    }
   ],
   "execution_count": 5
  },
  {
   "metadata": {},
   "cell_type": "code",
   "outputs": [],
   "execution_count": null,
   "source": "",
   "id": "d20f8bf775ad75ba"
  }
 ],
 "metadata": {
  "kernelspec": {
   "display_name": "Python 3",
   "language": "python",
   "name": "python3"
  },
  "language_info": {
   "codemirror_mode": {
    "name": "ipython",
    "version": 2
   },
   "file_extension": ".py",
   "mimetype": "text/x-python",
   "name": "python",
   "nbconvert_exporter": "python",
   "pygments_lexer": "ipython2",
   "version": "2.7.6"
  }
 },
 "nbformat": 4,
 "nbformat_minor": 5
}
